{
 "cells": [
  {
   "cell_type": "markdown",
   "metadata": {
    "application/vnd.databricks.v1+cell": {
     "cellMetadata": {},
     "inputWidgets": {},
     "nuid": "45ab6747-96f9-45eb-8552-02a036b69782",
     "showTitle": false,
     "title": ""
    }
   },
   "source": [
    "## Author:  Bryan Cafferky Copyright 08/25/2020"
   ]
  },
  {
   "cell_type": "markdown",
   "metadata": {
    "application/vnd.databricks.v1+cell": {
     "cellMetadata": {},
     "inputWidgets": {},
     "nuid": "58f93df9-486f-421d-b2d1-52b9e4a905db",
     "showTitle": false,
     "title": ""
    }
   },
   "source": [
    "Original from: https://github.com/Azure/MachineLearningNotebooks/blob/master/how-to-use-azureml/azure-databricks/automl/automl-databricks-local-with-deployment.ipynb"
   ]
  },
  {
   "cell_type": "markdown",
   "metadata": {
    "application/vnd.databricks.v1+cell": {
     "cellMetadata": {},
     "inputWidgets": {},
     "nuid": "84bc642d-c82d-4da0-9aab-55e63eb76a92",
     "showTitle": false,
     "title": ""
    }
   },
   "source": [
    "You can install the AML SDK as library from GUI. When attaching a library follow this https://docs.databricks.com/user-guide/libraries.html and add the below string as your PyPi package. You can select the option to attach the library to all clusters or just one cluster.\n",
    "\n",
    "**install azureml-sdk with Automated ML**\n",
    "* Source: Upload Python Egg or PyPi\n",
    "* PyPi Name: `azureml-sdk[automl]`\n",
    "* Select Install Library"
   ]
  },
  {
   "cell_type": "markdown",
   "metadata": {
    "application/vnd.databricks.v1+cell": {
     "cellMetadata": {},
     "inputWidgets": {},
     "nuid": "fa9c4d00-ee89-4bfe-809e-642ce99148a7",
     "showTitle": false,
     "title": ""
    }
   },
   "source": [
    "# AutoML : Classification with Local Compute on Azure DataBricks with deployment to ACI\n",
    "\n",
    "In this example we use the scikit-learn's [digit dataset](http://scikit-learn.org/stable/datasets/index.html#optical-recognition-of-handwritten-digits-dataset) to showcase how you can use AutoML for a simple classification problem.\n",
    "\n",
    "In this notebook you will learn how to:\n",
    "1. Create Azure Machine Learning Workspace object and initialize your notebook directory to easily reload this object from a configuration file.\n",
    "2. Create an `Experiment` in an existing `Workspace`.\n",
    "3. Configure AutoML using `AutoMLConfig`.\n",
    "4. Train the model using AzureDataBricks.\n",
    "5. Explore the results.\n",
    "6. Register the model.\n",
    "7. Deploy the model.\n",
    "8. Test the best fitted model.\n",
    "\n",
    "Prerequisites:\n",
    "Before running this notebook, please follow the readme for installing necessary libraries to your cluster."
   ]
  },
  {
   "cell_type": "markdown",
   "metadata": {
    "application/vnd.databricks.v1+cell": {
     "cellMetadata": {},
     "inputWidgets": {},
     "nuid": "4bfe919d-f292-4340-b5a2-d0c6b487b6c7",
     "showTitle": false,
     "title": ""
    }
   },
   "source": [
    "## Set up the model training data."
   ]
  },
  {
   "cell_type": "code",
   "execution_count": 0,
   "metadata": {
    "application/vnd.databricks.v1+cell": {
     "cellMetadata": {},
     "inputWidgets": {},
     "nuid": "7a150248-dd4a-4b0e-87ca-f60ba1bd6f90",
     "showTitle": true,
     "title": "Figure 11-55"
    }
   },
   "outputs": [
    {
     "output_type": "display_data",
     "data": {
      "text/html": [
       "<style scoped>\n",
       "  .ansiout {\n",
       "    display: block;\n",
       "    unicode-bidi: embed;\n",
       "    white-space: pre-wrap;\n",
       "    word-wrap: break-word;\n",
       "    word-break: break-all;\n",
       "    font-family: \"Menlo\", \"Monaco\", \"Consolas\", \"Ubuntu Mono\", \"Source Code Pro\", monospace;\n",
       "    font-size: 13px;\n",
       "    color: #555;\n",
       "    margin-left: 4px;\n",
       "    line-height: 19px;\n",
       "  }\n",
       "</style>\n",
       "<div class=\"ansiout\"></div>"
      ]
     },
     "metadata": {
      "application/vnd.databricks.v1+output": {
       "addedWidgets": {},
       "arguments": {},
       "data": "<div class=\"ansiout\"></div>",
       "datasetInfos": [
        {
         "name": "spdf_salesinfo",
         "schema": {
          "fields": [
           {
            "metadata": {},
            "name": "Subcategory",
            "nullable": true,
            "type": "string"
           },
           {
            "metadata": {},
            "name": "AgeBand",
            "nullable": true,
            "type": "string"
           },
           {
            "metadata": {},
            "name": "CommuteDistance",
            "nullable": true,
            "type": "string"
           },
           {
            "metadata": {},
            "name": "HasChildren",
            "nullable": true,
            "type": "string"
           },
           {
            "metadata": {},
            "name": "Education",
            "nullable": true,
            "type": "string"
           },
           {
            "metadata": {},
            "name": "Salary",
            "nullable": true,
            "type": "double"
           }
          ],
          "type": "struct"
         },
         "tableIdentifier": null,
         "typeStr": "pyspark.sql.dataframe.DataFrame"
        }
       ],
       "metadata": {},
       "removedWidgets": [],
       "type": "html"
      }
     },
     "output_type": "display_data"
    }
   ],
   "source": [
    "%python\n",
    "\n",
    "spdf_salesinfo = spark.sql('''\n",
    "select  split(Subcategory, ' ')[0] as Subcategory, \n",
    "        AgeBand, CommuteDistance, HasChildren, Education, Salary\n",
    "FROM aw.t_salesinfo \n",
    "WHERE Category = 'Bikes' and FiscalYear in (2012, 2013) \n",
    "''')"
   ]
  },
  {
   "cell_type": "code",
   "execution_count": 0,
   "metadata": {
    "application/vnd.databricks.v1+cell": {
     "cellMetadata": {},
     "inputWidgets": {},
     "nuid": "e87e57b2-e3d9-48eb-92b9-4a9b4c72ea6d",
     "showTitle": true,
     "title": "Figure 11-56"
    }
   },
   "outputs": [
    {
     "output_type": "display_data",
     "data": {
      "text/html": [
       "<style scoped>\n",
       "  .ansiout {\n",
       "    display: block;\n",
       "    unicode-bidi: embed;\n",
       "    white-space: pre-wrap;\n",
       "    word-wrap: break-word;\n",
       "    word-break: break-all;\n",
       "    font-family: \"Menlo\", \"Monaco\", \"Consolas\", \"Ubuntu Mono\", \"Source Code Pro\", monospace;\n",
       "    font-size: 13px;\n",
       "    color: #555;\n",
       "    margin-left: 4px;\n",
       "    line-height: 19px;\n",
       "  }\n",
       "</style>\n",
       "<div class=\"ansiout\">4793\n",
       "2083\n",
       "</div>"
      ]
     },
     "metadata": {
      "application/vnd.databricks.v1+output": {
       "addedWidgets": {},
       "arguments": {},
       "data": "<div class=\"ansiout\">4793\n2083\n</div>",
       "datasetInfos": [
        {
         "name": "trainingData",
         "schema": {
          "fields": [
           {
            "metadata": {},
            "name": "Subcategory",
            "nullable": true,
            "type": "string"
           },
           {
            "metadata": {},
            "name": "AgeBand",
            "nullable": true,
            "type": "string"
           },
           {
            "metadata": {},
            "name": "CommuteDistance",
            "nullable": true,
            "type": "string"
           },
           {
            "metadata": {},
            "name": "HasChildren",
            "nullable": true,
            "type": "string"
           },
           {
            "metadata": {},
            "name": "Education",
            "nullable": true,
            "type": "string"
           },
           {
            "metadata": {},
            "name": "Salary",
            "nullable": true,
            "type": "double"
           }
          ],
          "type": "struct"
         },
         "tableIdentifier": null,
         "typeStr": "pyspark.sql.dataframe.DataFrame"
        },
        {
         "name": "testData",
         "schema": {
          "fields": [
           {
            "metadata": {},
            "name": "Subcategory",
            "nullable": true,
            "type": "string"
           },
           {
            "metadata": {},
            "name": "AgeBand",
            "nullable": true,
            "type": "string"
           },
           {
            "metadata": {},
            "name": "CommuteDistance",
            "nullable": true,
            "type": "string"
           },
           {
            "metadata": {},
            "name": "HasChildren",
            "nullable": true,
            "type": "string"
           },
           {
            "metadata": {},
            "name": "Education",
            "nullable": true,
            "type": "string"
           },
           {
            "metadata": {},
            "name": "Salary",
            "nullable": true,
            "type": "double"
           }
          ],
          "type": "struct"
         },
         "tableIdentifier": null,
         "typeStr": "pyspark.sql.dataframe.DataFrame"
        }
       ],
       "metadata": {},
       "removedWidgets": [],
       "type": "html"
      }
     },
     "output_type": "display_data"
    }
   ],
   "source": [
    "### Randomly split data into training and test sets. set seed for reproducibility\n",
    "(trainingData, testData) = spdf_salesinfo.randomSplit([0.7, 0.3], seed=100)\n",
    "print(trainingData.count())\n",
    "print(testData.count())"
   ]
  },
  {
   "cell_type": "code",
   "execution_count": 0,
   "metadata": {
    "application/vnd.databricks.v1+cell": {
     "cellMetadata": {},
     "inputWidgets": {},
     "nuid": "aaa00e51-2b10-4f2d-b4f6-4b19236991c3",
     "showTitle": true,
     "title": "Figure 11-57"
    }
   },
   "outputs": [
    {
     "output_type": "display_data",
     "data": {
      "text/html": [
       "<style scoped>\n",
       "  .ansiout {\n",
       "    display: block;\n",
       "    unicode-bidi: embed;\n",
       "    white-space: pre-wrap;\n",
       "    word-wrap: break-word;\n",
       "    word-break: break-all;\n",
       "    font-family: \"Menlo\", \"Monaco\", \"Consolas\", \"Ubuntu Mono\", \"Source Code Pro\", monospace;\n",
       "    font-size: 13px;\n",
       "    color: #555;\n",
       "    margin-left: 4px;\n",
       "    line-height: 19px;\n",
       "  }\n",
       "</style>\n",
       "<div class=\"ansiout\"></div>"
      ]
     },
     "metadata": {
      "application/vnd.databricks.v1+output": {
       "addedWidgets": {},
       "arguments": {},
       "data": "<div class=\"ansiout\"></div>",
       "datasetInfos": [],
       "metadata": {},
       "removedWidgets": [],
       "type": "html"
      }
     },
     "output_type": "display_data"
    }
   ],
   "source": [
    "pdf_training = trainingData.toPandas()\n",
    "pdf_training.to_csv(\"/dbfs/mnt/awdata/train.csv\", index=False, header=True)\n",
    "\n",
    "pdf_testing = testData.toPandas()\n",
    "pdf_testing.to_csv(\"/dbfs/mnt/awdata/test.csv\", index=False, header=True)"
   ]
  },
  {
   "cell_type": "code",
   "execution_count": 0,
   "metadata": {
    "application/vnd.databricks.v1+cell": {
     "cellMetadata": {},
     "inputWidgets": {},
     "nuid": "d66514eb-a0d0-45c9-8c68-4041699bb4de",
     "showTitle": true,
     "title": "Figure 11-58"
    }
   },
   "outputs": [
    {
     "output_type": "display_data",
     "data": {
      "text/html": [
       "<style scoped>\n",
       "  .table-result-container {\n",
       "    max-height: 300px;\n",
       "    overflow: auto;\n",
       "  }\n",
       "  table, th, td {\n",
       "    border: 1px solid black;\n",
       "    border-collapse: collapse;\n",
       "  }\n",
       "  th, td {\n",
       "    padding: 5px;\n",
       "  }\n",
       "  th {\n",
       "    text-align: left;\n",
       "  }\n",
       "</style><div class='table-result-container'><table class='table-result'><thead style='background-color: white'><tr><th>path</th><th>name</th><th>size</th></tr></thead><tbody><tr><td>dbfs:/mnt/awdata/DimOrganization.csv</td><td>DimOrganization.csv</td><td>499</td></tr><tr><td>dbfs:/mnt/awdata/product.csv/</td><td>product.csv/</td><td>0</td></tr><tr><td>dbfs:/mnt/awdata/test.csv</td><td>test.csv</td><td>105579</td></tr><tr><td>dbfs:/mnt/awdata/testing.csv/</td><td>testing.csv/</td><td>0</td></tr><tr><td>dbfs:/mnt/awdata/train.csv</td><td>train.csv</td><td>243645</td></tr><tr><td>dbfs:/mnt/awdata/training.csv/</td><td>training.csv/</td><td>0</td></tr></tbody></table></div>"
      ]
     },
     "metadata": {
      "application/vnd.databricks.v1+output": {
       "addedWidgets": {},
       "aggData": [],
       "aggError": "",
       "aggOverflow": false,
       "aggSchema": [],
       "aggSeriesLimitReached": false,
       "aggType": "",
       "arguments": {},
       "columnCustomDisplayInfos": {},
       "data": [
        [
         "dbfs:/mnt/awdata/DimOrganization.csv",
         "DimOrganization.csv",
         499
        ],
        [
         "dbfs:/mnt/awdata/product.csv/",
         "product.csv/",
         0
        ],
        [
         "dbfs:/mnt/awdata/test.csv",
         "test.csv",
         105579
        ],
        [
         "dbfs:/mnt/awdata/testing.csv/",
         "testing.csv/",
         0
        ],
        [
         "dbfs:/mnt/awdata/train.csv",
         "train.csv",
         243645
        ],
        [
         "dbfs:/mnt/awdata/training.csv/",
         "training.csv/",
         0
        ]
       ],
       "datasetInfos": [],
       "dbfsResultPath": null,
       "isJsonSchema": true,
       "metadata": {},
       "overflow": false,
       "plotOptions": {
        "customPlotOptions": {},
        "displayType": "table",
        "pivotAggregation": null,
        "pivotColumns": null,
        "xColumns": null,
        "yColumns": null
       },
       "removedWidgets": [],
       "schema": [
        {
         "metadata": "{}",
         "name": "path",
         "type": "\"string\""
        },
        {
         "metadata": "{}",
         "name": "name",
         "type": "\"string\""
        },
        {
         "metadata": "{}",
         "name": "size",
         "type": "\"long\""
        }
       ],
       "type": "table"
      }
     },
     "output_type": "display_data"
    }
   ],
   "source": [
    "%fs ls /mnt/awdata/"
   ]
  },
  {
   "cell_type": "code",
   "execution_count": 0,
   "metadata": {
    "application/vnd.databricks.v1+cell": {
     "cellMetadata": {},
     "inputWidgets": {},
     "nuid": "cf31d8ee-18ec-45e4-9d6a-576a9fa5842d",
     "showTitle": true,
     "title": "Figure 11-59"
    }
   },
   "outputs": [
    {
     "output_type": "display_data",
     "data": {
      "text/html": [
       "<style scoped>\n",
       "  .table-result-container {\n",
       "    max-height: 300px;\n",
       "    overflow: auto;\n",
       "  }\n",
       "  table, th, td {\n",
       "    border: 1px solid black;\n",
       "    border-collapse: collapse;\n",
       "  }\n",
       "  th, td {\n",
       "    padding: 5px;\n",
       "  }\n",
       "  th {\n",
       "    text-align: left;\n",
       "  }\n",
       "</style><div class='table-result-container'><table class='table-result'><thead style='background-color: white'><tr><th>Subcategory</th><th>AgeBand</th><th>CommuteDistance</th><th>HasChildren</th><th>Education</th><th>Salary</th></tr></thead><tbody><tr><td>Mountain</td><td>Golden</td><td>0-1 Miles</td><td>N</td><td>Bachelors</td><td>10000.0</td></tr><tr><td>Mountain</td><td>Golden</td><td>0-1 Miles</td><td>N</td><td>Bachelors</td><td>10000.0</td></tr><tr><td>Mountain</td><td>Golden</td><td>0-1 Miles</td><td>N</td><td>Bachelors</td><td>10000.0</td></tr><tr><td>Mountain</td><td>Golden</td><td>0-1 Miles</td><td>N</td><td>Bachelors</td><td>10000.0</td></tr><tr><td>Mountain</td><td>Golden</td><td>0-1 Miles</td><td>N</td><td>Bachelors</td><td>20000.0</td></tr><tr><td>Mountain</td><td>Golden</td><td>0-1 Miles</td><td>N</td><td>Bachelors</td><td>20000.0</td></tr><tr><td>Mountain</td><td>Golden</td><td>0-1 Miles</td><td>N</td><td>Bachelors</td><td>30000.0</td></tr><tr><td>Mountain</td><td>Golden</td><td>0-1 Miles</td><td>N</td><td>Bachelors</td><td>30000.0</td></tr><tr><td>Mountain</td><td>Golden</td><td>0-1 Miles</td><td>N</td><td>Bachelors</td><td>30000.0</td></tr><tr><td>Mountain</td><td>Golden</td><td>0-1 Miles</td><td>N</td><td>Bachelors</td><td>30000.0</td></tr><tr><td>Mountain</td><td>Golden</td><td>0-1 Miles</td><td>N</td><td>Bachelors</td><td>40000.0</td></tr><tr><td>Mountain</td><td>Golden</td><td>0-1 Miles</td><td>N</td><td>Bachelors</td><td>40000.0</td></tr><tr><td>Mountain</td><td>Golden</td><td>0-1 Miles</td><td>N</td><td>Bachelors</td><td>40000.0</td></tr><tr><td>Mountain</td><td>Golden</td><td>0-1 Miles</td><td>N</td><td>Bachelors</td><td>40000.0</td></tr><tr><td>Mountain</td><td>Golden</td><td>0-1 Miles</td><td>N</td><td>Bachelors</td><td>40000.0</td></tr><tr><td>Mountain</td><td>Golden</td><td>0-1 Miles</td><td>N</td><td>Bachelors</td><td>40000.0</td></tr><tr><td>Mountain</td><td>Golden</td><td>0-1 Miles</td><td>N</td><td>Bachelors</td><td>40000.0</td></tr><tr><td>Mountain</td><td>Golden</td><td>0-1 Miles</td><td>N</td><td>Bachelors</td><td>40000.0</td></tr><tr><td>Mountain</td><td>Golden</td><td>0-1 Miles</td><td>N</td><td>Bachelors</td><td>40000.0</td></tr><tr><td>Mountain</td><td>Golden</td><td>0-1 Miles</td><td>N</td><td>Bachelors</td><td>40000.0</td></tr><tr><td>Mountain</td><td>Golden</td><td>0-1 Miles</td><td>N</td><td>Bachelors</td><td>40000.0</td></tr><tr><td>Mountain</td><td>Golden</td><td>0-1 Miles</td><td>N</td><td>Bachelors</td><td>40000.0</td></tr><tr><td>Mountain</td><td>Golden</td><td>0-1 Miles</td><td>N</td><td>Bachelors</td><td>60000.0</td></tr><tr><td>Mountain</td><td>Golden</td><td>0-1 Miles</td><td>N</td><td>Bachelors</td><td>60000.0</td></tr><tr><td>Mountain</td><td>Golden</td><td>0-1 Miles</td><td>N</td><td>Bachelors</td><td>70000.0</td></tr><tr><td>Mountain</td><td>Golden</td><td>0-1 Miles</td><td>N</td><td>Bachelors</td><td>70000.0</td></tr><tr><td>Mountain</td><td>Golden</td><td>0-1 Miles</td><td>N</td><td>Bachelors</td><td>70000.0</td></tr><tr><td>Mountain</td><td>Golden</td><td>0-1 Miles</td><td>N</td><td>Bachelors</td><td>70000.0</td></tr><tr><td>Mountain</td><td>Golden</td><td>0-1 Miles</td><td>N</td><td>Bachelors</td><td>130000.0</td></tr><tr><td>Mountain</td><td>Golden</td><td>0-1 Miles</td><td>N</td><td>Graduate Degree</td><td>10000.0</td></tr><tr><td>Mountain</td><td>Golden</td><td>0-1 Miles</td><td>N</td><td>Graduate Degree</td><td>10000.0</td></tr><tr><td>Mountain</td><td>Golden</td><td>0-1 Miles</td><td>N</td><td>Graduate Degree</td><td>20000.0</td></tr><tr><td>Mountain</td><td>Golden</td><td>0-1 Miles</td><td>N</td><td>Graduate Degree</td><td>20000.0</td></tr><tr><td>Mountain</td><td>Golden</td><td>0-1 Miles</td><td>N</td><td>Graduate Degree</td><td>20000.0</td></tr><tr><td>Mountain</td><td>Golden</td><td>0-1 Miles</td><td>N</td><td>Graduate Degree</td><td>20000.0</td></tr><tr><td>Mountain</td><td>Golden</td><td>0-1 Miles</td><td>N</td><td>Graduate Degree</td><td>20000.0</td></tr><tr><td>Mountain</td><td>Golden</td><td>0-1 Miles</td><td>N</td><td>Graduate Degree</td><td>20000.0</td></tr><tr><td>Mountain</td><td>Golden</td><td>0-1 Miles</td><td>N</td><td>Graduate Degree</td><td>20000.0</td></tr><tr><td>Mountain</td><td>Golden</td><td>0-1 Miles</td><td>N</td><td>Graduate Degree</td><td>30000.0</td></tr><tr><td>Mountain</td><td>Golden</td><td>0-1 Miles</td><td>N</td><td>Graduate Degree</td><td>30000.0</td></tr><tr><td>Mountain</td><td>Golden</td><td>0-1 Miles</td><td>N</td><td>Graduate Degree</td><td>30000.0</td></tr><tr><td>Mountain</td><td>Golden</td><td>0-1 Miles</td><td>N</td><td>Graduate Degree</td><td>40000.0</td></tr><tr><td>Mountain</td><td>Golden</td><td>0-1 Miles</td><td>N</td><td>Graduate Degree</td><td>40000.0</td></tr><tr><td>Mountain</td><td>Golden</td><td>0-1 Miles</td><td>N</td><td>Graduate Degree</td><td>40000.0</td></tr><tr><td>Mountain</td><td>Golden</td><td>0-1 Miles</td><td>N</td><td>Graduate Degree</td><td>40000.0</td></tr><tr><td>Mountain</td><td>Golden</td><td>0-1 Miles</td><td>N</td><td>Graduate Degree</td><td>40000.0</td></tr><tr><td>Mountain</td><td>Golden</td><td>0-1 Miles</td><td>N</td><td>Graduate Degree</td><td>60000.0</td></tr><tr><td>Mountain</td><td>Golden</td><td>0-1 Miles</td><td>N</td><td>Graduate Degree</td><td>60000.0</td></tr><tr><td>Mountain</td><td>Golden</td><td>0-1 Miles</td><td>N</td><td>Graduate Degree</td><td>60000.0</td></tr><tr><td>Mountain</td><td>Golden</td><td>0-1 Miles</td><td>N</td><td>Graduate Degree</td><td>70000.0</td></tr><tr><td>Mountain</td><td>Golden</td><td>0-1 Miles</td><td>N</td><td>Graduate Degree</td><td>80000.0</td></tr><tr><td>Mountain</td><td>Golden</td><td>0-1 Miles</td><td>N</td><td>Graduate Degree</td><td>80000.0</td></tr><tr><td>Mountain</td><td>Golden</td><td>0-1 Miles</td><td>N</td><td>Graduate Degree</td><td>80000.0</td></tr><tr><td>Mountain</td><td>Golden</td><td>0-1 Miles</td><td>N</td><td>Graduate Degree</td><td>80000.0</td></tr><tr><td>Mountain</td><td>Golden</td><td>0-1 Miles</td><td>N</td><td>Graduate Degree</td><td>80000.0</td></tr><tr><td>Mountain</td><td>Golden</td><td>0-1 Miles</td><td>N</td><td>Graduate Degree</td><td>80000.0</td></tr><tr><td>Mountain</td><td>Golden</td><td>0-1 Miles</td><td>N</td><td>Graduate Degree</td><td>80000.0</td></tr><tr><td>Mountain</td><td>Golden</td><td>0-1 Miles</td><td>N</td><td>Graduate Degree</td><td>80000.0</td></tr><tr><td>Mountain</td><td>Golden</td><td>0-1 Miles</td><td>N</td><td>Graduate Degree</td><td>80000.0</td></tr><tr><td>Mountain</td><td>Golden</td><td>0-1 Miles</td><td>N</td><td>Graduate Degree</td><td>80000.0</td></tr><tr><td>Mountain</td><td>Golden</td><td>0-1 Miles</td><td>N</td><td>Partial College</td><td>10000.0</td></tr><tr><td>Mountain</td><td>Golden</td><td>0-1 Miles</td><td>N</td><td>Partial College</td><td>10000.0</td></tr><tr><td>Mountain</td><td>Golden</td><td>0-1 Miles</td><td>N</td><td>Partial College</td><td>10000.0</td></tr><tr><td>Mountain</td><td>Golden</td><td>0-1 Miles</td><td>N</td><td>Partial College</td><td>10000.0</td></tr><tr><td>Mountain</td><td>Golden</td><td>0-1 Miles</td><td>N</td><td>Partial College</td><td>10000.0</td></tr><tr><td>Mountain</td><td>Golden</td><td>0-1 Miles</td><td>N</td><td>Partial College</td><td>10000.0</td></tr><tr><td>Mountain</td><td>Golden</td><td>0-1 Miles</td><td>N</td><td>Partial College</td><td>10000.0</td></tr><tr><td>Mountain</td><td>Golden</td><td>0-1 Miles</td><td>N</td><td>Partial College</td><td>10000.0</td></tr><tr><td>Mountain</td><td>Golden</td><td>0-1 Miles</td><td>N</td><td>Partial College</td><td>10000.0</td></tr><tr><td>Mountain</td><td>Golden</td><td>0-1 Miles</td><td>N</td><td>Partial College</td><td>10000.0</td></tr><tr><td>Mountain</td><td>Golden</td><td>0-1 Miles</td><td>N</td><td>Partial College</td><td>20000.0</td></tr><tr><td>Mountain</td><td>Golden</td><td>0-1 Miles</td><td>N</td><td>Partial College</td><td>40000.0</td></tr><tr><td>Mountain</td><td>Golden</td><td>0-1 Miles</td><td>N</td><td>Partial College</td><td>40000.0</td></tr><tr><td>Mountain</td><td>Golden</td><td>0-1 Miles</td><td>N</td><td>Partial College</td><td>40000.0</td></tr><tr><td>Mountain</td><td>Golden</td><td>0-1 Miles</td><td>N</td><td>Partial College</td><td>40000.0</td></tr><tr><td>Mountain</td><td>Golden</td><td>0-1 Miles</td><td>N</td><td>Partial College</td><td>40000.0</td></tr><tr><td>Mountain</td><td>Golden</td><td>0-1 Miles</td><td>N</td><td>Partial College</td><td>40000.0</td></tr><tr><td>Mountain</td><td>Golden</td><td>0-1 Miles</td><td>N</td><td>Partial College</td><td>40000.0</td></tr><tr><td>Mountain</td><td>Golden</td><td>0-1 Miles</td><td>N</td><td>Partial College</td><td>40000.0</td></tr><tr><td>Mountain</td><td>Golden</td><td>0-1 Miles</td><td>N</td><td>Partial College</td><td>40000.0</td></tr><tr><td>Mountain</td><td>Golden</td><td>0-1 Miles</td><td>N</td><td>Partial College</td><td>40000.0</td></tr><tr><td>Mountain</td><td>Golden</td><td>0-1 Miles</td><td>N</td><td>Partial College</td><td>40000.0</td></tr><tr><td>Mountain</td><td>Golden</td><td>0-1 Miles</td><td>N</td><td>Partial College</td><td>40000.0</td></tr><tr><td>Mountain</td><td>Golden</td><td>0-1 Miles</td><td>N</td><td>Partial College</td><td>60000.0</td></tr><tr><td>Mountain</td><td>Golden</td><td>0-1 Miles</td><td>N</td><td>Partial College</td><td>60000.0</td></tr><tr><td>Mountain</td><td>Golden</td><td>0-1 Miles</td><td>N</td><td>Partial College</td><td>60000.0</td></tr><tr><td>Mountain</td><td>Golden</td><td>0-1 Miles</td><td>N</td><td>Partial College</td><td>60000.0</td></tr><tr><td>Mountain</td><td>Golden</td><td>0-1 Miles</td><td>N</td><td>Partial College</td><td>70000.0</td></tr><tr><td>Mountain</td><td>Golden</td><td>0-1 Miles</td><td>N</td><td>Partial College</td><td>70000.0</td></tr><tr><td>Mountain</td><td>Golden</td><td>0-1 Miles</td><td>N</td><td>Partial College</td><td>70000.0</td></tr><tr><td>Mountain</td><td>Golden</td><td>0-1 Miles</td><td>N</td><td>Partial College</td><td>70000.0</td></tr><tr><td>Mountain</td><td>Golden</td><td>0-1 Miles</td><td>N</td><td>Partial College</td><td>70000.0</td></tr><tr><td>Mountain</td><td>Golden</td><td>0-1 Miles</td><td>N</td><td>Partial College</td><td>70000.0</td></tr><tr><td>Mountain</td><td>Golden</td><td>0-1 Miles</td><td>N</td><td>Partial College</td><td>80000.0</td></tr><tr><td>Mountain</td><td>Golden</td><td>0-1 Miles</td><td>N</td><td>Partial College</td><td>80000.0</td></tr><tr><td>Mountain</td><td>Golden</td><td>0-1 Miles</td><td>N</td><td>Partial College</td><td>80000.0</td></tr><tr><td>Mountain</td><td>Golden</td><td>0-1 Miles</td><td>N</td><td>Partial College</td><td>80000.0</td></tr><tr><td>Mountain</td><td>Golden</td><td>0-1 Miles</td><td>N</td><td>Partial College</td><td>80000.0</td></tr><tr><td>Mountain</td><td>Golden</td><td>0-1 Miles</td><td>Y</td><td>Bachelors</td><td>60000.0</td></tr><tr><td>Mountain</td><td>Golden</td><td>0-1 Miles</td><td>Y</td><td>Bachelors</td><td>70000.0</td></tr><tr><td>Mountain</td><td>Golden</td><td>0-1 Miles</td><td>Y</td><td>Bachelors</td><td>80000.0</td></tr><tr><td>Mountain</td><td>Golden</td><td>0-1 Miles</td><td>Y</td><td>Bachelors</td><td>120000.0</td></tr><tr><td>Mountain</td><td>Golden</td><td>0-1 Miles</td><td>Y</td><td>Bachelors</td><td>120000.0</td></tr><tr><td>Mountain</td><td>Golden</td><td>0-1 Miles</td><td>Y</td><td>Bachelors</td><td>130000.0</td></tr><tr><td>Mountain</td><td>Golden</td><td>0-1 Miles</td><td>Y</td><td>Bachelors</td><td>130000.0</td></tr><tr><td>Mountain</td><td>Golden</td><td>0-1 Miles</td><td>Y</td><td>Bachelors</td><td>130000.0</td></tr><tr><td>Mountain</td><td>Golden</td><td>0-1 Miles</td><td>Y</td><td>Bachelors</td><td>130000.0</td></tr><tr><td>Mountain</td><td>Golden</td><td>0-1 Miles</td><td>Y</td><td>Bachelors</td><td>130000.0</td></tr><tr><td>Mountain</td><td>Golden</td><td>0-1 Miles</td><td>Y</td><td>Bachelors</td><td>130000.0</td></tr><tr><td>Mountain</td><td>Golden</td><td>0-1 Miles</td><td>Y</td><td>Bachelors</td><td>130000.0</td></tr><tr><td>Mountain</td><td>Golden</td><td>0-1 Miles</td><td>Y</td><td>Bachelors</td><td>130000.0</td></tr><tr><td>Mountain</td><td>Golden</td><td>0-1 Miles</td><td>Y</td><td>Bachelors</td><td>130000.0</td></tr><tr><td>Mountain</td><td>Golden</td><td>0-1 Miles</td><td>Y</td><td>Bachelors</td><td>130000.0</td></tr><tr><td>Mountain</td><td>Golden</td><td>0-1 Miles</td><td>Y</td><td>Bachelors</td><td>130000.0</td></tr><tr><td>Mountain</td><td>Golden</td><td>0-1 Miles</td><td>Y</td><td>Bachelors</td><td>130000.0</td></tr><tr><td>Mountain</td><td>Golden</td><td>0-1 Miles</td><td>Y</td><td>Bachelors</td><td>130000.0</td></tr><tr><td>Mountain</td><td>Golden</td><td>0-1 Miles</td><td>Y</td><td>Bachelors</td><td>130000.0</td></tr><tr><td>Mountain</td><td>Golden</td><td>0-1 Miles</td><td>Y</td><td>Bachelors</td><td>130000.0</td></tr><tr><td>Mountain</td><td>Golden</td><td>0-1 Miles</td><td>Y</td><td>Bachelors</td><td>130000.0</td></tr><tr><td>Mountain</td><td>Golden</td><td>0-1 Miles</td><td>Y</td><td>Bachelors</td><td>150000.0</td></tr><tr><td>Mountain</td><td>Golden</td><td>0-1 Miles</td><td>Y</td><td>Bachelors</td><td>150000.0</td></tr><tr><td>Mountain</td><td>Golden</td><td>0-1 Miles</td><td>Y</td><td>Bachelors</td><td>160000.0</td></tr><tr><td>Mountain</td><td>Golden</td><td>0-1 Miles</td><td>Y</td><td>Bachelors</td><td>170000.0</td></tr><tr><td>Mountain</td><td>Golden</td><td>0-1 Miles</td><td>Y</td><td>Bachelors</td><td>170000.0</td></tr><tr><td>Mountain</td><td>Golden</td><td>0-1 Miles</td><td>Y</td><td>Bachelors</td><td>170000.0</td></tr><tr><td>Mountain</td><td>Golden</td><td>0-1 Miles</td><td>Y</td><td>Bachelors</td><td>170000.0</td></tr><tr><td>Mountain</td><td>Golden</td><td>0-1 Miles</td><td>Y</td><td>Bachelors</td><td>170000.0</td></tr><tr><td>Mountain</td><td>Golden</td><td>0-1 Miles</td><td>Y</td><td>Bachelors</td><td>170000.0</td></tr><tr><td>Mountain</td><td>Golden</td><td>0-1 Miles</td><td>Y</td><td>Bachelors</td><td>170000.0</td></tr><tr><td>Mountain</td><td>Golden</td><td>0-1 Miles</td><td>Y</td><td>Bachelors</td><td>170000.0</td></tr><tr><td>Mountain</td><td>Golden</td><td>0-1 Miles</td><td>Y</td><td>Bachelors</td><td>170000.0</td></tr><tr><td>Mountain</td><td>Golden</td><td>0-1 Miles</td><td>Y</td><td>Graduate Degree</td><td>130000.0</td></tr><tr><td>Mountain</td><td>Golden</td><td>0-1 Miles</td><td>Y</td><td>Graduate Degree</td><td>130000.0</td></tr><tr><td>Mountain</td><td>Golden</td><td>0-1 Miles</td><td>Y</td><td>Graduate Degree</td><td>130000.0</td></tr><tr><td>Mountain</td><td>Golden</td><td>0-1 Miles</td><td>Y</td><td>Graduate Degree</td><td>130000.0</td></tr><tr><td>Mountain</td><td>Golden</td><td>0-1 Miles</td><td>Y</td><td>Graduate Degree</td><td>130000.0</td></tr><tr><td>Mountain</td><td>Golden</td><td>0-1 Miles</td><td>Y</td><td>Graduate Degree</td><td>130000.0</td></tr><tr><td>Mountain</td><td>Golden</td><td>0-1 Miles</td><td>Y</td><td>Graduate Degree</td><td>150000.0</td></tr><tr><td>Mountain</td><td>Golden</td><td>0-1 Miles</td><td>Y</td><td>Graduate Degree</td><td>170000.0</td></tr><tr><td>Mountain</td><td>Golden</td><td>0-1 Miles</td><td>Y</td><td>Graduate Degree</td><td>170000.0</td></tr><tr><td>Mountain</td><td>Golden</td><td>0-1 Miles</td><td>Y</td><td>Graduate Degree</td><td>170000.0</td></tr><tr><td>Mountain</td><td>Golden</td><td>0-1 Miles</td><td>Y</td><td>Graduate Degree</td><td>170000.0</td></tr><tr><td>Mountain</td><td>Golden</td><td>0-1 Miles</td><td>Y</td><td>High School</td><td>40000.0</td></tr><tr><td>Mountain</td><td>Golden</td><td>0-1 Miles</td><td>Y</td><td>High School</td><td>130000.0</td></tr><tr><td>Mountain</td><td>Golden</td><td>0-1 Miles</td><td>Y</td><td>High School</td><td>130000.0</td></tr><tr><td>Mountain</td><td>Golden</td><td>0-1 Miles</td><td>Y</td><td>High School</td><td>130000.0</td></tr><tr><td>Mountain</td><td>Golden</td><td>0-1 Miles</td><td>Y</td><td>High School</td><td>130000.0</td></tr><tr><td>Mountain</td><td>Golden</td><td>0-1 Miles</td><td>Y</td><td>High School</td><td>130000.0</td></tr><tr><td>Mountain</td><td>Golden</td><td>0-1 Miles</td><td>Y</td><td>High School</td><td>130000.0</td></tr><tr><td>Mountain</td><td>Golden</td><td>0-1 Miles</td><td>Y</td><td>High School</td><td>150000.0</td></tr><tr><td>Mountain</td><td>Golden</td><td>0-1 Miles</td><td>Y</td><td>High School</td><td>150000.0</td></tr><tr><td>Mountain</td><td>Golden</td><td>0-1 Miles</td><td>Y</td><td>High School</td><td>150000.0</td></tr><tr><td>Mountain</td><td>Golden</td><td>0-1 Miles</td><td>Y</td><td>High School</td><td>160000.0</td></tr><tr><td>Mountain</td><td>Golden</td><td>0-1 Miles</td><td>Y</td><td>High School</td><td>160000.0</td></tr><tr><td>Mountain</td><td>Golden</td><td>0-1 Miles</td><td>Y</td><td>High School</td><td>160000.0</td></tr><tr><td>Mountain</td><td>Golden</td><td>0-1 Miles</td><td>Y</td><td>Partial College</td><td>20000.0</td></tr><tr><td>Mountain</td><td>Golden</td><td>0-1 Miles</td><td>Y</td><td>Partial College</td><td>70000.0</td></tr><tr><td>Mountain</td><td>Golden</td><td>0-1 Miles</td><td>Y</td><td>Partial College</td><td>130000.0</td></tr><tr><td>Mountain</td><td>Golden</td><td>0-1 Miles</td><td>Y</td><td>Partial College</td><td>130000.0</td></tr><tr><td>Mountain</td><td>Golden</td><td>0-1 Miles</td><td>Y</td><td>Partial College</td><td>130000.0</td></tr><tr><td>Mountain</td><td>Golden</td><td>0-1 Miles</td><td>Y</td><td>Partial College</td><td>130000.0</td></tr><tr><td>Mountain</td><td>Golden</td><td>0-1 Miles</td><td>Y</td><td>Partial College</td><td>130000.0</td></tr><tr><td>Mountain</td><td>Golden</td><td>0-1 Miles</td><td>Y</td><td>Partial College</td><td>130000.0</td></tr><tr><td>Mountain</td><td>Golden</td><td>0-1 Miles</td><td>Y</td><td>Partial College</td><td>130000.0</td></tr><tr><td>Mountain</td><td>Golden</td><td>0-1 Miles</td><td>Y</td><td>Partial College</td><td>130000.0</td></tr><tr><td>Mountain</td><td>Golden</td><td>0-1 Miles</td><td>Y</td><td>Partial College</td><td>130000.0</td></tr><tr><td>Mountain</td><td>Golden</td><td>0-1 Miles</td><td>Y</td><td>Partial College</td><td>130000.0</td></tr><tr><td>Mountain</td><td>Golden</td><td>0-1 Miles</td><td>Y</td><td>Partial College</td><td>130000.0</td></tr><tr><td>Mountain</td><td>Golden</td><td>0-1 Miles</td><td>Y</td><td>Partial College</td><td>130000.0</td></tr><tr><td>Mountain</td><td>Golden</td><td>0-1 Miles</td><td>Y</td><td>Partial College</td><td>130000.0</td></tr><tr><td>Mountain</td><td>Golden</td><td>0-1 Miles</td><td>Y</td><td>Partial College</td><td>130000.0</td></tr><tr><td>Mountain</td><td>Golden</td><td>0-1 Miles</td><td>Y</td><td>Partial College</td><td>130000.0</td></tr><tr><td>Mountain</td><td>Golden</td><td>0-1 Miles</td><td>Y</td><td>Partial College</td><td>170000.0</td></tr><tr><td>Mountain</td><td>Golden</td><td>1-2 Miles</td><td>N</td><td>Bachelors</td><td>70000.0</td></tr><tr><td>Mountain</td><td>Golden</td><td>1-2 Miles</td><td>N</td><td>Bachelors</td><td>70000.0</td></tr><tr><td>Mountain</td><td>Golden</td><td>1-2 Miles</td><td>N</td><td>Bachelors</td><td>70000.0</td></tr><tr><td>Mountain</td><td>Golden</td><td>1-2 Miles</td><td>N</td><td>Bachelors</td><td>70000.0</td></tr><tr><td>Mountain</td><td>Golden</td><td>1-2 Miles</td><td>N</td><td>Bachelors</td><td>70000.0</td></tr><tr><td>Mountain</td><td>Golden</td><td>1-2 Miles</td><td>N</td><td>Bachelors</td><td>70000.0</td></tr><tr><td>Mountain</td><td>Golden</td><td>1-2 Miles</td><td>N</td><td>Bachelors</td><td>70000.0</td></tr><tr><td>Mountain</td><td>Golden</td><td>1-2 Miles</td><td>N</td><td>Bachelors</td><td>80000.0</td></tr><tr><td>Mountain</td><td>Golden</td><td>1-2 Miles</td><td>N</td><td>Bachelors</td><td>80000.0</td></tr><tr><td>Mountain</td><td>Golden</td><td>1-2 Miles</td><td>N</td><td>Bachelors</td><td>90000.0</td></tr><tr><td>Mountain</td><td>Golden</td><td>1-2 Miles</td><td>N</td><td>Bachelors</td><td>90000.0</td></tr><tr><td>Mountain</td><td>Golden</td><td>1-2 Miles</td><td>N</td><td>Bachelors</td><td>90000.0</td></tr><tr><td>Mountain</td><td>Golden</td><td>1-2 Miles</td><td>N</td><td>Bachelors</td><td>90000.0</td></tr><tr><td>Mountain</td><td>Golden</td><td>1-2 Miles</td><td>N</td><td>Bachelors</td><td>90000.0</td></tr><tr><td>Mountain</td><td>Golden</td><td>1-2 Miles</td><td>N</td><td>Bachelors</td><td>90000.0</td></tr><tr><td>Mountain</td><td>Golden</td><td>1-2 Miles</td><td>N</td><td>Bachelors</td><td>90000.0</td></tr><tr><td>Mountain</td><td>Golden</td><td>1-2 Miles</td><td>N</td><td>Graduate Degree</td><td>60000.0</td></tr><tr><td>Mountain</td><td>Golden</td><td>1-2 Miles</td><td>N</td><td>Graduate Degree</td><td>60000.0</td></tr><tr><td>Mountain</td><td>Golden</td><td>1-2 Miles</td><td>N</td><td>Graduate Degree</td><td>60000.0</td></tr><tr><td>Mountain</td><td>Golden</td><td>1-2 Miles</td><td>N</td><td>Graduate Degree</td><td>70000.0</td></tr><tr><td>Mountain</td><td>Golden</td><td>1-2 Miles</td><td>N</td><td>Graduate Degree</td><td>70000.0</td></tr><tr><td>Mountain</td><td>Golden</td><td>1-2 Miles</td><td>N</td><td>Graduate Degree</td><td>70000.0</td></tr><tr><td>Mountain</td><td>Golden</td><td>1-2 Miles</td><td>N</td><td>Graduate Degree</td><td>70000.0</td></tr><tr><td>Mountain</td><td>Golden</td><td>1-2 Miles</td><td>N</td><td>Graduate Degree</td><td>70000.0</td></tr><tr><td>Mountain</td><td>Golden</td><td>1-2 Miles</td><td>N</td><td>Graduate Degree</td><td>70000.0</td></tr><tr><td>Mountain</td><td>Golden</td><td>1-2 Miles</td><td>N</td><td>Graduate Degree</td><td>70000.0</td></tr><tr><td>Mountain</td><td>Golden</td><td>1-2 Miles</td><td>N</td><td>Graduate Degree</td><td>70000.0</td></tr><tr><td>Mountain</td><td>Golden</td><td>1-2 Miles</td><td>N</td><td>Graduate Degree</td><td>70000.0</td></tr><tr><td>Mountain</td><td>Golden</td><td>1-2 Miles</td><td>N</td><td>Graduate Degree</td><td>70000.0</td></tr><tr><td>Mountain</td><td>Golden</td><td>1-2 Miles</td><td>N</td><td>Graduate Degree</td><td>70000.0</td></tr><tr><td>Mountain</td><td>Golden</td><td>1-2 Miles</td><td>N</td><td>Graduate Degree</td><td>70000.0</td></tr><tr><td>Mountain</td><td>Golden</td><td>1-2 Miles</td><td>N</td><td>Graduate Degree</td><td>70000.0</td></tr><tr><td>Mountain</td><td>Golden</td><td>1-2 Miles</td><td>N</td><td>Graduate Degree</td><td>70000.0</td></tr><tr><td>Mountain</td><td>Golden</td><td>1-2 Miles</td><td>N</td><td>Graduate Degree</td><td>70000.0</td></tr><tr><td>Mountain</td><td>Golden</td><td>1-2 Miles</td><td>N</td><td>Graduate Degree</td><td>80000.0</td></tr><tr><td>Mountain</td><td>Golden</td><td>1-2 Miles</td><td>N</td><td>High School</td><td>20000.0</td></tr><tr><td>Mountain</td><td>Golden</td><td>1-2 Miles</td><td>N</td><td>High School</td><td>20000.0</td></tr><tr><td>Mountain</td><td>Golden</td><td>1-2 Miles</td><td>N</td><td>High School</td><td>20000.0</td></tr><tr><td>Mountain</td><td>Golden</td><td>1-2 Miles</td><td>N</td><td>High School</td><td>30000.0</td></tr><tr><td>Mountain</td><td>Golden</td><td>1-2 Miles</td><td>N</td><td>High School</td><td>70000.0</td></tr><tr><td>Mountain</td><td>Golden</td><td>1-2 Miles</td><td>N</td><td>High School</td><td>70000.0</td></tr><tr><td>Mountain</td><td>Golden</td><td>1-2 Miles</td><td>N</td><td>High School</td><td>70000.0</td></tr><tr><td>Mountain</td><td>Golden</td><td>1-2 Miles</td><td>N</td><td>High School</td><td>70000.0</td></tr><tr><td>Mountain</td><td>Golden</td><td>1-2 Miles</td><td>N</td><td>High School</td><td>70000.0</td></tr><tr><td>Mountain</td><td>Golden</td><td>1-2 Miles</td><td>N</td><td>High School</td><td>80000.0</td></tr><tr><td>Mountain</td><td>Golden</td><td>1-2 Miles</td><td>N</td><td>High School</td><td>80000.0</td></tr><tr><td>Mountain</td><td>Golden</td><td>1-2 Miles</td><td>N</td><td>High School</td><td>80000.0</td></tr><tr><td>Mountain</td><td>Golden</td><td>1-2 Miles</td><td>N</td><td>High School</td><td>80000.0</td></tr><tr><td>Mountain</td><td>Golden</td><td>1-2 Miles</td><td>N</td><td>High School</td><td>80000.0</td></tr><tr><td>Mountain</td><td>Golden</td><td>1-2 Miles</td><td>N</td><td>High School</td><td>80000.0</td></tr><tr><td>Mountain</td><td>Golden</td><td>1-2 Miles</td><td>N</td><td>High School</td><td>80000.0</td></tr><tr><td>Mountain</td><td>Golden</td><td>1-2 Miles</td><td>N</td><td>High School</td><td>80000.0</td></tr><tr><td>Mountain</td><td>Golden</td><td>1-2 Miles</td><td>N</td><td>High School</td><td>80000.0</td></tr><tr><td>Mountain</td><td>Golden</td><td>1-2 Miles</td><td>N</td><td>High School</td><td>80000.0</td></tr><tr><td>Mountain</td><td>Golden</td><td>1-2 Miles</td><td>N</td><td>Partial College</td><td>10000.0</td></tr><tr><td>Mountain</td><td>Golden</td><td>1-2 Miles</td><td>N</td><td>Partial College</td><td>10000.0</td></tr><tr><td>Mountain</td><td>Golden</td><td>1-2 Miles</td><td>N</td><td>Partial College</td><td>20000.0</td></tr><tr><td>Mountain</td><td>Golden</td><td>1-2 Miles</td><td>N</td><td>Partial College</td><td>30000.0</td></tr><tr><td>Mountain</td><td>Golden</td><td>1-2 Miles</td><td>N</td><td>Partial College</td><td>30000.0</td></tr><tr><td>Mountain</td><td>Golden</td><td>1-2 Miles</td><td>N</td><td>Partial College</td><td>40000.0</td></tr><tr><td>Mountain</td><td>Golden</td><td>1-2 Miles</td><td>N</td><td>Partial College</td><td>40000.0</td></tr><tr><td>Mountain</td><td>Golden</td><td>1-2 Miles</td><td>N</td><td>Partial College</td><td>40000.0</td></tr><tr><td>Mountain</td><td>Golden</td><td>1-2 Miles</td><td>N</td><td>Partial College</td><td>40000.0</td></tr><tr><td>Mountain</td><td>Golden</td><td>1-2 Miles</td><td>N</td><td>Partial College</td><td>40000.0</td></tr><tr><td>Mountain</td><td>Golden</td><td>1-2 Miles</td><td>N</td><td>Partial College</td><td>40000.0</td></tr><tr><td>Mountain</td><td>Golden</td><td>1-2 Miles</td><td>N</td><td>Partial College</td><td>40000.0</td></tr><tr><td>Mountain</td><td>Golden</td><td>1-2 Miles</td><td>N</td><td>Partial College</td><td>40000.0</td></tr><tr><td>Mountain</td><td>Golden</td><td>1-2 Miles</td><td>N</td><td>Partial College</td><td>40000.0</td></tr><tr><td>Mountain</td><td>Golden</td><td>1-2 Miles</td><td>N</td><td>Partial College</td><td>40000.0</td></tr><tr><td>Mountain</td><td>Golden</td><td>1-2 Miles</td><td>N</td><td>Partial College</td><td>40000.0</td></tr><tr><td>Mountain</td><td>Golden</td><td>1-2 Miles</td><td>N</td><td>Partial College</td><td>40000.0</td></tr><tr><td>Mountain</td><td>Golden</td><td>1-2 Miles</td><td>N</td><td>Partial College</td><td>80000.0</td></tr><tr><td>Mountain</td><td>Golden</td><td>1-2 Miles</td><td>N</td><td>Partial College</td><td>80000.0</td></tr><tr><td>Mountain</td><td>Golden</td><td>1-2 Miles</td><td>N</td><td>Partial College</td><td>80000.0</td></tr><tr><td>Mountain</td><td>Golden</td><td>1-2 Miles</td><td>N</td><td>Partial College</td><td>80000.0</td></tr><tr><td>Mountain</td><td>Golden</td><td>1-2 Miles</td><td>N</td><td>Partial College</td><td>80000.0</td></tr><tr><td>Mountain</td><td>Golden</td><td>1-2 Miles</td><td>N</td><td>Partial College</td><td>80000.0</td></tr><tr><td>Mountain</td><td>Golden</td><td>1-2 Miles</td><td>N</td><td>Partial High School</td><td>60000.0</td></tr><tr><td>Mountain</td><td>Golden</td><td>1-2 Miles</td><td>N</td><td>Partial High School</td><td>80000.0</td></tr><tr><td>Mountain</td><td>Golden</td><td>1-2 Miles</td><td>N</td><td>Partial High School</td><td>80000.0</td></tr><tr><td>Mountain</td><td>Golden</td><td>1-2 Miles</td><td>Y</td><td>Bachelors</td><td>70000.0</td></tr><tr><td>Mountain</td><td>Golden</td><td>1-2 Miles</td><td>Y</td><td>Bachelors</td><td>80000.0</td></tr><tr><td>Mountain</td><td>Golden</td><td>1-2 Miles</td><td>Y</td><td>High School</td><td>10000.0</td></tr><tr><td>Mountain</td><td>Golden</td><td>1-2 Miles</td><td>Y</td><td>High School</td><td>10000.0</td></tr><tr><td>Mountain</td><td>Golden</td><td>1-2 Miles</td><td>Y</td><td>High School</td><td>70000.0</td></tr><tr><td>Mountain</td><td>Golden</td><td>1-2 Miles</td><td>Y</td><td>High School</td><td>70000.0</td></tr><tr><td>Mountain</td><td>Golden</td><td>1-2 Miles</td><td>Y</td><td>High School</td><td>70000.0</td></tr><tr><td>Mountain</td><td>Golden</td><td>1-2 Miles</td><td>Y</td><td>High School</td><td>90000.0</td></tr><tr><td>Mountain</td><td>Golden</td><td>1-2 Miles</td><td>Y</td><td>Partial College</td><td>20000.0</td></tr><tr><td>Mountain</td><td>Golden</td><td>1-2 Miles</td><td>Y</td><td>Partial College</td><td>70000.0</td></tr><tr><td>Mountain</td><td>Golden</td><td>1-2 Miles</td><td>Y</td><td>Partial College</td><td>80000.0</td></tr><tr><td>Mountain</td><td>Golden</td><td>1-2 Miles</td><td>Y</td><td>Partial College</td><td>80000.0</td></tr><tr><td>Mountain</td><td>Golden</td><td>1-2 Miles</td><td>Y</td><td>Partial College</td><td>80000.0</td></tr><tr><td>Mountain</td><td>Golden</td><td>1-2 Miles</td><td>Y</td><td>Partial College</td><td>80000.0</td></tr><tr><td>Mountain</td><td>Golden</td><td>1-2 Miles</td><td>Y</td><td>Partial College</td><td>90000.0</td></tr><tr><td>Mountain</td><td>Golden</td><td>1-2 Miles</td><td>Y</td><td>Partial College</td><td>100000.0</td></tr><tr><td>Mountain</td><td>Golden</td><td>1-2 Miles</td><td>Y</td><td>Partial High School</td><td>10000.0</td></tr><tr><td>Mountain</td><td>Golden</td><td>1-2 Miles</td><td>Y</td><td>Partial High School</td><td>10000.0</td></tr><tr><td>Mountain</td><td>Golden</td><td>1-2 Miles</td><td>Y</td><td>Partial High School</td><td>10000.0</td></tr><tr><td>Mountain</td><td>Golden</td><td>10+ Miles</td><td>N</td><td>Bachelors</td><td>60000.0</td></tr><tr><td>Mountain</td><td>Golden</td><td>10+ Miles</td><td>N</td><td>Bachelors</td><td>60000.0</td></tr><tr><td>Mountain</td><td>Golden</td><td>10+ Miles</td><td>N</td><td>Bachelors</td><td>60000.0</td></tr><tr><td>Mountain</td><td>Golden</td><td>10+ Miles</td><td>N</td><td>Bachelors</td><td>60000.0</td></tr><tr><td>Mountain</td><td>Golden</td><td>10+ Miles</td><td>N</td><td>Bachelors</td><td>60000.0</td></tr><tr><td>Mountain</td><td>Golden</td><td>10+ Miles</td><td>N</td><td>Bachelors</td><td>70000.0</td></tr><tr><td>Mountain</td><td>Golden</td><td>10+ Miles</td><td>N</td><td>Bachelors</td><td>70000.0</td></tr><tr><td>Mountain</td><td>Golden</td><td>10+ Miles</td><td>N</td><td>Bachelors</td><td>70000.0</td></tr><tr><td>Mountain</td><td>Golden</td><td>10+ Miles</td><td>N</td><td>Bachelors</td><td>70000.0</td></tr><tr><td>Mountain</td><td>Golden</td><td>10+ Miles</td><td>N</td><td>Bachelors</td><td>70000.0</td></tr><tr><td>Mountain</td><td>Golden</td><td>10+ Miles</td><td>N</td><td>Bachelors</td><td>70000.0</td></tr><tr><td>Mountain</td><td>Golden</td><td>10+ Miles</td><td>N</td><td>Bachelors</td><td>70000.0</td></tr><tr><td>Mountain</td><td>Golden</td><td>10+ Miles</td><td>N</td><td>Bachelors</td><td>70000.0</td></tr><tr><td>Mountain</td><td>Golden</td><td>10+ Miles</td><td>N</td><td>Bachelors</td><td>70000.0</td></tr><tr><td>Mountain</td><td>Golden</td><td>10+ Miles</td><td>N</td><td>Bachelors</td><td>70000.0</td></tr><tr><td>Mountain</td><td>Golden</td><td>10+ Miles</td><td>N</td><td>Bachelors</td><td>70000.0</td></tr><tr><td>Mountain</td><td>Golden</td><td>10+ Miles</td><td>N</td><td>Bachelors</td><td>70000.0</td></tr><tr><td>Mountain</td><td>Golden</td><td>10+ Miles</td><td>N</td><td>Bachelors</td><td>70000.0</td></tr><tr><td>Mountain</td><td>Golden</td><td>10+ Miles</td><td>N</td><td>Bachelors</td><td>70000.0</td></tr><tr><td>Mountain</td><td>Golden</td><td>10+ Miles</td><td>N</td><td>Graduate Degree</td><td>60000.0</td></tr><tr><td>Mountain</td><td>Golden</td><td>10+ Miles</td><td>N</td><td>Graduate Degree</td><td>60000.0</td></tr><tr><td>Mountain</td><td>Golden</td><td>10+ Miles</td><td>N</td><td>Graduate Degree</td><td>70000.0</td></tr><tr><td>Mountain</td><td>Golden</td><td>10+ Miles</td><td>N</td><td>Graduate Degree</td><td>70000.0</td></tr><tr><td>Mountain</td><td>Golden</td><td>10+ Miles</td><td>N</td><td>Graduate Degree</td><td>70000.0</td></tr><tr><td>Mountain</td><td>Golden</td><td>10+ Miles</td><td>N</td><td>Graduate Degree</td><td>70000.0</td></tr><tr><td>Mountain</td><td>Golden</td><td>10+ Miles</td><td>N</td><td>Graduate Degree</td><td>70000.0</td></tr><tr><td>Mountain</td><td>Golden</td><td>10+ Miles</td><td>N</td><td>Graduate Degree</td><td>70000.0</td></tr><tr><td>Mountain</td><td>Golden</td><td>10+ Miles</td><td>N</td><td>Graduate Degree</td><td>70000.0</td></tr><tr><td>Mountain</td><td>Golden</td><td>10+ Miles</td><td>N</td><td>Graduate Degree</td><td>70000.0</td></tr><tr><td>Mountain</td><td>Golden</td><td>10+ Miles</td><td>N</td><td>Graduate Degree</td><td>70000.0</td></tr><tr><td>Mountain</td><td>Golden</td><td>10+ Miles</td><td>N</td><td>High School</td><td>80000.0</td></tr><tr><td>Mountain</td><td>Golden</td><td>10+ Miles</td><td>N</td><td>Partial College</td><td>80000.0</td></tr><tr><td>Mountain</td><td>Golden</td><td>10+ Miles</td><td>Y</td><td>Bachelors</td><td>70000.0</td></tr><tr><td>Mountain</td><td>Golden</td><td>10+ Miles</td><td>Y</td><td>Bachelors</td><td>70000.0</td></tr><tr><td>Mountain</td><td>Golden</td><td>10+ Miles</td><td>Y</td><td>Bachelors</td><td>70000.0</td></tr><tr><td>Mountain</td><td>Golden</td><td>10+ Miles</td><td>Y</td><td>Bachelors</td><td>70000.0</td></tr><tr><td>Mountain</td><td>Golden</td><td>10+ Miles</td><td>Y</td><td>Bachelors</td><td>70000.0</td></tr><tr><td>Mountain</td><td>Golden</td><td>10+ Miles</td><td>Y</td><td>Bachelors</td><td>70000.0</td></tr><tr><td>Mountain</td><td>Golden</td><td>10+ Miles</td><td>Y</td><td>Bachelors</td><td>70000.0</td></tr><tr><td>Mountain</td><td>Golden</td><td>10+ Miles</td><td>Y</td><td>Bachelors</td><td>70000.0</td></tr><tr><td>Mountain</td><td>Golden</td><td>10+ Miles</td><td>Y</td><td>Bachelors</td><td>70000.0</td></tr><tr><td>Mountain</td><td>Golden</td><td>10+ Miles</td><td>Y</td><td>Bachelors</td><td>100000.0</td></tr><tr><td>Mountain</td><td>Golden</td><td>10+ Miles</td><td>Y</td><td>Bachelors</td><td>100000.0</td></tr><tr><td>Mountain</td><td>Golden</td><td>10+ Miles</td><td>Y</td><td>Bachelors</td><td>110000.0</td></tr><tr><td>Mountain</td><td>Golden</td><td>10+ Miles</td><td>Y</td><td>Bachelors</td><td>110000.0</td></tr><tr><td>Mountain</td><td>Golden</td><td>10+ Miles</td><td>Y</td><td>Bachelors</td><td>120000.0</td></tr><tr><td>Mountain</td><td>Golden</td><td>10+ Miles</td><td>Y</td><td>Bachelors</td><td>120000.0</td></tr><tr><td>Mountain</td><td>Golden</td><td>10+ Miles</td><td>Y</td><td>Bachelors</td><td>120000.0</td></tr><tr><td>Mountain</td><td>Golden</td><td>10+ Miles</td><td>Y</td><td>Bachelors</td><td>120000.0</td></tr><tr><td>Mountain</td><td>Golden</td><td>10+ Miles</td><td>Y</td><td>Bachelors</td><td>120000.0</td></tr><tr><td>Mountain</td><td>Golden</td><td>10+ Miles</td><td>Y</td><td>Bachelors</td><td>170000.0</td></tr><tr><td>Mountain</td><td>Golden</td><td>10+ Miles</td><td>Y</td><td>Bachelors</td><td>170000.0</td></tr><tr><td>Mountain</td><td>Golden</td><td>10+ Miles</td><td>Y</td><td>Bachelors</td><td>170000.0</td></tr><tr><td>Mountain</td><td>Golden</td><td>10+ Miles</td><td>Y</td><td>Graduate Degree</td><td>70000.0</td></tr><tr><td>Mountain</td><td>Golden</td><td>10+ Miles</td><td>Y</td><td>High School</td><td>40000.0</td></tr><tr><td>Mountain</td><td>Golden</td><td>10+ Miles</td><td>Y</td><td>High School</td><td>60000.0</td></tr><tr><td>Mountain</td><td>Golden</td><td>10+ Miles</td><td>Y</td><td>High School</td><td>60000.0</td></tr><tr><td>Mountain</td><td>Golden</td><td>10+ Miles</td><td>Y</td><td>High School</td><td>60000.0</td></tr><tr><td>Mountain</td><td>Golden</td><td>10+ Miles</td><td>Y</td><td>High School</td><td>60000.0</td></tr><tr><td>Mountain</td><td>Golden</td><td>10+ Miles</td><td>Y</td><td>High School</td><td>70000.0</td></tr><tr><td>Mountain</td><td>Golden</td><td>10+ Miles</td><td>Y</td><td>High School</td><td>70000.0</td></tr><tr><td>Mountain</td><td>Golden</td><td>10+ Miles</td><td>Y</td><td>High School</td><td>70000.0</td></tr><tr><td>Mountain</td><td>Golden</td><td>10+ Miles</td><td>Y</td><td>High School</td><td>70000.0</td></tr><tr><td>Mountain</td><td>Golden</td><td>10+ Miles</td><td>Y</td><td>High School</td><td>70000.0</td></tr><tr><td>Mountain</td><td>Golden</td><td>10+ Miles</td><td>Y</td><td>High School</td><td>70000.0</td></tr><tr><td>Mountain</td><td>Golden</td><td>10+ Miles</td><td>Y</td><td>High School</td><td>70000.0</td></tr><tr><td>Mountain</td><td>Golden</td><td>10+ Miles</td><td>Y</td><td>High School</td><td>70000.0</td></tr><tr><td>Mountain</td><td>Golden</td><td>10+ Miles</td><td>Y</td><td>High School</td><td>70000.0</td></tr><tr><td>Mountain</td><td>Golden</td><td>10+ Miles</td><td>Y</td><td>High School</td><td>70000.0</td></tr><tr><td>Mountain</td><td>Golden</td><td>10+ Miles</td><td>Y</td><td>High School</td><td>80000.0</td></tr><tr><td>Mountain</td><td>Golden</td><td>10+ Miles</td><td>Y</td><td>High School</td><td>80000.0</td></tr><tr><td>Mountain</td><td>Golden</td><td>10+ Miles</td><td>Y</td><td>High School</td><td>90000.0</td></tr><tr><td>Mountain</td><td>Golden</td><td>10+ Miles</td><td>Y</td><td>High School</td><td>90000.0</td></tr><tr><td>Mountain</td><td>Golden</td><td>10+ Miles</td><td>Y</td><td>High School</td><td>90000.0</td></tr><tr><td>Mountain</td><td>Golden</td><td>10+ Miles</td><td>Y</td><td>High School</td><td>90000.0</td></tr><tr><td>Mountain</td><td>Golden</td><td>10+ Miles</td><td>Y</td><td>High School</td><td>90000.0</td></tr><tr><td>Mountain</td><td>Golden</td><td>10+ Miles</td><td>Y</td><td>High School</td><td>90000.0</td></tr><tr><td>Mountain</td><td>Golden</td><td>10+ Miles</td><td>Y</td><td>High School</td><td>90000.0</td></tr><tr><td>Mountain</td><td>Golden</td><td>10+ Miles</td><td>Y</td><td>High School</td><td>100000.0</td></tr><tr><td>Mountain</td><td>Golden</td><td>10+ Miles</td><td>Y</td><td>High School</td><td>110000.0</td></tr><tr><td>Mountain</td><td>Golden</td><td>10+ Miles</td><td>Y</td><td>High School</td><td>110000.0</td></tr><tr><td>Mountain</td><td>Golden</td><td>10+ Miles</td><td>Y</td><td>High School</td><td>130000.0</td></tr><tr><td>Mountain</td><td>Golden</td><td>10+ Miles</td><td>Y</td><td>High School</td><td>160000.0</td></tr><tr><td>Mountain</td><td>Golden</td><td>10+ Miles</td><td>Y</td><td>High School</td><td>170000.0</td></tr><tr><td>Mountain</td><td>Golden</td><td>10+ Miles</td><td>Y</td><td>High School</td><td>170000.0</td></tr><tr><td>Mountain</td><td>Golden</td><td>10+ Miles</td><td>Y</td><td>Partial College</td><td>60000.0</td></tr><tr><td>Mountain</td><td>Golden</td><td>10+ Miles</td><td>Y</td><td>Partial College</td><td>60000.0</td></tr><tr><td>Mountain</td><td>Golden</td><td>10+ Miles</td><td>Y</td><td>Partial College</td><td>60000.0</td></tr><tr><td>Mountain</td><td>Golden</td><td>10+ Miles</td><td>Y</td><td>Partial College</td><td>60000.0</td></tr><tr><td>Mountain</td><td>Golden</td><td>10+ Miles</td><td>Y</td><td>Partial College</td><td>60000.0</td></tr><tr><td>Mountain</td><td>Golden</td><td>10+ Miles</td><td>Y</td><td>Partial College</td><td>60000.0</td></tr><tr><td>Mountain</td><td>Golden</td><td>10+ Miles</td><td>Y</td><td>Partial College</td><td>60000.0</td></tr><tr><td>Mountain</td><td>Golden</td><td>10+ Miles</td><td>Y</td><td>Partial College</td><td>60000.0</td></tr><tr><td>Mountain</td><td>Golden</td><td>10+ Miles</td><td>Y</td><td>Partial College</td><td>60000.0</td></tr><tr><td>Mountain</td><td>Golden</td><td>10+ Miles</td><td>Y</td><td>Partial College</td><td>60000.0</td></tr><tr><td>Mountain</td><td>Golden</td><td>10+ Miles</td><td>Y</td><td>Partial College</td><td>60000.0</td></tr><tr><td>Mountain</td><td>Golden</td><td>10+ Miles</td><td>Y</td><td>Partial College</td><td>60000.0</td></tr><tr><td>Mountain</td><td>Golden</td><td>10+ Miles</td><td>Y</td><td>Partial College</td><td>70000.0</td></tr><tr><td>Mountain</td><td>Golden</td><td>10+ Miles</td><td>Y</td><td>Partial College</td><td>70000.0</td></tr><tr><td>Mountain</td><td>Golden</td><td>10+ Miles</td><td>Y</td><td>Partial College</td><td>70000.0</td></tr><tr><td>Mountain</td><td>Golden</td><td>10+ Miles</td><td>Y</td><td>Partial College</td><td>70000.0</td></tr><tr><td>Mountain</td><td>Golden</td><td>10+ Miles</td><td>Y</td><td>Partial College</td><td>70000.0</td></tr><tr><td>Mountain</td><td>Golden</td><td>10+ Miles</td><td>Y</td><td>Partial College</td><td>70000.0</td></tr><tr><td>Mountain</td><td>Golden</td><td>10+ Miles</td><td>Y</td><td>Partial College</td><td>70000.0</td></tr><tr><td>Mountain</td><td>Golden</td><td>10+ Miles</td><td>Y</td><td>Partial College</td><td>70000.0</td></tr><tr><td>Mountain</td><td>Golden</td><td>10+ Miles</td><td>Y</td><td>Partial College</td><td>70000.0</td></tr><tr><td>Mountain</td><td>Golden</td><td>10+ Miles</td><td>Y</td><td>Partial College</td><td>70000.0</td></tr><tr><td>Mountain</td><td>Golden</td><td>10+ Miles</td><td>Y</td><td>Partial College</td><td>70000.0</td></tr><tr><td>Mountain</td><td>Golden</td><td>10+ Miles</td><td>Y</td><td>Partial College</td><td>70000.0</td></tr><tr><td>Mountain</td><td>Golden</td><td>10+ Miles</td><td>Y</td><td>Partial College</td><td>70000.0</td></tr><tr><td>Mountain</td><td>Golden</td><td>10+ Miles</td><td>Y</td><td>Partial College</td><td>70000.0</td></tr><tr><td>Mountain</td><td>Golden</td><td>10+ Miles</td><td>Y</td><td>Partial College</td><td>70000.0</td></tr><tr><td>Mountain</td><td>Golden</td><td>10+ Miles</td><td>Y</td><td>Partial College</td><td>70000.0</td></tr><tr><td>Mountain</td><td>Golden</td><td>10+ Miles</td><td>Y</td><td>Partial College</td><td>70000.0</td></tr><tr><td>Mountain</td><td>Golden</td><td>10+ Miles</td><td>Y</td><td>Partial College</td><td>70000.0</td></tr><tr><td>Mountain</td><td>Golden</td><td>10+ Miles</td><td>Y</td><td>Partial College</td><td>70000.0</td></tr><tr><td>Mountain</td><td>Golden</td><td>10+ Miles</td><td>Y</td><td>Partial College</td><td>70000.0</td></tr><tr><td>Mountain</td><td>Golden</td><td>10+ Miles</td><td>Y</td><td>Partial College</td><td>80000.0</td></tr><tr><td>Mountain</td><td>Golden</td><td>10+ Miles</td><td>Y</td><td>Partial College</td><td>80000.0</td></tr><tr><td>Mountain</td><td>Golden</td><td>10+ Miles</td><td>Y</td><td>Partial College</td><td>80000.0</td></tr><tr><td>Mountain</td><td>Golden</td><td>10+ Miles</td><td>Y</td><td>Partial College</td><td>80000.0</td></tr><tr><td>Mountain</td><td>Golden</td><td>10+ Miles</td><td>Y</td><td>Partial College</td><td>90000.0</td></tr><tr><td>Mountain</td><td>Golden</td><td>10+ Miles</td><td>Y</td><td>Partial College</td><td>90000.0</td></tr><tr><td>Mountain</td><td>Golden</td><td>10+ Miles</td><td>Y</td><td>Partial College</td><td>100000.0</td></tr><tr><td>Mountain</td><td>Golden</td><td>10+ Miles</td><td>Y</td><td>Partial College</td><td>110000.0</td></tr><tr><td>Mountain</td><td>Golden</td><td>10+ Miles</td><td>Y</td><td>Partial College</td><td>110000.0</td></tr><tr><td>Mountain</td><td>Golden</td><td>10+ Miles</td><td>Y</td><td>Partial College</td><td>110000.0</td></tr><tr><td>Mountain</td><td>Golden</td><td>10+ Miles</td><td>Y</td><td>Partial College</td><td>110000.0</td></tr><tr><td>Mountain</td><td>Golden</td><td>10+ Miles</td><td>Y</td><td>Partial College</td><td>110000.0</td></tr><tr><td>Mountain</td><td>Golden</td><td>10+ Miles</td><td>Y</td><td>Partial College</td><td>130000.0</td></tr><tr><td>Mountain</td><td>Golden</td><td>10+ Miles</td><td>Y</td><td>Partial College</td><td>130000.0</td></tr><tr><td>Mountain</td><td>Golden</td><td>10+ Miles</td><td>Y</td><td>Partial College</td><td>130000.0</td></tr><tr><td>Mountain</td><td>Golden</td><td>10+ Miles</td><td>Y</td><td>Partial College</td><td>130000.0</td></tr><tr><td>Mountain</td><td>Golden</td><td>10+ Miles</td><td>Y</td><td>Partial High School</td><td>70000.0</td></tr><tr><td>Mountain</td><td>Golden</td><td>10+ Miles</td><td>Y</td><td>Partial High School</td><td>110000.0</td></tr><tr><td>Mountain</td><td>Golden</td><td>10+ Miles</td><td>Y</td><td>Partial High School</td><td>110000.0</td></tr><tr><td>Mountain</td><td>Golden</td><td>10+ Miles</td><td>Y</td><td>Partial High School</td><td>160000.0</td></tr><tr><td>Mountain</td><td>Golden</td><td>10+ Miles</td><td>Y</td><td>Partial High School</td><td>170000.0</td></tr><tr><td>Mountain</td><td>Golden</td><td>2-5 Miles</td><td>N</td><td>Bachelors</td><td>60000.0</td></tr><tr><td>Mountain</td><td>Golden</td><td>2-5 Miles</td><td>N</td><td>Bachelors</td><td>60000.0</td></tr><tr><td>Mountain</td><td>Golden</td><td>2-5 Miles</td><td>N</td><td>Bachelors</td><td>60000.0</td></tr><tr><td>Mountain</td><td>Golden</td><td>2-5 Miles</td><td>N</td><td>Bachelors</td><td>70000.0</td></tr><tr><td>Mountain</td><td>Golden</td><td>2-5 Miles</td><td>N</td><td>Bachelors</td><td>70000.0</td></tr><tr><td>Mountain</td><td>Golden</td><td>2-5 Miles</td><td>N</td><td>Bachelors</td><td>70000.0</td></tr><tr><td>Mountain</td><td>Golden</td><td>2-5 Miles</td><td>N</td><td>Bachelors</td><td>90000.0</td></tr><tr><td>Mountain</td><td>Golden</td><td>2-5 Miles</td><td>N</td><td>Bachelors</td><td>90000.0</td></tr><tr><td>Mountain</td><td>Golden</td><td>2-5 Miles</td><td>N</td><td>Bachelors</td><td>90000.0</td></tr><tr><td>Mountain</td><td>Golden</td><td>2-5 Miles</td><td>N</td><td>Graduate Degree</td><td>70000.0</td></tr><tr><td>Mountain</td><td>Golden</td><td>2-5 Miles</td><td>N</td><td>Graduate Degree</td><td>90000.0</td></tr><tr><td>Mountain</td><td>Golden</td><td>2-5 Miles</td><td>N</td><td>Graduate Degree</td><td>170000.0</td></tr><tr><td>Mountain</td><td>Golden</td><td>2-5 Miles</td><td>N</td><td>High School</td><td>30000.0</td></tr><tr><td>Mountain</td><td>Golden</td><td>2-5 Miles</td><td>N</td><td>Partial College</td><td>20000.0</td></tr><tr><td>Mountain</td><td>Golden</td><td>2-5 Miles</td><td>N</td><td>Partial College</td><td>20000.0</td></tr><tr><td>Mountain</td><td>Golden</td><td>2-5 Miles</td><td>N</td><td>Partial College</td><td>20000.0</td></tr><tr><td>Mountain</td><td>Golden</td><td>2-5 Miles</td><td>N</td><td>Partial College</td><td>20000.0</td></tr><tr><td>Mountain</td><td>Golden</td><td>2-5 Miles</td><td>N</td><td>Partial College</td><td>30000.0</td></tr><tr><td>Mountain</td><td>Golden</td><td>2-5 Miles</td><td>N</td><td>Partial College</td><td>60000.0</td></tr><tr><td>Mountain</td><td>Golden</td><td>2-5 Miles</td><td>N</td><td>Partial College</td><td>70000.0</td></tr><tr><td>Mountain</td><td>Golden</td><td>2-5 Miles</td><td>N</td><td>Partial College</td><td>70000.0</td></tr><tr><td>Mountain</td><td>Golden</td><td>2-5 Miles</td><td>N</td><td>Partial College</td><td>70000.0</td></tr><tr><td>Mountain</td><td>Golden</td><td>2-5 Miles</td><td>N</td><td>Partial College</td><td>80000.0</td></tr><tr><td>Mountain</td><td>Golden</td><td>2-5 Miles</td><td>N</td><td>Partial College</td><td>80000.0</td></tr><tr><td>Mountain</td><td>Golden</td><td>2-5 Miles</td><td>N</td><td>Partial College</td><td>80000.0</td></tr><tr><td>Mountain</td><td>Golden</td><td>2-5 Miles</td><td>N</td><td>Partial College</td><td>90000.0</td></tr><tr><td>Mountain</td><td>Golden</td><td>2-5 Miles</td><td>N</td><td>Partial College</td><td>90000.0</td></tr><tr><td>Mountain</td><td>Golden</td><td>2-5 Miles</td><td>N</td><td>Partial College</td><td>90000.0</td></tr><tr><td>Mountain</td><td>Golden</td><td>2-5 Miles</td><td>N</td><td>Partial College</td><td>90000.0</td></tr><tr><td>Mountain</td><td>Golden</td><td>2-5 Miles</td><td>Y</td><td>Bachelors</td><td>60000.0</td></tr><tr><td>Mountain</td><td>Golden</td><td>2-5 Miles</td><td>Y</td><td>Bachelors</td><td>70000.0</td></tr><tr><td>Mountain</td><td>Golden</td><td>2-5 Miles</td><td>Y</td><td>Bachelors</td><td>70000.0</td></tr><tr><td>Mountain</td><td>Golden</td><td>2-5 Miles</td><td>Y</td><td>Bachelors</td><td>80000.0</td></tr><tr><td>Mountain</td><td>Golden</td><td>2-5 Miles</td><td>Y</td><td>Bachelors</td><td>80000.0</td></tr><tr><td>Mountain</td><td>Golden</td><td>2-5 Miles</td><td>Y</td><td>Bachelors</td><td>100000.0</td></tr><tr><td>Mountain</td><td>Golden</td><td>2-5 Miles</td><td>Y</td><td>Bachelors</td><td>120000.0</td></tr><tr><td>Mountain</td><td>Golden</td><td>2-5 Miles</td><td>Y</td><td>Bachelors</td><td>130000.0</td></tr><tr><td>Mountain</td><td>Golden</td><td>2-5 Miles</td><td>Y</td><td>Bachelors</td><td>130000.0</td></tr><tr><td>Mountain</td><td>Golden</td><td>2-5 Miles</td><td>Y</td><td>Bachelors</td><td>130000.0</td></tr><tr><td>Mountain</td><td>Golden</td><td>2-5 Miles</td><td>Y</td><td>Bachelors</td><td>130000.0</td></tr><tr><td>Mountain</td><td>Golden</td><td>2-5 Miles</td><td>Y</td><td>Bachelors</td><td>130000.0</td></tr><tr><td>Mountain</td><td>Golden</td><td>2-5 Miles</td><td>Y</td><td>Bachelors</td><td>130000.0</td></tr><tr><td>Mountain</td><td>Golden</td><td>2-5 Miles</td><td>Y</td><td>Bachelors</td><td>170000.0</td></tr><tr><td>Mountain</td><td>Golden</td><td>2-5 Miles</td><td>Y</td><td>Graduate Degree</td><td>110000.0</td></tr><tr><td>Mountain</td><td>Golden</td><td>2-5 Miles</td><td>Y</td><td>Graduate Degree</td><td>110000.0</td></tr><tr><td>Mountain</td><td>Golden</td><td>2-5 Miles</td><td>Y</td><td>Graduate Degree</td><td>110000.0</td></tr><tr><td>Mountain</td><td>Golden</td><td>2-5 Miles</td><td>Y</td><td>Graduate Degree</td><td>110000.0</td></tr><tr><td>Mountain</td><td>Golden</td><td>2-5 Miles</td><td>Y</td><td>Graduate Degree</td><td>130000.0</td></tr><tr><td>Mountain</td><td>Golden</td><td>2-5 Miles</td><td>Y</td><td>Graduate Degree</td><td>170000.0</td></tr><tr><td>Mountain</td><td>Golden</td><td>2-5 Miles</td><td>Y</td><td>High School</td><td>10000.0</td></tr><tr><td>Mountain</td><td>Golden</td><td>2-5 Miles</td><td>Y</td><td>High School</td><td>60000.0</td></tr><tr><td>Mountain</td><td>Golden</td><td>2-5 Miles</td><td>Y</td><td>High School</td><td>70000.0</td></tr><tr><td>Mountain</td><td>Golden</td><td>2-5 Miles</td><td>Y</td><td>High School</td><td>70000.0</td></tr><tr><td>Mountain</td><td>Golden</td><td>2-5 Miles</td><td>Y</td><td>High School</td><td>70000.0</td></tr><tr><td>Mountain</td><td>Golden</td><td>2-5 Miles</td><td>Y</td><td>High School</td><td>70000.0</td></tr><tr><td>Mountain</td><td>Golden</td><td>2-5 Miles</td><td>Y</td><td>High School</td><td>70000.0</td></tr><tr><td>Mountain</td><td>Golden</td><td>2-5 Miles</td><td>Y</td><td>High School</td><td>80000.0</td></tr><tr><td>Mountain</td><td>Golden</td><td>2-5 Miles</td><td>Y</td><td>High School</td><td>80000.0</td></tr><tr><td>Mountain</td><td>Golden</td><td>2-5 Miles</td><td>Y</td><td>High School</td><td>80000.0</td></tr><tr><td>Mountain</td><td>Golden</td><td>2-5 Miles</td><td>Y</td><td>High School</td><td>90000.0</td></tr><tr><td>Mountain</td><td>Golden</td><td>2-5 Miles</td><td>Y</td><td>High School</td><td>90000.0</td></tr><tr><td>Mountain</td><td>Golden</td><td>2-5 Miles</td><td>Y</td><td>High School</td><td>90000.0</td></tr><tr><td>Mountain</td><td>Golden</td><td>2-5 Miles</td><td>Y</td><td>High School</td><td>90000.0</td></tr><tr><td>Mountain</td><td>Golden</td><td>2-5 Miles</td><td>Y</td><td>High School</td><td>90000.0</td></tr><tr><td>Mountain</td><td>Golden</td><td>2-5 Miles</td><td>Y</td><td>High School</td><td>90000.0</td></tr><tr><td>Mountain</td><td>Golden</td><td>2-5 Miles</td><td>Y</td><td>High School</td><td>90000.0</td></tr><tr><td>Mountain</td><td>Golden</td><td>2-5 Miles</td><td>Y</td><td>High School</td><td>90000.0</td></tr><tr><td>Mountain</td><td>Golden</td><td>2-5 Miles</td><td>Y</td><td>Partial College</td><td>60000.0</td></tr><tr><td>Mountain</td><td>Golden</td><td>2-5 Miles</td><td>Y</td><td>Partial College</td><td>60000.0</td></tr><tr><td>Mountain</td><td>Golden</td><td>2-5 Miles</td><td>Y</td><td>Partial College</td><td>60000.0</td></tr><tr><td>Mountain</td><td>Golden</td><td>2-5 Miles</td><td>Y</td><td>Partial College</td><td>60000.0</td></tr><tr><td>Mountain</td><td>Golden</td><td>2-5 Miles</td><td>Y</td><td>Partial College</td><td>70000.0</td></tr><tr><td>Mountain</td><td>Golden</td><td>2-5 Miles</td><td>Y</td><td>Partial College</td><td>70000.0</td></tr><tr><td>Mountain</td><td>Golden</td><td>2-5 Miles</td><td>Y</td><td>Partial College</td><td>70000.0</td></tr><tr><td>Mountain</td><td>Golden</td><td>2-5 Miles</td><td>Y</td><td>Partial College</td><td>70000.0</td></tr><tr><td>Mountain</td><td>Golden</td><td>2-5 Miles</td><td>Y</td><td>Partial College</td><td>80000.0</td></tr><tr><td>Mountain</td><td>Golden</td><td>2-5 Miles</td><td>Y</td><td>Partial College</td><td>80000.0</td></tr><tr><td>Mountain</td><td>Golden</td><td>2-5 Miles</td><td>Y</td><td>Partial College</td><td>80000.0</td></tr><tr><td>Mountain</td><td>Golden</td><td>2-5 Miles</td><td>Y</td><td>Partial College</td><td>80000.0</td></tr><tr><td>Mountain</td><td>Golden</td><td>2-5 Miles</td><td>Y</td><td>Partial College</td><td>80000.0</td></tr><tr><td>Mountain</td><td>Golden</td><td>2-5 Miles</td><td>Y</td><td>Partial College</td><td>90000.0</td></tr><tr><td>Mountain</td><td>Golden</td><td>2-5 Miles</td><td>Y</td><td>Partial College</td><td>90000.0</td></tr><tr><td>Mountain</td><td>Golden</td><td>2-5 Miles</td><td>Y</td><td>Partial High School</td><td>70000.0</td></tr><tr><td>Mountain</td><td>Golden</td><td>2-5 Miles</td><td>Y</td><td>Partial High School</td><td>70000.0</td></tr><tr><td>Mountain</td><td>Golden</td><td>5-10 Miles</td><td>N</td><td>Bachelors</td><td>30000.0</td></tr><tr><td>Mountain</td><td>Golden</td><td>5-10 Miles</td><td>N</td><td>Bachelors</td><td>40000.0</td></tr><tr><td>Mountain</td><td>Golden</td><td>5-10 Miles</td><td>N</td><td>Bachelors</td><td>40000.0</td></tr><tr><td>Mountain</td><td>Golden</td><td>5-10 Miles</td><td>N</td><td>Bachelors</td><td>60000.0</td></tr><tr><td>Mountain</td><td>Golden</td><td>5-10 Miles</td><td>N</td><td>Bachelors</td><td>60000.0</td></tr><tr><td>Mountain</td><td>Golden</td><td>5-10 Miles</td><td>N</td><td>Bachelors</td><td>70000.0</td></tr><tr><td>Mountain</td><td>Golden</td><td>5-10 Miles</td><td>N</td><td>Bachelors</td><td>70000.0</td></tr><tr><td>Mountain</td><td>Golden</td><td>5-10 Miles</td><td>N</td><td>Bachelors</td><td>70000.0</td></tr><tr><td>Mountain</td><td>Golden</td><td>5-10 Miles</td><td>N</td><td>Bachelors</td><td>80000.0</td></tr><tr><td>Mountain</td><td>Golden</td><td>5-10 Miles</td><td>N</td><td>Bachelors</td><td>80000.0</td></tr><tr><td>Mountain</td><td>Golden</td><td>5-10 Miles</td><td>N</td><td>Bachelors</td><td>90000.0</td></tr><tr><td>Mountain</td><td>Golden</td><td>5-10 Miles</td><td>N</td><td>Bachelors</td><td>90000.0</td></tr><tr><td>Mountain</td><td>Golden</td><td>5-10 Miles</td><td>N</td><td>Bachelors</td><td>90000.0</td></tr><tr><td>Mountain</td><td>Golden</td><td>5-10 Miles</td><td>N</td><td>Bachelors</td><td>90000.0</td></tr><tr><td>Mountain</td><td>Golden</td><td>5-10 Miles</td><td>N</td><td>Bachelors</td><td>90000.0</td></tr><tr><td>Mountain</td><td>Golden</td><td>5-10 Miles</td><td>N</td><td>Graduate Degree</td><td>50000.0</td></tr><tr><td>Mountain</td><td>Golden</td><td>5-10 Miles</td><td>N</td><td>Graduate Degree</td><td>50000.0</td></tr><tr><td>Mountain</td><td>Golden</td><td>5-10 Miles</td><td>N</td><td>Graduate Degree</td><td>50000.0</td></tr><tr><td>Mountain</td><td>Golden</td><td>5-10 Miles</td><td>N</td><td>Graduate Degree</td><td>60000.0</td></tr><tr><td>Mountain</td><td>Golden</td><td>5-10 Miles</td><td>N</td><td>Graduate Degree</td><td>60000.0</td></tr><tr><td>Mountain</td><td>Golden</td><td>5-10 Miles</td><td>N</td><td>Graduate Degree</td><td>70000.0</td></tr><tr><td>Mountain</td><td>Golden</td><td>5-10 Miles</td><td>N</td><td>Graduate Degree</td><td>70000.0</td></tr><tr><td>Mountain</td><td>Golden</td><td>5-10 Miles</td><td>N</td><td>Graduate Degree</td><td>70000.0</td></tr><tr><td>Mountain</td><td>Golden</td><td>5-10 Miles</td><td>N</td><td>Graduate Degree</td><td>70000.0</td></tr><tr><td>Mountain</td><td>Golden</td><td>5-10 Miles</td><td>N</td><td>Graduate Degree</td><td>70000.0</td></tr><tr><td>Mountain</td><td>Golden</td><td>5-10 Miles</td><td>N</td><td>Graduate Degree</td><td>70000.0</td></tr><tr><td>Mountain</td><td>Golden</td><td>5-10 Miles</td><td>N</td><td>Graduate Degree</td><td>70000.0</td></tr><tr><td>Mountain</td><td>Golden</td><td>5-10 Miles</td><td>N</td><td>Graduate Degree</td><td>70000.0</td></tr><tr><td>Mountain</td><td>Golden</td><td>5-10 Miles</td><td>N</td><td>Graduate Degree</td><td>70000.0</td></tr><tr><td>Mountain</td><td>Golden</td><td>5-10 Miles</td><td>N</td><td>Graduate Degree</td><td>70000.0</td></tr><tr><td>Mountain</td><td>Golden</td><td>5-10 Miles</td><td>N</td><td>Graduate Degree</td><td>70000.0</td></tr><tr><td>Mountain</td><td>Golden</td><td>5-10 Miles</td><td>N</td><td>Graduate Degree</td><td>80000.0</td></tr><tr><td>Mountain</td><td>Golden</td><td>5-10 Miles</td><td>N</td><td>Graduate Degree</td><td>80000.0</td></tr><tr><td>Mountain</td><td>Golden</td><td>5-10 Miles</td><td>N</td><td>High School</td><td>20000.0</td></tr><tr><td>Mountain</td><td>Golden</td><td>5-10 Miles</td><td>N</td><td>High School</td><td>20000.0</td></tr><tr><td>Mountain</td><td>Golden</td><td>5-10 Miles</td><td>N</td><td>High School</td><td>30000.0</td></tr><tr><td>Mountain</td><td>Golden</td><td>5-10 Miles</td><td>N</td><td>High School</td><td>30000.0</td></tr><tr><td>Mountain</td><td>Golden</td><td>5-10 Miles</td><td>N</td><td>High School</td><td>70000.0</td></tr><tr><td>Mountain</td><td>Golden</td><td>5-10 Miles</td><td>N</td><td>High School</td><td>70000.0</td></tr><tr><td>Mountain</td><td>Golden</td><td>5-10 Miles</td><td>N</td><td>High School</td><td>70000.0</td></tr><tr><td>Mountain</td><td>Golden</td><td>5-10 Miles</td><td>N</td><td>High School</td><td>70000.0</td></tr><tr><td>Mountain</td><td>Golden</td><td>5-10 Miles</td><td>N</td><td>High School</td><td>70000.0</td></tr><tr><td>Mountain</td><td>Golden</td><td>5-10 Miles</td><td>N</td><td>High School</td><td>80000.0</td></tr><tr><td>Mountain</td><td>Golden</td><td>5-10 Miles</td><td>N</td><td>High School</td><td>80000.0</td></tr><tr><td>Mountain</td><td>Golden</td><td>5-10 Miles</td><td>N</td><td>High School</td><td>80000.0</td></tr><tr><td>Mountain</td><td>Golden</td><td>5-10 Miles</td><td>N</td><td>High School</td><td>80000.0</td></tr><tr><td>Mountain</td><td>Golden</td><td>5-10 Miles</td><td>N</td><td>High School</td><td>80000.0</td></tr><tr><td>Mountain</td><td>Golden</td><td>5-10 Miles</td><td>N</td><td>High School</td><td>80000.0</td></tr><tr><td>Mountain</td><td>Golden</td><td>5-10 Miles</td><td>N</td><td>Partial College</td><td>30000.0</td></tr><tr><td>Mountain</td><td>Golden</td><td>5-10 Miles</td><td>N</td><td>Partial College</td><td>30000.0</td></tr><tr><td>Mountain</td><td>Golden</td><td>5-10 Miles</td><td>N</td><td>Partial College</td><td>30000.0</td></tr><tr><td>Mountain</td><td>Golden</td><td>5-10 Miles</td><td>N</td><td>Partial College</td><td>40000.0</td></tr><tr><td>Mountain</td><td>Golden</td><td>5-10 Miles</td><td>N</td><td>Partial College</td><td>40000.0</td></tr><tr><td>Mountain</td><td>Golden</td><td>5-10 Miles</td><td>N</td><td>Partial College</td><td>60000.0</td></tr><tr><td>Mountain</td><td>Golden</td><td>5-10 Miles</td><td>N</td><td>Partial College</td><td>60000.0</td></tr><tr><td>Mountain</td><td>Golden</td><td>5-10 Miles</td><td>N</td><td>Partial College</td><td>60000.0</td></tr><tr><td>Mountain</td><td>Golden</td><td>5-10 Miles</td><td>N</td><td>Partial College</td><td>60000.0</td></tr><tr><td>Mountain</td><td>Golden</td><td>5-10 Miles</td><td>N</td><td>Partial College</td><td>60000.0</td></tr><tr><td>Mountain</td><td>Golden</td><td>5-10 Miles</td><td>N</td><td>Partial College</td><td>60000.0</td></tr><tr><td>Mountain</td><td>Golden</td><td>5-10 Miles</td><td>N</td><td>Partial College</td><td>70000.0</td></tr><tr><td>Mountain</td><td>Golden</td><td>5-10 Miles</td><td>N</td><td>Partial College</td><td>70000.0</td></tr><tr><td>Mountain</td><td>Golden</td><td>5-10 Miles</td><td>N</td><td>Partial College</td><td>70000.0</td></tr><tr><td>Mountain</td><td>Golden</td><td>5-10 Miles</td><td>N</td><td>Partial College</td><td>70000.0</td></tr><tr><td>Mountain</td><td>Golden</td><td>5-10 Miles</td><td>N</td><td>Partial College</td><td>70000.0</td></tr><tr><td>Mountain</td><td>Golden</td><td>5-10 Miles</td><td>N</td><td>Partial College</td><td>70000.0</td></tr><tr><td>Mountain</td><td>Golden</td><td>5-10 Miles</td><td>N</td><td>Partial College</td><td>70000.0</td></tr><tr><td>Mountain</td><td>Golden</td><td>5-10 Miles</td><td>N</td><td>Partial College</td><td>70000.0</td></tr><tr><td>Mountain</td><td>Golden</td><td>5-10 Miles</td><td>N</td><td>Partial College</td><td>80000.0</td></tr><tr><td>Mountain</td><td>Golden</td><td>5-10 Miles</td><td>N</td><td>Partial College</td><td>80000.0</td></tr><tr><td>Mountain</td><td>Golden</td><td>5-10 Miles</td><td>N</td><td>Partial College</td><td>80000.0</td></tr><tr><td>Mountain</td><td>Golden</td><td>5-10 Miles</td><td>N</td><td>Partial College</td><td>80000.0</td></tr><tr><td>Mountain</td><td>Golden</td><td>5-10 Miles</td><td>N</td><td>Partial College</td><td>80000.0</td></tr><tr><td>Mountain</td><td>Golden</td><td>5-10 Miles</td><td>N</td><td>Partial College</td><td>80000.0</td></tr><tr><td>Mountain</td><td>Golden</td><td>5-10 Miles</td><td>N</td><td>Partial College</td><td>90000.0</td></tr><tr><td>Mountain</td><td>Golden</td><td>5-10 Miles</td><td>N</td><td>Partial High School</td><td>70000.0</td></tr><tr><td>Mountain</td><td>Golden</td><td>5-10 Miles</td><td>N</td><td>Partial High School</td><td>80000.0</td></tr><tr><td>Mountain</td><td>Golden</td><td>5-10 Miles</td><td>N</td><td>Partial High School</td><td>80000.0</td></tr><tr><td>Mountain</td><td>Golden</td><td>5-10 Miles</td><td>N</td><td>Partial High School</td><td>80000.0</td></tr><tr><td>Mountain</td><td>Golden</td><td>5-10 Miles</td><td>N</td><td>Partial High School</td><td>80000.0</td></tr><tr><td>Mountain</td><td>Golden</td><td>5-10 Miles</td><td>N</td><td>Partial High School</td><td>80000.0</td></tr><tr><td>Mountain</td><td>Golden</td><td>5-10 Miles</td><td>N</td><td>Partial High School</td><td>80000.0</td></tr><tr><td>Mountain</td><td>Golden</td><td>5-10 Miles</td><td>N</td><td>Partial High School</td><td>80000.0</td></tr><tr><td>Mountain</td><td>Golden</td><td>5-10 Miles</td><td>N</td><td>Partial High School</td><td>80000.0</td></tr><tr><td>Mountain</td><td>Golden</td><td>5-10 Miles</td><td>N</td><td>Partial High School</td><td>80000.0</td></tr><tr><td>Mountain</td><td>Golden</td><td>5-10 Miles</td><td>N</td><td>Partial High School</td><td>80000.0</td></tr><tr><td>Mountain</td><td>Golden</td><td>5-10 Miles</td><td>N</td><td>Partial High School</td><td>80000.0</td></tr><tr><td>Mountain</td><td>Golden</td><td>5-10 Miles</td><td>Y</td><td>Bachelors</td><td>110000.0</td></tr><tr><td>Mountain</td><td>Golden</td><td>5-10 Miles</td><td>Y</td><td>Bachelors</td><td>110000.0</td></tr><tr><td>Mountain</td><td>Golden</td><td>5-10 Miles</td><td>Y</td><td>Bachelors</td><td>110000.0</td></tr><tr><td>Mountain</td><td>Golden</td><td>5-10 Miles</td><td>Y</td><td>Bachelors</td><td>110000.0</td></tr><tr><td>Mountain</td><td>Golden</td><td>5-10 Miles</td><td>Y</td><td>Bachelors</td><td>110000.0</td></tr><tr><td>Mountain</td><td>Golden</td><td>5-10 Miles</td><td>Y</td><td>Graduate Degree</td><td>110000.0</td></tr><tr><td>Mountain</td><td>Golden</td><td>5-10 Miles</td><td>Y</td><td>Graduate Degree</td><td>110000.0</td></tr><tr><td>Mountain</td><td>Golden</td><td>5-10 Miles</td><td>Y</td><td>Graduate Degree</td><td>120000.0</td></tr><tr><td>Mountain</td><td>Golden</td><td>5-10 Miles</td><td>Y</td><td>Graduate Degree</td><td>120000.0</td></tr><tr><td>Mountain</td><td>Golden</td><td>5-10 Miles</td><td>Y</td><td>Graduate Degree</td><td>120000.0</td></tr><tr><td>Mountain</td><td>Golden</td><td>5-10 Miles</td><td>Y</td><td>Graduate Degree</td><td>150000.0</td></tr><tr><td>Mountain</td><td>Golden</td><td>5-10 Miles</td><td>Y</td><td>High School</td><td>70000.0</td></tr><tr><td>Mountain</td><td>Golden</td><td>5-10 Miles</td><td>Y</td><td>High School</td><td>70000.0</td></tr><tr><td>Mountain</td><td>Golden</td><td>5-10 Miles</td><td>Y</td><td>High School</td><td>70000.0</td></tr><tr><td>Mountain</td><td>Golden</td><td>5-10 Miles</td><td>Y</td><td>High School</td><td>70000.0</td></tr><tr><td>Mountain</td><td>Golden</td><td>5-10 Miles</td><td>Y</td><td>High School</td><td>70000.0</td></tr><tr><td>Mountain</td><td>Golden</td><td>5-10 Miles</td><td>Y</td><td>High School</td><td>70000.0</td></tr><tr><td>Mountain</td><td>Golden</td><td>5-10 Miles</td><td>Y</td><td>High School</td><td>70000.0</td></tr><tr><td>Mountain</td><td>Golden</td><td>5-10 Miles</td><td>Y</td><td>High School</td><td>70000.0</td></tr><tr><td>Mountain</td><td>Golden</td><td>5-10 Miles</td><td>Y</td><td>High School</td><td>80000.0</td></tr><tr><td>Mountain</td><td>Golden</td><td>5-10 Miles</td><td>Y</td><td>High School</td><td>80000.0</td></tr><tr><td>Mountain</td><td>Golden</td><td>5-10 Miles</td><td>Y</td><td>High School</td><td>90000.0</td></tr><tr><td>Mountain</td><td>Golden</td><td>5-10 Miles</td><td>Y</td><td>High School</td><td>90000.0</td></tr><tr><td>Mountain</td><td>Golden</td><td>5-10 Miles</td><td>Y</td><td>High School</td><td>90000.0</td></tr><tr><td>Mountain</td><td>Golden</td><td>5-10 Miles</td><td>Y</td><td>High School</td><td>90000.0</td></tr><tr><td>Mountain</td><td>Golden</td><td>5-10 Miles</td><td>Y</td><td>High School</td><td>90000.0</td></tr><tr><td>Mountain</td><td>Golden</td><td>5-10 Miles</td><td>Y</td><td>High School</td><td>90000.0</td></tr><tr><td>Mountain</td><td>Golden</td><td>5-10 Miles</td><td>Y</td><td>High School</td><td>90000.0</td></tr><tr><td>Mountain</td><td>Golden</td><td>5-10 Miles</td><td>Y</td><td>High School</td><td>90000.0</td></tr><tr><td>Mountain</td><td>Golden</td><td>5-10 Miles</td><td>Y</td><td>High School</td><td>90000.0</td></tr><tr><td>Mountain</td><td>Golden</td><td>5-10 Miles</td><td>Y</td><td>High School</td><td>90000.0</td></tr><tr><td>Mountain</td><td>Golden</td><td>5-10 Miles</td><td>Y</td><td>High School</td><td>90000.0</td></tr><tr><td>Mountain</td><td>Golden</td><td>5-10 Miles</td><td>Y</td><td>High School</td><td>90000.0</td></tr><tr><td>Mountain</td><td>Golden</td><td>5-10 Miles</td><td>Y</td><td>High School</td><td>90000.0</td></tr><tr><td>Mountain</td><td>Golden</td><td>5-10 Miles</td><td>Y</td><td>High School</td><td>100000.0</td></tr><tr><td>Mountain</td><td>Golden</td><td>5-10 Miles</td><td>Y</td><td>High School</td><td>120000.0</td></tr><tr><td>Mountain</td><td>Golden</td><td>5-10 Miles</td><td>Y</td><td>High School</td><td>120000.0</td></tr><tr><td>Mountain</td><td>Golden</td><td>5-10 Miles</td><td>Y</td><td>High School</td><td>120000.0</td></tr><tr><td>Mountain</td><td>Golden</td><td>5-10 Miles</td><td>Y</td><td>High School</td><td>120000.0</td></tr><tr><td>Mountain</td><td>Golden</td><td>5-10 Miles</td><td>Y</td><td>High School</td><td>120000.0</td></tr><tr><td>Mountain</td><td>Golden</td><td>5-10 Miles</td><td>Y</td><td>High School</td><td>120000.0</td></tr><tr><td>Mountain</td><td>Golden</td><td>5-10 Miles</td><td>Y</td><td>High School</td><td>120000.0</td></tr><tr><td>Mountain</td><td>Golden</td><td>5-10 Miles</td><td>Y</td><td>High School</td><td>120000.0</td></tr><tr><td>Mountain</td><td>Golden</td><td>5-10 Miles</td><td>Y</td><td>High School</td><td>170000.0</td></tr><tr><td>Mountain</td><td>Golden</td><td>5-10 Miles</td><td>Y</td><td>Partial College</td><td>70000.0</td></tr><tr><td>Mountain</td><td>Golden</td><td>5-10 Miles</td><td>Y</td><td>Partial College</td><td>70000.0</td></tr><tr><td>Mountain</td><td>Golden</td><td>5-10 Miles</td><td>Y</td><td>Partial College</td><td>70000.0</td></tr><tr><td>Mountain</td><td>Golden</td><td>5-10 Miles</td><td>Y</td><td>Partial College</td><td>70000.0</td></tr><tr><td>Mountain</td><td>Golden</td><td>5-10 Miles</td><td>Y</td><td>Partial College</td><td>70000.0</td></tr><tr><td>Mountain</td><td>Golden</td><td>5-10 Miles</td><td>Y</td><td>Partial College</td><td>70000.0</td></tr><tr><td>Mountain</td><td>Golden</td><td>5-10 Miles</td><td>Y</td><td>Partial College</td><td>70000.0</td></tr><tr><td>Mountain</td><td>Golden</td><td>5-10 Miles</td><td>Y</td><td>Partial College</td><td>70000.0</td></tr><tr><td>Mountain</td><td>Golden</td><td>5-10 Miles</td><td>Y</td><td>Partial College</td><td>70000.0</td></tr><tr><td>Mountain</td><td>Golden</td><td>5-10 Miles</td><td>Y</td><td>Partial College</td><td>80000.0</td></tr><tr><td>Mountain</td><td>Golden</td><td>5-10 Miles</td><td>Y</td><td>Partial College</td><td>80000.0</td></tr><tr><td>Mountain</td><td>Golden</td><td>5-10 Miles</td><td>Y</td><td>Partial College</td><td>80000.0</td></tr><tr><td>Mountain</td><td>Golden</td><td>5-10 Miles</td><td>Y</td><td>Partial College</td><td>90000.0</td></tr><tr><td>Mountain</td><td>Golden</td><td>5-10 Miles</td><td>Y</td><td>Partial College</td><td>90000.0</td></tr><tr><td>Mountain</td><td>Golden</td><td>5-10 Miles</td><td>Y</td><td>Partial College</td><td>90000.0</td></tr><tr><td>Mountain</td><td>Golden</td><td>5-10 Miles</td><td>Y</td><td>Partial College</td><td>90000.0</td></tr><tr><td>Mountain</td><td>Golden</td><td>5-10 Miles</td><td>Y</td><td>Partial College</td><td>100000.0</td></tr><tr><td>Mountain</td><td>Golden</td><td>5-10 Miles</td><td>Y</td><td>Partial College</td><td>100000.0</td></tr><tr><td>Mountain</td><td>Golden</td><td>5-10 Miles</td><td>Y</td><td>Partial College</td><td>100000.0</td></tr><tr><td>Mountain</td><td>Golden</td><td>5-10 Miles</td><td>Y</td><td>Partial College</td><td>100000.0</td></tr><tr><td>Mountain</td><td>Golden</td><td>5-10 Miles</td><td>Y</td><td>Partial College</td><td>100000.0</td></tr><tr><td>Mountain</td><td>Golden</td><td>5-10 Miles</td><td>Y</td><td>Partial College</td><td>100000.0</td></tr><tr><td>Mountain</td><td>Golden</td><td>5-10 Miles</td><td>Y</td><td>Partial College</td><td>100000.0</td></tr><tr><td>Mountain</td><td>Golden</td><td>5-10 Miles</td><td>Y</td><td>Partial College</td><td>100000.0</td></tr><tr><td>Mountain</td><td>Golden</td><td>5-10 Miles</td><td>Y</td><td>Partial College</td><td>100000.0</td></tr><tr><td>Mountain</td><td>Golden</td><td>5-10 Miles</td><td>Y</td><td>Partial College</td><td>100000.0</td></tr><tr><td>Mountain</td><td>Golden</td><td>5-10 Miles</td><td>Y</td><td>Partial College</td><td>100000.0</td></tr><tr><td>Mountain</td><td>Golden</td><td>5-10 Miles</td><td>Y</td><td>Partial College</td><td>100000.0</td></tr><tr><td>Mountain</td><td>Golden</td><td>5-10 Miles</td><td>Y</td><td>Partial College</td><td>100000.0</td></tr><tr><td>Mountain</td><td>Golden</td><td>5-10 Miles</td><td>Y</td><td>Partial College</td><td>110000.0</td></tr><tr><td>Mountain</td><td>Golden</td><td>5-10 Miles</td><td>Y</td><td>Partial College</td><td>110000.0</td></tr><tr><td>Mountain</td><td>Golden</td><td>5-10 Miles</td><td>Y</td><td>Partial College</td><td>110000.0</td></tr><tr><td>Mountain</td><td>Golden</td><td>5-10 Miles</td><td>Y</td><td>Partial College</td><td>110000.0</td></tr><tr><td>Mountain</td><td>Golden</td><td>5-10 Miles</td><td>Y</td><td>Partial College</td><td>110000.0</td></tr><tr><td>Mountain</td><td>Golden</td><td>5-10 Miles</td><td>Y</td><td>Partial College</td><td>110000.0</td></tr><tr><td>Mountain</td><td>Golden</td><td>5-10 Miles</td><td>Y</td><td>Partial College</td><td>110000.0</td></tr><tr><td>Mountain</td><td>Golden</td><td>5-10 Miles</td><td>Y</td><td>Partial College</td><td>110000.0</td></tr><tr><td>Mountain</td><td>Golden</td><td>5-10 Miles</td><td>Y</td><td>Partial College</td><td>120000.0</td></tr><tr><td>Mountain</td><td>Golden</td><td>5-10 Miles</td><td>Y</td><td>Partial College</td><td>120000.0</td></tr><tr><td>Mountain</td><td>Golden</td><td>5-10 Miles</td><td>Y</td><td>Partial College</td><td>120000.0</td></tr><tr><td>Mountain</td><td>Golden</td><td>5-10 Miles</td><td>Y</td><td>Partial College</td><td>130000.0</td></tr><tr><td>Mountain</td><td>Golden</td><td>5-10 Miles</td><td>Y</td><td>Partial College</td><td>130000.0</td></tr><tr><td>Mountain</td><td>Golden</td><td>5-10 Miles</td><td>Y</td><td>Partial College</td><td>130000.0</td></tr><tr><td>Mountain</td><td>Golden</td><td>5-10 Miles</td><td>Y</td><td>Partial College</td><td>130000.0</td></tr><tr><td>Mountain</td><td>Golden</td><td>5-10 Miles</td><td>Y</td><td>Partial College</td><td>130000.0</td></tr><tr><td>Mountain</td><td>Golden</td><td>5-10 Miles</td><td>Y</td><td>Partial College</td><td>130000.0</td></tr><tr><td>Mountain</td><td>Golden</td><td>5-10 Miles</td><td>Y</td><td>Partial College</td><td>130000.0</td></tr><tr><td>Mountain</td><td>Golden</td><td>5-10 Miles</td><td>Y</td><td>Partial College</td><td>130000.0</td></tr><tr><td>Mountain</td><td>Golden</td><td>5-10 Miles</td><td>Y</td><td>Partial College</td><td>130000.0</td></tr><tr><td>Mountain</td><td>Golden</td><td>5-10 Miles</td><td>Y</td><td>Partial College</td><td>130000.0</td></tr><tr><td>Mountain</td><td>Golden</td><td>5-10 Miles</td><td>Y</td><td>Partial College</td><td>130000.0</td></tr><tr><td>Mountain</td><td>Golden</td><td>5-10 Miles</td><td>Y</td><td>Partial College</td><td>130000.0</td></tr><tr><td>Mountain</td><td>Golden</td><td>5-10 Miles</td><td>Y</td><td>Partial College</td><td>130000.0</td></tr><tr><td>Mountain</td><td>Golden</td><td>5-10 Miles</td><td>Y</td><td>Partial College</td><td>130000.0</td></tr><tr><td>Mountain</td><td>Golden</td><td>5-10 Miles</td><td>Y</td><td>Partial College</td><td>130000.0</td></tr><tr><td>Mountain</td><td>Golden</td><td>5-10 Miles</td><td>Y</td><td>Partial College</td><td>130000.0</td></tr><tr><td>Mountain</td><td>Golden</td><td>5-10 Miles</td><td>Y</td><td>Partial College</td><td>130000.0</td></tr><tr><td>Mountain</td><td>Golden</td><td>5-10 Miles</td><td>Y</td><td>Partial College</td><td>130000.0</td></tr><tr><td>Mountain</td><td>Golden</td><td>5-10 Miles</td><td>Y</td><td>Partial College</td><td>150000.0</td></tr><tr><td>Mountain</td><td>Golden</td><td>5-10 Miles</td><td>Y</td><td>Partial College</td><td>160000.0</td></tr><tr><td>Mountain</td><td>Golden</td><td>5-10 Miles</td><td>Y</td><td>Partial College</td><td>160000.0</td></tr><tr><td>Mountain</td><td>Golden</td><td>5-10 Miles</td><td>Y</td><td>Partial High School</td><td>10000.0</td></tr><tr><td>Mountain</td><td>Golden</td><td>5-10 Miles</td><td>Y</td><td>Partial High School</td><td>70000.0</td></tr><tr><td>Mountain</td><td>Golden</td><td>5-10 Miles</td><td>Y</td><td>Partial High School</td><td>70000.0</td></tr><tr><td>Mountain</td><td>Golden</td><td>5-10 Miles</td><td>Y</td><td>Partial High School</td><td>90000.0</td></tr><tr><td>Mountain</td><td>Golden</td><td>5-10 Miles</td><td>Y</td><td>Partial High School</td><td>90000.0</td></tr><tr><td>Mountain</td><td>Golden</td><td>5-10 Miles</td><td>Y</td><td>Partial High School</td><td>120000.0</td></tr><tr><td>Mountain</td><td>Golden</td><td>5-10 Miles</td><td>Y</td><td>Partial High School</td><td>120000.0</td></tr><tr><td>Mountain</td><td>Late Middle</td><td>0-1 Miles</td><td>N</td><td>Bachelors</td><td>10000.0</td></tr><tr><td>Mountain</td><td>Late Middle</td><td>0-1 Miles</td><td>N</td><td>Bachelors</td><td>20000.0</td></tr><tr><td>Mountain</td><td>Late Middle</td><td>0-1 Miles</td><td>N</td><td>Bachelors</td><td>30000.0</td></tr><tr><td>Mountain</td><td>Late Middle</td><td>0-1 Miles</td><td>N</td><td>Bachelors</td><td>30000.0</td></tr><tr><td>Mountain</td><td>Late Middle</td><td>0-1 Miles</td><td>N</td><td>Bachelors</td><td>30000.0</td></tr><tr><td>Mountain</td><td>Late Middle</td><td>0-1 Miles</td><td>N</td><td>Bachelors</td><td>30000.0</td></tr><tr><td>Mountain</td><td>Late Middle</td><td>0-1 Miles</td><td>N</td><td>Bachelors</td><td>30000.0</td></tr><tr><td>Mountain</td><td>Late Middle</td><td>0-1 Miles</td><td>N</td><td>Bachelors</td><td>30000.0</td></tr><tr><td>Mountain</td><td>Late Middle</td><td>0-1 Miles</td><td>N</td><td>Bachelors</td><td>30000.0</td></tr><tr><td>Mountain</td><td>Late Middle</td><td>0-1 Miles</td><td>N</td><td>Bachelors</td><td>30000.0</td></tr><tr><td>Mountain</td><td>Late Middle</td><td>0-1 Miles</td><td>N</td><td>Bachelors</td><td>30000.0</td></tr><tr><td>Mountain</td><td>Late Middle</td><td>0-1 Miles</td><td>N</td><td>Bachelors</td><td>30000.0</td></tr><tr><td>Mountain</td><td>Late Middle</td><td>0-1 Miles</td><td>N</td><td>Bachelors</td><td>30000.0</td></tr><tr><td>Mountain</td><td>Late Middle</td><td>0-1 Miles</td><td>N</td><td>Bachelors</td><td>30000.0</td></tr><tr><td>Mountain</td><td>Late Middle</td><td>0-1 Miles</td><td>N</td><td>Bachelors</td><td>30000.0</td></tr><tr><td>Mountain</td><td>Late Middle</td><td>0-1 Miles</td><td>N</td><td>Bachelors</td><td>30000.0</td></tr><tr><td>Mountain</td><td>Late Middle</td><td>0-1 Miles</td><td>N</td><td>Bachelors</td><td>30000.0</td></tr><tr><td>Mountain</td><td>Late Middle</td><td>0-1 Miles</td><td>N</td><td>Bachelors</td><td>30000.0</td></tr><tr><td>Mountain</td><td>Late Middle</td><td>0-1 Miles</td><td>N</td><td>Bachelors</td><td>40000.0</td></tr><tr><td>Mountain</td><td>Late Middle</td><td>0-1 Miles</td><td>N</td><td>Bachelors</td><td>40000.0</td></tr><tr><td>Mountain</td><td>Late Middle</td><td>0-1 Miles</td><td>N</td><td>Bachelors</td><td>40000.0</td></tr><tr><td>Mountain</td><td>Late Middle</td><td>0-1 Miles</td><td>N</td><td>Bachelors</td><td>40000.0</td></tr><tr><td>Mountain</td><td>Late Middle</td><td>0-1 Miles</td><td>N</td><td>Bachelors</td><td>40000.0</td></tr><tr><td>Mountain</td><td>Late Middle</td><td>0-1 Miles</td><td>N</td><td>Bachelors</td><td>40000.0</td></tr><tr><td>Mountain</td><td>Late Middle</td><td>0-1 Miles</td><td>N</td><td>Bachelors</td><td>40000.0</td></tr><tr><td>Mountain</td><td>Late Middle</td><td>0-1 Miles</td><td>N</td><td>Bachelors</td><td>40000.0</td></tr><tr><td>Mountain</td><td>Late Middle</td><td>0-1 Miles</td><td>N</td><td>Bachelors</td><td>40000.0</td></tr><tr><td>Mountain</td><td>Late Middle</td><td>0-1 Miles</td><td>N</td><td>Bachelors</td><td>40000.0</td></tr><tr><td>Mountain</td><td>Late Middle</td><td>0-1 Miles</td><td>N</td><td>Bachelors</td><td>40000.0</td></tr><tr><td>Mountain</td><td>Late Middle</td><td>0-1 Miles</td><td>N</td><td>Bachelors</td><td>40000.0</td></tr><tr><td>Mountain</td><td>Late Middle</td><td>0-1 Miles</td><td>N</td><td>Bachelors</td><td>40000.0</td></tr><tr><td>Mountain</td><td>Late Middle</td><td>0-1 Miles</td><td>N</td><td>Bachelors</td><td>40000.0</td></tr><tr><td>Mountain</td><td>Late Middle</td><td>0-1 Miles</td><td>N</td><td>Bachelors</td><td>40000.0</td></tr><tr><td>Mountain</td><td>Late Middle</td><td>0-1 Miles</td><td>N</td><td>Bachelors</td><td>40000.0</td></tr><tr><td>Mountain</td><td>Late Middle</td><td>0-1 Miles</td><td>N</td><td>Bachelors</td><td>40000.0</td></tr><tr><td>Mountain</td><td>Late Middle</td><td>0-1 Miles</td><td>N</td><td>Bachelors</td><td>40000.0</td></tr><tr><td>Mountain</td><td>Late Middle</td><td>0-1 Miles</td><td>N</td><td>Bachelors</td><td>40000.0</td></tr><tr><td>Mountain</td><td>Late Middle</td><td>0-1 Miles</td><td>N</td><td>Bachelors</td><td>40000.0</td></tr><tr><td>Mountain</td><td>Late Middle</td><td>0-1 Miles</td><td>N</td><td>Bachelors</td><td>40000.0</td></tr><tr><td>Mountain</td><td>Late Middle</td><td>0-1 Miles</td><td>N</td><td>Bachelors</td><td>40000.0</td></tr><tr><td>Mountain</td><td>Late Middle</td><td>0-1 Miles</td><td>N</td><td>Bachelors</td><td>40000.0</td></tr><tr><td>Mountain</td><td>Late Middle</td><td>0-1 Miles</td><td>N</td><td>Bachelors</td><td>40000.0</td></tr><tr><td>Mountain</td><td>Late Middle</td><td>0-1 Miles</td><td>N</td><td>Bachelors</td><td>40000.0</td></tr><tr><td>Mountain</td><td>Late Middle</td><td>0-1 Miles</td><td>N</td><td>Bachelors</td><td>40000.0</td></tr><tr><td>Mountain</td><td>Late Middle</td><td>0-1 Miles</td><td>N</td><td>Bachelors</td><td>40000.0</td></tr><tr><td>Mountain</td><td>Late Middle</td><td>0-1 Miles</td><td>N</td><td>Bachelors</td><td>40000.0</td></tr><tr><td>Mountain</td><td>Late Middle</td><td>0-1 Miles</td><td>N</td><td>Bachelors</td><td>40000.0</td></tr><tr><td>Mountain</td><td>Late Middle</td><td>0-1 Miles</td><td>N</td><td>Bachelors</td><td>40000.0</td></tr><tr><td>Mountain</td><td>Late Middle</td><td>0-1 Miles</td><td>N</td><td>Bachelors</td><td>40000.0</td></tr><tr><td>Mountain</td><td>Late Middle</td><td>0-1 Miles</td><td>N</td><td>Bachelors</td><td>40000.0</td></tr><tr><td>Mountain</td><td>Late Middle</td><td>0-1 Miles</td><td>N</td><td>Bachelors</td><td>40000.0</td></tr><tr><td>Mountain</td><td>Late Middle</td><td>0-1 Miles</td><td>N</td><td>Bachelors</td><td>40000.0</td></tr><tr><td>Mountain</td><td>Late Middle</td><td>0-1 Miles</td><td>N</td><td>Bachelors</td><td>40000.0</td></tr><tr><td>Mountain</td><td>Late Middle</td><td>0-1 Miles</td><td>N</td><td>Bachelors</td><td>60000.0</td></tr><tr><td>Mountain</td><td>Late Middle</td><td>0-1 Miles</td><td>N</td><td>Bachelors</td><td>70000.0</td></tr><tr><td>Mountain</td><td>Late Middle</td><td>0-1 Miles</td><td>N</td><td>Bachelors</td><td>70000.0</td></tr><tr><td>Mountain</td><td>Late Middle</td><td>0-1 Miles</td><td>N</td><td>Bachelors</td><td>70000.0</td></tr><tr><td>Mountain</td><td>Late Middle</td><td>0-1 Miles</td><td>N</td><td>Bachelors</td><td>70000.0</td></tr><tr><td>Mountain</td><td>Late Middle</td><td>0-1 Miles</td><td>N</td><td>Bachelors</td><td>70000.0</td></tr><tr><td>Mountain</td><td>Late Middle</td><td>0-1 Miles</td><td>N</td><td>Bachelors</td><td>70000.0</td></tr><tr><td>Mountain</td><td>Late Middle</td><td>0-1 Miles</td><td>N</td><td>Bachelors</td><td>70000.0</td></tr><tr><td>Mountain</td><td>Late Middle</td><td>0-1 Miles</td><td>N</td><td>Bachelors</td><td>70000.0</td></tr><tr><td>Mountain</td><td>Late Middle</td><td>0-1 Miles</td><td>N</td><td>Bachelors</td><td>70000.0</td></tr><tr><td>Mountain</td><td>Late Middle</td><td>0-1 Miles</td><td>N</td><td>Bachelors</td><td>70000.0</td></tr><tr><td>Mountain</td><td>Late Middle</td><td>0-1 Miles</td><td>N</td><td>Bachelors</td><td>70000.0</td></tr><tr><td>Mountain</td><td>Late Middle</td><td>0-1 Miles</td><td>N</td><td>Bachelors</td><td>70000.0</td></tr><tr><td>Mountain</td><td>Late Middle</td><td>0-1 Miles</td><td>N</td><td>Bachelors</td><td>70000.0</td></tr><tr><td>Mountain</td><td>Late Middle</td><td>0-1 Miles</td><td>N</td><td>Bachelors</td><td>70000.0</td></tr><tr><td>Mountain</td><td>Late Middle</td><td>0-1 Miles</td><td>N</td><td>Bachelors</td><td>70000.0</td></tr><tr><td>Mountain</td><td>Late Middle</td><td>0-1 Miles</td><td>N</td><td>Bachelors</td><td>70000.0</td></tr><tr><td>Mountain</td><td>Late Middle</td><td>0-1 Miles</td><td>N</td><td>Bachelors</td><td>70000.0</td></tr><tr><td>Mountain</td><td>Late Middle</td><td>0-1 Miles</td><td>N</td><td>Bachelors</td><td>80000.0</td></tr><tr><td>Mountain</td><td>Late Middle</td><td>0-1 Miles</td><td>N</td><td>Bachelors</td><td>80000.0</td></tr><tr><td>Mountain</td><td>Late Middle</td><td>0-1 Miles</td><td>N</td><td>Bachelors</td><td>80000.0</td></tr><tr><td>Mountain</td><td>Late Middle</td><td>0-1 Miles</td><td>N</td><td>Bachelors</td><td>80000.0</td></tr><tr><td>Mountain</td><td>Late Middle</td><td>0-1 Miles</td><td>N</td><td>Bachelors</td><td>80000.0</td></tr><tr><td>Mountain</td><td>Late Middle</td><td>0-1 Miles</td><td>N</td><td>Bachelors</td><td>80000.0</td></tr><tr><td>Mountain</td><td>Late Middle</td><td>0-1 Miles</td><td>N</td><td>Bachelors</td><td>80000.0</td></tr><tr><td>Mountain</td><td>Late Middle</td><td>0-1 Miles</td><td>N</td><td>Bachelors</td><td>80000.0</td></tr><tr><td>Mountain</td><td>Late Middle</td><td>0-1 Miles</td><td>N</td><td>Bachelors</td><td>80000.0</td></tr><tr><td>Mountain</td><td>Late Middle</td><td>0-1 Miles</td><td>N</td><td>Bachelors</td><td>80000.0</td></tr><tr><td>Mountain</td><td>Late Middle</td><td>0-1 Miles</td><td>N</td><td>Bachelors</td><td>90000.0</td></tr><tr><td>Mountain</td><td>Late Middle</td><td>0-1 Miles</td><td>N</td><td>Bachelors</td><td>90000.0</td></tr><tr><td>Mountain</td><td>Late Middle</td><td>0-1 Miles</td><td>N</td><td>Bachelors</td><td>90000.0</td></tr><tr><td>Mountain</td><td>Late Middle</td><td>0-1 Miles</td><td>N</td><td>Bachelors</td><td>90000.0</td></tr><tr><td>Mountain</td><td>Late Middle</td><td>0-1 Miles</td><td>N</td><td>Bachelors</td><td>100000.0</td></tr><tr><td>Mountain</td><td>Late Middle</td><td>0-1 Miles</td><td>N</td><td>Bachelors</td><td>100000.0</td></tr><tr><td>Mountain</td><td>Late Middle</td><td>0-1 Miles</td><td>N</td><td>Bachelors</td><td>100000.0</td></tr><tr><td>Mountain</td><td>Late Middle</td><td>0-1 Miles</td><td>N</td><td>Bachelors</td><td>120000.0</td></tr><tr><td>Mountain</td><td>Late Middle</td><td>0-1 Miles</td><td>N</td><td>Bachelors</td><td>150000.0</td></tr><tr><td>Mountain</td><td>Late Middle</td><td>0-1 Miles</td><td>N</td><td>Graduate Degree</td><td>10000.0</td></tr><tr><td>Mountain</td><td>Late Middle</td><td>0-1 Miles</td><td>N</td><td>Graduate Degree</td><td>20000.0</td></tr><tr><td>Mountain</td><td>Late Middle</td><td>0-1 Miles</td><td>N</td><td>Graduate Degree</td><td>30000.0</td></tr><tr><td>Mountain</td><td>Late Middle</td><td>0-1 Miles</td><td>N</td><td>Graduate Degree</td><td>40000.0</td></tr><tr><td>Mountain</td><td>Late Middle</td><td>0-1 Miles</td><td>N</td><td>Graduate Degree</td><td>40000.0</td></tr><tr><td>Mountain</td><td>Late Middle</td><td>0-1 Miles</td><td>N</td><td>Graduate Degree</td><td>40000.0</td></tr><tr><td>Mountain</td><td>Late Middle</td><td>0-1 Miles</td><td>N</td><td>Graduate Degree</td><td>40000.0</td></tr><tr><td>Mountain</td><td>Late Middle</td><td>0-1 Miles</td><td>N</td><td>Graduate Degree</td><td>40000.0</td></tr><tr><td>Mountain</td><td>Late Middle</td><td>0-1 Miles</td><td>N</td><td>Graduate Degree</td><td>40000.0</td></tr><tr><td>Mountain</td><td>Late Middle</td><td>0-1 Miles</td><td>N</td><td>Graduate Degree</td><td>40000.0</td></tr><tr><td>Mountain</td><td>Late Middle</td><td>0-1 Miles</td><td>N</td><td>Graduate Degree</td><td>40000.0</td></tr><tr><td>Mountain</td><td>Late Middle</td><td>0-1 Miles</td><td>N</td><td>Graduate Degree</td><td>40000.0</td></tr><tr><td>Mountain</td><td>Late Middle</td><td>0-1 Miles</td><td>N</td><td>Graduate Degree</td><td>40000.0</td></tr><tr><td>Mountain</td><td>Late Middle</td><td>0-1 Miles</td><td>N</td><td>Graduate Degree</td><td>40000.0</td></tr><tr><td>Mountain</td><td>Late Middle</td><td>0-1 Miles</td><td>N</td><td>Graduate Degree</td><td>40000.0</td></tr><tr><td>Mountain</td><td>Late Middle</td><td>0-1 Miles</td><td>N</td><td>Graduate Degree</td><td>40000.0</td></tr><tr><td>Mountain</td><td>Late Middle</td><td>0-1 Miles</td><td>N</td><td>Graduate Degree</td><td>40000.0</td></tr><tr><td>Mountain</td><td>Late Middle</td><td>0-1 Miles</td><td>N</td><td>Graduate Degree</td><td>40000.0</td></tr><tr><td>Mountain</td><td>Late Middle</td><td>0-1 Miles</td><td>N</td><td>Graduate Degree</td><td>40000.0</td></tr><tr><td>Mountain</td><td>Late Middle</td><td>0-1 Miles</td><td>N</td><td>Graduate Degree</td><td>40000.0</td></tr><tr><td>Mountain</td><td>Late Middle</td><td>0-1 Miles</td><td>N</td><td>Graduate Degree</td><td>40000.0</td></tr><tr><td>Mountain</td><td>Late Middle</td><td>0-1 Miles</td><td>N</td><td>Graduate Degree</td><td>40000.0</td></tr><tr><td>Mountain</td><td>Late Middle</td><td>0-1 Miles</td><td>N</td><td>Graduate Degree</td><td>40000.0</td></tr><tr><td>Mountain</td><td>Late Middle</td><td>0-1 Miles</td><td>N</td><td>Graduate Degree</td><td>40000.0</td></tr><tr><td>Mountain</td><td>Late Middle</td><td>0-1 Miles</td><td>N</td><td>Graduate Degree</td><td>40000.0</td></tr><tr><td>Mountain</td><td>Late Middle</td><td>0-1 Miles</td><td>N</td><td>Graduate Degree</td><td>40000.0</td></tr><tr><td>Mountain</td><td>Late Middle</td><td>0-1 Miles</td><td>N</td><td>Graduate Degree</td><td>40000.0</td></tr><tr><td>Mountain</td><td>Late Middle</td><td>0-1 Miles</td><td>N</td><td>Graduate Degree</td><td>40000.0</td></tr><tr><td>Mountain</td><td>Late Middle</td><td>0-1 Miles</td><td>N</td><td>Graduate Degree</td><td>40000.0</td></tr><tr><td>Mountain</td><td>Late Middle</td><td>0-1 Miles</td><td>N</td><td>Graduate Degree</td><td>40000.0</td></tr><tr><td>Mountain</td><td>Late Middle</td><td>0-1 Miles</td><td>N</td><td>Graduate Degree</td><td>40000.0</td></tr><tr><td>Mountain</td><td>Late Middle</td><td>0-1 Miles</td><td>N</td><td>Graduate Degree</td><td>40000.0</td></tr><tr><td>Mountain</td><td>Late Middle</td><td>0-1 Miles</td><td>N</td><td>Graduate Degree</td><td>40000.0</td></tr><tr><td>Mountain</td><td>Late Middle</td><td>0-1 Miles</td><td>N</td><td>Graduate Degree</td><td>50000.0</td></tr><tr><td>Mountain</td><td>Late Middle</td><td>0-1 Miles</td><td>N</td><td>Graduate Degree</td><td>50000.0</td></tr><tr><td>Mountain</td><td>Late Middle</td><td>0-1 Miles</td><td>N</td><td>Graduate Degree</td><td>50000.0</td></tr><tr><td>Mountain</td><td>Late Middle</td><td>0-1 Miles</td><td>N</td><td>Graduate Degree</td><td>50000.0</td></tr><tr><td>Mountain</td><td>Late Middle</td><td>0-1 Miles</td><td>N</td><td>Graduate Degree</td><td>50000.0</td></tr><tr><td>Mountain</td><td>Late Middle</td><td>0-1 Miles</td><td>N</td><td>Graduate Degree</td><td>50000.0</td></tr><tr><td>Mountain</td><td>Late Middle</td><td>0-1 Miles</td><td>N</td><td>Graduate Degree</td><td>50000.0</td></tr><tr><td>Mountain</td><td>Late Middle</td><td>0-1 Miles</td><td>N</td><td>Graduate Degree</td><td>60000.0</td></tr><tr><td>Mountain</td><td>Late Middle</td><td>0-1 Miles</td><td>N</td><td>Graduate Degree</td><td>60000.0</td></tr><tr><td>Mountain</td><td>Late Middle</td><td>0-1 Miles</td><td>N</td><td>Graduate Degree</td><td>60000.0</td></tr><tr><td>Mountain</td><td>Late Middle</td><td>0-1 Miles</td><td>N</td><td>Graduate Degree</td><td>60000.0</td></tr><tr><td>Mountain</td><td>Late Middle</td><td>0-1 Miles</td><td>N</td><td>Graduate Degree</td><td>60000.0</td></tr><tr><td>Mountain</td><td>Late Middle</td><td>0-1 Miles</td><td>N</td><td>Graduate Degree</td><td>60000.0</td></tr><tr><td>Mountain</td><td>Late Middle</td><td>0-1 Miles</td><td>N</td><td>Graduate Degree</td><td>60000.0</td></tr><tr><td>Mountain</td><td>Late Middle</td><td>0-1 Miles</td><td>N</td><td>Graduate Degree</td><td>70000.0</td></tr><tr><td>Mountain</td><td>Late Middle</td><td>0-1 Miles</td><td>N</td><td>Graduate Degree</td><td>70000.0</td></tr><tr><td>Mountain</td><td>Late Middle</td><td>0-1 Miles</td><td>N</td><td>Graduate Degree</td><td>70000.0</td></tr><tr><td>Mountain</td><td>Late Middle</td><td>0-1 Miles</td><td>N</td><td>Graduate Degree</td><td>70000.0</td></tr><tr><td>Mountain</td><td>Late Middle</td><td>0-1 Miles</td><td>N</td><td>Graduate Degree</td><td>70000.0</td></tr><tr><td>Mountain</td><td>Late Middle</td><td>0-1 Miles</td><td>N</td><td>Graduate Degree</td><td>70000.0</td></tr><tr><td>Mountain</td><td>Late Middle</td><td>0-1 Miles</td><td>N</td><td>Graduate Degree</td><td>70000.0</td></tr><tr><td>Mountain</td><td>Late Middle</td><td>0-1 Miles</td><td>N</td><td>Graduate Degree</td><td>70000.0</td></tr><tr><td>Mountain</td><td>Late Middle</td><td>0-1 Miles</td><td>N</td><td>Graduate Degree</td><td>70000.0</td></tr><tr><td>Mountain</td><td>Late Middle</td><td>0-1 Miles</td><td>N</td><td>Graduate Degree</td><td>70000.0</td></tr><tr><td>Mountain</td><td>Late Middle</td><td>0-1 Miles</td><td>N</td><td>Graduate Degree</td><td>70000.0</td></tr><tr><td>Mountain</td><td>Late Middle</td><td>0-1 Miles</td><td>N</td><td>Graduate Degree</td><td>70000.0</td></tr><tr><td>Mountain</td><td>Late Middle</td><td>0-1 Miles</td><td>N</td><td>Graduate Degree</td><td>70000.0</td></tr><tr><td>Mountain</td><td>Late Middle</td><td>0-1 Miles</td><td>N</td><td>Graduate Degree</td><td>70000.0</td></tr><tr><td>Mountain</td><td>Late Middle</td><td>0-1 Miles</td><td>N</td><td>Graduate Degree</td><td>80000.0</td></tr><tr><td>Mountain</td><td>Late Middle</td><td>0-1 Miles</td><td>N</td><td>Graduate Degree</td><td>80000.0</td></tr><tr><td>Mountain</td><td>Late Middle</td><td>0-1 Miles</td><td>N</td><td>Graduate Degree</td><td>80000.0</td></tr><tr><td>Mountain</td><td>Late Middle</td><td>0-1 Miles</td><td>N</td><td>Graduate Degree</td><td>80000.0</td></tr><tr><td>Mountain</td><td>Late Middle</td><td>0-1 Miles</td><td>N</td><td>Graduate Degree</td><td>80000.0</td></tr><tr><td>Mountain</td><td>Late Middle</td><td>0-1 Miles</td><td>N</td><td>Graduate Degree</td><td>80000.0</td></tr><tr><td>Mountain</td><td>Late Middle</td><td>0-1 Miles</td><td>N</td><td>Graduate Degree</td><td>80000.0</td></tr><tr><td>Mountain</td><td>Late Middle</td><td>0-1 Miles</td><td>N</td><td>Graduate Degree</td><td>80000.0</td></tr><tr><td>Mountain</td><td>Late Middle</td><td>0-1 Miles</td><td>N</td><td>Graduate Degree</td><td>80000.0</td></tr><tr><td>Mountain</td><td>Late Middle</td><td>0-1 Miles</td><td>N</td><td>Graduate Degree</td><td>80000.0</td></tr><tr><td>Mountain</td><td>Late Middle</td><td>0-1 Miles</td><td>N</td><td>Graduate Degree</td><td>90000.0</td></tr><tr><td>Mountain</td><td>Late Middle</td><td>0-1 Miles</td><td>N</td><td>Graduate Degree</td><td>90000.0</td></tr><tr><td>Mountain</td><td>Late Middle</td><td>0-1 Miles</td><td>N</td><td>Graduate Degree</td><td>90000.0</td></tr><tr><td>Mountain</td><td>Late Middle</td><td>0-1 Miles</td><td>N</td><td>Graduate Degree</td><td>100000.0</td></tr><tr><td>Mountain</td><td>Late Middle</td><td>0-1 Miles</td><td>N</td><td>Graduate Degree</td><td>100000.0</td></tr><tr><td>Mountain</td><td>Late Middle</td><td>0-1 Miles</td><td>N</td><td>Graduate Degree</td><td>100000.0</td></tr><tr><td>Mountain</td><td>Late Middle</td><td>0-1 Miles</td><td>N</td><td>Graduate Degree</td><td>110000.0</td></tr><tr><td>Mountain</td><td>Late Middle</td><td>0-1 Miles</td><td>N</td><td>Graduate Degree</td><td>110000.0</td></tr><tr><td>Mountain</td><td>Late Middle</td><td>0-1 Miles</td><td>N</td><td>Graduate Degree</td><td>110000.0</td></tr><tr><td>Mountain</td><td>Late Middle</td><td>0-1 Miles</td><td>N</td><td>Graduate Degree</td><td>110000.0</td></tr><tr><td>Mountain</td><td>Late Middle</td><td>0-1 Miles</td><td>N</td><td>Graduate Degree</td><td>110000.0</td></tr><tr><td>Mountain</td><td>Late Middle</td><td>0-1 Miles</td><td>N</td><td>Graduate Degree</td><td>120000.0</td></tr><tr><td>Mountain</td><td>Late Middle</td><td>0-1 Miles</td><td>N</td><td>Graduate Degree</td><td>120000.0</td></tr><tr><td>Mountain</td><td>Late Middle</td><td>0-1 Miles</td><td>N</td><td>Graduate Degree</td><td>130000.0</td></tr><tr><td>Mountain</td><td>Late Middle</td><td>0-1 Miles</td><td>N</td><td>Graduate Degree</td><td>130000.0</td></tr><tr><td>Mountain</td><td>Late Middle</td><td>0-1 Miles</td><td>N</td><td>Graduate Degree</td><td>130000.0</td></tr><tr><td>Mountain</td><td>Late Middle</td><td>0-1 Miles</td><td>N</td><td>Graduate Degree</td><td>150000.0</td></tr><tr><td>Mountain</td><td>Late Middle</td><td>0-1 Miles</td><td>N</td><td>Graduate Degree</td><td>160000.0</td></tr><tr><td>Mountain</td><td>Late Middle</td><td>0-1 Miles</td><td>N</td><td>Graduate Degree</td><td>160000.0</td></tr><tr><td>Mountain</td><td>Late Middle</td><td>0-1 Miles</td><td>N</td><td>Graduate Degree</td><td>160000.0</td></tr><tr><td>Mountain</td><td>Late Middle</td><td>0-1 Miles</td><td>N</td><td>Partial College</td><td>20000.0</td></tr><tr><td>Mountain</td><td>Late Middle</td><td>0-1 Miles</td><td>N</td><td>Partial College</td><td>40000.0</td></tr><tr><td>Mountain</td><td>Late Middle</td><td>0-1 Miles</td><td>N</td><td>Partial College</td><td>40000.0</td></tr><tr><td>Mountain</td><td>Late Middle</td><td>0-1 Miles</td><td>N</td><td>Partial College</td><td>40000.0</td></tr><tr><td>Mountain</td><td>Late Middle</td><td>0-1 Miles</td><td>N</td><td>Partial College</td><td>60000.0</td></tr><tr><td>Mountain</td><td>Late Middle</td><td>0-1 Miles</td><td>N</td><td>Partial College</td><td>60000.0</td></tr><tr><td>Mountain</td><td>Late Middle</td><td>0-1 Miles</td><td>N</td><td>Partial College</td><td>60000.0</td></tr><tr><td>Mountain</td><td>Late Middle</td><td>0-1 Miles</td><td>N</td><td>Partial College</td><td>70000.0</td></tr><tr><td>Mountain</td><td>Late Middle</td><td>0-1 Miles</td><td>N</td><td>Partial College</td><td>70000.0</td></tr><tr><td>Mountain</td><td>Late Middle</td><td>0-1 Miles</td><td>N</td><td>Partial College</td><td>70000.0</td></tr><tr><td>Mountain</td><td>Late Middle</td><td>0-1 Miles</td><td>N</td><td>Partial College</td><td>80000.0</td></tr><tr><td>Mountain</td><td>Late Middle</td><td>0-1 Miles</td><td>N</td><td>Partial College</td><td>80000.0</td></tr><tr><td>Mountain</td><td>Late Middle</td><td>0-1 Miles</td><td>N</td><td>Partial College</td><td>80000.0</td></tr><tr><td>Mountain</td><td>Late Middle</td><td>0-1 Miles</td><td>Y</td><td>Bachelors</td><td>30000.0</td></tr><tr><td>Mountain</td><td>Late Middle</td><td>0-1 Miles</td><td>Y</td><td>Bachelors</td><td>30000.0</td></tr><tr><td>Mountain</td><td>Late Middle</td><td>0-1 Miles</td><td>Y</td><td>Bachelors</td><td>30000.0</td></tr><tr><td>Mountain</td><td>Late Middle</td><td>0-1 Miles</td><td>Y</td><td>Bachelors</td><td>30000.0</td></tr><tr><td>Mountain</td><td>Late Middle</td><td>0-1 Miles</td><td>Y</td><td>Bachelors</td><td>30000.0</td></tr><tr><td>Mountain</td><td>Late Middle</td><td>0-1 Miles</td><td>Y</td><td>Bachelors</td><td>30000.0</td></tr><tr><td>Mountain</td><td>Late Middle</td><td>0-1 Miles</td><td>Y</td><td>Bachelors</td><td>30000.0</td></tr><tr><td>Mountain</td><td>Late Middle</td><td>0-1 Miles</td><td>Y</td><td>Bachelors</td><td>30000.0</td></tr><tr><td>Mountain</td><td>Late Middle</td><td>0-1 Miles</td><td>Y</td><td>Bachelors</td><td>30000.0</td></tr><tr><td>Mountain</td><td>Late Middle</td><td>0-1 Miles</td><td>Y</td><td>Bachelors</td><td>30000.0</td></tr><tr><td>Mountain</td><td>Late Middle</td><td>0-1 Miles</td><td>Y</td><td>Bachelors</td><td>40000.0</td></tr><tr><td>Mountain</td><td>Late Middle</td><td>0-1 Miles</td><td>Y</td><td>Bachelors</td><td>40000.0</td></tr><tr><td>Mountain</td><td>Late Middle</td><td>0-1 Miles</td><td>Y</td><td>Bachelors</td><td>40000.0</td></tr><tr><td>Mountain</td><td>Late Middle</td><td>0-1 Miles</td><td>Y</td><td>Bachelors</td><td>40000.0</td></tr><tr><td>Mountain</td><td>Late Middle</td><td>0-1 Miles</td><td>Y</td><td>Bachelors</td><td>40000.0</td></tr><tr><td>Mountain</td><td>Late Middle</td><td>0-1 Miles</td><td>Y</td><td>Bachelors</td><td>40000.0</td></tr><tr><td>Mountain</td><td>Late Middle</td><td>0-1 Miles</td><td>Y</td><td>Bachelors</td><td>40000.0</td></tr><tr><td>Mountain</td><td>Late Middle</td><td>0-1 Miles</td><td>Y</td><td>Bachelors</td><td>40000.0</td></tr><tr><td>Mountain</td><td>Late Middle</td><td>0-1 Miles</td><td>Y</td><td>Bachelors</td><td>40000.0</td></tr><tr><td>Mountain</td><td>Late Middle</td><td>0-1 Miles</td><td>Y</td><td>Bachelors</td><td>40000.0</td></tr><tr><td>Mountain</td><td>Late Middle</td><td>0-1 Miles</td><td>Y</td><td>Bachelors</td><td>40000.0</td></tr><tr><td>Mountain</td><td>Late Middle</td><td>0-1 Miles</td><td>Y</td><td>Bachelors</td><td>50000.0</td></tr><tr><td>Mountain</td><td>Late Middle</td><td>0-1 Miles</td><td>Y</td><td>Bachelors</td><td>60000.0</td></tr><tr><td>Mountain</td><td>Late Middle</td><td>0-1 Miles</td><td>Y</td><td>Bachelors</td><td>60000.0</td></tr><tr><td>Mountain</td><td>Late Middle</td><td>0-1 Miles</td><td>Y</td><td>Bachelors</td><td>60000.0</td></tr><tr><td>Mountain</td><td>Late Middle</td><td>0-1 Miles</td><td>Y</td><td>Bachelors</td><td>60000.0</td></tr><tr><td>Mountain</td><td>Late Middle</td><td>0-1 Miles</td><td>Y</td><td>Bachelors</td><td>60000.0</td></tr><tr><td>Mountain</td><td>Late Middle</td><td>0-1 Miles</td><td>Y</td><td>Bachelors</td><td>60000.0</td></tr><tr><td>Mountain</td><td>Late Middle</td><td>0-1 Miles</td><td>Y</td><td>Bachelors</td><td>60000.0</td></tr><tr><td>Mountain</td><td>Late Middle</td><td>0-1 Miles</td><td>Y</td><td>Bachelors</td><td>60000.0</td></tr><tr><td>Mountain</td><td>Late Middle</td><td>0-1 Miles</td><td>Y</td><td>Bachelors</td><td>60000.0</td></tr><tr><td>Mountain</td><td>Late Middle</td><td>0-1 Miles</td><td>Y</td><td>Bachelors</td><td>70000.0</td></tr><tr><td>Mountain</td><td>Late Middle</td><td>0-1 Miles</td><td>Y</td><td>Bachelors</td><td>80000.0</td></tr><tr><td>Mountain</td><td>Late Middle</td><td>0-1 Miles</td><td>Y</td><td>Bachelors</td><td>80000.0</td></tr><tr><td>Mountain</td><td>Late Middle</td><td>0-1 Miles</td><td>Y</td><td>Bachelors</td><td>80000.0</td></tr><tr><td>Mountain</td><td>Late Middle</td><td>0-1 Miles</td><td>Y</td><td>Bachelors</td><td>80000.0</td></tr><tr><td>Mountain</td><td>Late Middle</td><td>0-1 Miles</td><td>Y</td><td>Bachelors</td><td>120000.0</td></tr><tr><td>Mountain</td><td>Late Middle</td><td>0-1 Miles</td><td>Y</td><td>Bachelors</td><td>120000.0</td></tr><tr><td>Mountain</td><td>Late Middle</td><td>0-1 Miles</td><td>Y</td><td>Bachelors</td><td>130000.0</td></tr><tr><td>Mountain</td><td>Late Middle</td><td>0-1 Miles</td><td>Y</td><td>Bachelors</td><td>130000.0</td></tr><tr><td>Mountain</td><td>Late Middle</td><td>0-1 Miles</td><td>Y</td><td>Bachelors</td><td>130000.0</td></tr><tr><td>Mountain</td><td>Late Middle</td><td>0-1 Miles</td><td>Y</td><td>Bachelors</td><td>130000.0</td></tr><tr><td>Mountain</td><td>Late Middle</td><td>0-1 Miles</td><td>Y</td><td>Bachelors</td><td>130000.0</td></tr><tr><td>Mountain</td><td>Late Middle</td><td>0-1 Miles</td><td>Y</td><td>Bachelors</td><td>130000.0</td></tr><tr><td>Mountain</td><td>Late Middle</td><td>0-1 Miles</td><td>Y</td><td>Bachelors</td><td>160000.0</td></tr><tr><td>Mountain</td><td>Late Middle</td><td>0-1 Miles</td><td>Y</td><td>Bachelors</td><td>160000.0</td></tr><tr><td>Mountain</td><td>Late Middle</td><td>0-1 Miles</td><td>Y</td><td>Bachelors</td><td>170000.0</td></tr><tr><td>Mountain</td><td>Late Middle</td><td>0-1 Miles</td><td>Y</td><td>Graduate Degree</td><td>80000.0</td></tr><tr><td>Mountain</td><td>Late Middle</td><td>0-1 Miles</td><td>Y</td><td>Graduate Degree</td><td>80000.0</td></tr><tr><td>Mountain</td><td>Late Middle</td><td>0-1 Miles</td><td>Y</td><td>Graduate Degree</td><td>80000.0</td></tr><tr><td>Mountain</td><td>Late Middle</td><td>0-1 Miles</td><td>Y</td><td>Graduate Degree</td><td>80000.0</td></tr><tr><td>Mountain</td><td>Late Middle</td><td>0-1 Miles</td><td>Y</td><td>Graduate Degree</td><td>80000.0</td></tr><tr><td>Mountain</td><td>Late Middle</td><td>0-1 Miles</td><td>Y</td><td>Graduate Degree</td><td>80000.0</td></tr><tr><td>Mountain</td><td>Late Middle</td><td>0-1 Miles</td><td>Y</td><td>Graduate Degree</td><td>80000.0</td></tr><tr><td>Mountain</td><td>Late Middle</td><td>0-1 Miles</td><td>Y</td><td>Graduate Degree</td><td>80000.0</td></tr><tr><td>Mountain</td><td>Late Middle</td><td>0-1 Miles</td><td>Y</td><td>Graduate Degree</td><td>80000.0</td></tr><tr><td>Mountain</td><td>Late Middle</td><td>0-1 Miles</td><td>Y</td><td>Graduate Degree</td><td>80000.0</td></tr><tr><td>Mountain</td><td>Late Middle</td><td>0-1 Miles</td><td>Y</td><td>Graduate Degree</td><td>80000.0</td></tr><tr><td>Mountain</td><td>Late Middle</td><td>0-1 Miles</td><td>Y</td><td>Graduate Degree</td><td>80000.0</td></tr><tr><td>Mountain</td><td>Late Middle</td><td>0-1 Miles</td><td>Y</td><td>Graduate Degree</td><td>80000.0</td></tr><tr><td>Mountain</td><td>Late Middle</td><td>0-1 Miles</td><td>Y</td><td>Graduate Degree</td><td>80000.0</td></tr><tr><td>Mountain</td><td>Late Middle</td><td>0-1 Miles</td><td>Y</td><td>Graduate Degree</td><td>110000.0</td></tr><tr><td>Mountain</td><td>Late Middle</td><td>0-1 Miles</td><td>Y</td><td>Graduate Degree</td><td>110000.0</td></tr><tr><td>Mountain</td><td>Late Middle</td><td>0-1 Miles</td><td>Y</td><td>Graduate Degree</td><td>130000.0</td></tr><tr><td>Mountain</td><td>Late Middle</td><td>0-1 Miles</td><td>Y</td><td>Graduate Degree</td><td>130000.0</td></tr><tr><td>Mountain</td><td>Late Middle</td><td>0-1 Miles</td><td>Y</td><td>Graduate Degree</td><td>130000.0</td></tr><tr><td>Mountain</td><td>Late Middle</td><td>0-1 Miles</td><td>Y</td><td>High School</td><td>10000.0</td></tr><tr><td>Mountain</td><td>Late Middle</td><td>0-1 Miles</td><td>Y</td><td>High School</td><td>10000.0</td></tr><tr><td>Mountain</td><td>Late Middle</td><td>0-1 Miles</td><td>Y</td><td>High School</td><td>10000.0</td></tr><tr><td>Mountain</td><td>Late Middle</td><td>0-1 Miles</td><td>Y</td><td>High School</td><td>10000.0</td></tr><tr><td>Mountain</td><td>Late Middle</td><td>0-1 Miles</td><td>Y</td><td>High School</td><td>20000.0</td></tr><tr><td>Mountain</td><td>Late Middle</td><td>0-1 Miles</td><td>Y</td><td>High School</td><td>20000.0</td></tr><tr><td>Mountain</td><td>Late Middle</td><td>0-1 Miles</td><td>Y</td><td>High School</td><td>20000.0</td></tr><tr><td>Mountain</td><td>Late Middle</td><td>0-1 Miles</td><td>Y</td><td>High School</td><td>20000.0</td></tr><tr><td>Mountain</td><td>Late Middle</td><td>0-1 Miles</td><td>Y</td><td>High School</td><td>20000.0</td></tr><tr><td>Mountain</td><td>Late Middle</td><td>0-1 Miles</td><td>Y</td><td>High School</td><td>20000.0</td></tr><tr><td>Mountain</td><td>Late Middle</td><td>0-1 Miles</td><td>Y</td><td>High School</td><td>20000.0</td></tr><tr><td>Mountain</td><td>Late Middle</td><td>0-1 Miles</td><td>Y</td><td>High School</td><td>20000.0</td></tr><tr><td>Mountain</td><td>Late Middle</td><td>0-1 Miles</td><td>Y</td><td>High School</td><td>20000.0</td></tr><tr><td>Mountain</td><td>Late Middle</td><td>0-1 Miles</td><td>Y</td><td>High School</td><td>20000.0</td></tr><tr><td>Mountain</td><td>Late Middle</td><td>0-1 Miles</td><td>Y</td><td>Partial College</td><td>20000.0</td></tr><tr><td>Mountain</td><td>Late Middle</td><td>0-1 Miles</td><td>Y</td><td>Partial College</td><td>20000.0</td></tr><tr><td>Mountain</td><td>Late Middle</td><td>0-1 Miles</td><td>Y</td><td>Partial College</td><td>30000.0</td></tr><tr><td>Mountain</td><td>Late Middle</td><td>0-1 Miles</td><td>Y</td><td>Partial College</td><td>30000.0</td></tr><tr><td>Mountain</td><td>Late Middle</td><td>0-1 Miles</td><td>Y</td><td>Partial College</td><td>30000.0</td></tr><tr><td>Mountain</td><td>Late Middle</td><td>0-1 Miles</td><td>Y</td><td>Partial College</td><td>30000.0</td></tr><tr><td>Mountain</td><td>Late Middle</td><td>0-1 Miles</td><td>Y</td><td>Partial College</td><td>30000.0</td></tr><tr><td>Mountain</td><td>Late Middle</td><td>0-1 Miles</td><td>Y</td><td>Partial College</td><td>30000.0</td></tr><tr><td>Mountain</td><td>Late Middle</td><td>0-1 Miles</td><td>Y</td><td>Partial College</td><td>40000.0</td></tr><tr><td>Mountain</td><td>Late Middle</td><td>0-1 Miles</td><td>Y</td><td>Partial College</td><td>40000.0</td></tr><tr><td>Mountain</td><td>Late Middle</td><td>0-1 Miles</td><td>Y</td><td>Partial College</td><td>40000.0</td></tr><tr><td>Mountain</td><td>Late Middle</td><td>0-1 Miles</td><td>Y</td><td>Partial College</td><td>40000.0</td></tr><tr><td>Mountain</td><td>Late Middle</td><td>0-1 Miles</td><td>Y</td><td>Partial College</td><td>40000.0</td></tr><tr><td>Mountain</td><td>Late Middle</td><td>0-1 Miles</td><td>Y</td><td>Partial College</td><td>40000.0</td></tr><tr><td>Mountain</td><td>Late Middle</td><td>0-1 Miles</td><td>Y</td><td>Partial College</td><td>40000.0</td></tr><tr><td>Mountain</td><td>Late Middle</td><td>0-1 Miles</td><td>Y</td><td>Partial College</td><td>90000.0</td></tr><tr><td>Mountain</td><td>Late Middle</td><td>0-1 Miles</td><td>Y</td><td>Partial College</td><td>90000.0</td></tr><tr><td>Mountain</td><td>Late Middle</td><td>0-1 Miles</td><td>Y</td><td>Partial College</td><td>130000.0</td></tr><tr><td>Mountain</td><td>Late Middle</td><td>0-1 Miles</td><td>Y</td><td>Partial College</td><td>130000.0</td></tr><tr><td>Mountain</td><td>Late Middle</td><td>0-1 Miles</td><td>Y</td><td>Partial College</td><td>130000.0</td></tr><tr><td>Mountain</td><td>Late Middle</td><td>0-1 Miles</td><td>Y</td><td>Partial College</td><td>130000.0</td></tr><tr><td>Mountain</td><td>Late Middle</td><td>0-1 Miles</td><td>Y</td><td>Partial High School</td><td>10000.0</td></tr><tr><td>Mountain</td><td>Late Middle</td><td>0-1 Miles</td><td>Y</td><td>Partial High School</td><td>10000.0</td></tr><tr><td>Mountain</td><td>Late Middle</td><td>0-1 Miles</td><td>Y</td><td>Partial High School</td><td>10000.0</td></tr><tr><td>Mountain</td><td>Late Middle</td><td>0-1 Miles</td><td>Y</td><td>Partial High School</td><td>10000.0</td></tr><tr><td>Mountain</td><td>Late Middle</td><td>0-1 Miles</td><td>Y</td><td>Partial High School</td><td>10000.0</td></tr><tr><td>Mountain</td><td>Late Middle</td><td>0-1 Miles</td><td>Y</td><td>Partial High School</td><td>10000.0</td></tr><tr><td>Mountain</td><td>Late Middle</td><td>0-1 Miles</td><td>Y</td><td>Partial High School</td><td>10000.0</td></tr><tr><td>Mountain</td><td>Late Middle</td><td>1-2 Miles</td><td>N</td><td>Bachelors</td><td>30000.0</td></tr><tr><td>Mountain</td><td>Late Middle</td><td>1-2 Miles</td><td>N</td><td>Bachelors</td><td>30000.0</td></tr><tr><td>Mountain</td><td>Late Middle</td><td>1-2 Miles</td><td>N</td><td>Bachelors</td><td>80000.0</td></tr><tr><td>Mountain</td><td>Late Middle</td><td>1-2 Miles</td><td>N</td><td>Bachelors</td><td>80000.0</td></tr><tr><td>Mountain</td><td>Late Middle</td><td>1-2 Miles</td><td>N</td><td>Bachelors</td><td>80000.0</td></tr><tr><td>Mountain</td><td>Late Middle</td><td>1-2 Miles</td><td>N</td><td>Bachelors</td><td>80000.0</td></tr></tbody></table>Showing the first 1000 rows.</div>"
      ]
     },
     "metadata": {
      "application/vnd.databricks.v1+output": {
       "addedWidgets": {},
       "aggData": [],
       "aggError": "",
       "aggOverflow": false,
       "aggSchema": [],
       "aggSeriesLimitReached": false,
       "aggType": "",
       "arguments": {},
       "columnCustomDisplayInfos": {},
       "data": [
        [
         "Mountain",
         "Golden",
         "0-1 Miles",
         "N",
         "Bachelors",
         10000.0
        ],
        [
         "Mountain",
         "Golden",
         "0-1 Miles",
         "N",
         "Bachelors",
         10000.0
        ],
        [
         "Mountain",
         "Golden",
         "0-1 Miles",
         "N",
         "Bachelors",
         10000.0
        ],
        [
         "Mountain",
         "Golden",
         "0-1 Miles",
         "N",
         "Bachelors",
         10000.0
        ],
        [
         "Mountain",
         "Golden",
         "0-1 Miles",
         "N",
         "Bachelors",
         20000.0
        ],
        [
         "Mountain",
         "Golden",
         "0-1 Miles",
         "N",
         "Bachelors",
         20000.0
        ],
        [
         "Mountain",
         "Golden",
         "0-1 Miles",
         "N",
         "Bachelors",
         30000.0
        ],
        [
         "Mountain",
         "Golden",
         "0-1 Miles",
         "N",
         "Bachelors",
         30000.0
        ],
        [
         "Mountain",
         "Golden",
         "0-1 Miles",
         "N",
         "Bachelors",
         30000.0
        ],
        [
         "Mountain",
         "Golden",
         "0-1 Miles",
         "N",
         "Bachelors",
         30000.0
        ],
        [
         "Mountain",
         "Golden",
         "0-1 Miles",
         "N",
         "Bachelors",
         40000.0
        ],
        [
         "Mountain",
         "Golden",
         "0-1 Miles",
         "N",
         "Bachelors",
         40000.0
        ],
        [
         "Mountain",
         "Golden",
         "0-1 Miles",
         "N",
         "Bachelors",
         40000.0
        ],
        [
         "Mountain",
         "Golden",
         "0-1 Miles",
         "N",
         "Bachelors",
         40000.0
        ],
        [
         "Mountain",
         "Golden",
         "0-1 Miles",
         "N",
         "Bachelors",
         40000.0
        ],
        [
         "Mountain",
         "Golden",
         "0-1 Miles",
         "N",
         "Bachelors",
         40000.0
        ],
        [
         "Mountain",
         "Golden",
         "0-1 Miles",
         "N",
         "Bachelors",
         40000.0
        ],
        [
         "Mountain",
         "Golden",
         "0-1 Miles",
         "N",
         "Bachelors",
         40000.0
        ],
        [
         "Mountain",
         "Golden",
         "0-1 Miles",
         "N",
         "Bachelors",
         40000.0
        ],
        [
         "Mountain",
         "Golden",
         "0-1 Miles",
         "N",
         "Bachelors",
         40000.0
        ],
        [
         "Mountain",
         "Golden",
         "0-1 Miles",
         "N",
         "Bachelors",
         40000.0
        ],
        [
         "Mountain",
         "Golden",
         "0-1 Miles",
         "N",
         "Bachelors",
         40000.0
        ],
        [
         "Mountain",
         "Golden",
         "0-1 Miles",
         "N",
         "Bachelors",
         60000.0
        ],
        [
         "Mountain",
         "Golden",
         "0-1 Miles",
         "N",
         "Bachelors",
         60000.0
        ],
        [
         "Mountain",
         "Golden",
         "0-1 Miles",
         "N",
         "Bachelors",
         70000.0
        ],
        [
         "Mountain",
         "Golden",
         "0-1 Miles",
         "N",
         "Bachelors",
         70000.0
        ],
        [
         "Mountain",
         "Golden",
         "0-1 Miles",
         "N",
         "Bachelors",
         70000.0
        ],
        [
         "Mountain",
         "Golden",
         "0-1 Miles",
         "N",
         "Bachelors",
         70000.0
        ],
        [
         "Mountain",
         "Golden",
         "0-1 Miles",
         "N",
         "Bachelors",
         130000.0
        ],
        [
         "Mountain",
         "Golden",
         "0-1 Miles",
         "N",
         "Graduate Degree",
         10000.0
        ],
        [
         "Mountain",
         "Golden",
         "0-1 Miles",
         "N",
         "Graduate Degree",
         10000.0
        ],
        [
         "Mountain",
         "Golden",
         "0-1 Miles",
         "N",
         "Graduate Degree",
         20000.0
        ],
        [
         "Mountain",
         "Golden",
         "0-1 Miles",
         "N",
         "Graduate Degree",
         20000.0
        ],
        [
         "Mountain",
         "Golden",
         "0-1 Miles",
         "N",
         "Graduate Degree",
         20000.0
        ],
        [
         "Mountain",
         "Golden",
         "0-1 Miles",
         "N",
         "Graduate Degree",
         20000.0
        ],
        [
         "Mountain",
         "Golden",
         "0-1 Miles",
         "N",
         "Graduate Degree",
         20000.0
        ],
        [
         "Mountain",
         "Golden",
         "0-1 Miles",
         "N",
         "Graduate Degree",
         20000.0
        ],
        [
         "Mountain",
         "Golden",
         "0-1 Miles",
         "N",
         "Graduate Degree",
         20000.0
        ],
        [
         "Mountain",
         "Golden",
         "0-1 Miles",
         "N",
         "Graduate Degree",
         30000.0
        ],
        [
         "Mountain",
         "Golden",
         "0-1 Miles",
         "N",
         "Graduate Degree",
         30000.0
        ],
        [
         "Mountain",
         "Golden",
         "0-1 Miles",
         "N",
         "Graduate Degree",
         30000.0
        ],
        [
         "Mountain",
         "Golden",
         "0-1 Miles",
         "N",
         "Graduate Degree",
         40000.0
        ],
        [
         "Mountain",
         "Golden",
         "0-1 Miles",
         "N",
         "Graduate Degree",
         40000.0
        ],
        [
         "Mountain",
         "Golden",
         "0-1 Miles",
         "N",
         "Graduate Degree",
         40000.0
        ],
        [
         "Mountain",
         "Golden",
         "0-1 Miles",
         "N",
         "Graduate Degree",
         40000.0
        ],
        [
         "Mountain",
         "Golden",
         "0-1 Miles",
         "N",
         "Graduate Degree",
         40000.0
        ],
        [
         "Mountain",
         "Golden",
         "0-1 Miles",
         "N",
         "Graduate Degree",
         60000.0
        ],
        [
         "Mountain",
         "Golden",
         "0-1 Miles",
         "N",
         "Graduate Degree",
         60000.0
        ],
        [
         "Mountain",
         "Golden",
         "0-1 Miles",
         "N",
         "Graduate Degree",
         60000.0
        ],
        [
         "Mountain",
         "Golden",
         "0-1 Miles",
         "N",
         "Graduate Degree",
         70000.0
        ],
        [
         "Mountain",
         "Golden",
         "0-1 Miles",
         "N",
         "Graduate Degree",
         80000.0
        ],
        [
         "Mountain",
         "Golden",
         "0-1 Miles",
         "N",
         "Graduate Degree",
         80000.0
        ],
        [
         "Mountain",
         "Golden",
         "0-1 Miles",
         "N",
         "Graduate Degree",
         80000.0
        ],
        [
         "Mountain",
         "Golden",
         "0-1 Miles",
         "N",
         "Graduate Degree",
         80000.0
        ],
        [
         "Mountain",
         "Golden",
         "0-1 Miles",
         "N",
         "Graduate Degree",
         80000.0
        ],
        [
         "Mountain",
         "Golden",
         "0-1 Miles",
         "N",
         "Graduate Degree",
         80000.0
        ],
        [
         "Mountain",
         "Golden",
         "0-1 Miles",
         "N",
         "Graduate Degree",
         80000.0
        ],
        [
         "Mountain",
         "Golden",
         "0-1 Miles",
         "N",
         "Graduate Degree",
         80000.0
        ],
        [
         "Mountain",
         "Golden",
         "0-1 Miles",
         "N",
         "Graduate Degree",
         80000.0
        ],
        [
         "Mountain",
         "Golden",
         "0-1 Miles",
         "N",
         "Graduate Degree",
         80000.0
        ],
        [
         "Mountain",
         "Golden",
         "0-1 Miles",
         "N",
         "Partial College",
         10000.0
        ],
        [
         "Mountain",
         "Golden",
         "0-1 Miles",
         "N",
         "Partial College",
         10000.0
        ],
        [
         "Mountain",
         "Golden",
         "0-1 Miles",
         "N",
         "Partial College",
         10000.0
        ],
        [
         "Mountain",
         "Golden",
         "0-1 Miles",
         "N",
         "Partial College",
         10000.0
        ],
        [
         "Mountain",
         "Golden",
         "0-1 Miles",
         "N",
         "Partial College",
         10000.0
        ],
        [
         "Mountain",
         "Golden",
         "0-1 Miles",
         "N",
         "Partial College",
         10000.0
        ],
        [
         "Mountain",
         "Golden",
         "0-1 Miles",
         "N",
         "Partial College",
         10000.0
        ],
        [
         "Mountain",
         "Golden",
         "0-1 Miles",
         "N",
         "Partial College",
         10000.0
        ],
        [
         "Mountain",
         "Golden",
         "0-1 Miles",
         "N",
         "Partial College",
         10000.0
        ],
        [
         "Mountain",
         "Golden",
         "0-1 Miles",
         "N",
         "Partial College",
         10000.0
        ],
        [
         "Mountain",
         "Golden",
         "0-1 Miles",
         "N",
         "Partial College",
         20000.0
        ],
        [
         "Mountain",
         "Golden",
         "0-1 Miles",
         "N",
         "Partial College",
         40000.0
        ],
        [
         "Mountain",
         "Golden",
         "0-1 Miles",
         "N",
         "Partial College",
         40000.0
        ],
        [
         "Mountain",
         "Golden",
         "0-1 Miles",
         "N",
         "Partial College",
         40000.0
        ],
        [
         "Mountain",
         "Golden",
         "0-1 Miles",
         "N",
         "Partial College",
         40000.0
        ],
        [
         "Mountain",
         "Golden",
         "0-1 Miles",
         "N",
         "Partial College",
         40000.0
        ],
        [
         "Mountain",
         "Golden",
         "0-1 Miles",
         "N",
         "Partial College",
         40000.0
        ],
        [
         "Mountain",
         "Golden",
         "0-1 Miles",
         "N",
         "Partial College",
         40000.0
        ],
        [
         "Mountain",
         "Golden",
         "0-1 Miles",
         "N",
         "Partial College",
         40000.0
        ],
        [
         "Mountain",
         "Golden",
         "0-1 Miles",
         "N",
         "Partial College",
         40000.0
        ],
        [
         "Mountain",
         "Golden",
         "0-1 Miles",
         "N",
         "Partial College",
         40000.0
        ],
        [
         "Mountain",
         "Golden",
         "0-1 Miles",
         "N",
         "Partial College",
         40000.0
        ],
        [
         "Mountain",
         "Golden",
         "0-1 Miles",
         "N",
         "Partial College",
         40000.0
        ],
        [
         "Mountain",
         "Golden",
         "0-1 Miles",
         "N",
         "Partial College",
         60000.0
        ],
        [
         "Mountain",
         "Golden",
         "0-1 Miles",
         "N",
         "Partial College",
         60000.0
        ],
        [
         "Mountain",
         "Golden",
         "0-1 Miles",
         "N",
         "Partial College",
         60000.0
        ],
        [
         "Mountain",
         "Golden",
         "0-1 Miles",
         "N",
         "Partial College",
         60000.0
        ],
        [
         "Mountain",
         "Golden",
         "0-1 Miles",
         "N",
         "Partial College",
         70000.0
        ],
        [
         "Mountain",
         "Golden",
         "0-1 Miles",
         "N",
         "Partial College",
         70000.0
        ],
        [
         "Mountain",
         "Golden",
         "0-1 Miles",
         "N",
         "Partial College",
         70000.0
        ],
        [
         "Mountain",
         "Golden",
         "0-1 Miles",
         "N",
         "Partial College",
         70000.0
        ],
        [
         "Mountain",
         "Golden",
         "0-1 Miles",
         "N",
         "Partial College",
         70000.0
        ],
        [
         "Mountain",
         "Golden",
         "0-1 Miles",
         "N",
         "Partial College",
         70000.0
        ],
        [
         "Mountain",
         "Golden",
         "0-1 Miles",
         "N",
         "Partial College",
         80000.0
        ],
        [
         "Mountain",
         "Golden",
         "0-1 Miles",
         "N",
         "Partial College",
         80000.0
        ],
        [
         "Mountain",
         "Golden",
         "0-1 Miles",
         "N",
         "Partial College",
         80000.0
        ],
        [
         "Mountain",
         "Golden",
         "0-1 Miles",
         "N",
         "Partial College",
         80000.0
        ],
        [
         "Mountain",
         "Golden",
         "0-1 Miles",
         "N",
         "Partial College",
         80000.0
        ],
        [
         "Mountain",
         "Golden",
         "0-1 Miles",
         "Y",
         "Bachelors",
         60000.0
        ],
        [
         "Mountain",
         "Golden",
         "0-1 Miles",
         "Y",
         "Bachelors",
         70000.0
        ],
        [
         "Mountain",
         "Golden",
         "0-1 Miles",
         "Y",
         "Bachelors",
         80000.0
        ],
        [
         "Mountain",
         "Golden",
         "0-1 Miles",
         "Y",
         "Bachelors",
         120000.0
        ],
        [
         "Mountain",
         "Golden",
         "0-1 Miles",
         "Y",
         "Bachelors",
         120000.0
        ],
        [
         "Mountain",
         "Golden",
         "0-1 Miles",
         "Y",
         "Bachelors",
         130000.0
        ],
        [
         "Mountain",
         "Golden",
         "0-1 Miles",
         "Y",
         "Bachelors",
         130000.0
        ],
        [
         "Mountain",
         "Golden",
         "0-1 Miles",
         "Y",
         "Bachelors",
         130000.0
        ],
        [
         "Mountain",
         "Golden",
         "0-1 Miles",
         "Y",
         "Bachelors",
         130000.0
        ],
        [
         "Mountain",
         "Golden",
         "0-1 Miles",
         "Y",
         "Bachelors",
         130000.0
        ],
        [
         "Mountain",
         "Golden",
         "0-1 Miles",
         "Y",
         "Bachelors",
         130000.0
        ],
        [
         "Mountain",
         "Golden",
         "0-1 Miles",
         "Y",
         "Bachelors",
         130000.0
        ],
        [
         "Mountain",
         "Golden",
         "0-1 Miles",
         "Y",
         "Bachelors",
         130000.0
        ],
        [
         "Mountain",
         "Golden",
         "0-1 Miles",
         "Y",
         "Bachelors",
         130000.0
        ],
        [
         "Mountain",
         "Golden",
         "0-1 Miles",
         "Y",
         "Bachelors",
         130000.0
        ],
        [
         "Mountain",
         "Golden",
         "0-1 Miles",
         "Y",
         "Bachelors",
         130000.0
        ],
        [
         "Mountain",
         "Golden",
         "0-1 Miles",
         "Y",
         "Bachelors",
         130000.0
        ],
        [
         "Mountain",
         "Golden",
         "0-1 Miles",
         "Y",
         "Bachelors",
         130000.0
        ],
        [
         "Mountain",
         "Golden",
         "0-1 Miles",
         "Y",
         "Bachelors",
         130000.0
        ],
        [
         "Mountain",
         "Golden",
         "0-1 Miles",
         "Y",
         "Bachelors",
         130000.0
        ],
        [
         "Mountain",
         "Golden",
         "0-1 Miles",
         "Y",
         "Bachelors",
         130000.0
        ],
        [
         "Mountain",
         "Golden",
         "0-1 Miles",
         "Y",
         "Bachelors",
         150000.0
        ],
        [
         "Mountain",
         "Golden",
         "0-1 Miles",
         "Y",
         "Bachelors",
         150000.0
        ],
        [
         "Mountain",
         "Golden",
         "0-1 Miles",
         "Y",
         "Bachelors",
         160000.0
        ],
        [
         "Mountain",
         "Golden",
         "0-1 Miles",
         "Y",
         "Bachelors",
         170000.0
        ],
        [
         "Mountain",
         "Golden",
         "0-1 Miles",
         "Y",
         "Bachelors",
         170000.0
        ],
        [
         "Mountain",
         "Golden",
         "0-1 Miles",
         "Y",
         "Bachelors",
         170000.0
        ],
        [
         "Mountain",
         "Golden",
         "0-1 Miles",
         "Y",
         "Bachelors",
         170000.0
        ],
        [
         "Mountain",
         "Golden",
         "0-1 Miles",
         "Y",
         "Bachelors",
         170000.0
        ],
        [
         "Mountain",
         "Golden",
         "0-1 Miles",
         "Y",
         "Bachelors",
         170000.0
        ],
        [
         "Mountain",
         "Golden",
         "0-1 Miles",
         "Y",
         "Bachelors",
         170000.0
        ],
        [
         "Mountain",
         "Golden",
         "0-1 Miles",
         "Y",
         "Bachelors",
         170000.0
        ],
        [
         "Mountain",
         "Golden",
         "0-1 Miles",
         "Y",
         "Bachelors",
         170000.0
        ],
        [
         "Mountain",
         "Golden",
         "0-1 Miles",
         "Y",
         "Graduate Degree",
         130000.0
        ],
        [
         "Mountain",
         "Golden",
         "0-1 Miles",
         "Y",
         "Graduate Degree",
         130000.0
        ],
        [
         "Mountain",
         "Golden",
         "0-1 Miles",
         "Y",
         "Graduate Degree",
         130000.0
        ],
        [
         "Mountain",
         "Golden",
         "0-1 Miles",
         "Y",
         "Graduate Degree",
         130000.0
        ],
        [
         "Mountain",
         "Golden",
         "0-1 Miles",
         "Y",
         "Graduate Degree",
         130000.0
        ],
        [
         "Mountain",
         "Golden",
         "0-1 Miles",
         "Y",
         "Graduate Degree",
         130000.0
        ],
        [
         "Mountain",
         "Golden",
         "0-1 Miles",
         "Y",
         "Graduate Degree",
         150000.0
        ],
        [
         "Mountain",
         "Golden",
         "0-1 Miles",
         "Y",
         "Graduate Degree",
         170000.0
        ],
        [
         "Mountain",
         "Golden",
         "0-1 Miles",
         "Y",
         "Graduate Degree",
         170000.0
        ],
        [
         "Mountain",
         "Golden",
         "0-1 Miles",
         "Y",
         "Graduate Degree",
         170000.0
        ],
        [
         "Mountain",
         "Golden",
         "0-1 Miles",
         "Y",
         "Graduate Degree",
         170000.0
        ],
        [
         "Mountain",
         "Golden",
         "0-1 Miles",
         "Y",
         "High School",
         40000.0
        ],
        [
         "Mountain",
         "Golden",
         "0-1 Miles",
         "Y",
         "High School",
         130000.0
        ],
        [
         "Mountain",
         "Golden",
         "0-1 Miles",
         "Y",
         "High School",
         130000.0
        ],
        [
         "Mountain",
         "Golden",
         "0-1 Miles",
         "Y",
         "High School",
         130000.0
        ],
        [
         "Mountain",
         "Golden",
         "0-1 Miles",
         "Y",
         "High School",
         130000.0
        ],
        [
         "Mountain",
         "Golden",
         "0-1 Miles",
         "Y",
         "High School",
         130000.0
        ],
        [
         "Mountain",
         "Golden",
         "0-1 Miles",
         "Y",
         "High School",
         130000.0
        ],
        [
         "Mountain",
         "Golden",
         "0-1 Miles",
         "Y",
         "High School",
         150000.0
        ],
        [
         "Mountain",
         "Golden",
         "0-1 Miles",
         "Y",
         "High School",
         150000.0
        ],
        [
         "Mountain",
         "Golden",
         "0-1 Miles",
         "Y",
         "High School",
         150000.0
        ],
        [
         "Mountain",
         "Golden",
         "0-1 Miles",
         "Y",
         "High School",
         160000.0
        ],
        [
         "Mountain",
         "Golden",
         "0-1 Miles",
         "Y",
         "High School",
         160000.0
        ],
        [
         "Mountain",
         "Golden",
         "0-1 Miles",
         "Y",
         "High School",
         160000.0
        ],
        [
         "Mountain",
         "Golden",
         "0-1 Miles",
         "Y",
         "Partial College",
         20000.0
        ],
        [
         "Mountain",
         "Golden",
         "0-1 Miles",
         "Y",
         "Partial College",
         70000.0
        ],
        [
         "Mountain",
         "Golden",
         "0-1 Miles",
         "Y",
         "Partial College",
         130000.0
        ],
        [
         "Mountain",
         "Golden",
         "0-1 Miles",
         "Y",
         "Partial College",
         130000.0
        ],
        [
         "Mountain",
         "Golden",
         "0-1 Miles",
         "Y",
         "Partial College",
         130000.0
        ],
        [
         "Mountain",
         "Golden",
         "0-1 Miles",
         "Y",
         "Partial College",
         130000.0
        ],
        [
         "Mountain",
         "Golden",
         "0-1 Miles",
         "Y",
         "Partial College",
         130000.0
        ],
        [
         "Mountain",
         "Golden",
         "0-1 Miles",
         "Y",
         "Partial College",
         130000.0
        ],
        [
         "Mountain",
         "Golden",
         "0-1 Miles",
         "Y",
         "Partial College",
         130000.0
        ],
        [
         "Mountain",
         "Golden",
         "0-1 Miles",
         "Y",
         "Partial College",
         130000.0
        ],
        [
         "Mountain",
         "Golden",
         "0-1 Miles",
         "Y",
         "Partial College",
         130000.0
        ],
        [
         "Mountain",
         "Golden",
         "0-1 Miles",
         "Y",
         "Partial College",
         130000.0
        ],
        [
         "Mountain",
         "Golden",
         "0-1 Miles",
         "Y",
         "Partial College",
         130000.0
        ],
        [
         "Mountain",
         "Golden",
         "0-1 Miles",
         "Y",
         "Partial College",
         130000.0
        ],
        [
         "Mountain",
         "Golden",
         "0-1 Miles",
         "Y",
         "Partial College",
         130000.0
        ],
        [
         "Mountain",
         "Golden",
         "0-1 Miles",
         "Y",
         "Partial College",
         130000.0
        ],
        [
         "Mountain",
         "Golden",
         "0-1 Miles",
         "Y",
         "Partial College",
         130000.0
        ],
        [
         "Mountain",
         "Golden",
         "0-1 Miles",
         "Y",
         "Partial College",
         170000.0
        ],
        [
         "Mountain",
         "Golden",
         "1-2 Miles",
         "N",
         "Bachelors",
         70000.0
        ],
        [
         "Mountain",
         "Golden",
         "1-2 Miles",
         "N",
         "Bachelors",
         70000.0
        ],
        [
         "Mountain",
         "Golden",
         "1-2 Miles",
         "N",
         "Bachelors",
         70000.0
        ],
        [
         "Mountain",
         "Golden",
         "1-2 Miles",
         "N",
         "Bachelors",
         70000.0
        ],
        [
         "Mountain",
         "Golden",
         "1-2 Miles",
         "N",
         "Bachelors",
         70000.0
        ],
        [
         "Mountain",
         "Golden",
         "1-2 Miles",
         "N",
         "Bachelors",
         70000.0
        ],
        [
         "Mountain",
         "Golden",
         "1-2 Miles",
         "N",
         "Bachelors",
         70000.0
        ],
        [
         "Mountain",
         "Golden",
         "1-2 Miles",
         "N",
         "Bachelors",
         80000.0
        ],
        [
         "Mountain",
         "Golden",
         "1-2 Miles",
         "N",
         "Bachelors",
         80000.0
        ],
        [
         "Mountain",
         "Golden",
         "1-2 Miles",
         "N",
         "Bachelors",
         90000.0
        ],
        [
         "Mountain",
         "Golden",
         "1-2 Miles",
         "N",
         "Bachelors",
         90000.0
        ],
        [
         "Mountain",
         "Golden",
         "1-2 Miles",
         "N",
         "Bachelors",
         90000.0
        ],
        [
         "Mountain",
         "Golden",
         "1-2 Miles",
         "N",
         "Bachelors",
         90000.0
        ],
        [
         "Mountain",
         "Golden",
         "1-2 Miles",
         "N",
         "Bachelors",
         90000.0
        ],
        [
         "Mountain",
         "Golden",
         "1-2 Miles",
         "N",
         "Bachelors",
         90000.0
        ],
        [
         "Mountain",
         "Golden",
         "1-2 Miles",
         "N",
         "Bachelors",
         90000.0
        ],
        [
         "Mountain",
         "Golden",
         "1-2 Miles",
         "N",
         "Graduate Degree",
         60000.0
        ],
        [
         "Mountain",
         "Golden",
         "1-2 Miles",
         "N",
         "Graduate Degree",
         60000.0
        ],
        [
         "Mountain",
         "Golden",
         "1-2 Miles",
         "N",
         "Graduate Degree",
         60000.0
        ],
        [
         "Mountain",
         "Golden",
         "1-2 Miles",
         "N",
         "Graduate Degree",
         70000.0
        ],
        [
         "Mountain",
         "Golden",
         "1-2 Miles",
         "N",
         "Graduate Degree",
         70000.0
        ],
        [
         "Mountain",
         "Golden",
         "1-2 Miles",
         "N",
         "Graduate Degree",
         70000.0
        ],
        [
         "Mountain",
         "Golden",
         "1-2 Miles",
         "N",
         "Graduate Degree",
         70000.0
        ],
        [
         "Mountain",
         "Golden",
         "1-2 Miles",
         "N",
         "Graduate Degree",
         70000.0
        ],
        [
         "Mountain",
         "Golden",
         "1-2 Miles",
         "N",
         "Graduate Degree",
         70000.0
        ],
        [
         "Mountain",
         "Golden",
         "1-2 Miles",
         "N",
         "Graduate Degree",
         70000.0
        ],
        [
         "Mountain",
         "Golden",
         "1-2 Miles",
         "N",
         "Graduate Degree",
         70000.0
        ],
        [
         "Mountain",
         "Golden",
         "1-2 Miles",
         "N",
         "Graduate Degree",
         70000.0
        ],
        [
         "Mountain",
         "Golden",
         "1-2 Miles",
         "N",
         "Graduate Degree",
         70000.0
        ],
        [
         "Mountain",
         "Golden",
         "1-2 Miles",
         "N",
         "Graduate Degree",
         70000.0
        ],
        [
         "Mountain",
         "Golden",
         "1-2 Miles",
         "N",
         "Graduate Degree",
         70000.0
        ],
        [
         "Mountain",
         "Golden",
         "1-2 Miles",
         "N",
         "Graduate Degree",
         70000.0
        ],
        [
         "Mountain",
         "Golden",
         "1-2 Miles",
         "N",
         "Graduate Degree",
         70000.0
        ],
        [
         "Mountain",
         "Golden",
         "1-2 Miles",
         "N",
         "Graduate Degree",
         70000.0
        ],
        [
         "Mountain",
         "Golden",
         "1-2 Miles",
         "N",
         "Graduate Degree",
         80000.0
        ],
        [
         "Mountain",
         "Golden",
         "1-2 Miles",
         "N",
         "High School",
         20000.0
        ],
        [
         "Mountain",
         "Golden",
         "1-2 Miles",
         "N",
         "High School",
         20000.0
        ],
        [
         "Mountain",
         "Golden",
         "1-2 Miles",
         "N",
         "High School",
         20000.0
        ],
        [
         "Mountain",
         "Golden",
         "1-2 Miles",
         "N",
         "High School",
         30000.0
        ],
        [
         "Mountain",
         "Golden",
         "1-2 Miles",
         "N",
         "High School",
         70000.0
        ],
        [
         "Mountain",
         "Golden",
         "1-2 Miles",
         "N",
         "High School",
         70000.0
        ],
        [
         "Mountain",
         "Golden",
         "1-2 Miles",
         "N",
         "High School",
         70000.0
        ],
        [
         "Mountain",
         "Golden",
         "1-2 Miles",
         "N",
         "High School",
         70000.0
        ],
        [
         "Mountain",
         "Golden",
         "1-2 Miles",
         "N",
         "High School",
         70000.0
        ],
        [
         "Mountain",
         "Golden",
         "1-2 Miles",
         "N",
         "High School",
         80000.0
        ],
        [
         "Mountain",
         "Golden",
         "1-2 Miles",
         "N",
         "High School",
         80000.0
        ],
        [
         "Mountain",
         "Golden",
         "1-2 Miles",
         "N",
         "High School",
         80000.0
        ],
        [
         "Mountain",
         "Golden",
         "1-2 Miles",
         "N",
         "High School",
         80000.0
        ],
        [
         "Mountain",
         "Golden",
         "1-2 Miles",
         "N",
         "High School",
         80000.0
        ],
        [
         "Mountain",
         "Golden",
         "1-2 Miles",
         "N",
         "High School",
         80000.0
        ],
        [
         "Mountain",
         "Golden",
         "1-2 Miles",
         "N",
         "High School",
         80000.0
        ],
        [
         "Mountain",
         "Golden",
         "1-2 Miles",
         "N",
         "High School",
         80000.0
        ],
        [
         "Mountain",
         "Golden",
         "1-2 Miles",
         "N",
         "High School",
         80000.0
        ],
        [
         "Mountain",
         "Golden",
         "1-2 Miles",
         "N",
         "High School",
         80000.0
        ],
        [
         "Mountain",
         "Golden",
         "1-2 Miles",
         "N",
         "Partial College",
         10000.0
        ],
        [
         "Mountain",
         "Golden",
         "1-2 Miles",
         "N",
         "Partial College",
         10000.0
        ],
        [
         "Mountain",
         "Golden",
         "1-2 Miles",
         "N",
         "Partial College",
         20000.0
        ],
        [
         "Mountain",
         "Golden",
         "1-2 Miles",
         "N",
         "Partial College",
         30000.0
        ],
        [
         "Mountain",
         "Golden",
         "1-2 Miles",
         "N",
         "Partial College",
         30000.0
        ],
        [
         "Mountain",
         "Golden",
         "1-2 Miles",
         "N",
         "Partial College",
         40000.0
        ],
        [
         "Mountain",
         "Golden",
         "1-2 Miles",
         "N",
         "Partial College",
         40000.0
        ],
        [
         "Mountain",
         "Golden",
         "1-2 Miles",
         "N",
         "Partial College",
         40000.0
        ],
        [
         "Mountain",
         "Golden",
         "1-2 Miles",
         "N",
         "Partial College",
         40000.0
        ],
        [
         "Mountain",
         "Golden",
         "1-2 Miles",
         "N",
         "Partial College",
         40000.0
        ],
        [
         "Mountain",
         "Golden",
         "1-2 Miles",
         "N",
         "Partial College",
         40000.0
        ],
        [
         "Mountain",
         "Golden",
         "1-2 Miles",
         "N",
         "Partial College",
         40000.0
        ],
        [
         "Mountain",
         "Golden",
         "1-2 Miles",
         "N",
         "Partial College",
         40000.0
        ],
        [
         "Mountain",
         "Golden",
         "1-2 Miles",
         "N",
         "Partial College",
         40000.0
        ],
        [
         "Mountain",
         "Golden",
         "1-2 Miles",
         "N",
         "Partial College",
         40000.0
        ],
        [
         "Mountain",
         "Golden",
         "1-2 Miles",
         "N",
         "Partial College",
         40000.0
        ],
        [
         "Mountain",
         "Golden",
         "1-2 Miles",
         "N",
         "Partial College",
         40000.0
        ],
        [
         "Mountain",
         "Golden",
         "1-2 Miles",
         "N",
         "Partial College",
         80000.0
        ],
        [
         "Mountain",
         "Golden",
         "1-2 Miles",
         "N",
         "Partial College",
         80000.0
        ],
        [
         "Mountain",
         "Golden",
         "1-2 Miles",
         "N",
         "Partial College",
         80000.0
        ],
        [
         "Mountain",
         "Golden",
         "1-2 Miles",
         "N",
         "Partial College",
         80000.0
        ],
        [
         "Mountain",
         "Golden",
         "1-2 Miles",
         "N",
         "Partial College",
         80000.0
        ],
        [
         "Mountain",
         "Golden",
         "1-2 Miles",
         "N",
         "Partial College",
         80000.0
        ],
        [
         "Mountain",
         "Golden",
         "1-2 Miles",
         "N",
         "Partial High School",
         60000.0
        ],
        [
         "Mountain",
         "Golden",
         "1-2 Miles",
         "N",
         "Partial High School",
         80000.0
        ],
        [
         "Mountain",
         "Golden",
         "1-2 Miles",
         "N",
         "Partial High School",
         80000.0
        ],
        [
         "Mountain",
         "Golden",
         "1-2 Miles",
         "Y",
         "Bachelors",
         70000.0
        ],
        [
         "Mountain",
         "Golden",
         "1-2 Miles",
         "Y",
         "Bachelors",
         80000.0
        ],
        [
         "Mountain",
         "Golden",
         "1-2 Miles",
         "Y",
         "High School",
         10000.0
        ],
        [
         "Mountain",
         "Golden",
         "1-2 Miles",
         "Y",
         "High School",
         10000.0
        ],
        [
         "Mountain",
         "Golden",
         "1-2 Miles",
         "Y",
         "High School",
         70000.0
        ],
        [
         "Mountain",
         "Golden",
         "1-2 Miles",
         "Y",
         "High School",
         70000.0
        ],
        [
         "Mountain",
         "Golden",
         "1-2 Miles",
         "Y",
         "High School",
         70000.0
        ],
        [
         "Mountain",
         "Golden",
         "1-2 Miles",
         "Y",
         "High School",
         90000.0
        ],
        [
         "Mountain",
         "Golden",
         "1-2 Miles",
         "Y",
         "Partial College",
         20000.0
        ],
        [
         "Mountain",
         "Golden",
         "1-2 Miles",
         "Y",
         "Partial College",
         70000.0
        ],
        [
         "Mountain",
         "Golden",
         "1-2 Miles",
         "Y",
         "Partial College",
         80000.0
        ],
        [
         "Mountain",
         "Golden",
         "1-2 Miles",
         "Y",
         "Partial College",
         80000.0
        ],
        [
         "Mountain",
         "Golden",
         "1-2 Miles",
         "Y",
         "Partial College",
         80000.0
        ],
        [
         "Mountain",
         "Golden",
         "1-2 Miles",
         "Y",
         "Partial College",
         80000.0
        ],
        [
         "Mountain",
         "Golden",
         "1-2 Miles",
         "Y",
         "Partial College",
         90000.0
        ],
        [
         "Mountain",
         "Golden",
         "1-2 Miles",
         "Y",
         "Partial College",
         100000.0
        ],
        [
         "Mountain",
         "Golden",
         "1-2 Miles",
         "Y",
         "Partial High School",
         10000.0
        ],
        [
         "Mountain",
         "Golden",
         "1-2 Miles",
         "Y",
         "Partial High School",
         10000.0
        ],
        [
         "Mountain",
         "Golden",
         "1-2 Miles",
         "Y",
         "Partial High School",
         10000.0
        ],
        [
         "Mountain",
         "Golden",
         "10+ Miles",
         "N",
         "Bachelors",
         60000.0
        ],
        [
         "Mountain",
         "Golden",
         "10+ Miles",
         "N",
         "Bachelors",
         60000.0
        ],
        [
         "Mountain",
         "Golden",
         "10+ Miles",
         "N",
         "Bachelors",
         60000.0
        ],
        [
         "Mountain",
         "Golden",
         "10+ Miles",
         "N",
         "Bachelors",
         60000.0
        ],
        [
         "Mountain",
         "Golden",
         "10+ Miles",
         "N",
         "Bachelors",
         60000.0
        ],
        [
         "Mountain",
         "Golden",
         "10+ Miles",
         "N",
         "Bachelors",
         70000.0
        ],
        [
         "Mountain",
         "Golden",
         "10+ Miles",
         "N",
         "Bachelors",
         70000.0
        ],
        [
         "Mountain",
         "Golden",
         "10+ Miles",
         "N",
         "Bachelors",
         70000.0
        ],
        [
         "Mountain",
         "Golden",
         "10+ Miles",
         "N",
         "Bachelors",
         70000.0
        ],
        [
         "Mountain",
         "Golden",
         "10+ Miles",
         "N",
         "Bachelors",
         70000.0
        ],
        [
         "Mountain",
         "Golden",
         "10+ Miles",
         "N",
         "Bachelors",
         70000.0
        ],
        [
         "Mountain",
         "Golden",
         "10+ Miles",
         "N",
         "Bachelors",
         70000.0
        ],
        [
         "Mountain",
         "Golden",
         "10+ Miles",
         "N",
         "Bachelors",
         70000.0
        ],
        [
         "Mountain",
         "Golden",
         "10+ Miles",
         "N",
         "Bachelors",
         70000.0
        ],
        [
         "Mountain",
         "Golden",
         "10+ Miles",
         "N",
         "Bachelors",
         70000.0
        ],
        [
         "Mountain",
         "Golden",
         "10+ Miles",
         "N",
         "Bachelors",
         70000.0
        ],
        [
         "Mountain",
         "Golden",
         "10+ Miles",
         "N",
         "Bachelors",
         70000.0
        ],
        [
         "Mountain",
         "Golden",
         "10+ Miles",
         "N",
         "Bachelors",
         70000.0
        ],
        [
         "Mountain",
         "Golden",
         "10+ Miles",
         "N",
         "Bachelors",
         70000.0
        ],
        [
         "Mountain",
         "Golden",
         "10+ Miles",
         "N",
         "Graduate Degree",
         60000.0
        ],
        [
         "Mountain",
         "Golden",
         "10+ Miles",
         "N",
         "Graduate Degree",
         60000.0
        ],
        [
         "Mountain",
         "Golden",
         "10+ Miles",
         "N",
         "Graduate Degree",
         70000.0
        ],
        [
         "Mountain",
         "Golden",
         "10+ Miles",
         "N",
         "Graduate Degree",
         70000.0
        ],
        [
         "Mountain",
         "Golden",
         "10+ Miles",
         "N",
         "Graduate Degree",
         70000.0
        ],
        [
         "Mountain",
         "Golden",
         "10+ Miles",
         "N",
         "Graduate Degree",
         70000.0
        ],
        [
         "Mountain",
         "Golden",
         "10+ Miles",
         "N",
         "Graduate Degree",
         70000.0
        ],
        [
         "Mountain",
         "Golden",
         "10+ Miles",
         "N",
         "Graduate Degree",
         70000.0
        ],
        [
         "Mountain",
         "Golden",
         "10+ Miles",
         "N",
         "Graduate Degree",
         70000.0
        ],
        [
         "Mountain",
         "Golden",
         "10+ Miles",
         "N",
         "Graduate Degree",
         70000.0
        ],
        [
         "Mountain",
         "Golden",
         "10+ Miles",
         "N",
         "Graduate Degree",
         70000.0
        ],
        [
         "Mountain",
         "Golden",
         "10+ Miles",
         "N",
         "High School",
         80000.0
        ],
        [
         "Mountain",
         "Golden",
         "10+ Miles",
         "N",
         "Partial College",
         80000.0
        ],
        [
         "Mountain",
         "Golden",
         "10+ Miles",
         "Y",
         "Bachelors",
         70000.0
        ],
        [
         "Mountain",
         "Golden",
         "10+ Miles",
         "Y",
         "Bachelors",
         70000.0
        ],
        [
         "Mountain",
         "Golden",
         "10+ Miles",
         "Y",
         "Bachelors",
         70000.0
        ],
        [
         "Mountain",
         "Golden",
         "10+ Miles",
         "Y",
         "Bachelors",
         70000.0
        ],
        [
         "Mountain",
         "Golden",
         "10+ Miles",
         "Y",
         "Bachelors",
         70000.0
        ],
        [
         "Mountain",
         "Golden",
         "10+ Miles",
         "Y",
         "Bachelors",
         70000.0
        ],
        [
         "Mountain",
         "Golden",
         "10+ Miles",
         "Y",
         "Bachelors",
         70000.0
        ],
        [
         "Mountain",
         "Golden",
         "10+ Miles",
         "Y",
         "Bachelors",
         70000.0
        ],
        [
         "Mountain",
         "Golden",
         "10+ Miles",
         "Y",
         "Bachelors",
         70000.0
        ],
        [
         "Mountain",
         "Golden",
         "10+ Miles",
         "Y",
         "Bachelors",
         100000.0
        ],
        [
         "Mountain",
         "Golden",
         "10+ Miles",
         "Y",
         "Bachelors",
         100000.0
        ],
        [
         "Mountain",
         "Golden",
         "10+ Miles",
         "Y",
         "Bachelors",
         110000.0
        ],
        [
         "Mountain",
         "Golden",
         "10+ Miles",
         "Y",
         "Bachelors",
         110000.0
        ],
        [
         "Mountain",
         "Golden",
         "10+ Miles",
         "Y",
         "Bachelors",
         120000.0
        ],
        [
         "Mountain",
         "Golden",
         "10+ Miles",
         "Y",
         "Bachelors",
         120000.0
        ],
        [
         "Mountain",
         "Golden",
         "10+ Miles",
         "Y",
         "Bachelors",
         120000.0
        ],
        [
         "Mountain",
         "Golden",
         "10+ Miles",
         "Y",
         "Bachelors",
         120000.0
        ],
        [
         "Mountain",
         "Golden",
         "10+ Miles",
         "Y",
         "Bachelors",
         120000.0
        ],
        [
         "Mountain",
         "Golden",
         "10+ Miles",
         "Y",
         "Bachelors",
         170000.0
        ],
        [
         "Mountain",
         "Golden",
         "10+ Miles",
         "Y",
         "Bachelors",
         170000.0
        ],
        [
         "Mountain",
         "Golden",
         "10+ Miles",
         "Y",
         "Bachelors",
         170000.0
        ],
        [
         "Mountain",
         "Golden",
         "10+ Miles",
         "Y",
         "Graduate Degree",
         70000.0
        ],
        [
         "Mountain",
         "Golden",
         "10+ Miles",
         "Y",
         "High School",
         40000.0
        ],
        [
         "Mountain",
         "Golden",
         "10+ Miles",
         "Y",
         "High School",
         60000.0
        ],
        [
         "Mountain",
         "Golden",
         "10+ Miles",
         "Y",
         "High School",
         60000.0
        ],
        [
         "Mountain",
         "Golden",
         "10+ Miles",
         "Y",
         "High School",
         60000.0
        ],
        [
         "Mountain",
         "Golden",
         "10+ Miles",
         "Y",
         "High School",
         60000.0
        ],
        [
         "Mountain",
         "Golden",
         "10+ Miles",
         "Y",
         "High School",
         70000.0
        ],
        [
         "Mountain",
         "Golden",
         "10+ Miles",
         "Y",
         "High School",
         70000.0
        ],
        [
         "Mountain",
         "Golden",
         "10+ Miles",
         "Y",
         "High School",
         70000.0
        ],
        [
         "Mountain",
         "Golden",
         "10+ Miles",
         "Y",
         "High School",
         70000.0
        ],
        [
         "Mountain",
         "Golden",
         "10+ Miles",
         "Y",
         "High School",
         70000.0
        ],
        [
         "Mountain",
         "Golden",
         "10+ Miles",
         "Y",
         "High School",
         70000.0
        ],
        [
         "Mountain",
         "Golden",
         "10+ Miles",
         "Y",
         "High School",
         70000.0
        ],
        [
         "Mountain",
         "Golden",
         "10+ Miles",
         "Y",
         "High School",
         70000.0
        ],
        [
         "Mountain",
         "Golden",
         "10+ Miles",
         "Y",
         "High School",
         70000.0
        ],
        [
         "Mountain",
         "Golden",
         "10+ Miles",
         "Y",
         "High School",
         70000.0
        ],
        [
         "Mountain",
         "Golden",
         "10+ Miles",
         "Y",
         "High School",
         80000.0
        ],
        [
         "Mountain",
         "Golden",
         "10+ Miles",
         "Y",
         "High School",
         80000.0
        ],
        [
         "Mountain",
         "Golden",
         "10+ Miles",
         "Y",
         "High School",
         90000.0
        ],
        [
         "Mountain",
         "Golden",
         "10+ Miles",
         "Y",
         "High School",
         90000.0
        ],
        [
         "Mountain",
         "Golden",
         "10+ Miles",
         "Y",
         "High School",
         90000.0
        ],
        [
         "Mountain",
         "Golden",
         "10+ Miles",
         "Y",
         "High School",
         90000.0
        ],
        [
         "Mountain",
         "Golden",
         "10+ Miles",
         "Y",
         "High School",
         90000.0
        ],
        [
         "Mountain",
         "Golden",
         "10+ Miles",
         "Y",
         "High School",
         90000.0
        ],
        [
         "Mountain",
         "Golden",
         "10+ Miles",
         "Y",
         "High School",
         90000.0
        ],
        [
         "Mountain",
         "Golden",
         "10+ Miles",
         "Y",
         "High School",
         100000.0
        ],
        [
         "Mountain",
         "Golden",
         "10+ Miles",
         "Y",
         "High School",
         110000.0
        ],
        [
         "Mountain",
         "Golden",
         "10+ Miles",
         "Y",
         "High School",
         110000.0
        ],
        [
         "Mountain",
         "Golden",
         "10+ Miles",
         "Y",
         "High School",
         130000.0
        ],
        [
         "Mountain",
         "Golden",
         "10+ Miles",
         "Y",
         "High School",
         160000.0
        ],
        [
         "Mountain",
         "Golden",
         "10+ Miles",
         "Y",
         "High School",
         170000.0
        ],
        [
         "Mountain",
         "Golden",
         "10+ Miles",
         "Y",
         "High School",
         170000.0
        ],
        [
         "Mountain",
         "Golden",
         "10+ Miles",
         "Y",
         "Partial College",
         60000.0
        ],
        [
         "Mountain",
         "Golden",
         "10+ Miles",
         "Y",
         "Partial College",
         60000.0
        ],
        [
         "Mountain",
         "Golden",
         "10+ Miles",
         "Y",
         "Partial College",
         60000.0
        ],
        [
         "Mountain",
         "Golden",
         "10+ Miles",
         "Y",
         "Partial College",
         60000.0
        ],
        [
         "Mountain",
         "Golden",
         "10+ Miles",
         "Y",
         "Partial College",
         60000.0
        ],
        [
         "Mountain",
         "Golden",
         "10+ Miles",
         "Y",
         "Partial College",
         60000.0
        ],
        [
         "Mountain",
         "Golden",
         "10+ Miles",
         "Y",
         "Partial College",
         60000.0
        ],
        [
         "Mountain",
         "Golden",
         "10+ Miles",
         "Y",
         "Partial College",
         60000.0
        ],
        [
         "Mountain",
         "Golden",
         "10+ Miles",
         "Y",
         "Partial College",
         60000.0
        ],
        [
         "Mountain",
         "Golden",
         "10+ Miles",
         "Y",
         "Partial College",
         60000.0
        ],
        [
         "Mountain",
         "Golden",
         "10+ Miles",
         "Y",
         "Partial College",
         60000.0
        ],
        [
         "Mountain",
         "Golden",
         "10+ Miles",
         "Y",
         "Partial College",
         60000.0
        ],
        [
         "Mountain",
         "Golden",
         "10+ Miles",
         "Y",
         "Partial College",
         70000.0
        ],
        [
         "Mountain",
         "Golden",
         "10+ Miles",
         "Y",
         "Partial College",
         70000.0
        ],
        [
         "Mountain",
         "Golden",
         "10+ Miles",
         "Y",
         "Partial College",
         70000.0
        ],
        [
         "Mountain",
         "Golden",
         "10+ Miles",
         "Y",
         "Partial College",
         70000.0
        ],
        [
         "Mountain",
         "Golden",
         "10+ Miles",
         "Y",
         "Partial College",
         70000.0
        ],
        [
         "Mountain",
         "Golden",
         "10+ Miles",
         "Y",
         "Partial College",
         70000.0
        ],
        [
         "Mountain",
         "Golden",
         "10+ Miles",
         "Y",
         "Partial College",
         70000.0
        ],
        [
         "Mountain",
         "Golden",
         "10+ Miles",
         "Y",
         "Partial College",
         70000.0
        ],
        [
         "Mountain",
         "Golden",
         "10+ Miles",
         "Y",
         "Partial College",
         70000.0
        ],
        [
         "Mountain",
         "Golden",
         "10+ Miles",
         "Y",
         "Partial College",
         70000.0
        ],
        [
         "Mountain",
         "Golden",
         "10+ Miles",
         "Y",
         "Partial College",
         70000.0
        ],
        [
         "Mountain",
         "Golden",
         "10+ Miles",
         "Y",
         "Partial College",
         70000.0
        ],
        [
         "Mountain",
         "Golden",
         "10+ Miles",
         "Y",
         "Partial College",
         70000.0
        ],
        [
         "Mountain",
         "Golden",
         "10+ Miles",
         "Y",
         "Partial College",
         70000.0
        ],
        [
         "Mountain",
         "Golden",
         "10+ Miles",
         "Y",
         "Partial College",
         70000.0
        ],
        [
         "Mountain",
         "Golden",
         "10+ Miles",
         "Y",
         "Partial College",
         70000.0
        ],
        [
         "Mountain",
         "Golden",
         "10+ Miles",
         "Y",
         "Partial College",
         70000.0
        ],
        [
         "Mountain",
         "Golden",
         "10+ Miles",
         "Y",
         "Partial College",
         70000.0
        ],
        [
         "Mountain",
         "Golden",
         "10+ Miles",
         "Y",
         "Partial College",
         70000.0
        ],
        [
         "Mountain",
         "Golden",
         "10+ Miles",
         "Y",
         "Partial College",
         70000.0
        ],
        [
         "Mountain",
         "Golden",
         "10+ Miles",
         "Y",
         "Partial College",
         80000.0
        ],
        [
         "Mountain",
         "Golden",
         "10+ Miles",
         "Y",
         "Partial College",
         80000.0
        ],
        [
         "Mountain",
         "Golden",
         "10+ Miles",
         "Y",
         "Partial College",
         80000.0
        ],
        [
         "Mountain",
         "Golden",
         "10+ Miles",
         "Y",
         "Partial College",
         80000.0
        ],
        [
         "Mountain",
         "Golden",
         "10+ Miles",
         "Y",
         "Partial College",
         90000.0
        ],
        [
         "Mountain",
         "Golden",
         "10+ Miles",
         "Y",
         "Partial College",
         90000.0
        ],
        [
         "Mountain",
         "Golden",
         "10+ Miles",
         "Y",
         "Partial College",
         100000.0
        ],
        [
         "Mountain",
         "Golden",
         "10+ Miles",
         "Y",
         "Partial College",
         110000.0
        ],
        [
         "Mountain",
         "Golden",
         "10+ Miles",
         "Y",
         "Partial College",
         110000.0
        ],
        [
         "Mountain",
         "Golden",
         "10+ Miles",
         "Y",
         "Partial College",
         110000.0
        ],
        [
         "Mountain",
         "Golden",
         "10+ Miles",
         "Y",
         "Partial College",
         110000.0
        ],
        [
         "Mountain",
         "Golden",
         "10+ Miles",
         "Y",
         "Partial College",
         110000.0
        ],
        [
         "Mountain",
         "Golden",
         "10+ Miles",
         "Y",
         "Partial College",
         130000.0
        ],
        [
         "Mountain",
         "Golden",
         "10+ Miles",
         "Y",
         "Partial College",
         130000.0
        ],
        [
         "Mountain",
         "Golden",
         "10+ Miles",
         "Y",
         "Partial College",
         130000.0
        ],
        [
         "Mountain",
         "Golden",
         "10+ Miles",
         "Y",
         "Partial College",
         130000.0
        ],
        [
         "Mountain",
         "Golden",
         "10+ Miles",
         "Y",
         "Partial High School",
         70000.0
        ],
        [
         "Mountain",
         "Golden",
         "10+ Miles",
         "Y",
         "Partial High School",
         110000.0
        ],
        [
         "Mountain",
         "Golden",
         "10+ Miles",
         "Y",
         "Partial High School",
         110000.0
        ],
        [
         "Mountain",
         "Golden",
         "10+ Miles",
         "Y",
         "Partial High School",
         160000.0
        ],
        [
         "Mountain",
         "Golden",
         "10+ Miles",
         "Y",
         "Partial High School",
         170000.0
        ],
        [
         "Mountain",
         "Golden",
         "2-5 Miles",
         "N",
         "Bachelors",
         60000.0
        ],
        [
         "Mountain",
         "Golden",
         "2-5 Miles",
         "N",
         "Bachelors",
         60000.0
        ],
        [
         "Mountain",
         "Golden",
         "2-5 Miles",
         "N",
         "Bachelors",
         60000.0
        ],
        [
         "Mountain",
         "Golden",
         "2-5 Miles",
         "N",
         "Bachelors",
         70000.0
        ],
        [
         "Mountain",
         "Golden",
         "2-5 Miles",
         "N",
         "Bachelors",
         70000.0
        ],
        [
         "Mountain",
         "Golden",
         "2-5 Miles",
         "N",
         "Bachelors",
         70000.0
        ],
        [
         "Mountain",
         "Golden",
         "2-5 Miles",
         "N",
         "Bachelors",
         90000.0
        ],
        [
         "Mountain",
         "Golden",
         "2-5 Miles",
         "N",
         "Bachelors",
         90000.0
        ],
        [
         "Mountain",
         "Golden",
         "2-5 Miles",
         "N",
         "Bachelors",
         90000.0
        ],
        [
         "Mountain",
         "Golden",
         "2-5 Miles",
         "N",
         "Graduate Degree",
         70000.0
        ],
        [
         "Mountain",
         "Golden",
         "2-5 Miles",
         "N",
         "Graduate Degree",
         90000.0
        ],
        [
         "Mountain",
         "Golden",
         "2-5 Miles",
         "N",
         "Graduate Degree",
         170000.0
        ],
        [
         "Mountain",
         "Golden",
         "2-5 Miles",
         "N",
         "High School",
         30000.0
        ],
        [
         "Mountain",
         "Golden",
         "2-5 Miles",
         "N",
         "Partial College",
         20000.0
        ],
        [
         "Mountain",
         "Golden",
         "2-5 Miles",
         "N",
         "Partial College",
         20000.0
        ],
        [
         "Mountain",
         "Golden",
         "2-5 Miles",
         "N",
         "Partial College",
         20000.0
        ],
        [
         "Mountain",
         "Golden",
         "2-5 Miles",
         "N",
         "Partial College",
         20000.0
        ],
        [
         "Mountain",
         "Golden",
         "2-5 Miles",
         "N",
         "Partial College",
         30000.0
        ],
        [
         "Mountain",
         "Golden",
         "2-5 Miles",
         "N",
         "Partial College",
         60000.0
        ],
        [
         "Mountain",
         "Golden",
         "2-5 Miles",
         "N",
         "Partial College",
         70000.0
        ],
        [
         "Mountain",
         "Golden",
         "2-5 Miles",
         "N",
         "Partial College",
         70000.0
        ],
        [
         "Mountain",
         "Golden",
         "2-5 Miles",
         "N",
         "Partial College",
         70000.0
        ],
        [
         "Mountain",
         "Golden",
         "2-5 Miles",
         "N",
         "Partial College",
         80000.0
        ],
        [
         "Mountain",
         "Golden",
         "2-5 Miles",
         "N",
         "Partial College",
         80000.0
        ],
        [
         "Mountain",
         "Golden",
         "2-5 Miles",
         "N",
         "Partial College",
         80000.0
        ],
        [
         "Mountain",
         "Golden",
         "2-5 Miles",
         "N",
         "Partial College",
         90000.0
        ],
        [
         "Mountain",
         "Golden",
         "2-5 Miles",
         "N",
         "Partial College",
         90000.0
        ],
        [
         "Mountain",
         "Golden",
         "2-5 Miles",
         "N",
         "Partial College",
         90000.0
        ],
        [
         "Mountain",
         "Golden",
         "2-5 Miles",
         "N",
         "Partial College",
         90000.0
        ],
        [
         "Mountain",
         "Golden",
         "2-5 Miles",
         "Y",
         "Bachelors",
         60000.0
        ],
        [
         "Mountain",
         "Golden",
         "2-5 Miles",
         "Y",
         "Bachelors",
         70000.0
        ],
        [
         "Mountain",
         "Golden",
         "2-5 Miles",
         "Y",
         "Bachelors",
         70000.0
        ],
        [
         "Mountain",
         "Golden",
         "2-5 Miles",
         "Y",
         "Bachelors",
         80000.0
        ],
        [
         "Mountain",
         "Golden",
         "2-5 Miles",
         "Y",
         "Bachelors",
         80000.0
        ],
        [
         "Mountain",
         "Golden",
         "2-5 Miles",
         "Y",
         "Bachelors",
         100000.0
        ],
        [
         "Mountain",
         "Golden",
         "2-5 Miles",
         "Y",
         "Bachelors",
         120000.0
        ],
        [
         "Mountain",
         "Golden",
         "2-5 Miles",
         "Y",
         "Bachelors",
         130000.0
        ],
        [
         "Mountain",
         "Golden",
         "2-5 Miles",
         "Y",
         "Bachelors",
         130000.0
        ],
        [
         "Mountain",
         "Golden",
         "2-5 Miles",
         "Y",
         "Bachelors",
         130000.0
        ],
        [
         "Mountain",
         "Golden",
         "2-5 Miles",
         "Y",
         "Bachelors",
         130000.0
        ],
        [
         "Mountain",
         "Golden",
         "2-5 Miles",
         "Y",
         "Bachelors",
         130000.0
        ],
        [
         "Mountain",
         "Golden",
         "2-5 Miles",
         "Y",
         "Bachelors",
         130000.0
        ],
        [
         "Mountain",
         "Golden",
         "2-5 Miles",
         "Y",
         "Bachelors",
         170000.0
        ],
        [
         "Mountain",
         "Golden",
         "2-5 Miles",
         "Y",
         "Graduate Degree",
         110000.0
        ],
        [
         "Mountain",
         "Golden",
         "2-5 Miles",
         "Y",
         "Graduate Degree",
         110000.0
        ],
        [
         "Mountain",
         "Golden",
         "2-5 Miles",
         "Y",
         "Graduate Degree",
         110000.0
        ],
        [
         "Mountain",
         "Golden",
         "2-5 Miles",
         "Y",
         "Graduate Degree",
         110000.0
        ],
        [
         "Mountain",
         "Golden",
         "2-5 Miles",
         "Y",
         "Graduate Degree",
         130000.0
        ],
        [
         "Mountain",
         "Golden",
         "2-5 Miles",
         "Y",
         "Graduate Degree",
         170000.0
        ],
        [
         "Mountain",
         "Golden",
         "2-5 Miles",
         "Y",
         "High School",
         10000.0
        ],
        [
         "Mountain",
         "Golden",
         "2-5 Miles",
         "Y",
         "High School",
         60000.0
        ],
        [
         "Mountain",
         "Golden",
         "2-5 Miles",
         "Y",
         "High School",
         70000.0
        ],
        [
         "Mountain",
         "Golden",
         "2-5 Miles",
         "Y",
         "High School",
         70000.0
        ],
        [
         "Mountain",
         "Golden",
         "2-5 Miles",
         "Y",
         "High School",
         70000.0
        ],
        [
         "Mountain",
         "Golden",
         "2-5 Miles",
         "Y",
         "High School",
         70000.0
        ],
        [
         "Mountain",
         "Golden",
         "2-5 Miles",
         "Y",
         "High School",
         70000.0
        ],
        [
         "Mountain",
         "Golden",
         "2-5 Miles",
         "Y",
         "High School",
         80000.0
        ],
        [
         "Mountain",
         "Golden",
         "2-5 Miles",
         "Y",
         "High School",
         80000.0
        ],
        [
         "Mountain",
         "Golden",
         "2-5 Miles",
         "Y",
         "High School",
         80000.0
        ],
        [
         "Mountain",
         "Golden",
         "2-5 Miles",
         "Y",
         "High School",
         90000.0
        ],
        [
         "Mountain",
         "Golden",
         "2-5 Miles",
         "Y",
         "High School",
         90000.0
        ],
        [
         "Mountain",
         "Golden",
         "2-5 Miles",
         "Y",
         "High School",
         90000.0
        ],
        [
         "Mountain",
         "Golden",
         "2-5 Miles",
         "Y",
         "High School",
         90000.0
        ],
        [
         "Mountain",
         "Golden",
         "2-5 Miles",
         "Y",
         "High School",
         90000.0
        ],
        [
         "Mountain",
         "Golden",
         "2-5 Miles",
         "Y",
         "High School",
         90000.0
        ],
        [
         "Mountain",
         "Golden",
         "2-5 Miles",
         "Y",
         "High School",
         90000.0
        ],
        [
         "Mountain",
         "Golden",
         "2-5 Miles",
         "Y",
         "High School",
         90000.0
        ],
        [
         "Mountain",
         "Golden",
         "2-5 Miles",
         "Y",
         "Partial College",
         60000.0
        ],
        [
         "Mountain",
         "Golden",
         "2-5 Miles",
         "Y",
         "Partial College",
         60000.0
        ],
        [
         "Mountain",
         "Golden",
         "2-5 Miles",
         "Y",
         "Partial College",
         60000.0
        ],
        [
         "Mountain",
         "Golden",
         "2-5 Miles",
         "Y",
         "Partial College",
         60000.0
        ],
        [
         "Mountain",
         "Golden",
         "2-5 Miles",
         "Y",
         "Partial College",
         70000.0
        ],
        [
         "Mountain",
         "Golden",
         "2-5 Miles",
         "Y",
         "Partial College",
         70000.0
        ],
        [
         "Mountain",
         "Golden",
         "2-5 Miles",
         "Y",
         "Partial College",
         70000.0
        ],
        [
         "Mountain",
         "Golden",
         "2-5 Miles",
         "Y",
         "Partial College",
         70000.0
        ],
        [
         "Mountain",
         "Golden",
         "2-5 Miles",
         "Y",
         "Partial College",
         80000.0
        ],
        [
         "Mountain",
         "Golden",
         "2-5 Miles",
         "Y",
         "Partial College",
         80000.0
        ],
        [
         "Mountain",
         "Golden",
         "2-5 Miles",
         "Y",
         "Partial College",
         80000.0
        ],
        [
         "Mountain",
         "Golden",
         "2-5 Miles",
         "Y",
         "Partial College",
         80000.0
        ],
        [
         "Mountain",
         "Golden",
         "2-5 Miles",
         "Y",
         "Partial College",
         80000.0
        ],
        [
         "Mountain",
         "Golden",
         "2-5 Miles",
         "Y",
         "Partial College",
         90000.0
        ],
        [
         "Mountain",
         "Golden",
         "2-5 Miles",
         "Y",
         "Partial College",
         90000.0
        ],
        [
         "Mountain",
         "Golden",
         "2-5 Miles",
         "Y",
         "Partial High School",
         70000.0
        ],
        [
         "Mountain",
         "Golden",
         "2-5 Miles",
         "Y",
         "Partial High School",
         70000.0
        ],
        [
         "Mountain",
         "Golden",
         "5-10 Miles",
         "N",
         "Bachelors",
         30000.0
        ],
        [
         "Mountain",
         "Golden",
         "5-10 Miles",
         "N",
         "Bachelors",
         40000.0
        ],
        [
         "Mountain",
         "Golden",
         "5-10 Miles",
         "N",
         "Bachelors",
         40000.0
        ],
        [
         "Mountain",
         "Golden",
         "5-10 Miles",
         "N",
         "Bachelors",
         60000.0
        ],
        [
         "Mountain",
         "Golden",
         "5-10 Miles",
         "N",
         "Bachelors",
         60000.0
        ],
        [
         "Mountain",
         "Golden",
         "5-10 Miles",
         "N",
         "Bachelors",
         70000.0
        ],
        [
         "Mountain",
         "Golden",
         "5-10 Miles",
         "N",
         "Bachelors",
         70000.0
        ],
        [
         "Mountain",
         "Golden",
         "5-10 Miles",
         "N",
         "Bachelors",
         70000.0
        ],
        [
         "Mountain",
         "Golden",
         "5-10 Miles",
         "N",
         "Bachelors",
         80000.0
        ],
        [
         "Mountain",
         "Golden",
         "5-10 Miles",
         "N",
         "Bachelors",
         80000.0
        ],
        [
         "Mountain",
         "Golden",
         "5-10 Miles",
         "N",
         "Bachelors",
         90000.0
        ],
        [
         "Mountain",
         "Golden",
         "5-10 Miles",
         "N",
         "Bachelors",
         90000.0
        ],
        [
         "Mountain",
         "Golden",
         "5-10 Miles",
         "N",
         "Bachelors",
         90000.0
        ],
        [
         "Mountain",
         "Golden",
         "5-10 Miles",
         "N",
         "Bachelors",
         90000.0
        ],
        [
         "Mountain",
         "Golden",
         "5-10 Miles",
         "N",
         "Bachelors",
         90000.0
        ],
        [
         "Mountain",
         "Golden",
         "5-10 Miles",
         "N",
         "Graduate Degree",
         50000.0
        ],
        [
         "Mountain",
         "Golden",
         "5-10 Miles",
         "N",
         "Graduate Degree",
         50000.0
        ],
        [
         "Mountain",
         "Golden",
         "5-10 Miles",
         "N",
         "Graduate Degree",
         50000.0
        ],
        [
         "Mountain",
         "Golden",
         "5-10 Miles",
         "N",
         "Graduate Degree",
         60000.0
        ],
        [
         "Mountain",
         "Golden",
         "5-10 Miles",
         "N",
         "Graduate Degree",
         60000.0
        ],
        [
         "Mountain",
         "Golden",
         "5-10 Miles",
         "N",
         "Graduate Degree",
         70000.0
        ],
        [
         "Mountain",
         "Golden",
         "5-10 Miles",
         "N",
         "Graduate Degree",
         70000.0
        ],
        [
         "Mountain",
         "Golden",
         "5-10 Miles",
         "N",
         "Graduate Degree",
         70000.0
        ],
        [
         "Mountain",
         "Golden",
         "5-10 Miles",
         "N",
         "Graduate Degree",
         70000.0
        ],
        [
         "Mountain",
         "Golden",
         "5-10 Miles",
         "N",
         "Graduate Degree",
         70000.0
        ],
        [
         "Mountain",
         "Golden",
         "5-10 Miles",
         "N",
         "Graduate Degree",
         70000.0
        ],
        [
         "Mountain",
         "Golden",
         "5-10 Miles",
         "N",
         "Graduate Degree",
         70000.0
        ],
        [
         "Mountain",
         "Golden",
         "5-10 Miles",
         "N",
         "Graduate Degree",
         70000.0
        ],
        [
         "Mountain",
         "Golden",
         "5-10 Miles",
         "N",
         "Graduate Degree",
         70000.0
        ],
        [
         "Mountain",
         "Golden",
         "5-10 Miles",
         "N",
         "Graduate Degree",
         70000.0
        ],
        [
         "Mountain",
         "Golden",
         "5-10 Miles",
         "N",
         "Graduate Degree",
         70000.0
        ],
        [
         "Mountain",
         "Golden",
         "5-10 Miles",
         "N",
         "Graduate Degree",
         80000.0
        ],
        [
         "Mountain",
         "Golden",
         "5-10 Miles",
         "N",
         "Graduate Degree",
         80000.0
        ],
        [
         "Mountain",
         "Golden",
         "5-10 Miles",
         "N",
         "High School",
         20000.0
        ],
        [
         "Mountain",
         "Golden",
         "5-10 Miles",
         "N",
         "High School",
         20000.0
        ],
        [
         "Mountain",
         "Golden",
         "5-10 Miles",
         "N",
         "High School",
         30000.0
        ],
        [
         "Mountain",
         "Golden",
         "5-10 Miles",
         "N",
         "High School",
         30000.0
        ],
        [
         "Mountain",
         "Golden",
         "5-10 Miles",
         "N",
         "High School",
         70000.0
        ],
        [
         "Mountain",
         "Golden",
         "5-10 Miles",
         "N",
         "High School",
         70000.0
        ],
        [
         "Mountain",
         "Golden",
         "5-10 Miles",
         "N",
         "High School",
         70000.0
        ],
        [
         "Mountain",
         "Golden",
         "5-10 Miles",
         "N",
         "High School",
         70000.0
        ],
        [
         "Mountain",
         "Golden",
         "5-10 Miles",
         "N",
         "High School",
         70000.0
        ],
        [
         "Mountain",
         "Golden",
         "5-10 Miles",
         "N",
         "High School",
         80000.0
        ],
        [
         "Mountain",
         "Golden",
         "5-10 Miles",
         "N",
         "High School",
         80000.0
        ],
        [
         "Mountain",
         "Golden",
         "5-10 Miles",
         "N",
         "High School",
         80000.0
        ],
        [
         "Mountain",
         "Golden",
         "5-10 Miles",
         "N",
         "High School",
         80000.0
        ],
        [
         "Mountain",
         "Golden",
         "5-10 Miles",
         "N",
         "High School",
         80000.0
        ],
        [
         "Mountain",
         "Golden",
         "5-10 Miles",
         "N",
         "High School",
         80000.0
        ],
        [
         "Mountain",
         "Golden",
         "5-10 Miles",
         "N",
         "Partial College",
         30000.0
        ],
        [
         "Mountain",
         "Golden",
         "5-10 Miles",
         "N",
         "Partial College",
         30000.0
        ],
        [
         "Mountain",
         "Golden",
         "5-10 Miles",
         "N",
         "Partial College",
         30000.0
        ],
        [
         "Mountain",
         "Golden",
         "5-10 Miles",
         "N",
         "Partial College",
         40000.0
        ],
        [
         "Mountain",
         "Golden",
         "5-10 Miles",
         "N",
         "Partial College",
         40000.0
        ],
        [
         "Mountain",
         "Golden",
         "5-10 Miles",
         "N",
         "Partial College",
         60000.0
        ],
        [
         "Mountain",
         "Golden",
         "5-10 Miles",
         "N",
         "Partial College",
         60000.0
        ],
        [
         "Mountain",
         "Golden",
         "5-10 Miles",
         "N",
         "Partial College",
         60000.0
        ],
        [
         "Mountain",
         "Golden",
         "5-10 Miles",
         "N",
         "Partial College",
         60000.0
        ],
        [
         "Mountain",
         "Golden",
         "5-10 Miles",
         "N",
         "Partial College",
         60000.0
        ],
        [
         "Mountain",
         "Golden",
         "5-10 Miles",
         "N",
         "Partial College",
         60000.0
        ],
        [
         "Mountain",
         "Golden",
         "5-10 Miles",
         "N",
         "Partial College",
         70000.0
        ],
        [
         "Mountain",
         "Golden",
         "5-10 Miles",
         "N",
         "Partial College",
         70000.0
        ],
        [
         "Mountain",
         "Golden",
         "5-10 Miles",
         "N",
         "Partial College",
         70000.0
        ],
        [
         "Mountain",
         "Golden",
         "5-10 Miles",
         "N",
         "Partial College",
         70000.0
        ],
        [
         "Mountain",
         "Golden",
         "5-10 Miles",
         "N",
         "Partial College",
         70000.0
        ],
        [
         "Mountain",
         "Golden",
         "5-10 Miles",
         "N",
         "Partial College",
         70000.0
        ],
        [
         "Mountain",
         "Golden",
         "5-10 Miles",
         "N",
         "Partial College",
         70000.0
        ],
        [
         "Mountain",
         "Golden",
         "5-10 Miles",
         "N",
         "Partial College",
         70000.0
        ],
        [
         "Mountain",
         "Golden",
         "5-10 Miles",
         "N",
         "Partial College",
         80000.0
        ],
        [
         "Mountain",
         "Golden",
         "5-10 Miles",
         "N",
         "Partial College",
         80000.0
        ],
        [
         "Mountain",
         "Golden",
         "5-10 Miles",
         "N",
         "Partial College",
         80000.0
        ],
        [
         "Mountain",
         "Golden",
         "5-10 Miles",
         "N",
         "Partial College",
         80000.0
        ],
        [
         "Mountain",
         "Golden",
         "5-10 Miles",
         "N",
         "Partial College",
         80000.0
        ],
        [
         "Mountain",
         "Golden",
         "5-10 Miles",
         "N",
         "Partial College",
         80000.0
        ],
        [
         "Mountain",
         "Golden",
         "5-10 Miles",
         "N",
         "Partial College",
         90000.0
        ],
        [
         "Mountain",
         "Golden",
         "5-10 Miles",
         "N",
         "Partial High School",
         70000.0
        ],
        [
         "Mountain",
         "Golden",
         "5-10 Miles",
         "N",
         "Partial High School",
         80000.0
        ],
        [
         "Mountain",
         "Golden",
         "5-10 Miles",
         "N",
         "Partial High School",
         80000.0
        ],
        [
         "Mountain",
         "Golden",
         "5-10 Miles",
         "N",
         "Partial High School",
         80000.0
        ],
        [
         "Mountain",
         "Golden",
         "5-10 Miles",
         "N",
         "Partial High School",
         80000.0
        ],
        [
         "Mountain",
         "Golden",
         "5-10 Miles",
         "N",
         "Partial High School",
         80000.0
        ],
        [
         "Mountain",
         "Golden",
         "5-10 Miles",
         "N",
         "Partial High School",
         80000.0
        ],
        [
         "Mountain",
         "Golden",
         "5-10 Miles",
         "N",
         "Partial High School",
         80000.0
        ],
        [
         "Mountain",
         "Golden",
         "5-10 Miles",
         "N",
         "Partial High School",
         80000.0
        ],
        [
         "Mountain",
         "Golden",
         "5-10 Miles",
         "N",
         "Partial High School",
         80000.0
        ],
        [
         "Mountain",
         "Golden",
         "5-10 Miles",
         "N",
         "Partial High School",
         80000.0
        ],
        [
         "Mountain",
         "Golden",
         "5-10 Miles",
         "N",
         "Partial High School",
         80000.0
        ],
        [
         "Mountain",
         "Golden",
         "5-10 Miles",
         "Y",
         "Bachelors",
         110000.0
        ],
        [
         "Mountain",
         "Golden",
         "5-10 Miles",
         "Y",
         "Bachelors",
         110000.0
        ],
        [
         "Mountain",
         "Golden",
         "5-10 Miles",
         "Y",
         "Bachelors",
         110000.0
        ],
        [
         "Mountain",
         "Golden",
         "5-10 Miles",
         "Y",
         "Bachelors",
         110000.0
        ],
        [
         "Mountain",
         "Golden",
         "5-10 Miles",
         "Y",
         "Bachelors",
         110000.0
        ],
        [
         "Mountain",
         "Golden",
         "5-10 Miles",
         "Y",
         "Graduate Degree",
         110000.0
        ],
        [
         "Mountain",
         "Golden",
         "5-10 Miles",
         "Y",
         "Graduate Degree",
         110000.0
        ],
        [
         "Mountain",
         "Golden",
         "5-10 Miles",
         "Y",
         "Graduate Degree",
         120000.0
        ],
        [
         "Mountain",
         "Golden",
         "5-10 Miles",
         "Y",
         "Graduate Degree",
         120000.0
        ],
        [
         "Mountain",
         "Golden",
         "5-10 Miles",
         "Y",
         "Graduate Degree",
         120000.0
        ],
        [
         "Mountain",
         "Golden",
         "5-10 Miles",
         "Y",
         "Graduate Degree",
         150000.0
        ],
        [
         "Mountain",
         "Golden",
         "5-10 Miles",
         "Y",
         "High School",
         70000.0
        ],
        [
         "Mountain",
         "Golden",
         "5-10 Miles",
         "Y",
         "High School",
         70000.0
        ],
        [
         "Mountain",
         "Golden",
         "5-10 Miles",
         "Y",
         "High School",
         70000.0
        ],
        [
         "Mountain",
         "Golden",
         "5-10 Miles",
         "Y",
         "High School",
         70000.0
        ],
        [
         "Mountain",
         "Golden",
         "5-10 Miles",
         "Y",
         "High School",
         70000.0
        ],
        [
         "Mountain",
         "Golden",
         "5-10 Miles",
         "Y",
         "High School",
         70000.0
        ],
        [
         "Mountain",
         "Golden",
         "5-10 Miles",
         "Y",
         "High School",
         70000.0
        ],
        [
         "Mountain",
         "Golden",
         "5-10 Miles",
         "Y",
         "High School",
         70000.0
        ],
        [
         "Mountain",
         "Golden",
         "5-10 Miles",
         "Y",
         "High School",
         80000.0
        ],
        [
         "Mountain",
         "Golden",
         "5-10 Miles",
         "Y",
         "High School",
         80000.0
        ],
        [
         "Mountain",
         "Golden",
         "5-10 Miles",
         "Y",
         "High School",
         90000.0
        ],
        [
         "Mountain",
         "Golden",
         "5-10 Miles",
         "Y",
         "High School",
         90000.0
        ],
        [
         "Mountain",
         "Golden",
         "5-10 Miles",
         "Y",
         "High School",
         90000.0
        ],
        [
         "Mountain",
         "Golden",
         "5-10 Miles",
         "Y",
         "High School",
         90000.0
        ],
        [
         "Mountain",
         "Golden",
         "5-10 Miles",
         "Y",
         "High School",
         90000.0
        ],
        [
         "Mountain",
         "Golden",
         "5-10 Miles",
         "Y",
         "High School",
         90000.0
        ],
        [
         "Mountain",
         "Golden",
         "5-10 Miles",
         "Y",
         "High School",
         90000.0
        ],
        [
         "Mountain",
         "Golden",
         "5-10 Miles",
         "Y",
         "High School",
         90000.0
        ],
        [
         "Mountain",
         "Golden",
         "5-10 Miles",
         "Y",
         "High School",
         90000.0
        ],
        [
         "Mountain",
         "Golden",
         "5-10 Miles",
         "Y",
         "High School",
         90000.0
        ],
        [
         "Mountain",
         "Golden",
         "5-10 Miles",
         "Y",
         "High School",
         90000.0
        ],
        [
         "Mountain",
         "Golden",
         "5-10 Miles",
         "Y",
         "High School",
         90000.0
        ],
        [
         "Mountain",
         "Golden",
         "5-10 Miles",
         "Y",
         "High School",
         90000.0
        ],
        [
         "Mountain",
         "Golden",
         "5-10 Miles",
         "Y",
         "High School",
         100000.0
        ],
        [
         "Mountain",
         "Golden",
         "5-10 Miles",
         "Y",
         "High School",
         120000.0
        ],
        [
         "Mountain",
         "Golden",
         "5-10 Miles",
         "Y",
         "High School",
         120000.0
        ],
        [
         "Mountain",
         "Golden",
         "5-10 Miles",
         "Y",
         "High School",
         120000.0
        ],
        [
         "Mountain",
         "Golden",
         "5-10 Miles",
         "Y",
         "High School",
         120000.0
        ],
        [
         "Mountain",
         "Golden",
         "5-10 Miles",
         "Y",
         "High School",
         120000.0
        ],
        [
         "Mountain",
         "Golden",
         "5-10 Miles",
         "Y",
         "High School",
         120000.0
        ],
        [
         "Mountain",
         "Golden",
         "5-10 Miles",
         "Y",
         "High School",
         120000.0
        ],
        [
         "Mountain",
         "Golden",
         "5-10 Miles",
         "Y",
         "High School",
         120000.0
        ],
        [
         "Mountain",
         "Golden",
         "5-10 Miles",
         "Y",
         "High School",
         170000.0
        ],
        [
         "Mountain",
         "Golden",
         "5-10 Miles",
         "Y",
         "Partial College",
         70000.0
        ],
        [
         "Mountain",
         "Golden",
         "5-10 Miles",
         "Y",
         "Partial College",
         70000.0
        ],
        [
         "Mountain",
         "Golden",
         "5-10 Miles",
         "Y",
         "Partial College",
         70000.0
        ],
        [
         "Mountain",
         "Golden",
         "5-10 Miles",
         "Y",
         "Partial College",
         70000.0
        ],
        [
         "Mountain",
         "Golden",
         "5-10 Miles",
         "Y",
         "Partial College",
         70000.0
        ],
        [
         "Mountain",
         "Golden",
         "5-10 Miles",
         "Y",
         "Partial College",
         70000.0
        ],
        [
         "Mountain",
         "Golden",
         "5-10 Miles",
         "Y",
         "Partial College",
         70000.0
        ],
        [
         "Mountain",
         "Golden",
         "5-10 Miles",
         "Y",
         "Partial College",
         70000.0
        ],
        [
         "Mountain",
         "Golden",
         "5-10 Miles",
         "Y",
         "Partial College",
         70000.0
        ],
        [
         "Mountain",
         "Golden",
         "5-10 Miles",
         "Y",
         "Partial College",
         80000.0
        ],
        [
         "Mountain",
         "Golden",
         "5-10 Miles",
         "Y",
         "Partial College",
         80000.0
        ],
        [
         "Mountain",
         "Golden",
         "5-10 Miles",
         "Y",
         "Partial College",
         80000.0
        ],
        [
         "Mountain",
         "Golden",
         "5-10 Miles",
         "Y",
         "Partial College",
         90000.0
        ],
        [
         "Mountain",
         "Golden",
         "5-10 Miles",
         "Y",
         "Partial College",
         90000.0
        ],
        [
         "Mountain",
         "Golden",
         "5-10 Miles",
         "Y",
         "Partial College",
         90000.0
        ],
        [
         "Mountain",
         "Golden",
         "5-10 Miles",
         "Y",
         "Partial College",
         90000.0
        ],
        [
         "Mountain",
         "Golden",
         "5-10 Miles",
         "Y",
         "Partial College",
         100000.0
        ],
        [
         "Mountain",
         "Golden",
         "5-10 Miles",
         "Y",
         "Partial College",
         100000.0
        ],
        [
         "Mountain",
         "Golden",
         "5-10 Miles",
         "Y",
         "Partial College",
         100000.0
        ],
        [
         "Mountain",
         "Golden",
         "5-10 Miles",
         "Y",
         "Partial College",
         100000.0
        ],
        [
         "Mountain",
         "Golden",
         "5-10 Miles",
         "Y",
         "Partial College",
         100000.0
        ],
        [
         "Mountain",
         "Golden",
         "5-10 Miles",
         "Y",
         "Partial College",
         100000.0
        ],
        [
         "Mountain",
         "Golden",
         "5-10 Miles",
         "Y",
         "Partial College",
         100000.0
        ],
        [
         "Mountain",
         "Golden",
         "5-10 Miles",
         "Y",
         "Partial College",
         100000.0
        ],
        [
         "Mountain",
         "Golden",
         "5-10 Miles",
         "Y",
         "Partial College",
         100000.0
        ],
        [
         "Mountain",
         "Golden",
         "5-10 Miles",
         "Y",
         "Partial College",
         100000.0
        ],
        [
         "Mountain",
         "Golden",
         "5-10 Miles",
         "Y",
         "Partial College",
         100000.0
        ],
        [
         "Mountain",
         "Golden",
         "5-10 Miles",
         "Y",
         "Partial College",
         100000.0
        ],
        [
         "Mountain",
         "Golden",
         "5-10 Miles",
         "Y",
         "Partial College",
         100000.0
        ],
        [
         "Mountain",
         "Golden",
         "5-10 Miles",
         "Y",
         "Partial College",
         110000.0
        ],
        [
         "Mountain",
         "Golden",
         "5-10 Miles",
         "Y",
         "Partial College",
         110000.0
        ],
        [
         "Mountain",
         "Golden",
         "5-10 Miles",
         "Y",
         "Partial College",
         110000.0
        ],
        [
         "Mountain",
         "Golden",
         "5-10 Miles",
         "Y",
         "Partial College",
         110000.0
        ],
        [
         "Mountain",
         "Golden",
         "5-10 Miles",
         "Y",
         "Partial College",
         110000.0
        ],
        [
         "Mountain",
         "Golden",
         "5-10 Miles",
         "Y",
         "Partial College",
         110000.0
        ],
        [
         "Mountain",
         "Golden",
         "5-10 Miles",
         "Y",
         "Partial College",
         110000.0
        ],
        [
         "Mountain",
         "Golden",
         "5-10 Miles",
         "Y",
         "Partial College",
         110000.0
        ],
        [
         "Mountain",
         "Golden",
         "5-10 Miles",
         "Y",
         "Partial College",
         120000.0
        ],
        [
         "Mountain",
         "Golden",
         "5-10 Miles",
         "Y",
         "Partial College",
         120000.0
        ],
        [
         "Mountain",
         "Golden",
         "5-10 Miles",
         "Y",
         "Partial College",
         120000.0
        ],
        [
         "Mountain",
         "Golden",
         "5-10 Miles",
         "Y",
         "Partial College",
         130000.0
        ],
        [
         "Mountain",
         "Golden",
         "5-10 Miles",
         "Y",
         "Partial College",
         130000.0
        ],
        [
         "Mountain",
         "Golden",
         "5-10 Miles",
         "Y",
         "Partial College",
         130000.0
        ],
        [
         "Mountain",
         "Golden",
         "5-10 Miles",
         "Y",
         "Partial College",
         130000.0
        ],
        [
         "Mountain",
         "Golden",
         "5-10 Miles",
         "Y",
         "Partial College",
         130000.0
        ],
        [
         "Mountain",
         "Golden",
         "5-10 Miles",
         "Y",
         "Partial College",
         130000.0
        ],
        [
         "Mountain",
         "Golden",
         "5-10 Miles",
         "Y",
         "Partial College",
         130000.0
        ],
        [
         "Mountain",
         "Golden",
         "5-10 Miles",
         "Y",
         "Partial College",
         130000.0
        ],
        [
         "Mountain",
         "Golden",
         "5-10 Miles",
         "Y",
         "Partial College",
         130000.0
        ],
        [
         "Mountain",
         "Golden",
         "5-10 Miles",
         "Y",
         "Partial College",
         130000.0
        ],
        [
         "Mountain",
         "Golden",
         "5-10 Miles",
         "Y",
         "Partial College",
         130000.0
        ],
        [
         "Mountain",
         "Golden",
         "5-10 Miles",
         "Y",
         "Partial College",
         130000.0
        ],
        [
         "Mountain",
         "Golden",
         "5-10 Miles",
         "Y",
         "Partial College",
         130000.0
        ],
        [
         "Mountain",
         "Golden",
         "5-10 Miles",
         "Y",
         "Partial College",
         130000.0
        ],
        [
         "Mountain",
         "Golden",
         "5-10 Miles",
         "Y",
         "Partial College",
         130000.0
        ],
        [
         "Mountain",
         "Golden",
         "5-10 Miles",
         "Y",
         "Partial College",
         130000.0
        ],
        [
         "Mountain",
         "Golden",
         "5-10 Miles",
         "Y",
         "Partial College",
         130000.0
        ],
        [
         "Mountain",
         "Golden",
         "5-10 Miles",
         "Y",
         "Partial College",
         130000.0
        ],
        [
         "Mountain",
         "Golden",
         "5-10 Miles",
         "Y",
         "Partial College",
         150000.0
        ],
        [
         "Mountain",
         "Golden",
         "5-10 Miles",
         "Y",
         "Partial College",
         160000.0
        ],
        [
         "Mountain",
         "Golden",
         "5-10 Miles",
         "Y",
         "Partial College",
         160000.0
        ],
        [
         "Mountain",
         "Golden",
         "5-10 Miles",
         "Y",
         "Partial High School",
         10000.0
        ],
        [
         "Mountain",
         "Golden",
         "5-10 Miles",
         "Y",
         "Partial High School",
         70000.0
        ],
        [
         "Mountain",
         "Golden",
         "5-10 Miles",
         "Y",
         "Partial High School",
         70000.0
        ],
        [
         "Mountain",
         "Golden",
         "5-10 Miles",
         "Y",
         "Partial High School",
         90000.0
        ],
        [
         "Mountain",
         "Golden",
         "5-10 Miles",
         "Y",
         "Partial High School",
         90000.0
        ],
        [
         "Mountain",
         "Golden",
         "5-10 Miles",
         "Y",
         "Partial High School",
         120000.0
        ],
        [
         "Mountain",
         "Golden",
         "5-10 Miles",
         "Y",
         "Partial High School",
         120000.0
        ],
        [
         "Mountain",
         "Late Middle",
         "0-1 Miles",
         "N",
         "Bachelors",
         10000.0
        ],
        [
         "Mountain",
         "Late Middle",
         "0-1 Miles",
         "N",
         "Bachelors",
         20000.0
        ],
        [
         "Mountain",
         "Late Middle",
         "0-1 Miles",
         "N",
         "Bachelors",
         30000.0
        ],
        [
         "Mountain",
         "Late Middle",
         "0-1 Miles",
         "N",
         "Bachelors",
         30000.0
        ],
        [
         "Mountain",
         "Late Middle",
         "0-1 Miles",
         "N",
         "Bachelors",
         30000.0
        ],
        [
         "Mountain",
         "Late Middle",
         "0-1 Miles",
         "N",
         "Bachelors",
         30000.0
        ],
        [
         "Mountain",
         "Late Middle",
         "0-1 Miles",
         "N",
         "Bachelors",
         30000.0
        ],
        [
         "Mountain",
         "Late Middle",
         "0-1 Miles",
         "N",
         "Bachelors",
         30000.0
        ],
        [
         "Mountain",
         "Late Middle",
         "0-1 Miles",
         "N",
         "Bachelors",
         30000.0
        ],
        [
         "Mountain",
         "Late Middle",
         "0-1 Miles",
         "N",
         "Bachelors",
         30000.0
        ],
        [
         "Mountain",
         "Late Middle",
         "0-1 Miles",
         "N",
         "Bachelors",
         30000.0
        ],
        [
         "Mountain",
         "Late Middle",
         "0-1 Miles",
         "N",
         "Bachelors",
         30000.0
        ],
        [
         "Mountain",
         "Late Middle",
         "0-1 Miles",
         "N",
         "Bachelors",
         30000.0
        ],
        [
         "Mountain",
         "Late Middle",
         "0-1 Miles",
         "N",
         "Bachelors",
         30000.0
        ],
        [
         "Mountain",
         "Late Middle",
         "0-1 Miles",
         "N",
         "Bachelors",
         30000.0
        ],
        [
         "Mountain",
         "Late Middle",
         "0-1 Miles",
         "N",
         "Bachelors",
         30000.0
        ],
        [
         "Mountain",
         "Late Middle",
         "0-1 Miles",
         "N",
         "Bachelors",
         30000.0
        ],
        [
         "Mountain",
         "Late Middle",
         "0-1 Miles",
         "N",
         "Bachelors",
         30000.0
        ],
        [
         "Mountain",
         "Late Middle",
         "0-1 Miles",
         "N",
         "Bachelors",
         40000.0
        ],
        [
         "Mountain",
         "Late Middle",
         "0-1 Miles",
         "N",
         "Bachelors",
         40000.0
        ],
        [
         "Mountain",
         "Late Middle",
         "0-1 Miles",
         "N",
         "Bachelors",
         40000.0
        ],
        [
         "Mountain",
         "Late Middle",
         "0-1 Miles",
         "N",
         "Bachelors",
         40000.0
        ],
        [
         "Mountain",
         "Late Middle",
         "0-1 Miles",
         "N",
         "Bachelors",
         40000.0
        ],
        [
         "Mountain",
         "Late Middle",
         "0-1 Miles",
         "N",
         "Bachelors",
         40000.0
        ],
        [
         "Mountain",
         "Late Middle",
         "0-1 Miles",
         "N",
         "Bachelors",
         40000.0
        ],
        [
         "Mountain",
         "Late Middle",
         "0-1 Miles",
         "N",
         "Bachelors",
         40000.0
        ],
        [
         "Mountain",
         "Late Middle",
         "0-1 Miles",
         "N",
         "Bachelors",
         40000.0
        ],
        [
         "Mountain",
         "Late Middle",
         "0-1 Miles",
         "N",
         "Bachelors",
         40000.0
        ],
        [
         "Mountain",
         "Late Middle",
         "0-1 Miles",
         "N",
         "Bachelors",
         40000.0
        ],
        [
         "Mountain",
         "Late Middle",
         "0-1 Miles",
         "N",
         "Bachelors",
         40000.0
        ],
        [
         "Mountain",
         "Late Middle",
         "0-1 Miles",
         "N",
         "Bachelors",
         40000.0
        ],
        [
         "Mountain",
         "Late Middle",
         "0-1 Miles",
         "N",
         "Bachelors",
         40000.0
        ],
        [
         "Mountain",
         "Late Middle",
         "0-1 Miles",
         "N",
         "Bachelors",
         40000.0
        ],
        [
         "Mountain",
         "Late Middle",
         "0-1 Miles",
         "N",
         "Bachelors",
         40000.0
        ],
        [
         "Mountain",
         "Late Middle",
         "0-1 Miles",
         "N",
         "Bachelors",
         40000.0
        ],
        [
         "Mountain",
         "Late Middle",
         "0-1 Miles",
         "N",
         "Bachelors",
         40000.0
        ],
        [
         "Mountain",
         "Late Middle",
         "0-1 Miles",
         "N",
         "Bachelors",
         40000.0
        ],
        [
         "Mountain",
         "Late Middle",
         "0-1 Miles",
         "N",
         "Bachelors",
         40000.0
        ],
        [
         "Mountain",
         "Late Middle",
         "0-1 Miles",
         "N",
         "Bachelors",
         40000.0
        ],
        [
         "Mountain",
         "Late Middle",
         "0-1 Miles",
         "N",
         "Bachelors",
         40000.0
        ],
        [
         "Mountain",
         "Late Middle",
         "0-1 Miles",
         "N",
         "Bachelors",
         40000.0
        ],
        [
         "Mountain",
         "Late Middle",
         "0-1 Miles",
         "N",
         "Bachelors",
         40000.0
        ],
        [
         "Mountain",
         "Late Middle",
         "0-1 Miles",
         "N",
         "Bachelors",
         40000.0
        ],
        [
         "Mountain",
         "Late Middle",
         "0-1 Miles",
         "N",
         "Bachelors",
         40000.0
        ],
        [
         "Mountain",
         "Late Middle",
         "0-1 Miles",
         "N",
         "Bachelors",
         40000.0
        ],
        [
         "Mountain",
         "Late Middle",
         "0-1 Miles",
         "N",
         "Bachelors",
         40000.0
        ],
        [
         "Mountain",
         "Late Middle",
         "0-1 Miles",
         "N",
         "Bachelors",
         40000.0
        ],
        [
         "Mountain",
         "Late Middle",
         "0-1 Miles",
         "N",
         "Bachelors",
         40000.0
        ],
        [
         "Mountain",
         "Late Middle",
         "0-1 Miles",
         "N",
         "Bachelors",
         40000.0
        ],
        [
         "Mountain",
         "Late Middle",
         "0-1 Miles",
         "N",
         "Bachelors",
         40000.0
        ],
        [
         "Mountain",
         "Late Middle",
         "0-1 Miles",
         "N",
         "Bachelors",
         40000.0
        ],
        [
         "Mountain",
         "Late Middle",
         "0-1 Miles",
         "N",
         "Bachelors",
         40000.0
        ],
        [
         "Mountain",
         "Late Middle",
         "0-1 Miles",
         "N",
         "Bachelors",
         40000.0
        ],
        [
         "Mountain",
         "Late Middle",
         "0-1 Miles",
         "N",
         "Bachelors",
         60000.0
        ],
        [
         "Mountain",
         "Late Middle",
         "0-1 Miles",
         "N",
         "Bachelors",
         70000.0
        ],
        [
         "Mountain",
         "Late Middle",
         "0-1 Miles",
         "N",
         "Bachelors",
         70000.0
        ],
        [
         "Mountain",
         "Late Middle",
         "0-1 Miles",
         "N",
         "Bachelors",
         70000.0
        ],
        [
         "Mountain",
         "Late Middle",
         "0-1 Miles",
         "N",
         "Bachelors",
         70000.0
        ],
        [
         "Mountain",
         "Late Middle",
         "0-1 Miles",
         "N",
         "Bachelors",
         70000.0
        ],
        [
         "Mountain",
         "Late Middle",
         "0-1 Miles",
         "N",
         "Bachelors",
         70000.0
        ],
        [
         "Mountain",
         "Late Middle",
         "0-1 Miles",
         "N",
         "Bachelors",
         70000.0
        ],
        [
         "Mountain",
         "Late Middle",
         "0-1 Miles",
         "N",
         "Bachelors",
         70000.0
        ],
        [
         "Mountain",
         "Late Middle",
         "0-1 Miles",
         "N",
         "Bachelors",
         70000.0
        ],
        [
         "Mountain",
         "Late Middle",
         "0-1 Miles",
         "N",
         "Bachelors",
         70000.0
        ],
        [
         "Mountain",
         "Late Middle",
         "0-1 Miles",
         "N",
         "Bachelors",
         70000.0
        ],
        [
         "Mountain",
         "Late Middle",
         "0-1 Miles",
         "N",
         "Bachelors",
         70000.0
        ],
        [
         "Mountain",
         "Late Middle",
         "0-1 Miles",
         "N",
         "Bachelors",
         70000.0
        ],
        [
         "Mountain",
         "Late Middle",
         "0-1 Miles",
         "N",
         "Bachelors",
         70000.0
        ],
        [
         "Mountain",
         "Late Middle",
         "0-1 Miles",
         "N",
         "Bachelors",
         70000.0
        ],
        [
         "Mountain",
         "Late Middle",
         "0-1 Miles",
         "N",
         "Bachelors",
         70000.0
        ],
        [
         "Mountain",
         "Late Middle",
         "0-1 Miles",
         "N",
         "Bachelors",
         70000.0
        ],
        [
         "Mountain",
         "Late Middle",
         "0-1 Miles",
         "N",
         "Bachelors",
         80000.0
        ],
        [
         "Mountain",
         "Late Middle",
         "0-1 Miles",
         "N",
         "Bachelors",
         80000.0
        ],
        [
         "Mountain",
         "Late Middle",
         "0-1 Miles",
         "N",
         "Bachelors",
         80000.0
        ],
        [
         "Mountain",
         "Late Middle",
         "0-1 Miles",
         "N",
         "Bachelors",
         80000.0
        ],
        [
         "Mountain",
         "Late Middle",
         "0-1 Miles",
         "N",
         "Bachelors",
         80000.0
        ],
        [
         "Mountain",
         "Late Middle",
         "0-1 Miles",
         "N",
         "Bachelors",
         80000.0
        ],
        [
         "Mountain",
         "Late Middle",
         "0-1 Miles",
         "N",
         "Bachelors",
         80000.0
        ],
        [
         "Mountain",
         "Late Middle",
         "0-1 Miles",
         "N",
         "Bachelors",
         80000.0
        ],
        [
         "Mountain",
         "Late Middle",
         "0-1 Miles",
         "N",
         "Bachelors",
         80000.0
        ],
        [
         "Mountain",
         "Late Middle",
         "0-1 Miles",
         "N",
         "Bachelors",
         80000.0
        ],
        [
         "Mountain",
         "Late Middle",
         "0-1 Miles",
         "N",
         "Bachelors",
         90000.0
        ],
        [
         "Mountain",
         "Late Middle",
         "0-1 Miles",
         "N",
         "Bachelors",
         90000.0
        ],
        [
         "Mountain",
         "Late Middle",
         "0-1 Miles",
         "N",
         "Bachelors",
         90000.0
        ],
        [
         "Mountain",
         "Late Middle",
         "0-1 Miles",
         "N",
         "Bachelors",
         90000.0
        ],
        [
         "Mountain",
         "Late Middle",
         "0-1 Miles",
         "N",
         "Bachelors",
         100000.0
        ],
        [
         "Mountain",
         "Late Middle",
         "0-1 Miles",
         "N",
         "Bachelors",
         100000.0
        ],
        [
         "Mountain",
         "Late Middle",
         "0-1 Miles",
         "N",
         "Bachelors",
         100000.0
        ],
        [
         "Mountain",
         "Late Middle",
         "0-1 Miles",
         "N",
         "Bachelors",
         120000.0
        ],
        [
         "Mountain",
         "Late Middle",
         "0-1 Miles",
         "N",
         "Bachelors",
         150000.0
        ],
        [
         "Mountain",
         "Late Middle",
         "0-1 Miles",
         "N",
         "Graduate Degree",
         10000.0
        ],
        [
         "Mountain",
         "Late Middle",
         "0-1 Miles",
         "N",
         "Graduate Degree",
         20000.0
        ],
        [
         "Mountain",
         "Late Middle",
         "0-1 Miles",
         "N",
         "Graduate Degree",
         30000.0
        ],
        [
         "Mountain",
         "Late Middle",
         "0-1 Miles",
         "N",
         "Graduate Degree",
         40000.0
        ],
        [
         "Mountain",
         "Late Middle",
         "0-1 Miles",
         "N",
         "Graduate Degree",
         40000.0
        ],
        [
         "Mountain",
         "Late Middle",
         "0-1 Miles",
         "N",
         "Graduate Degree",
         40000.0
        ],
        [
         "Mountain",
         "Late Middle",
         "0-1 Miles",
         "N",
         "Graduate Degree",
         40000.0
        ],
        [
         "Mountain",
         "Late Middle",
         "0-1 Miles",
         "N",
         "Graduate Degree",
         40000.0
        ],
        [
         "Mountain",
         "Late Middle",
         "0-1 Miles",
         "N",
         "Graduate Degree",
         40000.0
        ],
        [
         "Mountain",
         "Late Middle",
         "0-1 Miles",
         "N",
         "Graduate Degree",
         40000.0
        ],
        [
         "Mountain",
         "Late Middle",
         "0-1 Miles",
         "N",
         "Graduate Degree",
         40000.0
        ],
        [
         "Mountain",
         "Late Middle",
         "0-1 Miles",
         "N",
         "Graduate Degree",
         40000.0
        ],
        [
         "Mountain",
         "Late Middle",
         "0-1 Miles",
         "N",
         "Graduate Degree",
         40000.0
        ],
        [
         "Mountain",
         "Late Middle",
         "0-1 Miles",
         "N",
         "Graduate Degree",
         40000.0
        ],
        [
         "Mountain",
         "Late Middle",
         "0-1 Miles",
         "N",
         "Graduate Degree",
         40000.0
        ],
        [
         "Mountain",
         "Late Middle",
         "0-1 Miles",
         "N",
         "Graduate Degree",
         40000.0
        ],
        [
         "Mountain",
         "Late Middle",
         "0-1 Miles",
         "N",
         "Graduate Degree",
         40000.0
        ],
        [
         "Mountain",
         "Late Middle",
         "0-1 Miles",
         "N",
         "Graduate Degree",
         40000.0
        ],
        [
         "Mountain",
         "Late Middle",
         "0-1 Miles",
         "N",
         "Graduate Degree",
         40000.0
        ],
        [
         "Mountain",
         "Late Middle",
         "0-1 Miles",
         "N",
         "Graduate Degree",
         40000.0
        ],
        [
         "Mountain",
         "Late Middle",
         "0-1 Miles",
         "N",
         "Graduate Degree",
         40000.0
        ],
        [
         "Mountain",
         "Late Middle",
         "0-1 Miles",
         "N",
         "Graduate Degree",
         40000.0
        ],
        [
         "Mountain",
         "Late Middle",
         "0-1 Miles",
         "N",
         "Graduate Degree",
         40000.0
        ],
        [
         "Mountain",
         "Late Middle",
         "0-1 Miles",
         "N",
         "Graduate Degree",
         40000.0
        ],
        [
         "Mountain",
         "Late Middle",
         "0-1 Miles",
         "N",
         "Graduate Degree",
         40000.0
        ],
        [
         "Mountain",
         "Late Middle",
         "0-1 Miles",
         "N",
         "Graduate Degree",
         40000.0
        ],
        [
         "Mountain",
         "Late Middle",
         "0-1 Miles",
         "N",
         "Graduate Degree",
         40000.0
        ],
        [
         "Mountain",
         "Late Middle",
         "0-1 Miles",
         "N",
         "Graduate Degree",
         40000.0
        ],
        [
         "Mountain",
         "Late Middle",
         "0-1 Miles",
         "N",
         "Graduate Degree",
         40000.0
        ],
        [
         "Mountain",
         "Late Middle",
         "0-1 Miles",
         "N",
         "Graduate Degree",
         40000.0
        ],
        [
         "Mountain",
         "Late Middle",
         "0-1 Miles",
         "N",
         "Graduate Degree",
         40000.0
        ],
        [
         "Mountain",
         "Late Middle",
         "0-1 Miles",
         "N",
         "Graduate Degree",
         40000.0
        ],
        [
         "Mountain",
         "Late Middle",
         "0-1 Miles",
         "N",
         "Graduate Degree",
         40000.0
        ],
        [
         "Mountain",
         "Late Middle",
         "0-1 Miles",
         "N",
         "Graduate Degree",
         50000.0
        ],
        [
         "Mountain",
         "Late Middle",
         "0-1 Miles",
         "N",
         "Graduate Degree",
         50000.0
        ],
        [
         "Mountain",
         "Late Middle",
         "0-1 Miles",
         "N",
         "Graduate Degree",
         50000.0
        ],
        [
         "Mountain",
         "Late Middle",
         "0-1 Miles",
         "N",
         "Graduate Degree",
         50000.0
        ],
        [
         "Mountain",
         "Late Middle",
         "0-1 Miles",
         "N",
         "Graduate Degree",
         50000.0
        ],
        [
         "Mountain",
         "Late Middle",
         "0-1 Miles",
         "N",
         "Graduate Degree",
         50000.0
        ],
        [
         "Mountain",
         "Late Middle",
         "0-1 Miles",
         "N",
         "Graduate Degree",
         50000.0
        ],
        [
         "Mountain",
         "Late Middle",
         "0-1 Miles",
         "N",
         "Graduate Degree",
         60000.0
        ],
        [
         "Mountain",
         "Late Middle",
         "0-1 Miles",
         "N",
         "Graduate Degree",
         60000.0
        ],
        [
         "Mountain",
         "Late Middle",
         "0-1 Miles",
         "N",
         "Graduate Degree",
         60000.0
        ],
        [
         "Mountain",
         "Late Middle",
         "0-1 Miles",
         "N",
         "Graduate Degree",
         60000.0
        ],
        [
         "Mountain",
         "Late Middle",
         "0-1 Miles",
         "N",
         "Graduate Degree",
         60000.0
        ],
        [
         "Mountain",
         "Late Middle",
         "0-1 Miles",
         "N",
         "Graduate Degree",
         60000.0
        ],
        [
         "Mountain",
         "Late Middle",
         "0-1 Miles",
         "N",
         "Graduate Degree",
         60000.0
        ],
        [
         "Mountain",
         "Late Middle",
         "0-1 Miles",
         "N",
         "Graduate Degree",
         70000.0
        ],
        [
         "Mountain",
         "Late Middle",
         "0-1 Miles",
         "N",
         "Graduate Degree",
         70000.0
        ],
        [
         "Mountain",
         "Late Middle",
         "0-1 Miles",
         "N",
         "Graduate Degree",
         70000.0
        ],
        [
         "Mountain",
         "Late Middle",
         "0-1 Miles",
         "N",
         "Graduate Degree",
         70000.0
        ],
        [
         "Mountain",
         "Late Middle",
         "0-1 Miles",
         "N",
         "Graduate Degree",
         70000.0
        ],
        [
         "Mountain",
         "Late Middle",
         "0-1 Miles",
         "N",
         "Graduate Degree",
         70000.0
        ],
        [
         "Mountain",
         "Late Middle",
         "0-1 Miles",
         "N",
         "Graduate Degree",
         70000.0
        ],
        [
         "Mountain",
         "Late Middle",
         "0-1 Miles",
         "N",
         "Graduate Degree",
         70000.0
        ],
        [
         "Mountain",
         "Late Middle",
         "0-1 Miles",
         "N",
         "Graduate Degree",
         70000.0
        ],
        [
         "Mountain",
         "Late Middle",
         "0-1 Miles",
         "N",
         "Graduate Degree",
         70000.0
        ],
        [
         "Mountain",
         "Late Middle",
         "0-1 Miles",
         "N",
         "Graduate Degree",
         70000.0
        ],
        [
         "Mountain",
         "Late Middle",
         "0-1 Miles",
         "N",
         "Graduate Degree",
         70000.0
        ],
        [
         "Mountain",
         "Late Middle",
         "0-1 Miles",
         "N",
         "Graduate Degree",
         70000.0
        ],
        [
         "Mountain",
         "Late Middle",
         "0-1 Miles",
         "N",
         "Graduate Degree",
         70000.0
        ],
        [
         "Mountain",
         "Late Middle",
         "0-1 Miles",
         "N",
         "Graduate Degree",
         80000.0
        ],
        [
         "Mountain",
         "Late Middle",
         "0-1 Miles",
         "N",
         "Graduate Degree",
         80000.0
        ],
        [
         "Mountain",
         "Late Middle",
         "0-1 Miles",
         "N",
         "Graduate Degree",
         80000.0
        ],
        [
         "Mountain",
         "Late Middle",
         "0-1 Miles",
         "N",
         "Graduate Degree",
         80000.0
        ],
        [
         "Mountain",
         "Late Middle",
         "0-1 Miles",
         "N",
         "Graduate Degree",
         80000.0
        ],
        [
         "Mountain",
         "Late Middle",
         "0-1 Miles",
         "N",
         "Graduate Degree",
         80000.0
        ],
        [
         "Mountain",
         "Late Middle",
         "0-1 Miles",
         "N",
         "Graduate Degree",
         80000.0
        ],
        [
         "Mountain",
         "Late Middle",
         "0-1 Miles",
         "N",
         "Graduate Degree",
         80000.0
        ],
        [
         "Mountain",
         "Late Middle",
         "0-1 Miles",
         "N",
         "Graduate Degree",
         80000.0
        ],
        [
         "Mountain",
         "Late Middle",
         "0-1 Miles",
         "N",
         "Graduate Degree",
         80000.0
        ],
        [
         "Mountain",
         "Late Middle",
         "0-1 Miles",
         "N",
         "Graduate Degree",
         90000.0
        ],
        [
         "Mountain",
         "Late Middle",
         "0-1 Miles",
         "N",
         "Graduate Degree",
         90000.0
        ],
        [
         "Mountain",
         "Late Middle",
         "0-1 Miles",
         "N",
         "Graduate Degree",
         90000.0
        ],
        [
         "Mountain",
         "Late Middle",
         "0-1 Miles",
         "N",
         "Graduate Degree",
         100000.0
        ],
        [
         "Mountain",
         "Late Middle",
         "0-1 Miles",
         "N",
         "Graduate Degree",
         100000.0
        ],
        [
         "Mountain",
         "Late Middle",
         "0-1 Miles",
         "N",
         "Graduate Degree",
         100000.0
        ],
        [
         "Mountain",
         "Late Middle",
         "0-1 Miles",
         "N",
         "Graduate Degree",
         110000.0
        ],
        [
         "Mountain",
         "Late Middle",
         "0-1 Miles",
         "N",
         "Graduate Degree",
         110000.0
        ],
        [
         "Mountain",
         "Late Middle",
         "0-1 Miles",
         "N",
         "Graduate Degree",
         110000.0
        ],
        [
         "Mountain",
         "Late Middle",
         "0-1 Miles",
         "N",
         "Graduate Degree",
         110000.0
        ],
        [
         "Mountain",
         "Late Middle",
         "0-1 Miles",
         "N",
         "Graduate Degree",
         110000.0
        ],
        [
         "Mountain",
         "Late Middle",
         "0-1 Miles",
         "N",
         "Graduate Degree",
         120000.0
        ],
        [
         "Mountain",
         "Late Middle",
         "0-1 Miles",
         "N",
         "Graduate Degree",
         120000.0
        ],
        [
         "Mountain",
         "Late Middle",
         "0-1 Miles",
         "N",
         "Graduate Degree",
         130000.0
        ],
        [
         "Mountain",
         "Late Middle",
         "0-1 Miles",
         "N",
         "Graduate Degree",
         130000.0
        ],
        [
         "Mountain",
         "Late Middle",
         "0-1 Miles",
         "N",
         "Graduate Degree",
         130000.0
        ],
        [
         "Mountain",
         "Late Middle",
         "0-1 Miles",
         "N",
         "Graduate Degree",
         150000.0
        ],
        [
         "Mountain",
         "Late Middle",
         "0-1 Miles",
         "N",
         "Graduate Degree",
         160000.0
        ],
        [
         "Mountain",
         "Late Middle",
         "0-1 Miles",
         "N",
         "Graduate Degree",
         160000.0
        ],
        [
         "Mountain",
         "Late Middle",
         "0-1 Miles",
         "N",
         "Graduate Degree",
         160000.0
        ],
        [
         "Mountain",
         "Late Middle",
         "0-1 Miles",
         "N",
         "Partial College",
         20000.0
        ],
        [
         "Mountain",
         "Late Middle",
         "0-1 Miles",
         "N",
         "Partial College",
         40000.0
        ],
        [
         "Mountain",
         "Late Middle",
         "0-1 Miles",
         "N",
         "Partial College",
         40000.0
        ],
        [
         "Mountain",
         "Late Middle",
         "0-1 Miles",
         "N",
         "Partial College",
         40000.0
        ],
        [
         "Mountain",
         "Late Middle",
         "0-1 Miles",
         "N",
         "Partial College",
         60000.0
        ],
        [
         "Mountain",
         "Late Middle",
         "0-1 Miles",
         "N",
         "Partial College",
         60000.0
        ],
        [
         "Mountain",
         "Late Middle",
         "0-1 Miles",
         "N",
         "Partial College",
         60000.0
        ],
        [
         "Mountain",
         "Late Middle",
         "0-1 Miles",
         "N",
         "Partial College",
         70000.0
        ],
        [
         "Mountain",
         "Late Middle",
         "0-1 Miles",
         "N",
         "Partial College",
         70000.0
        ],
        [
         "Mountain",
         "Late Middle",
         "0-1 Miles",
         "N",
         "Partial College",
         70000.0
        ],
        [
         "Mountain",
         "Late Middle",
         "0-1 Miles",
         "N",
         "Partial College",
         80000.0
        ],
        [
         "Mountain",
         "Late Middle",
         "0-1 Miles",
         "N",
         "Partial College",
         80000.0
        ],
        [
         "Mountain",
         "Late Middle",
         "0-1 Miles",
         "N",
         "Partial College",
         80000.0
        ],
        [
         "Mountain",
         "Late Middle",
         "0-1 Miles",
         "Y",
         "Bachelors",
         30000.0
        ],
        [
         "Mountain",
         "Late Middle",
         "0-1 Miles",
         "Y",
         "Bachelors",
         30000.0
        ],
        [
         "Mountain",
         "Late Middle",
         "0-1 Miles",
         "Y",
         "Bachelors",
         30000.0
        ],
        [
         "Mountain",
         "Late Middle",
         "0-1 Miles",
         "Y",
         "Bachelors",
         30000.0
        ],
        [
         "Mountain",
         "Late Middle",
         "0-1 Miles",
         "Y",
         "Bachelors",
         30000.0
        ],
        [
         "Mountain",
         "Late Middle",
         "0-1 Miles",
         "Y",
         "Bachelors",
         30000.0
        ],
        [
         "Mountain",
         "Late Middle",
         "0-1 Miles",
         "Y",
         "Bachelors",
         30000.0
        ],
        [
         "Mountain",
         "Late Middle",
         "0-1 Miles",
         "Y",
         "Bachelors",
         30000.0
        ],
        [
         "Mountain",
         "Late Middle",
         "0-1 Miles",
         "Y",
         "Bachelors",
         30000.0
        ],
        [
         "Mountain",
         "Late Middle",
         "0-1 Miles",
         "Y",
         "Bachelors",
         30000.0
        ],
        [
         "Mountain",
         "Late Middle",
         "0-1 Miles",
         "Y",
         "Bachelors",
         40000.0
        ],
        [
         "Mountain",
         "Late Middle",
         "0-1 Miles",
         "Y",
         "Bachelors",
         40000.0
        ],
        [
         "Mountain",
         "Late Middle",
         "0-1 Miles",
         "Y",
         "Bachelors",
         40000.0
        ],
        [
         "Mountain",
         "Late Middle",
         "0-1 Miles",
         "Y",
         "Bachelors",
         40000.0
        ],
        [
         "Mountain",
         "Late Middle",
         "0-1 Miles",
         "Y",
         "Bachelors",
         40000.0
        ],
        [
         "Mountain",
         "Late Middle",
         "0-1 Miles",
         "Y",
         "Bachelors",
         40000.0
        ],
        [
         "Mountain",
         "Late Middle",
         "0-1 Miles",
         "Y",
         "Bachelors",
         40000.0
        ],
        [
         "Mountain",
         "Late Middle",
         "0-1 Miles",
         "Y",
         "Bachelors",
         40000.0
        ],
        [
         "Mountain",
         "Late Middle",
         "0-1 Miles",
         "Y",
         "Bachelors",
         40000.0
        ],
        [
         "Mountain",
         "Late Middle",
         "0-1 Miles",
         "Y",
         "Bachelors",
         40000.0
        ],
        [
         "Mountain",
         "Late Middle",
         "0-1 Miles",
         "Y",
         "Bachelors",
         40000.0
        ],
        [
         "Mountain",
         "Late Middle",
         "0-1 Miles",
         "Y",
         "Bachelors",
         50000.0
        ],
        [
         "Mountain",
         "Late Middle",
         "0-1 Miles",
         "Y",
         "Bachelors",
         60000.0
        ],
        [
         "Mountain",
         "Late Middle",
         "0-1 Miles",
         "Y",
         "Bachelors",
         60000.0
        ],
        [
         "Mountain",
         "Late Middle",
         "0-1 Miles",
         "Y",
         "Bachelors",
         60000.0
        ],
        [
         "Mountain",
         "Late Middle",
         "0-1 Miles",
         "Y",
         "Bachelors",
         60000.0
        ],
        [
         "Mountain",
         "Late Middle",
         "0-1 Miles",
         "Y",
         "Bachelors",
         60000.0
        ],
        [
         "Mountain",
         "Late Middle",
         "0-1 Miles",
         "Y",
         "Bachelors",
         60000.0
        ],
        [
         "Mountain",
         "Late Middle",
         "0-1 Miles",
         "Y",
         "Bachelors",
         60000.0
        ],
        [
         "Mountain",
         "Late Middle",
         "0-1 Miles",
         "Y",
         "Bachelors",
         60000.0
        ],
        [
         "Mountain",
         "Late Middle",
         "0-1 Miles",
         "Y",
         "Bachelors",
         60000.0
        ],
        [
         "Mountain",
         "Late Middle",
         "0-1 Miles",
         "Y",
         "Bachelors",
         70000.0
        ],
        [
         "Mountain",
         "Late Middle",
         "0-1 Miles",
         "Y",
         "Bachelors",
         80000.0
        ],
        [
         "Mountain",
         "Late Middle",
         "0-1 Miles",
         "Y",
         "Bachelors",
         80000.0
        ],
        [
         "Mountain",
         "Late Middle",
         "0-1 Miles",
         "Y",
         "Bachelors",
         80000.0
        ],
        [
         "Mountain",
         "Late Middle",
         "0-1 Miles",
         "Y",
         "Bachelors",
         80000.0
        ],
        [
         "Mountain",
         "Late Middle",
         "0-1 Miles",
         "Y",
         "Bachelors",
         120000.0
        ],
        [
         "Mountain",
         "Late Middle",
         "0-1 Miles",
         "Y",
         "Bachelors",
         120000.0
        ],
        [
         "Mountain",
         "Late Middle",
         "0-1 Miles",
         "Y",
         "Bachelors",
         130000.0
        ],
        [
         "Mountain",
         "Late Middle",
         "0-1 Miles",
         "Y",
         "Bachelors",
         130000.0
        ],
        [
         "Mountain",
         "Late Middle",
         "0-1 Miles",
         "Y",
         "Bachelors",
         130000.0
        ],
        [
         "Mountain",
         "Late Middle",
         "0-1 Miles",
         "Y",
         "Bachelors",
         130000.0
        ],
        [
         "Mountain",
         "Late Middle",
         "0-1 Miles",
         "Y",
         "Bachelors",
         130000.0
        ],
        [
         "Mountain",
         "Late Middle",
         "0-1 Miles",
         "Y",
         "Bachelors",
         130000.0
        ],
        [
         "Mountain",
         "Late Middle",
         "0-1 Miles",
         "Y",
         "Bachelors",
         160000.0
        ],
        [
         "Mountain",
         "Late Middle",
         "0-1 Miles",
         "Y",
         "Bachelors",
         160000.0
        ],
        [
         "Mountain",
         "Late Middle",
         "0-1 Miles",
         "Y",
         "Bachelors",
         170000.0
        ],
        [
         "Mountain",
         "Late Middle",
         "0-1 Miles",
         "Y",
         "Graduate Degree",
         80000.0
        ],
        [
         "Mountain",
         "Late Middle",
         "0-1 Miles",
         "Y",
         "Graduate Degree",
         80000.0
        ],
        [
         "Mountain",
         "Late Middle",
         "0-1 Miles",
         "Y",
         "Graduate Degree",
         80000.0
        ],
        [
         "Mountain",
         "Late Middle",
         "0-1 Miles",
         "Y",
         "Graduate Degree",
         80000.0
        ],
        [
         "Mountain",
         "Late Middle",
         "0-1 Miles",
         "Y",
         "Graduate Degree",
         80000.0
        ],
        [
         "Mountain",
         "Late Middle",
         "0-1 Miles",
         "Y",
         "Graduate Degree",
         80000.0
        ],
        [
         "Mountain",
         "Late Middle",
         "0-1 Miles",
         "Y",
         "Graduate Degree",
         80000.0
        ],
        [
         "Mountain",
         "Late Middle",
         "0-1 Miles",
         "Y",
         "Graduate Degree",
         80000.0
        ],
        [
         "Mountain",
         "Late Middle",
         "0-1 Miles",
         "Y",
         "Graduate Degree",
         80000.0
        ],
        [
         "Mountain",
         "Late Middle",
         "0-1 Miles",
         "Y",
         "Graduate Degree",
         80000.0
        ],
        [
         "Mountain",
         "Late Middle",
         "0-1 Miles",
         "Y",
         "Graduate Degree",
         80000.0
        ],
        [
         "Mountain",
         "Late Middle",
         "0-1 Miles",
         "Y",
         "Graduate Degree",
         80000.0
        ],
        [
         "Mountain",
         "Late Middle",
         "0-1 Miles",
         "Y",
         "Graduate Degree",
         80000.0
        ],
        [
         "Mountain",
         "Late Middle",
         "0-1 Miles",
         "Y",
         "Graduate Degree",
         80000.0
        ],
        [
         "Mountain",
         "Late Middle",
         "0-1 Miles",
         "Y",
         "Graduate Degree",
         110000.0
        ],
        [
         "Mountain",
         "Late Middle",
         "0-1 Miles",
         "Y",
         "Graduate Degree",
         110000.0
        ],
        [
         "Mountain",
         "Late Middle",
         "0-1 Miles",
         "Y",
         "Graduate Degree",
         130000.0
        ],
        [
         "Mountain",
         "Late Middle",
         "0-1 Miles",
         "Y",
         "Graduate Degree",
         130000.0
        ],
        [
         "Mountain",
         "Late Middle",
         "0-1 Miles",
         "Y",
         "Graduate Degree",
         130000.0
        ],
        [
         "Mountain",
         "Late Middle",
         "0-1 Miles",
         "Y",
         "High School",
         10000.0
        ],
        [
         "Mountain",
         "Late Middle",
         "0-1 Miles",
         "Y",
         "High School",
         10000.0
        ],
        [
         "Mountain",
         "Late Middle",
         "0-1 Miles",
         "Y",
         "High School",
         10000.0
        ],
        [
         "Mountain",
         "Late Middle",
         "0-1 Miles",
         "Y",
         "High School",
         10000.0
        ],
        [
         "Mountain",
         "Late Middle",
         "0-1 Miles",
         "Y",
         "High School",
         20000.0
        ],
        [
         "Mountain",
         "Late Middle",
         "0-1 Miles",
         "Y",
         "High School",
         20000.0
        ],
        [
         "Mountain",
         "Late Middle",
         "0-1 Miles",
         "Y",
         "High School",
         20000.0
        ],
        [
         "Mountain",
         "Late Middle",
         "0-1 Miles",
         "Y",
         "High School",
         20000.0
        ],
        [
         "Mountain",
         "Late Middle",
         "0-1 Miles",
         "Y",
         "High School",
         20000.0
        ],
        [
         "Mountain",
         "Late Middle",
         "0-1 Miles",
         "Y",
         "High School",
         20000.0
        ],
        [
         "Mountain",
         "Late Middle",
         "0-1 Miles",
         "Y",
         "High School",
         20000.0
        ],
        [
         "Mountain",
         "Late Middle",
         "0-1 Miles",
         "Y",
         "High School",
         20000.0
        ],
        [
         "Mountain",
         "Late Middle",
         "0-1 Miles",
         "Y",
         "High School",
         20000.0
        ],
        [
         "Mountain",
         "Late Middle",
         "0-1 Miles",
         "Y",
         "High School",
         20000.0
        ],
        [
         "Mountain",
         "Late Middle",
         "0-1 Miles",
         "Y",
         "Partial College",
         20000.0
        ],
        [
         "Mountain",
         "Late Middle",
         "0-1 Miles",
         "Y",
         "Partial College",
         20000.0
        ],
        [
         "Mountain",
         "Late Middle",
         "0-1 Miles",
         "Y",
         "Partial College",
         30000.0
        ],
        [
         "Mountain",
         "Late Middle",
         "0-1 Miles",
         "Y",
         "Partial College",
         30000.0
        ],
        [
         "Mountain",
         "Late Middle",
         "0-1 Miles",
         "Y",
         "Partial College",
         30000.0
        ],
        [
         "Mountain",
         "Late Middle",
         "0-1 Miles",
         "Y",
         "Partial College",
         30000.0
        ],
        [
         "Mountain",
         "Late Middle",
         "0-1 Miles",
         "Y",
         "Partial College",
         30000.0
        ],
        [
         "Mountain",
         "Late Middle",
         "0-1 Miles",
         "Y",
         "Partial College",
         30000.0
        ],
        [
         "Mountain",
         "Late Middle",
         "0-1 Miles",
         "Y",
         "Partial College",
         40000.0
        ],
        [
         "Mountain",
         "Late Middle",
         "0-1 Miles",
         "Y",
         "Partial College",
         40000.0
        ],
        [
         "Mountain",
         "Late Middle",
         "0-1 Miles",
         "Y",
         "Partial College",
         40000.0
        ],
        [
         "Mountain",
         "Late Middle",
         "0-1 Miles",
         "Y",
         "Partial College",
         40000.0
        ],
        [
         "Mountain",
         "Late Middle",
         "0-1 Miles",
         "Y",
         "Partial College",
         40000.0
        ],
        [
         "Mountain",
         "Late Middle",
         "0-1 Miles",
         "Y",
         "Partial College",
         40000.0
        ],
        [
         "Mountain",
         "Late Middle",
         "0-1 Miles",
         "Y",
         "Partial College",
         40000.0
        ],
        [
         "Mountain",
         "Late Middle",
         "0-1 Miles",
         "Y",
         "Partial College",
         90000.0
        ],
        [
         "Mountain",
         "Late Middle",
         "0-1 Miles",
         "Y",
         "Partial College",
         90000.0
        ],
        [
         "Mountain",
         "Late Middle",
         "0-1 Miles",
         "Y",
         "Partial College",
         130000.0
        ],
        [
         "Mountain",
         "Late Middle",
         "0-1 Miles",
         "Y",
         "Partial College",
         130000.0
        ],
        [
         "Mountain",
         "Late Middle",
         "0-1 Miles",
         "Y",
         "Partial College",
         130000.0
        ],
        [
         "Mountain",
         "Late Middle",
         "0-1 Miles",
         "Y",
         "Partial College",
         130000.0
        ],
        [
         "Mountain",
         "Late Middle",
         "0-1 Miles",
         "Y",
         "Partial High School",
         10000.0
        ],
        [
         "Mountain",
         "Late Middle",
         "0-1 Miles",
         "Y",
         "Partial High School",
         10000.0
        ],
        [
         "Mountain",
         "Late Middle",
         "0-1 Miles",
         "Y",
         "Partial High School",
         10000.0
        ],
        [
         "Mountain",
         "Late Middle",
         "0-1 Miles",
         "Y",
         "Partial High School",
         10000.0
        ],
        [
         "Mountain",
         "Late Middle",
         "0-1 Miles",
         "Y",
         "Partial High School",
         10000.0
        ],
        [
         "Mountain",
         "Late Middle",
         "0-1 Miles",
         "Y",
         "Partial High School",
         10000.0
        ],
        [
         "Mountain",
         "Late Middle",
         "0-1 Miles",
         "Y",
         "Partial High School",
         10000.0
        ],
        [
         "Mountain",
         "Late Middle",
         "1-2 Miles",
         "N",
         "Bachelors",
         30000.0
        ],
        [
         "Mountain",
         "Late Middle",
         "1-2 Miles",
         "N",
         "Bachelors",
         30000.0
        ],
        [
         "Mountain",
         "Late Middle",
         "1-2 Miles",
         "N",
         "Bachelors",
         80000.0
        ],
        [
         "Mountain",
         "Late Middle",
         "1-2 Miles",
         "N",
         "Bachelors",
         80000.0
        ],
        [
         "Mountain",
         "Late Middle",
         "1-2 Miles",
         "N",
         "Bachelors",
         80000.0
        ],
        [
         "Mountain",
         "Late Middle",
         "1-2 Miles",
         "N",
         "Bachelors",
         80000.0
        ]
       ],
       "datasetInfos": [],
       "dbfsResultPath": null,
       "isJsonSchema": true,
       "metadata": {},
       "overflow": true,
       "plotOptions": {
        "customPlotOptions": {},
        "displayType": "table",
        "pivotAggregation": null,
        "pivotColumns": null,
        "xColumns": null,
        "yColumns": null
       },
       "removedWidgets": [],
       "schema": [
        {
         "metadata": "{}",
         "name": "Subcategory",
         "type": "\"string\""
        },
        {
         "metadata": "{}",
         "name": "AgeBand",
         "type": "\"string\""
        },
        {
         "metadata": "{}",
         "name": "CommuteDistance",
         "type": "\"string\""
        },
        {
         "metadata": "{}",
         "name": "HasChildren",
         "type": "\"string\""
        },
        {
         "metadata": "{}",
         "name": "Education",
         "type": "\"string\""
        },
        {
         "metadata": "{}",
         "name": "Salary",
         "type": "\"double\""
        }
       ],
       "type": "table"
      }
     },
     "output_type": "display_data"
    }
   ],
   "source": [
    "display(spark.read.csv(\"/mnt/awdata/train.csv\",header=True,inferSchema=True))"
   ]
  },
  {
   "cell_type": "markdown",
   "metadata": {
    "application/vnd.databricks.v1+cell": {
     "cellMetadata": {},
     "inputWidgets": {},
     "nuid": "af322389-2a41-4cb5-b063-18f0495b44b0",
     "showTitle": false,
     "title": ""
    }
   },
   "source": [
    "## Register Machine Learning Services Resource Provider\n",
    "Microsoft.MachineLearningServices only needs to be registed once in the subscription. To register it:\n",
    "Start the Azure portal.\n",
    "Select your All services and then Subscription.\n",
    "Select the subscription that you want to use.\n",
    "Click on Resource providers\n",
    "Click the Register link next to Microsoft.MachineLearningServices"
   ]
  },
  {
   "cell_type": "markdown",
   "metadata": {
    "application/vnd.databricks.v1+cell": {
     "cellMetadata": {},
     "inputWidgets": {},
     "nuid": "c4f158e8-e8f3-4bfb-8496-0caef658b3ea",
     "showTitle": false,
     "title": ""
    }
   },
   "source": [
    "### Check the Azure ML Core SDK Version to Validate Your Installation"
   ]
  },
  {
   "cell_type": "code",
   "execution_count": 0,
   "metadata": {
    "application/vnd.databricks.v1+cell": {
     "cellMetadata": {},
     "inputWidgets": {},
     "nuid": "437ca857-385c-4160-b890-3bda4c639da2",
     "showTitle": true,
     "title": "Figure 11-60"
    }
   },
   "outputs": [
    {
     "output_type": "display_data",
     "data": {
      "text/html": [
       "<style scoped>\n",
       "  .ansiout {\n",
       "    display: block;\n",
       "    unicode-bidi: embed;\n",
       "    white-space: pre-wrap;\n",
       "    word-wrap: break-word;\n",
       "    word-break: break-all;\n",
       "    font-family: \"Menlo\", \"Monaco\", \"Consolas\", \"Ubuntu Mono\", \"Source Code Pro\", monospace;\n",
       "    font-size: 13px;\n",
       "    color: #555;\n",
       "    margin-left: 4px;\n",
       "    line-height: 19px;\n",
       "  }\n",
       "</style>\n",
       "<div class=\"ansiout\">SDK Version: 1.5.0\n",
       "</div>"
      ]
     },
     "metadata": {
      "application/vnd.databricks.v1+output": {
       "addedWidgets": {},
       "arguments": {},
       "data": "<div class=\"ansiout\">SDK Version: 1.5.0\n</div>",
       "datasetInfos": [],
       "metadata": {},
       "removedWidgets": [],
       "type": "html"
      }
     },
     "output_type": "display_data"
    }
   ],
   "source": [
    "import azureml.core\n",
    "\n",
    "print(\"SDK Version:\", azureml.core.VERSION)"
   ]
  },
  {
   "cell_type": "markdown",
   "metadata": {
    "application/vnd.databricks.v1+cell": {
     "cellMetadata": {},
     "inputWidgets": {},
     "nuid": "ac6c40cb-49f3-4e37-b09a-424d95c872f0",
     "showTitle": false,
     "title": ""
    }
   },
   "source": [
    "## Initialize an Azure ML Workspace\n",
    "### What is an Azure ML Workspace and Why Do I Need One?\n",
    "\n",
    "An Azure ML workspace is an Azure resource that organizes and coordinates the actions of many other Azure resources to assist in executing and sharing machine learning workflows.  In particular, an Azure ML workspace coordinates storage, databases, and compute resources providing added functionality for machine learning experimentation, operationalization, and the monitoring of operationalized models.\n",
    "\n",
    "\n",
    "### What do I Need?\n",
    "\n",
    "To create or access an Azure ML workspace, you will need to import the Azure ML library and specify following information:\n",
    "* A name for your workspace. You can choose one.\n",
    "* Your subscription id. Use the `id` value from the `az account show` command output above.\n",
    "* The resource group name. The resource group organizes Azure resources and provides a default region for the resources in the group. The resource group will be created if it doesn't exist. Resource groups can be created and viewed in the [Azure portal](https://portal.azure.com)\n",
    "* Supported regions include `eastus2`, `eastus`,`westcentralus`, `southeastasia`, `westeurope`, `australiaeast`, `westus2`, `southcentralus`."
   ]
  },
  {
   "cell_type": "code",
   "execution_count": 0,
   "metadata": {
    "application/vnd.databricks.v1+cell": {
     "cellMetadata": {},
     "inputWidgets": {},
     "nuid": "64703c1d-c39e-4b13-95c9-077a91ed57ea",
     "showTitle": true,
     "title": "Figure 11-62 Example"
    }
   },
   "outputs": [
    {
     "output_type": "display_data",
     "data": {
      "text/html": [
       "<style scoped>\n",
       "  .ansiout {\n",
       "    display: block;\n",
       "    unicode-bidi: embed;\n",
       "    white-space: pre-wrap;\n",
       "    word-wrap: break-word;\n",
       "    word-break: break-all;\n",
       "    font-family: \"Menlo\", \"Monaco\", \"Consolas\", \"Ubuntu Mono\", \"Source Code Pro\", monospace;\n",
       "    font-size: 13px;\n",
       "    color: #555;\n",
       "    margin-left: 4px;\n",
       "    line-height: 19px;\n",
       "  }\n",
       "</style>\n",
       "<div class=\"ansiout\"></div>"
      ]
     },
     "metadata": {
      "application/vnd.databricks.v1+output": {
       "addedWidgets": {},
       "arguments": {},
       "data": "<div class=\"ansiout\"></div>",
       "datasetInfos": [],
       "metadata": {},
       "removedWidgets": [],
       "type": "html"
      }
     },
     "output_type": "display_data"
    }
   ],
   "source": [
    "subscription_id = \"bxxxx-8333-3322-9999-8bbbbbbb\" #you should be owner or contributor\n",
    "resource_group = \"rg_awazureml\" #you should be owner or contributor\n",
    "workspace_name = \"awazureml\" #your workspace name\n",
    "workspace_region = \"eastus2\" #your region"
   ]
  },
  {
   "cell_type": "code",
   "execution_count": 0,
   "metadata": {
    "application/vnd.databricks.v1+cell": {
     "cellMetadata": {},
     "inputWidgets": {},
     "nuid": "03a96cee-1e6b-4e3c-bf0a-41b80f7d4f50",
     "showTitle": true,
     "title": "Figure 11-62 Modify to your values"
    }
   },
   "outputs": [
    {
     "output_type": "display_data",
     "data": {
      "text/html": [
       "<style scoped>\n",
       "  .ansiout {\n",
       "    display: block;\n",
       "    unicode-bidi: embed;\n",
       "    white-space: pre-wrap;\n",
       "    word-wrap: break-word;\n",
       "    word-break: break-all;\n",
       "    font-family: \"Menlo\", \"Monaco\", \"Consolas\", \"Ubuntu Mono\", \"Source Code Pro\", monospace;\n",
       "    font-size: 13px;\n",
       "    color: #555;\n",
       "    margin-left: 4px;\n",
       "    line-height: 19px;\n",
       "  }\n",
       "</style>\n",
       "<div class=\"ansiout\"></div>"
      ]
     },
     "metadata": {
      "application/vnd.databricks.v1+output": {
       "addedWidgets": {},
       "arguments": {},
       "data": "<div class=\"ansiout\"></div>",
       "datasetInfos": [],
       "metadata": {},
       "removedWidgets": [],
       "type": "html"
      }
     },
     "output_type": "display_data"
    }
   ],
   "source": [
    "subscription_id = \"<your subscription id>\" #you should be owner or contributor\n",
    "resource_group = \"<AML workspace resource group name>\" #you should be owner or contributor\n",
    "workspace_name = \"<AML workspace name>\" #your workspace name\n",
    "workspace_region = \"<your region>\" #your region"
   ]
  },
  {
   "cell_type": "markdown",
   "metadata": {
    "application/vnd.databricks.v1+cell": {
     "cellMetadata": {},
     "inputWidgets": {},
     "nuid": "3c3fcb71-b220-4f55-9a9b-b66af47ba1ac",
     "showTitle": false,
     "title": ""
    }
   },
   "source": [
    "## Creating a Workspace\n",
    "\n",
    "If you followed the book, you already created an Azuer ML workspace.\n",
    "\n",
    "However, it is possible to create a workspace in using Python in your notebook.  \n",
    "\n",
    "The code below creates a new Azure ML workspace.  You will not need it now it is \n",
    "included for completeness. \n",
    "\n",
    "```\n",
    "# Import the Workspace class and check the Azure ML SDK version.\n",
    "from azureml.core import Workspace\n",
    "\n",
    "ws = Workspace.create(name = workspace_name,\n",
    "                      subscription_id = subscription_id,\n",
    "                      resource_group = resource_group, \n",
    "                      location = workspace_region,                      \n",
    "                      exist_ok=True)\n",
    "ws.get_details()\n",
    "```\n",
    "\n",
    "**Note:** Creation of a new workspace can take several minutes."
   ]
  },
  {
   "cell_type": "markdown",
   "metadata": {
    "application/vnd.databricks.v1+cell": {
     "cellMetadata": {},
     "inputWidgets": {},
     "nuid": "77387101-796e-41fe-9f6e-60d5d6541597",
     "showTitle": false,
     "title": ""
    }
   },
   "source": [
    "## Configuring Your Local Environment\n",
    "You can validate that you have access to the specified workspace and write a configuration file to the default configuration location, `./aml_config/config.json`."
   ]
  },
  {
   "cell_type": "code",
   "execution_count": 0,
   "metadata": {
    "application/vnd.databricks.v1+cell": {
     "cellMetadata": {},
     "inputWidgets": {},
     "nuid": "837370e7-fea4-4ec8-8be4-ec2babf12d4b",
     "showTitle": true,
     "title": "Figure 11-63 - Connect to existing workspace without using a config file."
    },
    "jupyter": {
     "outputs_hidden": true
    }
   },
   "outputs": [
    {
     "output_type": "display_data",
     "data": {
      "text/html": [
       "<style scoped>\n",
       "  .ansiout {\n",
       "    display: block;\n",
       "    unicode-bidi: embed;\n",
       "    white-space: pre-wrap;\n",
       "    word-wrap: break-word;\n",
       "    word-break: break-all;\n",
       "    font-family: \"Menlo\", \"Monaco\", \"Consolas\", \"Ubuntu Mono\", \"Source Code Pro\", monospace;\n",
       "    font-size: 13px;\n",
       "    color: #555;\n",
       "    margin-left: 4px;\n",
       "    line-height: 19px;\n",
       "  }\n",
       "</style>\n",
       "<div class=\"ansiout\">Performing interactive authentication. Please follow the instructions on the terminal.\n",
       "To sign in, use a web browser to open the page https://microsoft.com/devicelogin and enter the code AWYK23UC5 to authenticate.\n",
       "Interactive authentication successfully completed.\n",
       "</div>"
      ]
     },
     "metadata": {
      "application/vnd.databricks.v1+output": {
       "addedWidgets": {},
       "arguments": {},
       "data": "<div class=\"ansiout\">Performing interactive authentication. Please follow the instructions on the terminal.\nTo sign in, use a web browser to open the page https://microsoft.com/devicelogin and enter the code AWYK23UC5 to authenticate.\nInteractive authentication successfully completed.\n</div>",
       "datasetInfos": [],
       "metadata": {},
       "removedWidgets": [],
       "type": "html"
      }
     },
     "output_type": "display_data"
    },
    {
     "output_type": "display_data",
     "data": {
      "text/html": [
       "<style scoped>\n",
       "  .ansiout {\n",
       "    display: block;\n",
       "    unicode-bidi: embed;\n",
       "    white-space: pre-wrap;\n",
       "    word-wrap: break-word;\n",
       "    word-break: break-all;\n",
       "    font-family: \"Menlo\", \"Monaco\", \"Consolas\", \"Ubuntu Mono\", \"Source Code Pro\", monospace;\n",
       "    font-size: 13px;\n",
       "    color: #555;\n",
       "    margin-left: 4px;\n",
       "    line-height: 19px;\n",
       "  }\n",
       "</style>\n",
       "<div class=\"ansiout\"><span class=\"ansi-red-fg\">---------------------------------------------------------------------------</span>\n",
       "<span class=\"ansi-red-fg\">UserErrorException</span>                        Traceback (most recent call last)\n",
       "<span class=\"ansi-green-fg\">/databricks/python/lib/python3.7/site-packages/azureml/core/authentication.py</span> in <span class=\"ansi-cyan-fg\">wrapper</span><span class=\"ansi-blue-fg\">(self, *args, **kwargs)</span>\n",
       "<span class=\"ansi-green-intense-fg ansi-bold\">    275</span>                     module_logger<span class=\"ansi-blue-fg\">.</span>debug<span class=\"ansi-blue-fg\">(</span><span class=\"ansi-blue-fg\">&#34;{} acquired lock in {} s.&#34;</span><span class=\"ansi-blue-fg\">.</span>format<span class=\"ansi-blue-fg\">(</span>type<span class=\"ansi-blue-fg\">(</span>self<span class=\"ansi-blue-fg\">)</span><span class=\"ansi-blue-fg\">.</span>__name__<span class=\"ansi-blue-fg\">,</span> duration<span class=\"ansi-blue-fg\">)</span><span class=\"ansi-blue-fg\">)</span>\n",
       "<span class=\"ansi-green-fg\">--&gt; 276</span><span class=\"ansi-red-fg\">                 </span><span class=\"ansi-green-fg\">return</span> test_function<span class=\"ansi-blue-fg\">(</span>self<span class=\"ansi-blue-fg\">,</span> <span class=\"ansi-blue-fg\">*</span>args<span class=\"ansi-blue-fg\">,</span> <span class=\"ansi-blue-fg\">**</span>kwargs<span class=\"ansi-blue-fg\">)</span>\n",
       "<span class=\"ansi-green-intense-fg ansi-bold\">    277</span>             <span class=\"ansi-green-fg\">except</span> Exception <span class=\"ansi-green-fg\">as</span> e<span class=\"ansi-blue-fg\">:</span>\n",
       "\n",
       "<span class=\"ansi-green-fg\">/databricks/python/lib/python3.7/site-packages/azureml/core/authentication.py</span> in <span class=\"ansi-cyan-fg\">_check_if_subscription_exists</span><span class=\"ansi-blue-fg\">(self, subscription_id, subscription_id_list, tenant_id)</span>\n",
       "<span class=\"ansi-green-intense-fg ansi-bold\">    482</span>         super(InteractiveLoginAuthentication, self)._check_if_subscription_exists(subscription_id,\n",
       "<span class=\"ansi-green-fg\">--&gt; 483</span><span class=\"ansi-red-fg\">                                                                                   subscription_id_list, tenant_id)\n",
       "</span><span class=\"ansi-green-intense-fg ansi-bold\">    484</span> \n",
       "\n",
       "<span class=\"ansi-green-fg\">/databricks/python/lib/python3.7/site-packages/azureml/core/authentication.py</span> in <span class=\"ansi-cyan-fg\">_check_if_subscription_exists</span><span class=\"ansi-blue-fg\">(self, subscription_id, subscription_id_list, tenant_id)</span>\n",
       "<span class=\"ansi-green-intense-fg ansi-bold\">    229</span>                                                                                         subscription_id<span class=\"ansi-blue-fg\">,</span>\n",
       "<span class=\"ansi-green-fg\">--&gt; 230</span><span class=\"ansi-red-fg\">                                                                                         subscription_id_list))\n",
       "</span><span class=\"ansi-green-intense-fg ansi-bold\">    231</span> \n",
       "\n",
       "<span class=\"ansi-red-fg\">UserErrorException</span>: UserErrorException:\n",
       "\tMessage: You are currently logged-in to 5cb199d2-6029-418a-a4a3-d12225c3b160 tenant. You don&#39;t have access to &lt;your subscription id&gt; subscription, please check if it is in this tenant. All the subscriptions that you have access to in this tenant are = \n",
       " [SubscriptionInfo(subscription_name=&#39;MSDN Platforms&#39;, subscription_id=&#39;3c03d250-c831-4388-bcfa-39a1608000a8&#39;), SubscriptionInfo(subscription_name=&#39;Pay-As-You-Go&#39;, subscription_id=&#39;b25e4a1a-807f-4e08-9eb4-7f162b1ecd74&#39;)]. \n",
       " Please refer to aka.ms/aml-notebook-auth for different authentication mechanisms in azureml-sdk.\n",
       "\tInnerException None\n",
       "\tErrorResponse \n",
       "{\n",
       "    &#34;error&#34;: {\n",
       "        &#34;code&#34;: &#34;UserError&#34;,\n",
       "        &#34;message&#34;: &#34;You are currently logged-in to 5cb199d2-6029-418a-a4a3-d12225c3b160 tenant. You don&#39;t have access to &lt;your subscription id&gt; subscription, please check if it is in this tenant. All the subscriptions that you have access to in this tenant are = \\n [SubscriptionInfo(subscription_name=&#39;MSDN Platforms&#39;, subscription_id=&#39;3c03d250-c831-4388-bcfa-39a1608000a8&#39;), SubscriptionInfo(subscription_name=&#39;Pay-As-You-Go&#39;, subscription_id=&#39;b25e4a1a-807f-4e08-9eb4-7f162b1ecd74&#39;)]. \\n Please refer to aka.ms/aml-notebook-auth for different authentication mechanisms in azureml-sdk.&#34;\n",
       "    }\n",
       "}\n",
       "\n",
       "During handling of the above exception, another exception occurred:\n",
       "\n",
       "<span class=\"ansi-red-fg\">UserErrorException</span>                        Traceback (most recent call last)\n",
       "<span class=\"ansi-green-fg\">&lt;command-2556904324466373&gt;</span> in <span class=\"ansi-cyan-fg\">&lt;module&gt;</span>\n",
       "<span class=\"ansi-green-intense-fg ansi-bold\">      1</span> ws = Workspace.get(name=workspace_name,\n",
       "<span class=\"ansi-green-intense-fg ansi-bold\">      2</span>                subscription_id<span class=\"ansi-blue-fg\">=</span>subscription_id<span class=\"ansi-blue-fg\">,</span>\n",
       "<span class=\"ansi-green-fg\">----&gt; 3</span><span class=\"ansi-red-fg\">                resource_group=resource_group)\n",
       "</span><span class=\"ansi-green-intense-fg ansi-bold\">      4</span> \n",
       "<span class=\"ansi-green-intense-fg ansi-bold\">      5</span> ws<span class=\"ansi-blue-fg\">.</span>name\n",
       "\n",
       "<span class=\"ansi-green-fg\">/databricks/python/lib/python3.7/site-packages/azureml/core/workspace.py</span> in <span class=\"ansi-cyan-fg\">get</span><span class=\"ansi-blue-fg\">(name, auth, subscription_id, resource_group)</span>\n",
       "<span class=\"ansi-green-intense-fg ansi-bold\">    498</span>             auth <span class=\"ansi-blue-fg\">=</span> InteractiveLoginAuthentication<span class=\"ansi-blue-fg\">(</span><span class=\"ansi-blue-fg\">)</span>\n",
       "<span class=\"ansi-green-intense-fg ansi-bold\">    499</span> \n",
       "<span class=\"ansi-green-fg\">--&gt; 500</span><span class=\"ansi-red-fg\">         </span>result_dict <span class=\"ansi-blue-fg\">=</span> Workspace<span class=\"ansi-blue-fg\">.</span>list<span class=\"ansi-blue-fg\">(</span>subscription_id<span class=\"ansi-blue-fg\">,</span> auth<span class=\"ansi-blue-fg\">=</span>auth<span class=\"ansi-blue-fg\">,</span> resource_group<span class=\"ansi-blue-fg\">=</span>resource_group<span class=\"ansi-blue-fg\">)</span>\n",
       "<span class=\"ansi-green-intense-fg ansi-bold\">    501</span>         result_dict <span class=\"ansi-blue-fg\">=</span> <span class=\"ansi-blue-fg\">{</span>k<span class=\"ansi-blue-fg\">.</span>lower<span class=\"ansi-blue-fg\">(</span><span class=\"ansi-blue-fg\">)</span><span class=\"ansi-blue-fg\">:</span> v <span class=\"ansi-green-fg\">for</span> k<span class=\"ansi-blue-fg\">,</span> v <span class=\"ansi-green-fg\">in</span> result_dict<span class=\"ansi-blue-fg\">.</span>items<span class=\"ansi-blue-fg\">(</span><span class=\"ansi-blue-fg\">)</span><span class=\"ansi-blue-fg\">}</span>\n",
       "<span class=\"ansi-green-intense-fg ansi-bold\">    502</span>         name <span class=\"ansi-blue-fg\">=</span> name<span class=\"ansi-blue-fg\">.</span>lower<span class=\"ansi-blue-fg\">(</span><span class=\"ansi-blue-fg\">)</span>\n",
       "\n",
       "<span class=\"ansi-green-fg\">/databricks/python/lib/python3.7/site-packages/azureml/core/workspace.py</span> in <span class=\"ansi-cyan-fg\">list</span><span class=\"ansi-blue-fg\">(subscription_id, auth, resource_group)</span>\n",
       "<span class=\"ansi-green-intense-fg ansi-bold\">    574</span>         <span class=\"ansi-green-fg\">elif</span> subscription_id <span class=\"ansi-green-fg\">and</span> resource_group<span class=\"ansi-blue-fg\">:</span>\n",
       "<span class=\"ansi-green-intense-fg ansi-bold\">    575</span>             workspaces_list = Workspace._list_legacy(auth, subscription_id=subscription_id,\n",
       "<span class=\"ansi-green-fg\">--&gt; 576</span><span class=\"ansi-red-fg\">                                                      resource_group_name=resource_group)\n",
       "</span><span class=\"ansi-green-intense-fg ansi-bold\">    577</span> \n",
       "<span class=\"ansi-green-intense-fg ansi-bold\">    578</span>             Workspace<span class=\"ansi-blue-fg\">.</span>_process_autorest_workspace_list<span class=\"ansi-blue-fg\">(</span>auth<span class=\"ansi-blue-fg\">,</span> workspaces_list<span class=\"ansi-blue-fg\">,</span> result_dict<span class=\"ansi-blue-fg\">)</span>\n",
       "\n",
       "<span class=\"ansi-green-fg\">/databricks/python/lib/python3.7/site-packages/azureml/core/workspace.py</span> in <span class=\"ansi-cyan-fg\">_list_legacy</span><span class=\"ansi-blue-fg\">(auth, subscription_id, resource_group_name, ignore_error)</span>\n",
       "<span class=\"ansi-green-intense-fg ansi-bold\">   1186</span>                 <span class=\"ansi-green-fg\">return</span> <span class=\"ansi-green-fg\">None</span>\n",
       "<span class=\"ansi-green-intense-fg ansi-bold\">   1187</span>             <span class=\"ansi-green-fg\">else</span><span class=\"ansi-blue-fg\">:</span>\n",
       "<span class=\"ansi-green-fg\">-&gt; 1188</span><span class=\"ansi-red-fg\">                 </span><span class=\"ansi-green-fg\">raise</span> e\n",
       "<span class=\"ansi-green-intense-fg ansi-bold\">   1189</span> \n",
       "<span class=\"ansi-green-intense-fg ansi-bold\">   1190</span>     <span class=\"ansi-blue-fg\">@</span>staticmethod\n",
       "\n",
       "<span class=\"ansi-green-fg\">/databricks/python/lib/python3.7/site-packages/azureml/core/workspace.py</span> in <span class=\"ansi-cyan-fg\">_list_legacy</span><span class=\"ansi-blue-fg\">(auth, subscription_id, resource_group_name, ignore_error)</span>\n",
       "<span class=\"ansi-green-intense-fg ansi-bold\">   1180</span>             <span class=\"ansi-red-fg\"># A list of object of azureml._base_sdk_common.workspace.models.workspace.Workspace</span>\n",
       "<span class=\"ansi-green-intense-fg ansi-bold\">   1181</span>             workspace_autorest_list = _commands.list_workspace(auth, subscription_id=subscription_id,\n",
       "<span class=\"ansi-green-fg\">-&gt; 1182</span><span class=\"ansi-red-fg\">                                                                resource_group_name=resource_group_name)\n",
       "</span><span class=\"ansi-green-intense-fg ansi-bold\">   1183</span>             <span class=\"ansi-green-fg\">return</span> workspace_autorest_list\n",
       "<span class=\"ansi-green-intense-fg ansi-bold\">   1184</span>         <span class=\"ansi-green-fg\">except</span> Exception <span class=\"ansi-green-fg\">as</span> e<span class=\"ansi-blue-fg\">:</span>\n",
       "\n",
       "<span class=\"ansi-green-fg\">/databricks/python/lib/python3.7/site-packages/azureml/_project/_commands.py</span> in <span class=\"ansi-cyan-fg\">list_workspace</span><span class=\"ansi-blue-fg\">(auth, subscription_id, resource_group_name)</span>\n",
       "<span class=\"ansi-green-intense-fg ansi-bold\">    384</span>         <span class=\"ansi-green-fg\">if</span> resource_group_name<span class=\"ansi-blue-fg\">:</span>\n",
       "<span class=\"ansi-green-intense-fg ansi-bold\">    385</span>             list_object = WorkspacesOperations.list_by_resource_group(\n",
       "<span class=\"ansi-green-fg\">--&gt; 386</span><span class=\"ansi-red-fg\">                 </span>auth<span class=\"ansi-blue-fg\">.</span>_get_service_client<span class=\"ansi-blue-fg\">(</span>AzureMachineLearningWorkspaces<span class=\"ansi-blue-fg\">,</span> subscription_id<span class=\"ansi-blue-fg\">)</span><span class=\"ansi-blue-fg\">.</span>workspaces<span class=\"ansi-blue-fg\">,</span>\n",
       "<span class=\"ansi-green-intense-fg ansi-bold\">    387</span>                 resource_group_name)\n",
       "<span class=\"ansi-green-intense-fg ansi-bold\">    388</span>             workspace_list <span class=\"ansi-blue-fg\">=</span> list_object<span class=\"ansi-blue-fg\">.</span>value\n",
       "\n",
       "<span class=\"ansi-green-fg\">/databricks/python/lib/python3.7/site-packages/azureml/core/authentication.py</span> in <span class=\"ansi-cyan-fg\">_get_service_client</span><span class=\"ansi-blue-fg\">(self, client_class, subscription_id, subscription_bound, base_url)</span>\n",
       "<span class=\"ansi-green-intense-fg ansi-bold\">    143</span>         <span class=\"ansi-green-fg\">if</span> subscription_id<span class=\"ansi-blue-fg\">:</span>\n",
       "<span class=\"ansi-green-intense-fg ansi-bold\">    144</span>             all_subscription_list<span class=\"ansi-blue-fg\">,</span> tenant_id <span class=\"ansi-blue-fg\">=</span> self<span class=\"ansi-blue-fg\">.</span>_get_all_subscription_ids<span class=\"ansi-blue-fg\">(</span><span class=\"ansi-blue-fg\">)</span>\n",
       "<span class=\"ansi-green-fg\">--&gt; 145</span><span class=\"ansi-red-fg\">             </span>self<span class=\"ansi-blue-fg\">.</span>_check_if_subscription_exists<span class=\"ansi-blue-fg\">(</span>subscription_id<span class=\"ansi-blue-fg\">,</span> all_subscription_list<span class=\"ansi-blue-fg\">,</span> tenant_id<span class=\"ansi-blue-fg\">)</span>\n",
       "<span class=\"ansi-green-intense-fg ansi-bold\">    146</span> \n",
       "<span class=\"ansi-green-intense-fg ansi-bold\">    147</span>         <span class=\"ansi-green-fg\">if</span> <span class=\"ansi-green-fg\">not</span> base_url<span class=\"ansi-blue-fg\">:</span>\n",
       "\n",
       "<span class=\"ansi-green-fg\">/databricks/python/lib/python3.7/site-packages/azureml/core/authentication.py</span> in <span class=\"ansi-cyan-fg\">wrapper</span><span class=\"ansi-blue-fg\">(self, *args, **kwargs)</span>\n",
       "<span class=\"ansi-green-intense-fg ansi-bold\">    280</span>                     InteractiveLoginAuthentication<span class=\"ansi-blue-fg\">(</span>force<span class=\"ansi-blue-fg\">=</span><span class=\"ansi-green-fg\">True</span><span class=\"ansi-blue-fg\">,</span> tenant_id<span class=\"ansi-blue-fg\">=</span>self<span class=\"ansi-blue-fg\">.</span>_tenant_id<span class=\"ansi-blue-fg\">)</span>\n",
       "<span class=\"ansi-green-intense-fg ansi-bold\">    281</span>                     <span class=\"ansi-red-fg\"># Try one more time</span>\n",
       "<span class=\"ansi-green-fg\">--&gt; 282</span><span class=\"ansi-red-fg\">                     </span><span class=\"ansi-green-fg\">return</span> test_function<span class=\"ansi-blue-fg\">(</span>self<span class=\"ansi-blue-fg\">,</span> <span class=\"ansi-blue-fg\">*</span>args<span class=\"ansi-blue-fg\">,</span> <span class=\"ansi-blue-fg\">**</span>kwargs<span class=\"ansi-blue-fg\">)</span>\n",
       "<span class=\"ansi-green-intense-fg ansi-bold\">    283</span>                 <span class=\"ansi-green-fg\">else</span><span class=\"ansi-blue-fg\">:</span>\n",
       "<span class=\"ansi-green-intense-fg ansi-bold\">    284</span>                     <span class=\"ansi-green-fg\">raise</span> e\n",
       "\n",
       "<span class=\"ansi-green-fg\">/databricks/python/lib/python3.7/site-packages/azureml/core/authentication.py</span> in <span class=\"ansi-cyan-fg\">_check_if_subscription_exists</span><span class=\"ansi-blue-fg\">(self, subscription_id, subscription_id_list, tenant_id)</span>\n",
       "<span class=\"ansi-green-intense-fg ansi-bold\">    481</span>     <span class=\"ansi-green-fg\">def</span> _check_if_subscription_exists<span class=\"ansi-blue-fg\">(</span>self<span class=\"ansi-blue-fg\">,</span> subscription_id<span class=\"ansi-blue-fg\">,</span> subscription_id_list<span class=\"ansi-blue-fg\">,</span> tenant_id<span class=\"ansi-blue-fg\">)</span><span class=\"ansi-blue-fg\">:</span>\n",
       "<span class=\"ansi-green-intense-fg ansi-bold\">    482</span>         super(InteractiveLoginAuthentication, self)._check_if_subscription_exists(subscription_id,\n",
       "<span class=\"ansi-green-fg\">--&gt; 483</span><span class=\"ansi-red-fg\">                                                                                   subscription_id_list, tenant_id)\n",
       "</span><span class=\"ansi-green-intense-fg ansi-bold\">    484</span> \n",
       "<span class=\"ansi-green-intense-fg ansi-bold\">    485</span>     <span class=\"ansi-green-fg\">def</span> _get_ambient<span class=\"ansi-blue-fg\">(</span>self<span class=\"ansi-blue-fg\">)</span><span class=\"ansi-blue-fg\">:</span>\n",
       "\n",
       "<span class=\"ansi-green-fg\">/databricks/python/lib/python3.7/site-packages/azureml/core/authentication.py</span> in <span class=\"ansi-cyan-fg\">_check_if_subscription_exists</span><span class=\"ansi-blue-fg\">(self, subscription_id, subscription_id_list, tenant_id)</span>\n",
       "<span class=\"ansi-green-intense-fg ansi-bold\">    228</span>                                      &#34;authentication mechanisms in azureml-sdk.&#34;.format(tenant_id,\n",
       "<span class=\"ansi-green-intense-fg ansi-bold\">    229</span>                                                                                         subscription_id<span class=\"ansi-blue-fg\">,</span>\n",
       "<span class=\"ansi-green-fg\">--&gt; 230</span><span class=\"ansi-red-fg\">                                                                                         subscription_id_list))\n",
       "</span><span class=\"ansi-green-intense-fg ansi-bold\">    231</span> \n",
       "<span class=\"ansi-green-intense-fg ansi-bold\">    232</span> <span class=\"ansi-green-fg\">def</span> _login_on_failure_decorator<span class=\"ansi-blue-fg\">(</span>lock_to_use<span class=\"ansi-blue-fg\">)</span><span class=\"ansi-blue-fg\">:</span>\n",
       "\n",
       "<span class=\"ansi-red-fg\">UserErrorException</span>: UserErrorException:\n",
       "\tMessage: You are currently logged-in to 5cb199d2-6029-418a-a4a3-d12225c3b160 tenant. You don&#39;t have access to &lt;your subscription id&gt; subscription, please check if it is in this tenant. All the subscriptions that you have access to in this tenant are = \n",
       " [SubscriptionInfo(subscription_name=&#39;MSDN Platforms&#39;, subscription_id=&#39;3c03d250-c831-4388-bcfa-39a1608000a8&#39;), SubscriptionInfo(subscription_name=&#39;Pay-As-You-Go&#39;, subscription_id=&#39;b25e4a1a-807f-4e08-9eb4-7f162b1ecd74&#39;)]. \n",
       " Please refer to aka.ms/aml-notebook-auth for different authentication mechanisms in azureml-sdk.\n",
       "\tInnerException None\n",
       "\tErrorResponse \n",
       "{\n",
       "    &#34;error&#34;: {\n",
       "        &#34;code&#34;: &#34;UserError&#34;,\n",
       "        &#34;message&#34;: &#34;You are currently logged-in to 5cb199d2-6029-418a-a4a3-d12225c3b160 tenant. You don&#39;t have access to &lt;your subscription id&gt; subscription, please check if it is in this tenant. All the subscriptions that you have access to in this tenant are = \\n [SubscriptionInfo(subscription_name=&#39;MSDN Platforms&#39;, subscription_id=&#39;3c03d250-c831-4388-bcfa-39a1608000a8&#39;), SubscriptionInfo(subscription_name=&#39;Pay-As-You-Go&#39;, subscription_id=&#39;b25e4a1a-807f-4e08-9eb4-7f162b1ecd74&#39;)]. \\n Please refer to aka.ms/aml-notebook-auth for different authentication mechanisms in azureml-sdk.&#34;\n",
       "    }\n",
       "}</div>"
      ]
     },
     "metadata": {
      "application/vnd.databricks.v1+output": {
       "arguments": {},
       "data": "<div class=\"ansiout\"><span class=\"ansi-red-fg\">---------------------------------------------------------------------------</span>\n<span class=\"ansi-red-fg\">UserErrorException</span>                        Traceback (most recent call last)\n<span class=\"ansi-green-fg\">/databricks/python/lib/python3.7/site-packages/azureml/core/authentication.py</span> in <span class=\"ansi-cyan-fg\">wrapper</span><span class=\"ansi-blue-fg\">(self, *args, **kwargs)</span>\n<span class=\"ansi-green-intense-fg ansi-bold\">    275</span>                     module_logger<span class=\"ansi-blue-fg\">.</span>debug<span class=\"ansi-blue-fg\">(</span><span class=\"ansi-blue-fg\">&#34;{} acquired lock in {} s.&#34;</span><span class=\"ansi-blue-fg\">.</span>format<span class=\"ansi-blue-fg\">(</span>type<span class=\"ansi-blue-fg\">(</span>self<span class=\"ansi-blue-fg\">)</span><span class=\"ansi-blue-fg\">.</span>__name__<span class=\"ansi-blue-fg\">,</span> duration<span class=\"ansi-blue-fg\">)</span><span class=\"ansi-blue-fg\">)</span>\n<span class=\"ansi-green-fg\">--&gt; 276</span><span class=\"ansi-red-fg\">                 </span><span class=\"ansi-green-fg\">return</span> test_function<span class=\"ansi-blue-fg\">(</span>self<span class=\"ansi-blue-fg\">,</span> <span class=\"ansi-blue-fg\">*</span>args<span class=\"ansi-blue-fg\">,</span> <span class=\"ansi-blue-fg\">**</span>kwargs<span class=\"ansi-blue-fg\">)</span>\n<span class=\"ansi-green-intense-fg ansi-bold\">    277</span>             <span class=\"ansi-green-fg\">except</span> Exception <span class=\"ansi-green-fg\">as</span> e<span class=\"ansi-blue-fg\">:</span>\n\n<span class=\"ansi-green-fg\">/databricks/python/lib/python3.7/site-packages/azureml/core/authentication.py</span> in <span class=\"ansi-cyan-fg\">_check_if_subscription_exists</span><span class=\"ansi-blue-fg\">(self, subscription_id, subscription_id_list, tenant_id)</span>\n<span class=\"ansi-green-intense-fg ansi-bold\">    482</span>         super(InteractiveLoginAuthentication, self)._check_if_subscription_exists(subscription_id,\n<span class=\"ansi-green-fg\">--&gt; 483</span><span class=\"ansi-red-fg\">                                                                                   subscription_id_list, tenant_id)\n</span><span class=\"ansi-green-intense-fg ansi-bold\">    484</span> \n\n<span class=\"ansi-green-fg\">/databricks/python/lib/python3.7/site-packages/azureml/core/authentication.py</span> in <span class=\"ansi-cyan-fg\">_check_if_subscription_exists</span><span class=\"ansi-blue-fg\">(self, subscription_id, subscription_id_list, tenant_id)</span>\n<span class=\"ansi-green-intense-fg ansi-bold\">    229</span>                                                                                         subscription_id<span class=\"ansi-blue-fg\">,</span>\n<span class=\"ansi-green-fg\">--&gt; 230</span><span class=\"ansi-red-fg\">                                                                                         subscription_id_list))\n</span><span class=\"ansi-green-intense-fg ansi-bold\">    231</span> \n\n<span class=\"ansi-red-fg\">UserErrorException</span>: UserErrorException:\n\tMessage: You are currently logged-in to 5cb199d2-6029-418a-a4a3-d12225c3b160 tenant. You don&#39;t have access to &lt;your subscription id&gt; subscription, please check if it is in this tenant. All the subscriptions that you have access to in this tenant are = \n [SubscriptionInfo(subscription_name=&#39;MSDN Platforms&#39;, subscription_id=&#39;3c03d250-c831-4388-bcfa-39a1608000a8&#39;), SubscriptionInfo(subscription_name=&#39;Pay-As-You-Go&#39;, subscription_id=&#39;b25e4a1a-807f-4e08-9eb4-7f162b1ecd74&#39;)]. \n Please refer to aka.ms/aml-notebook-auth for different authentication mechanisms in azureml-sdk.\n\tInnerException None\n\tErrorResponse \n{\n    &#34;error&#34;: {\n        &#34;code&#34;: &#34;UserError&#34;,\n        &#34;message&#34;: &#34;You are currently logged-in to 5cb199d2-6029-418a-a4a3-d12225c3b160 tenant. You don&#39;t have access to &lt;your subscription id&gt; subscription, please check if it is in this tenant. All the subscriptions that you have access to in this tenant are = \\n [SubscriptionInfo(subscription_name=&#39;MSDN Platforms&#39;, subscription_id=&#39;3c03d250-c831-4388-bcfa-39a1608000a8&#39;), SubscriptionInfo(subscription_name=&#39;Pay-As-You-Go&#39;, subscription_id=&#39;b25e4a1a-807f-4e08-9eb4-7f162b1ecd74&#39;)]. \\n Please refer to aka.ms/aml-notebook-auth for different authentication mechanisms in azureml-sdk.&#34;\n    }\n}\n\nDuring handling of the above exception, another exception occurred:\n\n<span class=\"ansi-red-fg\">UserErrorException</span>                        Traceback (most recent call last)\n<span class=\"ansi-green-fg\">&lt;command-2556904324466373&gt;</span> in <span class=\"ansi-cyan-fg\">&lt;module&gt;</span>\n<span class=\"ansi-green-intense-fg ansi-bold\">      1</span> ws = Workspace.get(name=workspace_name,\n<span class=\"ansi-green-intense-fg ansi-bold\">      2</span>                subscription_id<span class=\"ansi-blue-fg\">=</span>subscription_id<span class=\"ansi-blue-fg\">,</span>\n<span class=\"ansi-green-fg\">----&gt; 3</span><span class=\"ansi-red-fg\">                resource_group=resource_group)\n</span><span class=\"ansi-green-intense-fg ansi-bold\">      4</span> \n<span class=\"ansi-green-intense-fg ansi-bold\">      5</span> ws<span class=\"ansi-blue-fg\">.</span>name\n\n<span class=\"ansi-green-fg\">/databricks/python/lib/python3.7/site-packages/azureml/core/workspace.py</span> in <span class=\"ansi-cyan-fg\">get</span><span class=\"ansi-blue-fg\">(name, auth, subscription_id, resource_group)</span>\n<span class=\"ansi-green-intense-fg ansi-bold\">    498</span>             auth <span class=\"ansi-blue-fg\">=</span> InteractiveLoginAuthentication<span class=\"ansi-blue-fg\">(</span><span class=\"ansi-blue-fg\">)</span>\n<span class=\"ansi-green-intense-fg ansi-bold\">    499</span> \n<span class=\"ansi-green-fg\">--&gt; 500</span><span class=\"ansi-red-fg\">         </span>result_dict <span class=\"ansi-blue-fg\">=</span> Workspace<span class=\"ansi-blue-fg\">.</span>list<span class=\"ansi-blue-fg\">(</span>subscription_id<span class=\"ansi-blue-fg\">,</span> auth<span class=\"ansi-blue-fg\">=</span>auth<span class=\"ansi-blue-fg\">,</span> resource_group<span class=\"ansi-blue-fg\">=</span>resource_group<span class=\"ansi-blue-fg\">)</span>\n<span class=\"ansi-green-intense-fg ansi-bold\">    501</span>         result_dict <span class=\"ansi-blue-fg\">=</span> <span class=\"ansi-blue-fg\">{</span>k<span class=\"ansi-blue-fg\">.</span>lower<span class=\"ansi-blue-fg\">(</span><span class=\"ansi-blue-fg\">)</span><span class=\"ansi-blue-fg\">:</span> v <span class=\"ansi-green-fg\">for</span> k<span class=\"ansi-blue-fg\">,</span> v <span class=\"ansi-green-fg\">in</span> result_dict<span class=\"ansi-blue-fg\">.</span>items<span class=\"ansi-blue-fg\">(</span><span class=\"ansi-blue-fg\">)</span><span class=\"ansi-blue-fg\">}</span>\n<span class=\"ansi-green-intense-fg ansi-bold\">    502</span>         name <span class=\"ansi-blue-fg\">=</span> name<span class=\"ansi-blue-fg\">.</span>lower<span class=\"ansi-blue-fg\">(</span><span class=\"ansi-blue-fg\">)</span>\n\n<span class=\"ansi-green-fg\">/databricks/python/lib/python3.7/site-packages/azureml/core/workspace.py</span> in <span class=\"ansi-cyan-fg\">list</span><span class=\"ansi-blue-fg\">(subscription_id, auth, resource_group)</span>\n<span class=\"ansi-green-intense-fg ansi-bold\">    574</span>         <span class=\"ansi-green-fg\">elif</span> subscription_id <span class=\"ansi-green-fg\">and</span> resource_group<span class=\"ansi-blue-fg\">:</span>\n<span class=\"ansi-green-intense-fg ansi-bold\">    575</span>             workspaces_list = Workspace._list_legacy(auth, subscription_id=subscription_id,\n<span class=\"ansi-green-fg\">--&gt; 576</span><span class=\"ansi-red-fg\">                                                      resource_group_name=resource_group)\n</span><span class=\"ansi-green-intense-fg ansi-bold\">    577</span> \n<span class=\"ansi-green-intense-fg ansi-bold\">    578</span>             Workspace<span class=\"ansi-blue-fg\">.</span>_process_autorest_workspace_list<span class=\"ansi-blue-fg\">(</span>auth<span class=\"ansi-blue-fg\">,</span> workspaces_list<span class=\"ansi-blue-fg\">,</span> result_dict<span class=\"ansi-blue-fg\">)</span>\n\n<span class=\"ansi-green-fg\">/databricks/python/lib/python3.7/site-packages/azureml/core/workspace.py</span> in <span class=\"ansi-cyan-fg\">_list_legacy</span><span class=\"ansi-blue-fg\">(auth, subscription_id, resource_group_name, ignore_error)</span>\n<span class=\"ansi-green-intense-fg ansi-bold\">   1186</span>                 <span class=\"ansi-green-fg\">return</span> <span class=\"ansi-green-fg\">None</span>\n<span class=\"ansi-green-intense-fg ansi-bold\">   1187</span>             <span class=\"ansi-green-fg\">else</span><span class=\"ansi-blue-fg\">:</span>\n<span class=\"ansi-green-fg\">-&gt; 1188</span><span class=\"ansi-red-fg\">                 </span><span class=\"ansi-green-fg\">raise</span> e\n<span class=\"ansi-green-intense-fg ansi-bold\">   1189</span> \n<span class=\"ansi-green-intense-fg ansi-bold\">   1190</span>     <span class=\"ansi-blue-fg\">@</span>staticmethod\n\n<span class=\"ansi-green-fg\">/databricks/python/lib/python3.7/site-packages/azureml/core/workspace.py</span> in <span class=\"ansi-cyan-fg\">_list_legacy</span><span class=\"ansi-blue-fg\">(auth, subscription_id, resource_group_name, ignore_error)</span>\n<span class=\"ansi-green-intense-fg ansi-bold\">   1180</span>             <span class=\"ansi-red-fg\"># A list of object of azureml._base_sdk_common.workspace.models.workspace.Workspace</span>\n<span class=\"ansi-green-intense-fg ansi-bold\">   1181</span>             workspace_autorest_list = _commands.list_workspace(auth, subscription_id=subscription_id,\n<span class=\"ansi-green-fg\">-&gt; 1182</span><span class=\"ansi-red-fg\">                                                                resource_group_name=resource_group_name)\n</span><span class=\"ansi-green-intense-fg ansi-bold\">   1183</span>             <span class=\"ansi-green-fg\">return</span> workspace_autorest_list\n<span class=\"ansi-green-intense-fg ansi-bold\">   1184</span>         <span class=\"ansi-green-fg\">except</span> Exception <span class=\"ansi-green-fg\">as</span> e<span class=\"ansi-blue-fg\">:</span>\n\n<span class=\"ansi-green-fg\">/databricks/python/lib/python3.7/site-packages/azureml/_project/_commands.py</span> in <span class=\"ansi-cyan-fg\">list_workspace</span><span class=\"ansi-blue-fg\">(auth, subscription_id, resource_group_name)</span>\n<span class=\"ansi-green-intense-fg ansi-bold\">    384</span>         <span class=\"ansi-green-fg\">if</span> resource_group_name<span class=\"ansi-blue-fg\">:</span>\n<span class=\"ansi-green-intense-fg ansi-bold\">    385</span>             list_object = WorkspacesOperations.list_by_resource_group(\n<span class=\"ansi-green-fg\">--&gt; 386</span><span class=\"ansi-red-fg\">                 </span>auth<span class=\"ansi-blue-fg\">.</span>_get_service_client<span class=\"ansi-blue-fg\">(</span>AzureMachineLearningWorkspaces<span class=\"ansi-blue-fg\">,</span> subscription_id<span class=\"ansi-blue-fg\">)</span><span class=\"ansi-blue-fg\">.</span>workspaces<span class=\"ansi-blue-fg\">,</span>\n<span class=\"ansi-green-intense-fg ansi-bold\">    387</span>                 resource_group_name)\n<span class=\"ansi-green-intense-fg ansi-bold\">    388</span>             workspace_list <span class=\"ansi-blue-fg\">=</span> list_object<span class=\"ansi-blue-fg\">.</span>value\n\n<span class=\"ansi-green-fg\">/databricks/python/lib/python3.7/site-packages/azureml/core/authentication.py</span> in <span class=\"ansi-cyan-fg\">_get_service_client</span><span class=\"ansi-blue-fg\">(self, client_class, subscription_id, subscription_bound, base_url)</span>\n<span class=\"ansi-green-intense-fg ansi-bold\">    143</span>         <span class=\"ansi-green-fg\">if</span> subscription_id<span class=\"ansi-blue-fg\">:</span>\n<span class=\"ansi-green-intense-fg ansi-bold\">    144</span>             all_subscription_list<span class=\"ansi-blue-fg\">,</span> tenant_id <span class=\"ansi-blue-fg\">=</span> self<span class=\"ansi-blue-fg\">.</span>_get_all_subscription_ids<span class=\"ansi-blue-fg\">(</span><span class=\"ansi-blue-fg\">)</span>\n<span class=\"ansi-green-fg\">--&gt; 145</span><span class=\"ansi-red-fg\">             </span>self<span class=\"ansi-blue-fg\">.</span>_check_if_subscription_exists<span class=\"ansi-blue-fg\">(</span>subscription_id<span class=\"ansi-blue-fg\">,</span> all_subscription_list<span class=\"ansi-blue-fg\">,</span> tenant_id<span class=\"ansi-blue-fg\">)</span>\n<span class=\"ansi-green-intense-fg ansi-bold\">    146</span> \n<span class=\"ansi-green-intense-fg ansi-bold\">    147</span>         <span class=\"ansi-green-fg\">if</span> <span class=\"ansi-green-fg\">not</span> base_url<span class=\"ansi-blue-fg\">:</span>\n\n<span class=\"ansi-green-fg\">/databricks/python/lib/python3.7/site-packages/azureml/core/authentication.py</span> in <span class=\"ansi-cyan-fg\">wrapper</span><span class=\"ansi-blue-fg\">(self, *args, **kwargs)</span>\n<span class=\"ansi-green-intense-fg ansi-bold\">    280</span>                     InteractiveLoginAuthentication<span class=\"ansi-blue-fg\">(</span>force<span class=\"ansi-blue-fg\">=</span><span class=\"ansi-green-fg\">True</span><span class=\"ansi-blue-fg\">,</span> tenant_id<span class=\"ansi-blue-fg\">=</span>self<span class=\"ansi-blue-fg\">.</span>_tenant_id<span class=\"ansi-blue-fg\">)</span>\n<span class=\"ansi-green-intense-fg ansi-bold\">    281</span>                     <span class=\"ansi-red-fg\"># Try one more time</span>\n<span class=\"ansi-green-fg\">--&gt; 282</span><span class=\"ansi-red-fg\">                     </span><span class=\"ansi-green-fg\">return</span> test_function<span class=\"ansi-blue-fg\">(</span>self<span class=\"ansi-blue-fg\">,</span> <span class=\"ansi-blue-fg\">*</span>args<span class=\"ansi-blue-fg\">,</span> <span class=\"ansi-blue-fg\">**</span>kwargs<span class=\"ansi-blue-fg\">)</span>\n<span class=\"ansi-green-intense-fg ansi-bold\">    283</span>                 <span class=\"ansi-green-fg\">else</span><span class=\"ansi-blue-fg\">:</span>\n<span class=\"ansi-green-intense-fg ansi-bold\">    284</span>                     <span class=\"ansi-green-fg\">raise</span> e\n\n<span class=\"ansi-green-fg\">/databricks/python/lib/python3.7/site-packages/azureml/core/authentication.py</span> in <span class=\"ansi-cyan-fg\">_check_if_subscription_exists</span><span class=\"ansi-blue-fg\">(self, subscription_id, subscription_id_list, tenant_id)</span>\n<span class=\"ansi-green-intense-fg ansi-bold\">    481</span>     <span class=\"ansi-green-fg\">def</span> _check_if_subscription_exists<span class=\"ansi-blue-fg\">(</span>self<span class=\"ansi-blue-fg\">,</span> subscription_id<span class=\"ansi-blue-fg\">,</span> subscription_id_list<span class=\"ansi-blue-fg\">,</span> tenant_id<span class=\"ansi-blue-fg\">)</span><span class=\"ansi-blue-fg\">:</span>\n<span class=\"ansi-green-intense-fg ansi-bold\">    482</span>         super(InteractiveLoginAuthentication, self)._check_if_subscription_exists(subscription_id,\n<span class=\"ansi-green-fg\">--&gt; 483</span><span class=\"ansi-red-fg\">                                                                                   subscription_id_list, tenant_id)\n</span><span class=\"ansi-green-intense-fg ansi-bold\">    484</span> \n<span class=\"ansi-green-intense-fg ansi-bold\">    485</span>     <span class=\"ansi-green-fg\">def</span> _get_ambient<span class=\"ansi-blue-fg\">(</span>self<span class=\"ansi-blue-fg\">)</span><span class=\"ansi-blue-fg\">:</span>\n\n<span class=\"ansi-green-fg\">/databricks/python/lib/python3.7/site-packages/azureml/core/authentication.py</span> in <span class=\"ansi-cyan-fg\">_check_if_subscription_exists</span><span class=\"ansi-blue-fg\">(self, subscription_id, subscription_id_list, tenant_id)</span>\n<span class=\"ansi-green-intense-fg ansi-bold\">    228</span>                                      &#34;authentication mechanisms in azureml-sdk.&#34;.format(tenant_id,\n<span class=\"ansi-green-intense-fg ansi-bold\">    229</span>                                                                                         subscription_id<span class=\"ansi-blue-fg\">,</span>\n<span class=\"ansi-green-fg\">--&gt; 230</span><span class=\"ansi-red-fg\">                                                                                         subscription_id_list))\n</span><span class=\"ansi-green-intense-fg ansi-bold\">    231</span> \n<span class=\"ansi-green-intense-fg ansi-bold\">    232</span> <span class=\"ansi-green-fg\">def</span> _login_on_failure_decorator<span class=\"ansi-blue-fg\">(</span>lock_to_use<span class=\"ansi-blue-fg\">)</span><span class=\"ansi-blue-fg\">:</span>\n\n<span class=\"ansi-red-fg\">UserErrorException</span>: UserErrorException:\n\tMessage: You are currently logged-in to 5cb199d2-6029-418a-a4a3-d12225c3b160 tenant. You don&#39;t have access to &lt;your subscription id&gt; subscription, please check if it is in this tenant. All the subscriptions that you have access to in this tenant are = \n [SubscriptionInfo(subscription_name=&#39;MSDN Platforms&#39;, subscription_id=&#39;3c03d250-c831-4388-bcfa-39a1608000a8&#39;), SubscriptionInfo(subscription_name=&#39;Pay-As-You-Go&#39;, subscription_id=&#39;b25e4a1a-807f-4e08-9eb4-7f162b1ecd74&#39;)]. \n Please refer to aka.ms/aml-notebook-auth for different authentication mechanisms in azureml-sdk.\n\tInnerException None\n\tErrorResponse \n{\n    &#34;error&#34;: {\n        &#34;code&#34;: &#34;UserError&#34;,\n        &#34;message&#34;: &#34;You are currently logged-in to 5cb199d2-6029-418a-a4a3-d12225c3b160 tenant. You don&#39;t have access to &lt;your subscription id&gt; subscription, please check if it is in this tenant. All the subscriptions that you have access to in this tenant are = \\n [SubscriptionInfo(subscription_name=&#39;MSDN Platforms&#39;, subscription_id=&#39;3c03d250-c831-4388-bcfa-39a1608000a8&#39;), SubscriptionInfo(subscription_name=&#39;Pay-As-You-Go&#39;, subscription_id=&#39;b25e4a1a-807f-4e08-9eb4-7f162b1ecd74&#39;)]. \\n Please refer to aka.ms/aml-notebook-auth for different authentication mechanisms in azureml-sdk.&#34;\n    }\n}</div>",
       "errorSummary": "<span class=\"ansi-red-fg\">UserErrorException</span>: UserErrorException:",
       "errorTraceType": null,
       "metadata": {},
       "type": "ipynbError"
      }
     },
     "output_type": "display_data"
    }
   ],
   "source": [
    "from azureml.core.workspace import Workspace\n",
    "\n",
    "ws = Workspace.get(name=workspace_name,\n",
    "               subscription_id=subscription_id,\n",
    "               resource_group=resource_group)\n",
    "\n",
    "ws.name"
   ]
  },
  {
   "cell_type": "code",
   "execution_count": 0,
   "metadata": {
    "application/vnd.databricks.v1+cell": {
     "cellMetadata": {},
     "inputWidgets": {},
     "nuid": "0f1654fc-671d-4e8f-b8d0-cf8e85cd7726",
     "showTitle": true,
     "title": "Figure 11-66"
    }
   },
   "outputs": [
    {
     "output_type": "display_data",
     "data": {
      "text/html": [
       "<style scoped>\n",
       "  .ansiout {\n",
       "    display: block;\n",
       "    unicode-bidi: embed;\n",
       "    white-space: pre-wrap;\n",
       "    word-wrap: break-word;\n",
       "    word-break: break-all;\n",
       "    font-family: \"Menlo\", \"Monaco\", \"Consolas\", \"Ubuntu Mono\", \"Source Code Pro\", monospace;\n",
       "    font-size: 13px;\n",
       "    color: #555;\n",
       "    margin-left: 4px;\n",
       "    line-height: 19px;\n",
       "  }\n",
       "</style>\n",
       "<div class=\"ansiout\">Out[91]: Workspace.create(name=&#39;awazureml&#39;, subscription_id=&#39;b25e4a1a-807f-4e08-9eb4-7f162b1ecd74&#39;, resource_group=&#39;rg_awazureml&#39;)</div>"
      ]
     },
     "metadata": {
      "application/vnd.databricks.v1+output": {
       "addedWidgets": {},
       "arguments": {},
       "data": "<div class=\"ansiout\">Out[91]: Workspace.create(name=&#39;awazureml&#39;, subscription_id=&#39;b25e4a1a-807f-4e08-9eb4-7f162b1ecd74&#39;, resource_group=&#39;rg_awazureml&#39;)</div>",
       "datasetInfos": [],
       "metadata": {},
       "removedWidgets": [],
       "type": "html"
      }
     },
     "output_type": "display_data"
    }
   ],
   "source": [
    "ws"
   ]
  },
  {
   "cell_type": "markdown",
   "metadata": {
    "application/vnd.databricks.v1+cell": {
     "cellMetadata": {},
     "inputWidgets": {},
     "nuid": "01f71a77-a095-45f2-bbbd-5748c3854b26",
     "showTitle": false,
     "title": ""
    }
   },
   "source": [
    "## Create a Folder to Host Sample Projects\n",
    "Finally, create a folder where all the sample projects will be hosted."
   ]
  },
  {
   "cell_type": "code",
   "execution_count": 0,
   "metadata": {
    "application/vnd.databricks.v1+cell": {
     "cellMetadata": {},
     "inputWidgets": {},
     "nuid": "e99aee43-8a0c-4b52-9331-1f702afeac5e",
     "showTitle": true,
     "title": "Figure 11-67"
    }
   },
   "outputs": [
    {
     "output_type": "display_data",
     "data": {
      "text/html": [
       "<style scoped>\n",
       "  .ansiout {\n",
       "    display: block;\n",
       "    unicode-bidi: embed;\n",
       "    white-space: pre-wrap;\n",
       "    word-wrap: break-word;\n",
       "    word-break: break-all;\n",
       "    font-family: \"Menlo\", \"Monaco\", \"Consolas\", \"Ubuntu Mono\", \"Source Code Pro\", monospace;\n",
       "    font-size: 13px;\n",
       "    color: #555;\n",
       "    margin-left: 4px;\n",
       "    line-height: 19px;\n",
       "  }\n",
       "</style>\n",
       "<div class=\"ansiout\">Projects will be created in ./awml.\n",
       "</div>"
      ]
     },
     "metadata": {
      "application/vnd.databricks.v1+output": {
       "addedWidgets": {},
       "arguments": {},
       "data": "<div class=\"ansiout\">Projects will be created in ./awml.\n</div>",
       "datasetInfos": [],
       "metadata": {},
       "removedWidgets": [],
       "type": "html"
      }
     },
     "output_type": "display_data"
    }
   ],
   "source": [
    "import os\n",
    "\n",
    "projects_folder = './awml'\n",
    "\n",
    "if not os.path.isdir(projects_folder):\n",
    "    os.mkdir(projects_folder)\n",
    "    \n",
    "print('Projects will be created in {}.'.format(projects_folder))"
   ]
  },
  {
   "cell_type": "markdown",
   "metadata": {
    "application/vnd.databricks.v1+cell": {
     "cellMetadata": {},
     "inputWidgets": {},
     "nuid": "b5b12d0f-3c78-48ce-b6fb-3c8a1cc2b264",
     "showTitle": false,
     "title": ""
    }
   },
   "source": [
    "## Create an Experiment\n",
    "\n",
    "As part of the setup you have already created an Azure ML `Workspace` object. For AutoML you will need to create an `Experiment` object, which is a named object in a `Workspace` used to run experiments."
   ]
  },
  {
   "cell_type": "code",
   "execution_count": 0,
   "metadata": {
    "application/vnd.databricks.v1+cell": {
     "cellMetadata": {},
     "inputWidgets": {},
     "nuid": "16af95bb-ae70-4e90-93e7-8b996ac51789",
     "showTitle": true,
     "title": "Figure 11-68 - Import libraries."
    }
   },
   "outputs": [
    {
     "output_type": "display_data",
     "data": {
      "text/html": [
       "<style scoped>\n",
       "  .ansiout {\n",
       "    display: block;\n",
       "    unicode-bidi: embed;\n",
       "    white-space: pre-wrap;\n",
       "    word-wrap: break-word;\n",
       "    word-break: break-all;\n",
       "    font-family: \"Menlo\", \"Monaco\", \"Consolas\", \"Ubuntu Mono\", \"Source Code Pro\", monospace;\n",
       "    font-size: 13px;\n",
       "    color: #555;\n",
       "    margin-left: 4px;\n",
       "    line-height: 19px;\n",
       "  }\n",
       "</style>\n",
       "<div class=\"ansiout\"></div>"
      ]
     },
     "metadata": {
      "application/vnd.databricks.v1+output": {
       "addedWidgets": {},
       "arguments": {},
       "data": "<div class=\"ansiout\"></div>",
       "datasetInfos": [],
       "metadata": {},
       "removedWidgets": [],
       "type": "html"
      }
     },
     "output_type": "display_data"
    }
   ],
   "source": [
    "import logging\n",
    "import os\n",
    "import random\n",
    "import time\n",
    "import json\n",
    "\n",
    "from matplotlib import pyplot as plt\n",
    "from matplotlib.pyplot import imshow\n",
    "import numpy as np\n",
    "import pandas as pd\n",
    "\n",
    "import azureml.core\n",
    "from azureml.core.experiment import Experiment\n",
    "from azureml.core.workspace import Workspace\n",
    "from azureml.train.automl import AutoMLConfig\n",
    "from azureml.train.automl.run import AutoMLRun"
   ]
  },
  {
   "cell_type": "code",
   "execution_count": 0,
   "metadata": {
    "application/vnd.databricks.v1+cell": {
     "cellMetadata": {},
     "inputWidgets": {},
     "nuid": "c9e77bfb-b908-4fb6-847b-f334fb45f550",
     "showTitle": true,
     "title": "Figure 11-69"
    }
   },
   "outputs": [
    {
     "output_type": "display_data",
     "data": {
      "text/html": [
       "<div>\n",
       "<style scoped>\n",
       "    .dataframe tbody tr th:only-of-type {\n",
       "        vertical-align: middle;\n",
       "    }\n",
       "\n",
       "    .dataframe tbody tr th {\n",
       "        vertical-align: top;\n",
       "    }\n",
       "\n",
       "    .dataframe thead th {\n",
       "        text-align: right;\n",
       "    }\n",
       "</style>\n",
       "<table border=\"1\" class=\"dataframe\">\n",
       "  <thead>\n",
       "    <tr style=\"text-align: right;\">\n",
       "      <th></th>\n",
       "      <th></th>\n",
       "    </tr>\n",
       "  </thead>\n",
       "  <tbody>\n",
       "    <tr>\n",
       "      <th>SDK version</th>\n",
       "      <td>1.5.0</td>\n",
       "    </tr>\n",
       "    <tr>\n",
       "      <th>Subscription ID</th>\n",
       "      <td>b25e4a1a-807f-4e08-9eb4-7f162b1ecd74</td>\n",
       "    </tr>\n",
       "    <tr>\n",
       "      <th>Workspace Name</th>\n",
       "      <td>awazureml</td>\n",
       "    </tr>\n",
       "    <tr>\n",
       "      <th>Resource Group</th>\n",
       "      <td>rg_awazureml</td>\n",
       "    </tr>\n",
       "    <tr>\n",
       "      <th>Location</th>\n",
       "      <td>eastus2</td>\n",
       "    </tr>\n",
       "    <tr>\n",
       "      <th>Project Directory</th>\n",
       "      <td>./awml/automl-local-classification</td>\n",
       "    </tr>\n",
       "    <tr>\n",
       "      <th>Experiment Name</th>\n",
       "      <td>automl-local-classification</td>\n",
       "    </tr>\n",
       "  </tbody>\n",
       "</table>\n",
       "</div>"
      ]
     },
     "metadata": {
      "application/vnd.databricks.v1+output": {
       "addedWidgets": {},
       "arguments": {},
       "data": "<div>\n<style scoped>\n    .dataframe tbody tr th:only-of-type {\n        vertical-align: middle;\n    }\n\n    .dataframe tbody tr th {\n        vertical-align: top;\n    }\n\n    .dataframe thead th {\n        text-align: right;\n    }\n</style>\n<table border=\"1\" class=\"dataframe\">\n  <thead>\n    <tr style=\"text-align: right;\">\n      <th></th>\n      <th></th>\n    </tr>\n  </thead>\n  <tbody>\n    <tr>\n      <th>SDK version</th>\n      <td>1.5.0</td>\n    </tr>\n    <tr>\n      <th>Subscription ID</th>\n      <td>b25e4a1a-807f-4e08-9eb4-7f162b1ecd74</td>\n    </tr>\n    <tr>\n      <th>Workspace Name</th>\n      <td>awazureml</td>\n    </tr>\n    <tr>\n      <th>Resource Group</th>\n      <td>rg_awazureml</td>\n    </tr>\n    <tr>\n      <th>Location</th>\n      <td>eastus2</td>\n    </tr>\n    <tr>\n      <th>Project Directory</th>\n      <td>./awml/automl-local-classification</td>\n    </tr>\n    <tr>\n      <th>Experiment Name</th>\n      <td>automl-local-classification</td>\n    </tr>\n  </tbody>\n</table>\n</div>",
       "datasetInfos": [],
       "metadata": {},
       "removedWidgets": [],
       "textData": "<div class=\"ansiout\">Out[94]: </div>",
       "type": "htmlSandbox"
      }
     },
     "output_type": "display_data"
    }
   ],
   "source": [
    "# Choose a name for the experiment and specify the project folder.\n",
    "experiment_name = 'automl-local-classification'\n",
    "project_folder = './awml/automl-local-classification'\n",
    "\n",
    "experiment = Experiment(ws, experiment_name)\n",
    "\n",
    "output = {}\n",
    "output['SDK version'] = azureml.core.VERSION\n",
    "output['Subscription ID'] = ws.subscription_id\n",
    "output['Workspace Name'] = ws.name\n",
    "output['Resource Group'] = ws.resource_group\n",
    "output['Location'] = ws.location\n",
    "output['Project Directory'] = project_folder\n",
    "output['Experiment Name'] = experiment.name\n",
    "pd.set_option('display.max_colwidth', -1)\n",
    "pd.DataFrame(data = output, index = ['']).T"
   ]
  },
  {
   "cell_type": "markdown",
   "metadata": {
    "application/vnd.databricks.v1+cell": {
     "cellMetadata": {},
     "inputWidgets": {},
     "nuid": "e938fca3-1f1f-48d0-a9e2-603225e5cdf7",
     "showTitle": false,
     "title": ""
    }
   },
   "source": [
    "## Registering Datastore"
   ]
  },
  {
   "cell_type": "markdown",
   "metadata": {
    "application/vnd.databricks.v1+cell": {
     "cellMetadata": {},
     "inputWidgets": {},
     "nuid": "a4fbe268-0f3f-42c4-ba46-ab29316867e8",
     "showTitle": false,
     "title": ""
    }
   },
   "source": [
    "Datastore is the way to save connection information to a storage service (e.g. Azure Blob, Azure Data Lake, Azure SQL) information to your workspace so you can access them without exposing credentials in your code. The first thing you will need to do is register a datastore, you can refer to our [python SDK documentation](https://docs.microsoft.com/en-us/python/api/azureml-core/azureml.core.datastore.datastore?view=azure-ml-py) on how to register datastores. __Note: for best security practices, please do not check in code that contains registering datastores with secrets into your source control__\n",
    "\n",
    "The code below registers a datastore pointing to a publicly readable blob container."
   ]
  },
  {
   "cell_type": "code",
   "execution_count": 0,
   "metadata": {
    "application/vnd.databricks.v1+cell": {
     "cellMetadata": {},
     "inputWidgets": {},
     "nuid": "ab40ef48-21c3-405e-84df-b4508a392e6c",
     "showTitle": true,
     "title": "Figure 11-70 - Get Blob access key from your secret scope."
    }
   },
   "outputs": [
    {
     "output_type": "display_data",
     "data": {
      "text/html": [
       "<style scoped>\n",
       "  .ansiout {\n",
       "    display: block;\n",
       "    unicode-bidi: embed;\n",
       "    white-space: pre-wrap;\n",
       "    word-wrap: break-word;\n",
       "    word-break: break-all;\n",
       "    font-family: \"Menlo\", \"Monaco\", \"Consolas\", \"Ubuntu Mono\", \"Source Code Pro\", monospace;\n",
       "    font-size: 13px;\n",
       "    color: #555;\n",
       "    margin-left: 4px;\n",
       "    line-height: 19px;\n",
       "  }\n",
       "</style>\n",
       "<div class=\"ansiout\"></div>"
      ]
     },
     "metadata": {
      "application/vnd.databricks.v1+output": {
       "addedWidgets": {},
       "arguments": {},
       "data": "<div class=\"ansiout\"></div>",
       "datasetInfos": [],
       "metadata": {},
       "removedWidgets": [],
       "type": "html"
      }
     },
     "output_type": "display_data"
    }
   ],
   "source": [
    "blobacctkey = dbutils.secrets.get(scope = \"aw-key-vault-secrets\", key = \"blobacctkey\")"
   ]
  },
  {
   "cell_type": "code",
   "execution_count": 0,
   "metadata": {
    "application/vnd.databricks.v1+cell": {
     "cellMetadata": {},
     "inputWidgets": {},
     "nuid": "95ec4bc5-4051-47e7-a638-e3ea3f899945",
     "showTitle": true,
     "title": "Figure 11-71 - Register the Datastore"
    }
   },
   "outputs": [
    {
     "output_type": "display_data",
     "data": {
      "text/html": [
       "<style scoped>\n",
       "  .ansiout {\n",
       "    display: block;\n",
       "    unicode-bidi: embed;\n",
       "    white-space: pre-wrap;\n",
       "    word-wrap: break-word;\n",
       "    word-break: break-all;\n",
       "    font-family: \"Menlo\", \"Monaco\", \"Consolas\", \"Ubuntu Mono\", \"Source Code Pro\", monospace;\n",
       "    font-size: 13px;\n",
       "    color: #555;\n",
       "    margin-left: 4px;\n",
       "    line-height: 19px;\n",
       "  }\n",
       "</style>\n",
       "<div class=\"ansiout\">Out[96]: {\n",
       "  &#34;name&#34;: &#34;awamltraining&#34;,\n",
       "  &#34;container_name&#34;: &#34;awdata&#34;,\n",
       "  &#34;account_name&#34;: &#34;awstorageaccounteda&#34;,\n",
       "  &#34;protocol&#34;: &#34;https&#34;,\n",
       "  &#34;endpoint&#34;: &#34;core.windows.net&#34;\n",
       "}</div>"
      ]
     },
     "metadata": {
      "application/vnd.databricks.v1+output": {
       "addedWidgets": {},
       "arguments": {},
       "data": "<div class=\"ansiout\">Out[96]: {\n  &#34;name&#34;: &#34;awamltraining&#34;,\n  &#34;container_name&#34;: &#34;awdata&#34;,\n  &#34;account_name&#34;: &#34;awstorageaccounteda&#34;,\n  &#34;protocol&#34;: &#34;https&#34;,\n  &#34;endpoint&#34;: &#34;core.windows.net&#34;\n}</div>",
       "datasetInfos": [],
       "metadata": {},
       "removedWidgets": [],
       "type": "html"
      }
     },
     "output_type": "display_data"
    }
   ],
   "source": [
    "from azureml.core import Datastore\n",
    "\n",
    "datastore_name = 'awamltraining'\n",
    "container_name = 'awdata' \n",
    "account_name = 'awstorageaccounteda'\n",
    "\n",
    "Datastore.register_azure_blob_container(\n",
    "    workspace = ws, \n",
    "    datastore_name = datastore_name, \n",
    "    container_name = container_name, \n",
    "    account_name = account_name,\n",
    "    account_key = blobacctkey\n",
    ")"
   ]
  },
  {
   "cell_type": "markdown",
   "metadata": {
    "application/vnd.databricks.v1+cell": {
     "cellMetadata": {},
     "inputWidgets": {},
     "nuid": "9acec118-8ed9-4383-b67d-e771c6cdc4e8",
     "showTitle": false,
     "title": ""
    }
   },
   "source": [
    "Below is an example on how to register a private blob container\n",
    "```python\n",
    "datastore = Datastore.register_azure_blob_container(\n",
    "    workspace = ws, \n",
    "    datastore_name = 'example_datastore', \n",
    "    container_name = 'example-container', \n",
    "    account_name = 'storageaccount',\n",
    "    account_key = 'accountkey'\n",
    ")\n",
    "```\n",
    "The example below shows how  to register an Azure Data Lake store. Please make sure you have granted the necessary permissions for the service principal to access the data lake.\n",
    "```python\n",
    "datastore = Datastore.register_azure_data_lake(\n",
    "    workspace = ws,\n",
    "    datastore_name = 'example_datastore',\n",
    "    store_name = 'adlsstore',\n",
    "    tenant_id = 'tenant-id-of-service-principal',\n",
    "    client_id = 'client-id-of-service-principal',\n",
    "    client_secret = 'client-secret-of-service-principal'\n",
    ")\n",
    "```"
   ]
  },
  {
   "cell_type": "markdown",
   "metadata": {
    "application/vnd.databricks.v1+cell": {
     "cellMetadata": {},
     "inputWidgets": {},
     "nuid": "825fa5fd-a32a-4766-9f96-031b56edeaf1",
     "showTitle": false,
     "title": ""
    }
   },
   "source": [
    "## Load Training Data Using Dataset"
   ]
  },
  {
   "cell_type": "markdown",
   "metadata": {
    "application/vnd.databricks.v1+cell": {
     "cellMetadata": {},
     "inputWidgets": {},
     "nuid": "cf5dc05a-30b2-495f-8c48-ef5a61911b93",
     "showTitle": false,
     "title": ""
    }
   },
   "source": [
    "Automated ML takes a `TabularDataset` as input.\n",
    "\n",
    "You are free to use the data preparation libraries/tools of your choice to do the require preparation and once you are done, you can write it to a datastore and create a TabularDataset from it.\n",
    "\n",
    "You will get the datastore you registered previously and pass it to Dataset for reading. The data comes from the digits dataset: `sklearn.datasets.load_digits()`. `DataPath` points to a specific location within a datastore. "
   ]
  },
  {
   "cell_type": "markdown",
   "metadata": {
    "application/vnd.databricks.v1+cell": {
     "cellMetadata": {},
     "inputWidgets": {},
     "nuid": "858091f0-fc84-49b6-bf4e-8d97cc152540",
     "showTitle": false,
     "title": ""
    }
   },
   "source": [
    "More information on Datastores at: https://docs.microsoft.com/en-us/azure/machine-learning/how-to-access-data"
   ]
  },
  {
   "cell_type": "code",
   "execution_count": 0,
   "metadata": {
    "application/vnd.databricks.v1+cell": {
     "cellMetadata": {},
     "inputWidgets": {},
     "nuid": "d0eac309-7e1e-4c95-931f-d166fe974a21",
     "showTitle": true,
     "title": "Figure 11-72 - List Datastores"
    }
   },
   "outputs": [
    {
     "output_type": "display_data",
     "data": {
      "text/html": [
       "<style scoped>\n",
       "  .ansiout {\n",
       "    display: block;\n",
       "    unicode-bidi: embed;\n",
       "    white-space: pre-wrap;\n",
       "    word-wrap: break-word;\n",
       "    word-break: break-all;\n",
       "    font-family: \"Menlo\", \"Monaco\", \"Consolas\", \"Ubuntu Mono\", \"Source Code Pro\", monospace;\n",
       "    font-size: 13px;\n",
       "    color: #555;\n",
       "    margin-left: 4px;\n",
       "    line-height: 19px;\n",
       "  }\n",
       "</style>\n",
       "<div class=\"ansiout\">awamltraining AzureBlob\n",
       "awtraining AzureBlob\n",
       "demo_training AzureBlob\n",
       "workspacefilestore AzureFile\n",
       "workspaceblobstore AzureBlob\n",
       "</div>"
      ]
     },
     "metadata": {
      "application/vnd.databricks.v1+output": {
       "addedWidgets": {},
       "arguments": {},
       "data": "<div class=\"ansiout\">awamltraining AzureBlob\nawtraining AzureBlob\ndemo_training AzureBlob\nworkspacefilestore AzureFile\nworkspaceblobstore AzureBlob\n</div>",
       "datasetInfos": [],
       "metadata": {},
       "removedWidgets": [],
       "type": "html"
      }
     },
     "output_type": "display_data"
    }
   ],
   "source": [
    "# List all datastores registered in the current workspace\n",
    "datastores = ws.datastores\n",
    "\n",
    "for name, datastore in datastores.items():\n",
    "    print(name, datastore.datastore_type)"
   ]
  },
  {
   "cell_type": "code",
   "execution_count": 0,
   "metadata": {
    "application/vnd.databricks.v1+cell": {
     "cellMetadata": {},
     "inputWidgets": {},
     "nuid": "587359fd-1141-4f28-b00d-95efed3d984e",
     "showTitle": true,
     "title": "Figure 11-73 - Get the default Datastore"
    }
   },
   "outputs": [
    {
     "output_type": "display_data",
     "data": {
      "text/html": [
       "<style scoped>\n",
       "  .ansiout {\n",
       "    display: block;\n",
       "    unicode-bidi: embed;\n",
       "    white-space: pre-wrap;\n",
       "    word-wrap: break-word;\n",
       "    word-break: break-all;\n",
       "    font-family: \"Menlo\", \"Monaco\", \"Consolas\", \"Ubuntu Mono\", \"Source Code Pro\", monospace;\n",
       "    font-size: 13px;\n",
       "    color: #555;\n",
       "    margin-left: 4px;\n",
       "    line-height: 19px;\n",
       "  }\n",
       "</style>\n",
       "<div class=\"ansiout\">Out[98]: {\n",
       "  &#34;name&#34;: &#34;workspaceblobstore&#34;,\n",
       "  &#34;container_name&#34;: &#34;azureml-blobstore-20094668-5c34-441f-a2ae-8baf5c5da1fc&#34;,\n",
       "  &#34;account_name&#34;: &#34;awazureml1573233542&#34;,\n",
       "  &#34;protocol&#34;: &#34;https&#34;,\n",
       "  &#34;endpoint&#34;: &#34;core.windows.net&#34;\n",
       "}</div>"
      ]
     },
     "metadata": {
      "application/vnd.databricks.v1+output": {
       "addedWidgets": {},
       "arguments": {},
       "data": "<div class=\"ansiout\">Out[98]: {\n  &#34;name&#34;: &#34;workspaceblobstore&#34;,\n  &#34;container_name&#34;: &#34;azureml-blobstore-20094668-5c34-441f-a2ae-8baf5c5da1fc&#34;,\n  &#34;account_name&#34;: &#34;awazureml1573233542&#34;,\n  &#34;protocol&#34;: &#34;https&#34;,\n  &#34;endpoint&#34;: &#34;core.windows.net&#34;\n}</div>",
       "datasetInfos": [],
       "metadata": {},
       "removedWidgets": [],
       "type": "html"
      }
     },
     "output_type": "display_data"
    }
   ],
   "source": [
    "datastore = ws.get_default_datastore()\n",
    "datastore"
   ]
  },
  {
   "cell_type": "markdown",
   "metadata": {
    "application/vnd.databricks.v1+cell": {
     "cellMetadata": {},
     "inputWidgets": {},
     "nuid": "b907a10a-bad1-4632-84f2-dbb551a93c4c",
     "showTitle": false,
     "title": ""
    }
   },
   "source": [
    "Datastore link: https://docs.microsoft.com/en-us/python/api/azureml-core/azureml.data.tabulardataset?view=azure-ml-py"
   ]
  },
  {
   "cell_type": "code",
   "execution_count": 0,
   "metadata": {
    "application/vnd.databricks.v1+cell": {
     "cellMetadata": {},
     "inputWidgets": {},
     "nuid": "74a7b990-0294-485b-bce9-eb7d9ec34247",
     "showTitle": true,
     "title": "Figure 11-74 - Loading the train and test data"
    }
   },
   "outputs": [
    {
     "output_type": "display_data",
     "data": {
      "text/html": [
       "<style scoped>\n",
       "  .ansiout {\n",
       "    display: block;\n",
       "    unicode-bidi: embed;\n",
       "    white-space: pre-wrap;\n",
       "    word-wrap: break-word;\n",
       "    word-break: break-all;\n",
       "    font-family: \"Menlo\", \"Monaco\", \"Consolas\", \"Ubuntu Mono\", \"Source Code Pro\", monospace;\n",
       "    font-size: 13px;\n",
       "    color: #555;\n",
       "    margin-left: 4px;\n",
       "    line-height: 19px;\n",
       "  }\n",
       "</style>\n",
       "<div class=\"ansiout\"></div>"
      ]
     },
     "metadata": {
      "application/vnd.databricks.v1+output": {
       "addedWidgets": {},
       "arguments": {},
       "data": "<div class=\"ansiout\"></div>",
       "datasetInfos": [],
       "metadata": {},
       "removedWidgets": [],
       "type": "html"
      }
     },
     "output_type": "display_data"
    }
   ],
   "source": [
    "from azureml.core.dataset import Dataset\n",
    "from azureml.data.datapath import DataPath\n",
    "\n",
    "datastore = Datastore.get(workspace = ws, datastore_name = datastore_name)\n",
    "\n",
    "train_data = Dataset.Tabular.from_delimited_files(datastore.path('train.csv'), header=True)\n",
    "test_data = Dataset.Tabular.from_delimited_files(datastore.path('testing.csv'), header=True)"
   ]
  },
  {
   "cell_type": "markdown",
   "metadata": {
    "application/vnd.databricks.v1+cell": {
     "cellMetadata": {},
     "inputWidgets": {},
     "nuid": "80f7d60b-a801-4f30-8c6b-48c0aed862be",
     "showTitle": false,
     "title": ""
    }
   },
   "source": [
    "## Review the TabularDataset\n",
    "You can peek the result of a TabularDataset at any range using `skip(i)` and `take(j).to_pandas_dataframe()`. Doing so evaluates only j records for all the steps in the TabularDataset, which makes it fast even against large datasets."
   ]
  },
  {
   "cell_type": "code",
   "execution_count": 0,
   "metadata": {
    "application/vnd.databricks.v1+cell": {
     "cellMetadata": {},
     "inputWidgets": {},
     "nuid": "d8d93c41-16b9-4a32-90fa-f39ac0eb1f28",
     "showTitle": true,
     "title": "Figure 11-75 - Displaying some of the train data."
    }
   },
   "outputs": [
    {
     "output_type": "display_data",
     "data": {
      "text/html": [
       "<div>\n",
       "<style scoped>\n",
       "    .dataframe tbody tr th:only-of-type {\n",
       "        vertical-align: middle;\n",
       "    }\n",
       "\n",
       "    .dataframe tbody tr th {\n",
       "        vertical-align: top;\n",
       "    }\n",
       "\n",
       "    .dataframe thead th {\n",
       "        text-align: right;\n",
       "    }\n",
       "</style>\n",
       "<table border=\"1\" class=\"dataframe\">\n",
       "  <thead>\n",
       "    <tr style=\"text-align: right;\">\n",
       "      <th></th>\n",
       "      <th>Subcategory</th>\n",
       "      <th>AgeBand</th>\n",
       "      <th>CommuteDistance</th>\n",
       "      <th>HasChildren</th>\n",
       "      <th>Education</th>\n",
       "      <th>Salary</th>\n",
       "    </tr>\n",
       "  </thead>\n",
       "  <tbody>\n",
       "    <tr>\n",
       "      <th>0</th>\n",
       "      <td>Mountain</td>\n",
       "      <td>Golden</td>\n",
       "      <td>0-1 Miles</td>\n",
       "      <td>False</td>\n",
       "      <td>Bachelors</td>\n",
       "      <td>10000.00</td>\n",
       "    </tr>\n",
       "    <tr>\n",
       "      <th>1</th>\n",
       "      <td>Mountain</td>\n",
       "      <td>Golden</td>\n",
       "      <td>0-1 Miles</td>\n",
       "      <td>False</td>\n",
       "      <td>Bachelors</td>\n",
       "      <td>10000.00</td>\n",
       "    </tr>\n",
       "    <tr>\n",
       "      <th>2</th>\n",
       "      <td>Mountain</td>\n",
       "      <td>Golden</td>\n",
       "      <td>0-1 Miles</td>\n",
       "      <td>False</td>\n",
       "      <td>Bachelors</td>\n",
       "      <td>10000.00</td>\n",
       "    </tr>\n",
       "    <tr>\n",
       "      <th>3</th>\n",
       "      <td>Mountain</td>\n",
       "      <td>Golden</td>\n",
       "      <td>0-1 Miles</td>\n",
       "      <td>False</td>\n",
       "      <td>Bachelors</td>\n",
       "      <td>10000.00</td>\n",
       "    </tr>\n",
       "    <tr>\n",
       "      <th>4</th>\n",
       "      <td>Mountain</td>\n",
       "      <td>Golden</td>\n",
       "      <td>0-1 Miles</td>\n",
       "      <td>False</td>\n",
       "      <td>Bachelors</td>\n",
       "      <td>20000.00</td>\n",
       "    </tr>\n",
       "  </tbody>\n",
       "</table>\n",
       "</div>"
      ]
     },
     "metadata": {
      "application/vnd.databricks.v1+output": {
       "addedWidgets": {},
       "arguments": {},
       "data": "<div>\n<style scoped>\n    .dataframe tbody tr th:only-of-type {\n        vertical-align: middle;\n    }\n\n    .dataframe tbody tr th {\n        vertical-align: top;\n    }\n\n    .dataframe thead th {\n        text-align: right;\n    }\n</style>\n<table border=\"1\" class=\"dataframe\">\n  <thead>\n    <tr style=\"text-align: right;\">\n      <th></th>\n      <th>Subcategory</th>\n      <th>AgeBand</th>\n      <th>CommuteDistance</th>\n      <th>HasChildren</th>\n      <th>Education</th>\n      <th>Salary</th>\n    </tr>\n  </thead>\n  <tbody>\n    <tr>\n      <th>0</th>\n      <td>Mountain</td>\n      <td>Golden</td>\n      <td>0-1 Miles</td>\n      <td>False</td>\n      <td>Bachelors</td>\n      <td>10000.00</td>\n    </tr>\n    <tr>\n      <th>1</th>\n      <td>Mountain</td>\n      <td>Golden</td>\n      <td>0-1 Miles</td>\n      <td>False</td>\n      <td>Bachelors</td>\n      <td>10000.00</td>\n    </tr>\n    <tr>\n      <th>2</th>\n      <td>Mountain</td>\n      <td>Golden</td>\n      <td>0-1 Miles</td>\n      <td>False</td>\n      <td>Bachelors</td>\n      <td>10000.00</td>\n    </tr>\n    <tr>\n      <th>3</th>\n      <td>Mountain</td>\n      <td>Golden</td>\n      <td>0-1 Miles</td>\n      <td>False</td>\n      <td>Bachelors</td>\n      <td>10000.00</td>\n    </tr>\n    <tr>\n      <th>4</th>\n      <td>Mountain</td>\n      <td>Golden</td>\n      <td>0-1 Miles</td>\n      <td>False</td>\n      <td>Bachelors</td>\n      <td>20000.00</td>\n    </tr>\n  </tbody>\n</table>\n</div>",
       "datasetInfos": [],
       "metadata": {},
       "removedWidgets": [],
       "textData": "<div class=\"ansiout\">Out[100]: </div>",
       "type": "htmlSandbox"
      }
     },
     "output_type": "display_data"
    }
   ],
   "source": [
    "train_data.take(5).to_pandas_dataframe()"
   ]
  },
  {
   "cell_type": "code",
   "execution_count": 0,
   "metadata": {
    "application/vnd.databricks.v1+cell": {
     "cellMetadata": {},
     "inputWidgets": {},
     "nuid": "bf471927-deb4-4dfb-b481-922637b3c92a",
     "showTitle": true,
     "title": "Figure 11-76 - Drop the Subcategory column from X_train "
    }
   },
   "outputs": [
    {
     "output_type": "display_data",
     "data": {
      "text/html": [
       "<div>\n",
       "<style scoped>\n",
       "    .dataframe tbody tr th:only-of-type {\n",
       "        vertical-align: middle;\n",
       "    }\n",
       "\n",
       "    .dataframe tbody tr th {\n",
       "        vertical-align: top;\n",
       "    }\n",
       "\n",
       "    .dataframe thead th {\n",
       "        text-align: right;\n",
       "    }\n",
       "</style>\n",
       "<table border=\"1\" class=\"dataframe\">\n",
       "  <thead>\n",
       "    <tr style=\"text-align: right;\">\n",
       "      <th></th>\n",
       "      <th>AgeBand</th>\n",
       "      <th>CommuteDistance</th>\n",
       "      <th>HasChildren</th>\n",
       "      <th>Education</th>\n",
       "      <th>Salary</th>\n",
       "    </tr>\n",
       "  </thead>\n",
       "  <tbody>\n",
       "    <tr>\n",
       "      <th>0</th>\n",
       "      <td>Golden</td>\n",
       "      <td>0-1 Miles</td>\n",
       "      <td>False</td>\n",
       "      <td>Bachelors</td>\n",
       "      <td>10000.00</td>\n",
       "    </tr>\n",
       "    <tr>\n",
       "      <th>1</th>\n",
       "      <td>Golden</td>\n",
       "      <td>0-1 Miles</td>\n",
       "      <td>False</td>\n",
       "      <td>Bachelors</td>\n",
       "      <td>10000.00</td>\n",
       "    </tr>\n",
       "  </tbody>\n",
       "</table>\n",
       "</div>"
      ]
     },
     "metadata": {
      "application/vnd.databricks.v1+output": {
       "addedWidgets": {},
       "arguments": {},
       "data": "<div>\n<style scoped>\n    .dataframe tbody tr th:only-of-type {\n        vertical-align: middle;\n    }\n\n    .dataframe tbody tr th {\n        vertical-align: top;\n    }\n\n    .dataframe thead th {\n        text-align: right;\n    }\n</style>\n<table border=\"1\" class=\"dataframe\">\n  <thead>\n    <tr style=\"text-align: right;\">\n      <th></th>\n      <th>AgeBand</th>\n      <th>CommuteDistance</th>\n      <th>HasChildren</th>\n      <th>Education</th>\n      <th>Salary</th>\n    </tr>\n  </thead>\n  <tbody>\n    <tr>\n      <th>0</th>\n      <td>Golden</td>\n      <td>0-1 Miles</td>\n      <td>False</td>\n      <td>Bachelors</td>\n      <td>10000.00</td>\n    </tr>\n    <tr>\n      <th>1</th>\n      <td>Golden</td>\n      <td>0-1 Miles</td>\n      <td>False</td>\n      <td>Bachelors</td>\n      <td>10000.00</td>\n    </tr>\n  </tbody>\n</table>\n</div>",
       "datasetInfos": [],
       "metadata": {},
       "removedWidgets": [],
       "textData": "<div class=\"ansiout\">Out[101]: </div>",
       "type": "htmlSandbox"
      }
     },
     "output_type": "display_data"
    }
   ],
   "source": [
    "X_train = train_data.drop_columns(\"Subcategory\")\n",
    "X_train.take(2).to_pandas_dataframe()"
   ]
  },
  {
   "cell_type": "code",
   "execution_count": 0,
   "metadata": {
    "application/vnd.databricks.v1+cell": {
     "cellMetadata": {},
     "inputWidgets": {},
     "nuid": "a1606605-f0a1-40ea-a75d-755a2e77e6ba",
     "showTitle": true,
     "title": "Figure 11-77 - Keep only Subcategory in y_train"
    }
   },
   "outputs": [
    {
     "output_type": "display_data",
     "data": {
      "text/html": [
       "<style scoped>\n",
       "  .ansiout {\n",
       "    display: block;\n",
       "    unicode-bidi: embed;\n",
       "    white-space: pre-wrap;\n",
       "    word-wrap: break-word;\n",
       "    word-break: break-all;\n",
       "    font-family: \"Menlo\", \"Monaco\", \"Consolas\", \"Ubuntu Mono\", \"Source Code Pro\", monospace;\n",
       "    font-size: 13px;\n",
       "    color: #555;\n",
       "    margin-left: 4px;\n",
       "    line-height: 19px;\n",
       "  }\n",
       "</style>\n",
       "<div class=\"ansiout\"></div>"
      ]
     },
     "metadata": {
      "application/vnd.databricks.v1+output": {
       "addedWidgets": {},
       "arguments": {},
       "data": "<div class=\"ansiout\"></div>",
       "datasetInfos": [],
       "metadata": {},
       "removedWidgets": [],
       "type": "html"
      }
     },
     "output_type": "display_data"
    }
   ],
   "source": [
    "y_train = train_data.keep_columns(\"Subcategory\")"
   ]
  },
  {
   "cell_type": "code",
   "execution_count": 0,
   "metadata": {
    "application/vnd.databricks.v1+cell": {
     "cellMetadata": {},
     "inputWidgets": {},
     "nuid": "583a4f76-6ef2-49d3-b9a8-0abca95a8566",
     "showTitle": true,
     "title": "Figure 11-78"
    }
   },
   "outputs": [
    {
     "output_type": "display_data",
     "data": {
      "text/html": [
       "<div>\n",
       "<style scoped>\n",
       "    .dataframe tbody tr th:only-of-type {\n",
       "        vertical-align: middle;\n",
       "    }\n",
       "\n",
       "    .dataframe tbody tr th {\n",
       "        vertical-align: top;\n",
       "    }\n",
       "\n",
       "    .dataframe thead th {\n",
       "        text-align: right;\n",
       "    }\n",
       "</style>\n",
       "<table border=\"1\" class=\"dataframe\">\n",
       "  <thead>\n",
       "    <tr style=\"text-align: right;\">\n",
       "      <th></th>\n",
       "      <th>Subcategory</th>\n",
       "    </tr>\n",
       "  </thead>\n",
       "  <tbody>\n",
       "    <tr>\n",
       "      <th>0</th>\n",
       "      <td>Mountain</td>\n",
       "    </tr>\n",
       "    <tr>\n",
       "      <th>1</th>\n",
       "      <td>Mountain</td>\n",
       "    </tr>\n",
       "    <tr>\n",
       "      <th>2</th>\n",
       "      <td>Mountain</td>\n",
       "    </tr>\n",
       "    <tr>\n",
       "      <th>3</th>\n",
       "      <td>Mountain</td>\n",
       "    </tr>\n",
       "    <tr>\n",
       "      <th>4</th>\n",
       "      <td>Mountain</td>\n",
       "    </tr>\n",
       "  </tbody>\n",
       "</table>\n",
       "</div>"
      ]
     },
     "metadata": {
      "application/vnd.databricks.v1+output": {
       "addedWidgets": {},
       "arguments": {},
       "data": "<div>\n<style scoped>\n    .dataframe tbody tr th:only-of-type {\n        vertical-align: middle;\n    }\n\n    .dataframe tbody tr th {\n        vertical-align: top;\n    }\n\n    .dataframe thead th {\n        text-align: right;\n    }\n</style>\n<table border=\"1\" class=\"dataframe\">\n  <thead>\n    <tr style=\"text-align: right;\">\n      <th></th>\n      <th>Subcategory</th>\n    </tr>\n  </thead>\n  <tbody>\n    <tr>\n      <th>0</th>\n      <td>Mountain</td>\n    </tr>\n    <tr>\n      <th>1</th>\n      <td>Mountain</td>\n    </tr>\n    <tr>\n      <th>2</th>\n      <td>Mountain</td>\n    </tr>\n    <tr>\n      <th>3</th>\n      <td>Mountain</td>\n    </tr>\n    <tr>\n      <th>4</th>\n      <td>Mountain</td>\n    </tr>\n  </tbody>\n</table>\n</div>",
       "datasetInfos": [],
       "metadata": {},
       "removedWidgets": [],
       "textData": "<div class=\"ansiout\">Out[103]: </div>",
       "type": "htmlSandbox"
      }
     },
     "output_type": "display_data"
    }
   ],
   "source": [
    "y_train.take(5).to_pandas_dataframe()"
   ]
  },
  {
   "cell_type": "markdown",
   "metadata": {
    "application/vnd.databricks.v1+cell": {
     "cellMetadata": {},
     "inputWidgets": {},
     "nuid": "ee9ab94f-6de8-4d9c-acfc-4e4c1fdf3c52",
     "showTitle": false,
     "title": ""
    }
   },
   "source": [
    "## Configure AutoML\n",
    "\n",
    "Instantiate an `AutoMLConfig` object to specify the settings and data used to run the experiment.\n",
    "\n",
    "|Property|Description|\n",
    "|-|-|\n",
    "|**task**|classification or regression|\n",
    "|**primary_metric**|This is the metric that you want to optimize. Classification supports the following primary metrics: <br><i>accuracy</i><br><i>AUC_weighted</i><br><i>average_precision_score_weighted</i><br><i>norm_macro_recall</i><br><i>precision_score_weighted</i>|\n",
    "|**primary_metric**|This is the metric that you want to optimize. Regression supports the following primary metrics: <br><i>spearman_correlation</i><br><i>normalized_root_mean_squared_error</i><br><i>r2_score</i><br><i>normalized_mean_absolute_error</i>|\n",
    "|**iteration_timeout_minutes**|Time limit in minutes for each iteration.|\n",
    "|**iterations**|Number of iterations. In each iteration AutoML trains a specific pipeline with the data.|\n",
    "|**n_cross_validations**|Number of cross validation splits.|\n",
    "|**spark_context**|Spark Context object. for Databricks, use spark_context=sc|\n",
    "|**max_concurrent_iterations**|Maximum number of iterations to execute in parallel. This should be <= number of worker nodes in your Azure Databricks cluster.|\n",
    "|**X**|(sparse) array-like, shape = [n_samples, n_features]|\n",
    "|**y**|(sparse) array-like, shape = [n_samples, ], [n_samples, n_classes]<br>Multi-class targets. An indicator matrix turns on multilabel classification. This should be an array of integers.|\n",
    "|**path**|Relative path to the project folder. AutoML stores configuration files for the experiment under this folder. You can specify a new empty folder.|\n",
    "|**preprocess**|set this to True to enable pre-processing of data eg. string to numeric using one-hot encoding|\n",
    "|**exit_score**|Target score for experiment. It is associated with the metric. eg. exit_score=0.995 will exit experiment after that|"
   ]
  },
  {
   "cell_type": "markdown",
   "metadata": {
    "application/vnd.databricks.v1+cell": {
     "cellMetadata": {},
     "inputWidgets": {},
     "nuid": "8513f43c-b8ae-42fa-af5d-bff7320412a8",
     "showTitle": false,
     "title": ""
    }
   },
   "source": [
    "### See link for config options: https://docs.microsoft.com/en-us/azure/machine-learning/how-to-configure-auto-train"
   ]
  },
  {
   "cell_type": "code",
   "execution_count": 0,
   "metadata": {
    "application/vnd.databricks.v1+cell": {
     "cellMetadata": {},
     "inputWidgets": {},
     "nuid": "046979ef-0a2f-4a97-9307-9a34438f7799",
     "showTitle": true,
     "title": "Figure 11-79"
    }
   },
   "outputs": [
    {
     "output_type": "display_data",
     "data": {
      "text/html": [
       "<style scoped>\n",
       "  .ansiout {\n",
       "    display: block;\n",
       "    unicode-bidi: embed;\n",
       "    white-space: pre-wrap;\n",
       "    word-wrap: break-word;\n",
       "    word-break: break-all;\n",
       "    font-family: \"Menlo\", \"Monaco\", \"Consolas\", \"Ubuntu Mono\", \"Source Code Pro\", monospace;\n",
       "    font-size: 13px;\n",
       "    color: #555;\n",
       "    margin-left: 4px;\n",
       "    line-height: 19px;\n",
       "  }\n",
       "</style>\n",
       "<div class=\"ansiout\"></div>"
      ]
     },
     "metadata": {
      "application/vnd.databricks.v1+output": {
       "addedWidgets": {},
       "arguments": {},
       "data": "<div class=\"ansiout\"></div>",
       "datasetInfos": [],
       "metadata": {},
       "removedWidgets": [],
       "type": "html"
      }
     },
     "output_type": "display_data"
    }
   ],
   "source": [
    "automl_classifier = AutoMLConfig(\n",
    "                                task='classification',\n",
    "                                debug_log = 'automl_errors.log',\n",
    "                                verbosity = logging.INFO,\n",
    "                                featurization = 'auto',\n",
    "                                primary_metric='AUC_weighted',\n",
    "                                iteration_timeout_minutes = 10,\n",
    "                                iterations = 5,\n",
    "                                experiment_timeout_minutes=30,\n",
    "                                max_concurrent_iterations = 4,  # change it based on number of worker nodes\n",
    "                                blacklist_models=['XGBoostClassifier'],\n",
    "                                training_data=train_data,\n",
    "                                label_column_name='Subcategory',\n",
    "                                n_cross_validations=5)"
   ]
  },
  {
   "cell_type": "markdown",
   "metadata": {
    "application/vnd.databricks.v1+cell": {
     "cellMetadata": {},
     "inputWidgets": {},
     "nuid": "7fe1550e-1109-4ea9-b959-a019699d94e5",
     "showTitle": false,
     "title": ""
    }
   },
   "source": [
    "## Train the Models\n",
    "\n",
    "Call the `submit` method on the experiment object and pass the run configuration. Execution of local runs is synchronous. Depending on the data and the number of iterations this can run for a while."
   ]
  },
  {
   "cell_type": "code",
   "execution_count": 0,
   "metadata": {
    "application/vnd.databricks.v1+cell": {
     "cellMetadata": {},
     "inputWidgets": {},
     "nuid": "f97f485a-9666-4f24-b712-bb863a4bf0b1",
     "showTitle": true,
     "title": "Figure 11-80 - Submit Experiment"
    }
   },
   "outputs": [
    {
     "output_type": "display_data",
     "data": {
      "text/html": [
       "<style scoped>\n",
       "  .ansiout {\n",
       "    display: block;\n",
       "    unicode-bidi: embed;\n",
       "    white-space: pre-wrap;\n",
       "    word-wrap: break-word;\n",
       "    word-break: break-all;\n",
       "    font-family: \"Menlo\", \"Monaco\", \"Consolas\", \"Ubuntu Mono\", \"Source Code Pro\", monospace;\n",
       "    font-size: 13px;\n",
       "    color: #555;\n",
       "    margin-left: 4px;\n",
       "    line-height: 19px;\n",
       "  }\n",
       "</style>\n",
       "<div class=\"ansiout\">Running on local machine\n",
       "Parent Run ID: AutoML_69f164d5-611c-4a36-9563-fc1c20ea5e7c\n",
       "\n",
       "\rCurrent status: DatasetEvaluation. Gathering dataset statistics.\n",
       "\rCurrent status: FeaturesGeneration. Generating features for the dataset.\n",
       "\rCurrent status: DatasetFeaturization. Beginning to fit featurizers and featurize the dataset.\n",
       "\rCurrent status: DatasetFeaturizationCompleted. Completed fit featurizers and featurizing the dataset.\n",
       "\rCurrent status: DatasetCrossValidationSplit. Generating individually featurized CV splits.\n",
       "\n",
       "****************************************************************************************************\n",
       "DATA GUARDRAILS: \n",
       "\n",
       "TYPE:         Class balancing detection\n",
       "STATUS:       PASSED\n",
       "DESCRIPTION:  Your inputs were analyzed, and all classes are balanced in your training data.\n",
       "              Learn more about imbalanced data: https://aka.ms/AutomatedMLImbalancedData\n",
       "\n",
       "TYPE:         Missing feature values imputation\n",
       "STATUS:       PASSED\n",
       "DESCRIPTION:  No feature missing values were detected in the training data.\n",
       "              Learn more about missing value imputation: https://aka.ms/AutomatedMLFeaturization\n",
       "\n",
       "TYPE:         High cardinality feature detection\n",
       "STATUS:       PASSED\n",
       "DESCRIPTION:  Your inputs were analyzed, and no high cardinality features were detected.\n",
       "              Learn more about high cardinality feature handling: https://aka.ms/AutomatedMLFeaturization\n",
       "\n",
       "****************************************************************************************************\n",
       "\rCurrent status: ModelSelection. Beginning model selection.\n",
       "\n",
       "****************************************************************************************************\n",
       "ITERATION: The iteration being evaluated.\n",
       "PIPELINE: A summary description of the pipeline being evaluated.\n",
       "DURATION: Time taken for the current iteration.\n",
       "METRIC: The result of computing score on the fitted pipeline.\n",
       "BEST: The best observed score thus far.\n",
       "****************************************************************************************************\n",
       "\n",
       " ITERATION   PIPELINE                                       DURATION      METRIC      BEST\n",
       "         0   MaxAbsScaler LightGBM                          0:00:12       0.6100    0.6100\n",
       "         1   MaxAbsScaler LightGBM                          0:00:10       0.6069    0.6100\n",
       "         2   MaxAbsScaler SGD                               0:00:14       0.5924    0.6100\n",
       "         3   VotingEnsemble                                 0:00:11       0.6176    0.6176\n",
       "         4   StackEnsemble                                  0:00:14       0.6181    0.6181\n",
       "****************************************************************************************************\n",
       "\rCurrent status: BestRunExplainModel. Best run model explanations started\n",
       "\rCurrent status: ModelExplanationDataSetSetup. Model explanations data setup completed\n",
       "\rCurrent status: PickSurrogateModel. Choosing LightGBM as the surrogate model for explanations\n",
       "\rCurrent status: EngineeredFeatureExplanations. Computation of engineered features started\n",
       "\rCurrent status: EngineeredFeatureExplanations. Computation of engineered features completed\n",
       "\rCurrent status: BestRunExplainModel. Best run model explanations completed\n",
       "****************************************************************************************************\n",
       "</div>"
      ]
     },
     "metadata": {
      "application/vnd.databricks.v1+output": {
       "addedWidgets": {},
       "arguments": {},
       "data": "<div class=\"ansiout\">Running on local machine\nParent Run ID: AutoML_69f164d5-611c-4a36-9563-fc1c20ea5e7c\n\n\rCurrent status: DatasetEvaluation. Gathering dataset statistics.\n\rCurrent status: FeaturesGeneration. Generating features for the dataset.\n\rCurrent status: DatasetFeaturization. Beginning to fit featurizers and featurize the dataset.\n\rCurrent status: DatasetFeaturizationCompleted. Completed fit featurizers and featurizing the dataset.\n\rCurrent status: DatasetCrossValidationSplit. Generating individually featurized CV splits.\n\n****************************************************************************************************\nDATA GUARDRAILS: \n\nTYPE:         Class balancing detection\nSTATUS:       PASSED\nDESCRIPTION:  Your inputs were analyzed, and all classes are balanced in your training data.\n              Learn more about imbalanced data: https://aka.ms/AutomatedMLImbalancedData\n\nTYPE:         Missing feature values imputation\nSTATUS:       PASSED\nDESCRIPTION:  No feature missing values were detected in the training data.\n              Learn more about missing value imputation: https://aka.ms/AutomatedMLFeaturization\n\nTYPE:         High cardinality feature detection\nSTATUS:       PASSED\nDESCRIPTION:  Your inputs were analyzed, and no high cardinality features were detected.\n              Learn more about high cardinality feature handling: https://aka.ms/AutomatedMLFeaturization\n\n****************************************************************************************************\n\rCurrent status: ModelSelection. Beginning model selection.\n\n****************************************************************************************************\nITERATION: The iteration being evaluated.\nPIPELINE: A summary description of the pipeline being evaluated.\nDURATION: Time taken for the current iteration.\nMETRIC: The result of computing score on the fitted pipeline.\nBEST: The best observed score thus far.\n****************************************************************************************************\n\n ITERATION   PIPELINE                                       DURATION      METRIC      BEST\n         0   MaxAbsScaler LightGBM                          0:00:12       0.6100    0.6100\n         1   MaxAbsScaler LightGBM                          0:00:10       0.6069    0.6100\n         2   MaxAbsScaler SGD                               0:00:14       0.5924    0.6100\n         3   VotingEnsemble                                 0:00:11       0.6176    0.6176\n         4   StackEnsemble                                  0:00:14       0.6181    0.6181\n****************************************************************************************************\n\rCurrent status: BestRunExplainModel. Best run model explanations started\n\rCurrent status: ModelExplanationDataSetSetup. Model explanations data setup completed\n\rCurrent status: PickSurrogateModel. Choosing LightGBM as the surrogate model for explanations\n\rCurrent status: EngineeredFeatureExplanations. Computation of engineered features started\n\rCurrent status: EngineeredFeatureExplanations. Computation of engineered features completed\n\rCurrent status: BestRunExplainModel. Best run model explanations completed\n****************************************************************************************************\n</div>",
       "datasetInfos": [],
       "metadata": {},
       "removedWidgets": [],
       "type": "html"
      }
     },
     "output_type": "display_data"
    }
   ],
   "source": [
    "local_run = experiment.submit(automl_classifier, show_output = True)"
   ]
  },
  {
   "cell_type": "markdown",
   "metadata": {
    "application/vnd.databricks.v1+cell": {
     "cellMetadata": {},
     "inputWidgets": {},
     "nuid": "a78dd9ef-9364-4ac8-b255-c636dae9e433",
     "showTitle": false,
     "title": ""
    }
   },
   "source": [
    "## Explore the Results"
   ]
  },
  {
   "cell_type": "markdown",
   "metadata": {
    "application/vnd.databricks.v1+cell": {
     "cellMetadata": {},
     "inputWidgets": {},
     "nuid": "f35c65f8-6f1d-4c5e-a743-70887531c4ef",
     "showTitle": false,
     "title": ""
    }
   },
   "source": [
    "#### Portal URL for Monitoring Runs\n",
    "\n",
    "The following will provide a link to the web interface to explore individual run details and status. In the future we might support output displayed in the notebook."
   ]
  },
  {
   "cell_type": "code",
   "execution_count": 0,
   "metadata": {
    "application/vnd.databricks.v1+cell": {
     "cellMetadata": {},
     "inputWidgets": {},
     "nuid": "1e0da005-9787-41fb-93fd-7eeb9fe418a9",
     "showTitle": true,
     "title": "Figure 11-81"
    }
   },
   "outputs": [
    {
     "output_type": "display_data",
     "data": {
      "text/html": [
       "<a href=https://ml.azure.com/experiments/automl-local-classification/runs/AutoML_69f164d5-611c-4a36-9563-fc1c20ea5e7c?wsid=/subscriptions/b25e4a1a-807f-4e08-9eb4-7f162b1ecd74/resourcegroups/rg_awazureml/workspaces/awazureml target='_blank'>Azure Portal: AutoML_69f164d5-611c-4a36-9563-fc1c20ea5e7c</a>"
      ]
     },
     "metadata": {
      "application/vnd.databricks.v1+output": {
       "addedWidgets": {},
       "arguments": {},
       "data": "<a href=https://ml.azure.com/experiments/automl-local-classification/runs/AutoML_69f164d5-611c-4a36-9563-fc1c20ea5e7c?wsid=/subscriptions/b25e4a1a-807f-4e08-9eb4-7f162b1ecd74/resourcegroups/rg_awazureml/workspaces/awazureml target='_blank'>Azure Portal: AutoML_69f164d5-611c-4a36-9563-fc1c20ea5e7c</a>",
       "datasetInfos": [],
       "metadata": {},
       "removedWidgets": [],
       "textData": "<div class=\"ansiout\"></div>",
       "type": "htmlSandbox"
      }
     },
     "output_type": "display_data"
    }
   ],
   "source": [
    "displayHTML(\"<a href={} target='_blank'>Azure Portal: {}</a>\".format(local_run.get_portal_url(), local_run.id))"
   ]
  },
  {
   "cell_type": "markdown",
   "metadata": {
    "application/vnd.databricks.v1+cell": {
     "cellMetadata": {},
     "inputWidgets": {},
     "nuid": "4e4faa63-a5f7-4043-8b8a-630303b4e697",
     "showTitle": false,
     "title": ""
    }
   },
   "source": [
    "The following will show the child runs and waits for the parent run to complete."
   ]
  },
  {
   "cell_type": "markdown",
   "metadata": {
    "application/vnd.databricks.v1+cell": {
     "cellMetadata": {},
     "inputWidgets": {},
     "nuid": "7b80ae87-a73f-4402-a0f5-6791f7dbfbaf",
     "showTitle": false,
     "title": ""
    }
   },
   "source": [
    "#### Retrieve All Child Runs after the experiment is completed (in portal)\n",
    "You can also use SDK methods to fetch all the child runs and see individual metrics that we log."
   ]
  },
  {
   "cell_type": "code",
   "execution_count": 0,
   "metadata": {
    "application/vnd.databricks.v1+cell": {
     "cellMetadata": {},
     "inputWidgets": {},
     "nuid": "1e489421-6050-457a-af27-31a38ecf5f42",
     "showTitle": true,
     "title": "Figure 11-82 - List model runs"
    }
   },
   "outputs": [
    {
     "output_type": "display_data",
     "data": {
      "text/html": [
       "<div>\n",
       "<style scoped>\n",
       "    .dataframe tbody tr th:only-of-type {\n",
       "        vertical-align: middle;\n",
       "    }\n",
       "\n",
       "    .dataframe tbody tr th {\n",
       "        vertical-align: top;\n",
       "    }\n",
       "\n",
       "    .dataframe thead th {\n",
       "        text-align: right;\n",
       "    }\n",
       "</style>\n",
       "<table border=\"1\" class=\"dataframe\">\n",
       "  <thead>\n",
       "    <tr style=\"text-align: right;\">\n",
       "      <th></th>\n",
       "      <th>0</th>\n",
       "      <th>1</th>\n",
       "      <th>2</th>\n",
       "      <th>3</th>\n",
       "      <th>4</th>\n",
       "    </tr>\n",
       "  </thead>\n",
       "  <tbody>\n",
       "    <tr>\n",
       "      <th>AUC_macro</th>\n",
       "      <td>0.62</td>\n",
       "      <td>0.62</td>\n",
       "      <td>0.60</td>\n",
       "      <td>0.63</td>\n",
       "      <td>0.63</td>\n",
       "    </tr>\n",
       "    <tr>\n",
       "      <th>AUC_micro</th>\n",
       "      <td>0.71</td>\n",
       "      <td>0.71</td>\n",
       "      <td>0.68</td>\n",
       "      <td>0.72</td>\n",
       "      <td>0.72</td>\n",
       "    </tr>\n",
       "    <tr>\n",
       "      <th>AUC_weighted</th>\n",
       "      <td>0.61</td>\n",
       "      <td>0.61</td>\n",
       "      <td>0.59</td>\n",
       "      <td>0.62</td>\n",
       "      <td>0.62</td>\n",
       "    </tr>\n",
       "    <tr>\n",
       "      <th>accuracy</th>\n",
       "      <td>0.54</td>\n",
       "      <td>0.54</td>\n",
       "      <td>0.49</td>\n",
       "      <td>0.55</td>\n",
       "      <td>0.55</td>\n",
       "    </tr>\n",
       "    <tr>\n",
       "      <th>average_precision_score_macro</th>\n",
       "      <td>0.43</td>\n",
       "      <td>0.42</td>\n",
       "      <td>0.41</td>\n",
       "      <td>0.43</td>\n",
       "      <td>0.43</td>\n",
       "    </tr>\n",
       "    <tr>\n",
       "      <th>average_precision_score_micro</th>\n",
       "      <td>0.53</td>\n",
       "      <td>0.53</td>\n",
       "      <td>0.49</td>\n",
       "      <td>0.54</td>\n",
       "      <td>0.54</td>\n",
       "    </tr>\n",
       "    <tr>\n",
       "      <th>average_precision_score_weighted</th>\n",
       "      <td>0.48</td>\n",
       "      <td>0.47</td>\n",
       "      <td>0.47</td>\n",
       "      <td>0.48</td>\n",
       "      <td>0.49</td>\n",
       "    </tr>\n",
       "    <tr>\n",
       "      <th>balanced_accuracy</th>\n",
       "      <td>0.40</td>\n",
       "      <td>0.37</td>\n",
       "      <td>0.40</td>\n",
       "      <td>0.40</td>\n",
       "      <td>0.39</td>\n",
       "    </tr>\n",
       "    <tr>\n",
       "      <th>f1_score_macro</th>\n",
       "      <td>0.37</td>\n",
       "      <td>0.31</td>\n",
       "      <td>0.36</td>\n",
       "      <td>0.35</td>\n",
       "      <td>0.33</td>\n",
       "    </tr>\n",
       "    <tr>\n",
       "      <th>f1_score_micro</th>\n",
       "      <td>0.54</td>\n",
       "      <td>0.54</td>\n",
       "      <td>0.49</td>\n",
       "      <td>0.55</td>\n",
       "      <td>0.55</td>\n",
       "    </tr>\n",
       "    <tr>\n",
       "      <th>f1_score_weighted</th>\n",
       "      <td>0.46</td>\n",
       "      <td>0.42</td>\n",
       "      <td>0.44</td>\n",
       "      <td>0.45</td>\n",
       "      <td>0.44</td>\n",
       "    </tr>\n",
       "    <tr>\n",
       "      <th>log_loss</th>\n",
       "      <td>0.99</td>\n",
       "      <td>0.97</td>\n",
       "      <td>1.01</td>\n",
       "      <td>0.97</td>\n",
       "      <td>0.97</td>\n",
       "    </tr>\n",
       "    <tr>\n",
       "      <th>matthews_correlation</th>\n",
       "      <td>0.14</td>\n",
       "      <td>0.11</td>\n",
       "      <td>0.11</td>\n",
       "      <td>0.16</td>\n",
       "      <td>0.15</td>\n",
       "    </tr>\n",
       "    <tr>\n",
       "      <th>norm_macro_recall</th>\n",
       "      <td>0.10</td>\n",
       "      <td>0.06</td>\n",
       "      <td>0.10</td>\n",
       "      <td>0.10</td>\n",
       "      <td>0.08</td>\n",
       "    </tr>\n",
       "    <tr>\n",
       "      <th>precision_score_macro</th>\n",
       "      <td>0.42</td>\n",
       "      <td>0.33</td>\n",
       "      <td>0.39</td>\n",
       "      <td>0.46</td>\n",
       "      <td>0.35</td>\n",
       "    </tr>\n",
       "    <tr>\n",
       "      <th>precision_score_micro</th>\n",
       "      <td>0.54</td>\n",
       "      <td>0.54</td>\n",
       "      <td>0.49</td>\n",
       "      <td>0.55</td>\n",
       "      <td>0.55</td>\n",
       "    </tr>\n",
       "    <tr>\n",
       "      <th>precision_score_weighted</th>\n",
       "      <td>0.46</td>\n",
       "      <td>0.39</td>\n",
       "      <td>0.44</td>\n",
       "      <td>0.49</td>\n",
       "      <td>0.40</td>\n",
       "    </tr>\n",
       "    <tr>\n",
       "      <th>recall_score_macro</th>\n",
       "      <td>0.40</td>\n",
       "      <td>0.37</td>\n",
       "      <td>0.40</td>\n",
       "      <td>0.40</td>\n",
       "      <td>0.39</td>\n",
       "    </tr>\n",
       "    <tr>\n",
       "      <th>recall_score_micro</th>\n",
       "      <td>0.54</td>\n",
       "      <td>0.54</td>\n",
       "      <td>0.49</td>\n",
       "      <td>0.55</td>\n",
       "      <td>0.55</td>\n",
       "    </tr>\n",
       "    <tr>\n",
       "      <th>recall_score_weighted</th>\n",
       "      <td>0.54</td>\n",
       "      <td>0.54</td>\n",
       "      <td>0.49</td>\n",
       "      <td>0.55</td>\n",
       "      <td>0.55</td>\n",
       "    </tr>\n",
       "    <tr>\n",
       "      <th>weighted_accuracy</th>\n",
       "      <td>0.67</td>\n",
       "      <td>0.70</td>\n",
       "      <td>0.59</td>\n",
       "      <td>0.70</td>\n",
       "      <td>0.70</td>\n",
       "    </tr>\n",
       "  </tbody>\n",
       "</table>\n",
       "</div>"
      ]
     },
     "metadata": {
      "application/vnd.databricks.v1+output": {
       "addedWidgets": {},
       "arguments": {},
       "data": "<div>\n<style scoped>\n    .dataframe tbody tr th:only-of-type {\n        vertical-align: middle;\n    }\n\n    .dataframe tbody tr th {\n        vertical-align: top;\n    }\n\n    .dataframe thead th {\n        text-align: right;\n    }\n</style>\n<table border=\"1\" class=\"dataframe\">\n  <thead>\n    <tr style=\"text-align: right;\">\n      <th></th>\n      <th>0</th>\n      <th>1</th>\n      <th>2</th>\n      <th>3</th>\n      <th>4</th>\n    </tr>\n  </thead>\n  <tbody>\n    <tr>\n      <th>AUC_macro</th>\n      <td>0.62</td>\n      <td>0.62</td>\n      <td>0.60</td>\n      <td>0.63</td>\n      <td>0.63</td>\n    </tr>\n    <tr>\n      <th>AUC_micro</th>\n      <td>0.71</td>\n      <td>0.71</td>\n      <td>0.68</td>\n      <td>0.72</td>\n      <td>0.72</td>\n    </tr>\n    <tr>\n      <th>AUC_weighted</th>\n      <td>0.61</td>\n      <td>0.61</td>\n      <td>0.59</td>\n      <td>0.62</td>\n      <td>0.62</td>\n    </tr>\n    <tr>\n      <th>accuracy</th>\n      <td>0.54</td>\n      <td>0.54</td>\n      <td>0.49</td>\n      <td>0.55</td>\n      <td>0.55</td>\n    </tr>\n    <tr>\n      <th>average_precision_score_macro</th>\n      <td>0.43</td>\n      <td>0.42</td>\n      <td>0.41</td>\n      <td>0.43</td>\n      <td>0.43</td>\n    </tr>\n    <tr>\n      <th>average_precision_score_micro</th>\n      <td>0.53</td>\n      <td>0.53</td>\n      <td>0.49</td>\n      <td>0.54</td>\n      <td>0.54</td>\n    </tr>\n    <tr>\n      <th>average_precision_score_weighted</th>\n      <td>0.48</td>\n      <td>0.47</td>\n      <td>0.47</td>\n      <td>0.48</td>\n      <td>0.49</td>\n    </tr>\n    <tr>\n      <th>balanced_accuracy</th>\n      <td>0.40</td>\n      <td>0.37</td>\n      <td>0.40</td>\n      <td>0.40</td>\n      <td>0.39</td>\n    </tr>\n    <tr>\n      <th>f1_score_macro</th>\n      <td>0.37</td>\n      <td>0.31</td>\n      <td>0.36</td>\n      <td>0.35</td>\n      <td>0.33</td>\n    </tr>\n    <tr>\n      <th>f1_score_micro</th>\n      <td>0.54</td>\n      <td>0.54</td>\n      <td>0.49</td>\n      <td>0.55</td>\n      <td>0.55</td>\n    </tr>\n    <tr>\n      <th>f1_score_weighted</th>\n      <td>0.46</td>\n      <td>0.42</td>\n      <td>0.44</td>\n      <td>0.45</td>\n      <td>0.44</td>\n    </tr>\n    <tr>\n      <th>log_loss</th>\n      <td>0.99</td>\n      <td>0.97</td>\n      <td>1.01</td>\n      <td>0.97</td>\n      <td>0.97</td>\n    </tr>\n    <tr>\n      <th>matthews_correlation</th>\n      <td>0.14</td>\n      <td>0.11</td>\n      <td>0.11</td>\n      <td>0.16</td>\n      <td>0.15</td>\n    </tr>\n    <tr>\n      <th>norm_macro_recall</th>\n      <td>0.10</td>\n      <td>0.06</td>\n      <td>0.10</td>\n      <td>0.10</td>\n      <td>0.08</td>\n    </tr>\n    <tr>\n      <th>precision_score_macro</th>\n      <td>0.42</td>\n      <td>0.33</td>\n      <td>0.39</td>\n      <td>0.46</td>\n      <td>0.35</td>\n    </tr>\n    <tr>\n      <th>precision_score_micro</th>\n      <td>0.54</td>\n      <td>0.54</td>\n      <td>0.49</td>\n      <td>0.55</td>\n      <td>0.55</td>\n    </tr>\n    <tr>\n      <th>precision_score_weighted</th>\n      <td>0.46</td>\n      <td>0.39</td>\n      <td>0.44</td>\n      <td>0.49</td>\n      <td>0.40</td>\n    </tr>\n    <tr>\n      <th>recall_score_macro</th>\n      <td>0.40</td>\n      <td>0.37</td>\n      <td>0.40</td>\n      <td>0.40</td>\n      <td>0.39</td>\n    </tr>\n    <tr>\n      <th>recall_score_micro</th>\n      <td>0.54</td>\n      <td>0.54</td>\n      <td>0.49</td>\n      <td>0.55</td>\n      <td>0.55</td>\n    </tr>\n    <tr>\n      <th>recall_score_weighted</th>\n      <td>0.54</td>\n      <td>0.54</td>\n      <td>0.49</td>\n      <td>0.55</td>\n      <td>0.55</td>\n    </tr>\n    <tr>\n      <th>weighted_accuracy</th>\n      <td>0.67</td>\n      <td>0.70</td>\n      <td>0.59</td>\n      <td>0.70</td>\n      <td>0.70</td>\n    </tr>\n  </tbody>\n</table>\n</div>",
       "datasetInfos": [],
       "metadata": {},
       "removedWidgets": [],
       "textData": "<div class=\"ansiout\">Out[107]: </div>",
       "type": "htmlSandbox"
      }
     },
     "output_type": "display_data"
    }
   ],
   "source": [
    "children = list(local_run.get_children())\n",
    "metricslist = {}\n",
    "for run in children:\n",
    "    properties = run.get_properties()\n",
    "    metrics = {k: v for k, v in run.get_metrics().items() if isinstance(v, float)}    \n",
    "    metricslist[int(properties['iteration'])] = metrics\n",
    "\n",
    "rundata = pd.DataFrame(metricslist).sort_index(1)\n",
    "rundata"
   ]
  },
  {
   "cell_type": "markdown",
   "metadata": {
    "application/vnd.databricks.v1+cell": {
     "cellMetadata": {},
     "inputWidgets": {},
     "nuid": "deb5d9f8-7f23-46d6-be40-1c1908ae0c3f",
     "showTitle": false,
     "title": ""
    }
   },
   "source": [
    "## Deploy\n",
    "\n",
    "### Retrieve the Best Model\n",
    "\n",
    "Below we select the best pipeline from our iterations. The `get_output` method on `automl_classifier` returns the best run and the fitted model for the last invocation. Overloads on `get_output` allow you to retrieve the best run and fitted model for *any* logged metric or for a particular *iteration*."
   ]
  },
  {
   "cell_type": "code",
   "execution_count": 0,
   "metadata": {
    "application/vnd.databricks.v1+cell": {
     "cellMetadata": {},
     "inputWidgets": {},
     "nuid": "8f449f10-caf5-4d5b-b3cd-60f7d9e5aa0d",
     "showTitle": true,
     "title": "Figure 11-83 - Get best and fitted models"
    }
   },
   "outputs": [
    {
     "output_type": "display_data",
     "data": {
      "text/html": [
       "<style scoped>\n",
       "  .ansiout {\n",
       "    display: block;\n",
       "    unicode-bidi: embed;\n",
       "    white-space: pre-wrap;\n",
       "    word-wrap: break-word;\n",
       "    word-break: break-all;\n",
       "    font-family: \"Menlo\", \"Monaco\", \"Consolas\", \"Ubuntu Mono\", \"Source Code Pro\", monospace;\n",
       "    font-size: 13px;\n",
       "    color: #555;\n",
       "    margin-left: 4px;\n",
       "    line-height: 19px;\n",
       "  }\n",
       "</style>\n",
       "<div class=\"ansiout\"></div>"
      ]
     },
     "metadata": {
      "application/vnd.databricks.v1+output": {
       "addedWidgets": {},
       "arguments": {},
       "data": "<div class=\"ansiout\"></div>",
       "datasetInfos": [],
       "metadata": {},
       "removedWidgets": [],
       "type": "html"
      }
     },
     "output_type": "display_data"
    }
   ],
   "source": [
    "best_run, fitted_model = local_run.get_output()"
   ]
  },
  {
   "cell_type": "code",
   "execution_count": 0,
   "metadata": {
    "application/vnd.databricks.v1+cell": {
     "cellMetadata": {},
     "inputWidgets": {},
     "nuid": "7f32d95a-d43e-404c-9ae3-317bdd72bbe6",
     "showTitle": true,
     "title": "Figure 11-84 - Show best run"
    }
   },
   "outputs": [
    {
     "output_type": "display_data",
     "data": {
      "text/html": [
       "<table style=\"width:100%\"><tr><th>Experiment</th><th>Id</th><th>Type</th><th>Status</th><th>Details Page</th><th>Docs Page</th></tr><tr><td>automl-local-classification</td><td>AutoML_69f164d5-611c-4a36-9563-fc1c20ea5e7c_4</td><td></td><td>Completed</td><td><a href=\"https://ml.azure.com/experiments/automl-local-classification/runs/AutoML_69f164d5-611c-4a36-9563-fc1c20ea5e7c_4?wsid=/subscriptions/b25e4a1a-807f-4e08-9eb4-7f162b1ecd74/resourcegroups/rg_awazureml/workspaces/awazureml\" target=\"_blank\" rel=\"noopener\">Link to Azure Machine Learning studio</a></td><td><a href=\"https://docs.microsoft.com/en-us/python/api/azureml-core/azureml.core.run.Run?view=azure-ml-py\" target=\"_blank\" rel=\"noopener\">Link to Documentation</a></td></tr></table>"
      ]
     },
     "metadata": {
      "application/vnd.databricks.v1+output": {
       "addedWidgets": {},
       "arguments": {},
       "data": "<table style=\"width:100%\"><tr><th>Experiment</th><th>Id</th><th>Type</th><th>Status</th><th>Details Page</th><th>Docs Page</th></tr><tr><td>automl-local-classification</td><td>AutoML_69f164d5-611c-4a36-9563-fc1c20ea5e7c_4</td><td></td><td>Completed</td><td><a href=\"https://ml.azure.com/experiments/automl-local-classification/runs/AutoML_69f164d5-611c-4a36-9563-fc1c20ea5e7c_4?wsid=/subscriptions/b25e4a1a-807f-4e08-9eb4-7f162b1ecd74/resourcegroups/rg_awazureml/workspaces/awazureml\" target=\"_blank\" rel=\"noopener\">Link to Azure Machine Learning studio</a></td><td><a href=\"https://docs.microsoft.com/en-us/python/api/azureml-core/azureml.core.run.Run?view=azure-ml-py\" target=\"_blank\" rel=\"noopener\">Link to Documentation</a></td></tr></table>",
       "datasetInfos": [],
       "metadata": {},
       "removedWidgets": [],
       "textData": "<div class=\"ansiout\">Out[109]: </div>",
       "type": "htmlSandbox"
      }
     },
     "output_type": "display_data"
    }
   ],
   "source": [
    "best_run"
   ]
  },
  {
   "cell_type": "markdown",
   "metadata": {
    "application/vnd.databricks.v1+cell": {
     "cellMetadata": {},
     "inputWidgets": {},
     "nuid": "30e37f63-83df-4088-a559-203e0d6e0e41",
     "showTitle": false,
     "title": ""
    }
   },
   "source": [
    "### Download the conda environment file\n",
    "From the *best_run* download the conda environment file that was used to train the AutoML model."
   ]
  },
  {
   "cell_type": "code",
   "execution_count": 0,
   "metadata": {
    "application/vnd.databricks.v1+cell": {
     "cellMetadata": {},
     "inputWidgets": {},
     "nuid": "1fede08d-1726-44c6-a61f-baef5386823e",
     "showTitle": true,
     "title": "Figure 11-85"
    }
   },
   "outputs": [
    {
     "output_type": "display_data",
     "data": {
      "text/html": [
       "<style scoped>\n",
       "  .ansiout {\n",
       "    display: block;\n",
       "    unicode-bidi: embed;\n",
       "    white-space: pre-wrap;\n",
       "    word-wrap: break-word;\n",
       "    word-break: break-all;\n",
       "    font-family: \"Menlo\", \"Monaco\", \"Consolas\", \"Ubuntu Mono\", \"Source Code Pro\", monospace;\n",
       "    font-size: 13px;\n",
       "    color: #555;\n",
       "    margin-left: 4px;\n",
       "    line-height: 19px;\n",
       "  }\n",
       "</style>\n",
       "<div class=\"ansiout\"># Conda environment specification. The dependencies defined in this file will\n",
       "# be automatically provisioned for runs with userManagedDependencies=False.\n",
       "\n",
       "# Details about the Conda environment file format:\n",
       "# https://conda.io/docs/user-guide/tasks/manage-environments.html#create-env-file-manually\n",
       "\n",
       "name: project_environment\n",
       "dependencies:\n",
       "  # The python interpreter version.\n",
       "  # Currently Azure ML only supports 3.5.2 and later.\n",
       "- python=3.6.2\n",
       "\n",
       "- pip:\n",
       "  - azureml-train-automl-runtime==1.5.0.post1\n",
       "  - inference-schema\n",
       "  - azureml-explain-model==1.5.0\n",
       "  - azureml-defaults==1.5.0\n",
       "- numpy&gt;=1.16.0,&lt;=1.16.2\n",
       "- pandas&gt;=0.21.0,&lt;=0.23.4\n",
       "- scikit-learn&gt;=0.19.0,&lt;=0.20.3\n",
       "- py-xgboost&lt;=0.90\n",
       "- fbprophet==0.5\n",
       "- psutil&gt;=5.2.2,&lt;6.0.0\n",
       "channels:\n",
       "- anaconda\n",
       "- conda-forge\n",
       "\n",
       "</div>"
      ]
     },
     "metadata": {
      "application/vnd.databricks.v1+output": {
       "addedWidgets": {},
       "arguments": {},
       "data": "<div class=\"ansiout\"># Conda environment specification. The dependencies defined in this file will\n# be automatically provisioned for runs with userManagedDependencies=False.\n\n# Details about the Conda environment file format:\n# https://conda.io/docs/user-guide/tasks/manage-environments.html#create-env-file-manually\n\nname: project_environment\ndependencies:\n  # The python interpreter version.\n  # Currently Azure ML only supports 3.5.2 and later.\n- python=3.6.2\n\n- pip:\n  - azureml-train-automl-runtime==1.5.0.post1\n  - inference-schema\n  - azureml-explain-model==1.5.0\n  - azureml-defaults==1.5.0\n- numpy&gt;=1.16.0,&lt;=1.16.2\n- pandas&gt;=0.21.0,&lt;=0.23.4\n- scikit-learn&gt;=0.19.0,&lt;=0.20.3\n- py-xgboost&lt;=0.90\n- fbprophet==0.5\n- psutil&gt;=5.2.2,&lt;6.0.0\nchannels:\n- anaconda\n- conda-forge\n\n</div>",
       "datasetInfos": [],
       "metadata": {},
       "removedWidgets": [],
       "type": "html"
      }
     },
     "output_type": "display_data"
    }
   ],
   "source": [
    "from automl.client.core.common import constants\n",
    "\n",
    "conda_env_file_name = 'conda_env.yml'\n",
    "best_run.download_file(name=\"outputs/conda_env_v_1_0_0.yml\", output_file_path=conda_env_file_name)\n",
    "\n",
    "with open(conda_env_file_name, \"r\") as conda_file:\n",
    "    conda_file_contents = conda_file.read()\n",
    "    print(conda_file_contents)"
   ]
  },
  {
   "cell_type": "markdown",
   "metadata": {
    "application/vnd.databricks.v1+cell": {
     "cellMetadata": {},
     "inputWidgets": {},
     "nuid": "2b770697-c4d7-40c3-873d-2cedd0d90054",
     "showTitle": false,
     "title": ""
    }
   },
   "source": [
    "### Download the model scoring file\n",
    "From the *best_run* download the scoring file to get the predictions from the AutoML model."
   ]
  },
  {
   "cell_type": "code",
   "execution_count": 0,
   "metadata": {
    "application/vnd.databricks.v1+cell": {
     "cellMetadata": {},
     "inputWidgets": {},
     "nuid": "7e1b2306-0747-49c2-b596-d45301e2fb7a",
     "showTitle": true,
     "title": "Figure 11-86"
    }
   },
   "outputs": [
    {
     "output_type": "display_data",
     "data": {
      "text/html": [
       "<style scoped>\n",
       "  .ansiout {\n",
       "    display: block;\n",
       "    unicode-bidi: embed;\n",
       "    white-space: pre-wrap;\n",
       "    word-wrap: break-word;\n",
       "    word-break: break-all;\n",
       "    font-family: \"Menlo\", \"Monaco\", \"Consolas\", \"Ubuntu Mono\", \"Source Code Pro\", monospace;\n",
       "    font-size: 13px;\n",
       "    color: #555;\n",
       "    margin-left: 4px;\n",
       "    line-height: 19px;\n",
       "  }\n",
       "</style>\n",
       "<div class=\"ansiout\"># ---------------------------------------------------------\n",
       "# Copyright (c) Microsoft Corporation. All rights reserved.\n",
       "# ---------------------------------------------------------\n",
       "import json\n",
       "import pickle\n",
       "import numpy as np\n",
       "import pandas as pd\n",
       "import azureml.train.automl\n",
       "from sklearn.externals import joblib\n",
       "from azureml.core.model import Model\n",
       "\n",
       "from inference_schema.schema_decorators import input_schema, output_schema\n",
       "from inference_schema.parameter_types.numpy_parameter_type import NumpyParameterType\n",
       "from inference_schema.parameter_types.pandas_parameter_type import PandasParameterType\n",
       "\n",
       "\n",
       "input_sample = pd.DataFrame({&#39;AgeBand&#39;: pd.Series([&#39;Golden&#39;], dtype=&#39;object&#39;), &#39;CommuteDistance&#39;: pd.Series([&#39;0-1 Miles&#39;], dtype=&#39;object&#39;), &#39;HasChildren&#39;: pd.Series([&#39;False&#39;], dtype=&#39;bool&#39;), &#39;Education&#39;: pd.Series([&#39;Bachelors&#39;], dtype=&#39;object&#39;), &#39;Salary&#39;: pd.Series([&#39;10000.0&#39;], dtype=&#39;float64&#39;)})\n",
       "output_sample = np.array([0])\n",
       "\n",
       "\n",
       "def init():\n",
       "    global model\n",
       "    # This name is model.id of model that we want to deploy deserialize the model file back\n",
       "    # into a sklearn model\n",
       "    model_path = Model.get_model_path(model_name = &#39;AutoML69f164d564&#39;)\n",
       "    model = joblib.load(model_path)\n",
       "\n",
       "\n",
       "@input_schema(&#39;data&#39;, PandasParameterType(input_sample))\n",
       "@output_schema(NumpyParameterType(output_sample))\n",
       "def run(data):\n",
       "    try:\n",
       "        result = model.predict(data)\n",
       "        return json.dumps({&#34;result&#34;: result.tolist()})\n",
       "    except Exception as e:\n",
       "        result = str(e)\n",
       "        return json.dumps({&#34;error&#34;: result})\n",
       "\n",
       "</div>"
      ]
     },
     "metadata": {
      "application/vnd.databricks.v1+output": {
       "addedWidgets": {},
       "arguments": {},
       "data": "<div class=\"ansiout\"># ---------------------------------------------------------\n# Copyright (c) Microsoft Corporation. All rights reserved.\n# ---------------------------------------------------------\nimport json\nimport pickle\nimport numpy as np\nimport pandas as pd\nimport azureml.train.automl\nfrom sklearn.externals import joblib\nfrom azureml.core.model import Model\n\nfrom inference_schema.schema_decorators import input_schema, output_schema\nfrom inference_schema.parameter_types.numpy_parameter_type import NumpyParameterType\nfrom inference_schema.parameter_types.pandas_parameter_type import PandasParameterType\n\n\ninput_sample = pd.DataFrame({&#39;AgeBand&#39;: pd.Series([&#39;Golden&#39;], dtype=&#39;object&#39;), &#39;CommuteDistance&#39;: pd.Series([&#39;0-1 Miles&#39;], dtype=&#39;object&#39;), &#39;HasChildren&#39;: pd.Series([&#39;False&#39;], dtype=&#39;bool&#39;), &#39;Education&#39;: pd.Series([&#39;Bachelors&#39;], dtype=&#39;object&#39;), &#39;Salary&#39;: pd.Series([&#39;10000.0&#39;], dtype=&#39;float64&#39;)})\noutput_sample = np.array([0])\n\n\ndef init():\n    global model\n    # This name is model.id of model that we want to deploy deserialize the model file back\n    # into a sklearn model\n    model_path = Model.get_model_path(model_name = &#39;AutoML69f164d564&#39;)\n    model = joblib.load(model_path)\n\n\n@input_schema(&#39;data&#39;, PandasParameterType(input_sample))\n@output_schema(NumpyParameterType(output_sample))\ndef run(data):\n    try:\n        result = model.predict(data)\n        return json.dumps({&#34;result&#34;: result.tolist()})\n    except Exception as e:\n        result = str(e)\n        return json.dumps({&#34;error&#34;: result})\n\n</div>",
       "datasetInfos": [],
       "metadata": {},
       "removedWidgets": [],
       "type": "html"
      }
     },
     "output_type": "display_data"
    }
   ],
   "source": [
    "from automl.client.core.common import constants\n",
    "\n",
    "script_file_name = 'scoring_file.py'\n",
    "best_run.download_file(name=\"outputs/scoring_file_v_1_0_0.py\", output_file_path=script_file_name)\n",
    "\n",
    "with open(script_file_name, \"r\") as scoring_file:\n",
    "    scoring_file_contents = scoring_file.read()\n",
    "    print(scoring_file_contents)"
   ]
  },
  {
   "cell_type": "markdown",
   "metadata": {
    "application/vnd.databricks.v1+cell": {
     "cellMetadata": {},
     "inputWidgets": {},
     "nuid": "24849939-4c3c-422e-a378-8ae7db47dc92",
     "showTitle": false,
     "title": ""
    }
   },
   "source": [
    "## Register the Fitted Model for Deployment\n",
    "If neither metric nor iteration are specified in the register_model call, the iteration with the best primary metric is registered."
   ]
  },
  {
   "cell_type": "code",
   "execution_count": 0,
   "metadata": {
    "application/vnd.databricks.v1+cell": {
     "cellMetadata": {},
     "inputWidgets": {},
     "nuid": "fc5c6cde-bdec-4a2e-b725-2952a2117964",
     "showTitle": true,
     "title": "figure 11-87"
    }
   },
   "outputs": [
    {
     "output_type": "display_data",
     "data": {
      "text/html": [
       "<style scoped>\n",
       "  .ansiout {\n",
       "    display: block;\n",
       "    unicode-bidi: embed;\n",
       "    white-space: pre-wrap;\n",
       "    word-wrap: break-word;\n",
       "    word-break: break-all;\n",
       "    font-family: \"Menlo\", \"Monaco\", \"Consolas\", \"Ubuntu Mono\", \"Source Code Pro\", monospace;\n",
       "    font-size: 13px;\n",
       "    color: #555;\n",
       "    margin-left: 4px;\n",
       "    line-height: 19px;\n",
       "  }\n",
       "</style>\n",
       "<div class=\"ansiout\">Out[112]: &#39;AutoML69f164d564&#39;</div>"
      ]
     },
     "metadata": {
      "application/vnd.databricks.v1+output": {
       "addedWidgets": {},
       "arguments": {},
       "data": "<div class=\"ansiout\">Out[112]: &#39;AutoML69f164d564&#39;</div>",
       "datasetInfos": [],
       "metadata": {},
       "removedWidgets": [],
       "type": "html"
      }
     },
     "output_type": "display_data"
    }
   ],
   "source": [
    "description = 'AutoML Bike Model'\n",
    "tags = None\n",
    "model = local_run.register_model(description = description, tags = tags)\n",
    "local_run.model_id # This will be written to the scoring script file later in the notebook."
   ]
  },
  {
   "cell_type": "markdown",
   "metadata": {
    "application/vnd.databricks.v1+cell": {
     "cellMetadata": {},
     "inputWidgets": {},
     "nuid": "a1774e8c-a51d-4c79-887b-3d0e191cfadf",
     "showTitle": false,
     "title": ""
    }
   },
   "source": [
    "### Deploy the model as a Web Service on Azure Container Instance\n",
    "\n",
    "Create the configuration needed for deploying the model as a web service service."
   ]
  },
  {
   "cell_type": "code",
   "execution_count": 0,
   "metadata": {
    "application/vnd.databricks.v1+cell": {
     "cellMetadata": {},
     "inputWidgets": {},
     "nuid": "f2fb272e-d15d-4bf3-a8f3-61479d61fae6",
     "showTitle": true,
     "title": "Figure 11-88"
    }
   },
   "outputs": [
    {
     "output_type": "display_data",
     "data": {
      "text/html": [
       "<style scoped>\n",
       "  .ansiout {\n",
       "    display: block;\n",
       "    unicode-bidi: embed;\n",
       "    white-space: pre-wrap;\n",
       "    word-wrap: break-word;\n",
       "    word-break: break-all;\n",
       "    font-family: \"Menlo\", \"Monaco\", \"Consolas\", \"Ubuntu Mono\", \"Source Code Pro\", monospace;\n",
       "    font-size: 13px;\n",
       "    color: #555;\n",
       "    margin-left: 4px;\n",
       "    line-height: 19px;\n",
       "  }\n",
       "</style>\n",
       "<div class=\"ansiout\"></div>"
      ]
     },
     "metadata": {
      "application/vnd.databricks.v1+output": {
       "addedWidgets": {},
       "arguments": {},
       "data": "<div class=\"ansiout\"></div>",
       "datasetInfos": [],
       "metadata": {},
       "removedWidgets": [],
       "type": "html"
      }
     },
     "output_type": "display_data"
    }
   ],
   "source": [
    "from azureml.core.model import InferenceConfig\n",
    "from azureml.core.webservice import AciWebservice\n",
    "from azureml.core.environment import Environment\n",
    "\n",
    "myenv = Environment.from_conda_specification(name=\"myenv\", file_path=conda_env_file_name)\n",
    "inference_config = InferenceConfig(entry_script=script_file_name, environment=myenv)\n",
    "\n",
    "aciconfig = AciWebservice.deploy_configuration(cpu_cores = 1, \n",
    "                                               memory_gb = 1, \n",
    "                                               tags = {'bike': \"subcategory\", 'type': \"automl_classification\"}, \n",
    "                                               description = 'bike subcategory service for Automl Classification')"
   ]
  },
  {
   "cell_type": "markdown",
   "metadata": {
    "application/vnd.databricks.v1+cell": {
     "cellMetadata": {},
     "inputWidgets": {},
     "nuid": "b14ec708-d58d-4f09-aa31-91b605a549c5",
     "showTitle": false,
     "title": ""
    }
   },
   "source": [
    "### Code below is not re-runnable.  It will fail if the webservice already exists."
   ]
  },
  {
   "cell_type": "code",
   "execution_count": 0,
   "metadata": {
    "application/vnd.databricks.v1+cell": {
     "cellMetadata": {},
     "inputWidgets": {},
     "nuid": "c3d67110-b32f-422b-8bdc-afc1978e6ded",
     "showTitle": true,
     "title": "Figure 11-89 - Deploy the model"
    }
   },
   "outputs": [
    {
     "output_type": "display_data",
     "data": {
      "text/html": [
       "<style scoped>\n",
       "  .ansiout {\n",
       "    display: block;\n",
       "    unicode-bidi: embed;\n",
       "    white-space: pre-wrap;\n",
       "    word-wrap: break-word;\n",
       "    word-break: break-all;\n",
       "    font-family: \"Menlo\", \"Monaco\", \"Consolas\", \"Ubuntu Mono\", \"Source Code Pro\", monospace;\n",
       "    font-size: 13px;\n",
       "    color: #555;\n",
       "    margin-left: 4px;\n",
       "    line-height: 19px;\n",
       "  }\n",
       "</style>\n",
       "<div class=\"ansiout\">automl-databricks-local\n",
       "Running....................................................................\n",
       "Succeeded\n",
       "ACI service creation operation finished, operation &#34;Succeeded&#34;\n",
       "Healthy\n",
       "</div>"
      ]
     },
     "metadata": {
      "application/vnd.databricks.v1+output": {
       "addedWidgets": {},
       "arguments": {},
       "data": "<div class=\"ansiout\">automl-databricks-local\nRunning....................................................................\nSucceeded\nACI service creation operation finished, operation &#34;Succeeded&#34;\nHealthy\n</div>",
       "datasetInfos": [],
       "metadata": {},
       "removedWidgets": [],
       "type": "html"
      }
     },
     "output_type": "display_data"
    }
   ],
   "source": [
    "from azureml.core.webservice import Webservice\n",
    "from azureml.core.model import Model\n",
    "\n",
    "aci_service_name = 'automl-databricks-local'\n",
    "print(aci_service_name)\n",
    "aci_service = Model.deploy(ws, aci_service_name, [model], inference_config, aciconfig)\n",
    "aci_service.wait_for_deployment(True)\n",
    "print(aci_service.state)"
   ]
  },
  {
   "cell_type": "code",
   "execution_count": 0,
   "metadata": {
    "application/vnd.databricks.v1+cell": {
     "cellMetadata": {},
     "inputWidgets": {},
     "nuid": "cfae5255-1b4d-45f1-bb25-0e623b467c2b",
     "showTitle": true,
     "title": "Figure 11-90"
    }
   },
   "outputs": [
    {
     "output_type": "display_data",
     "data": {
      "text/html": [
       "<style scoped>\n",
       "  .ansiout {\n",
       "    display: block;\n",
       "    unicode-bidi: embed;\n",
       "    white-space: pre-wrap;\n",
       "    word-wrap: break-word;\n",
       "    word-break: break-all;\n",
       "    font-family: \"Menlo\", \"Monaco\", \"Consolas\", \"Ubuntu Mono\", \"Source Code Pro\", monospace;\n",
       "    font-size: 13px;\n",
       "    color: #555;\n",
       "    margin-left: 4px;\n",
       "    line-height: 19px;\n",
       "  }\n",
       "</style>\n",
       "<div class=\"ansiout\">Out[115]: AciWebservice(workspace=Workspace.create(name=&#39;awazureml&#39;, subscription_id=&#39;b25e4a1a-807f-4e08-9eb4-7f162b1ecd74&#39;, resource_group=&#39;rg_awazureml&#39;), name=automl-databricks-local, image_id=None, compute_type=None, state=ACI, scoring_uri=Healthy, tags=http://3ddda29c-7df7-4b41-ae53-03d060015583.eastus2.azurecontainer.io/score, properties={&#39;bike&#39;: &#39;subcategory&#39;, &#39;type&#39;: &#39;automl_classification&#39;}, created_by={&#39;hasInferenceSchema&#39;: &#39;True&#39;, &#39;hasHttps&#39;: &#39;False&#39;})</div>"
      ]
     },
     "metadata": {
      "application/vnd.databricks.v1+output": {
       "addedWidgets": {},
       "arguments": {},
       "data": "<div class=\"ansiout\">Out[115]: AciWebservice(workspace=Workspace.create(name=&#39;awazureml&#39;, subscription_id=&#39;b25e4a1a-807f-4e08-9eb4-7f162b1ecd74&#39;, resource_group=&#39;rg_awazureml&#39;), name=automl-databricks-local, image_id=None, compute_type=None, state=ACI, scoring_uri=Healthy, tags=http://3ddda29c-7df7-4b41-ae53-03d060015583.eastus2.azurecontainer.io/score, properties={&#39;bike&#39;: &#39;subcategory&#39;, &#39;type&#39;: &#39;automl_classification&#39;}, created_by={&#39;hasInferenceSchema&#39;: &#39;True&#39;, &#39;hasHttps&#39;: &#39;False&#39;})</div>",
       "datasetInfos": [],
       "metadata": {},
       "removedWidgets": [],
       "type": "html"
      }
     },
     "output_type": "display_data"
    }
   ],
   "source": [
    "aci_service"
   ]
  },
  {
   "cell_type": "code",
   "execution_count": 0,
   "metadata": {
    "application/vnd.databricks.v1+cell": {
     "cellMetadata": {},
     "inputWidgets": {},
     "nuid": "6a931490-fcee-46c1-a566-086aecea9061",
     "showTitle": true,
     "title": "Figure 11-91"
    }
   },
   "outputs": [
    {
     "output_type": "display_data",
     "data": {
      "text/html": [
       "<style scoped>\n",
       "  .ansiout {\n",
       "    display: block;\n",
       "    unicode-bidi: embed;\n",
       "    white-space: pre-wrap;\n",
       "    word-wrap: break-word;\n",
       "    word-break: break-all;\n",
       "    font-family: \"Menlo\", \"Monaco\", \"Consolas\", \"Ubuntu Mono\", \"Source Code Pro\", monospace;\n",
       "    font-size: 13px;\n",
       "    color: #555;\n",
       "    margin-left: 4px;\n",
       "    line-height: 19px;\n",
       "  }\n",
       "</style>\n",
       "<div class=\"ansiout\">Out[116]: Subcategory        object \n",
       "AgeBand            object \n",
       "CommuteDistance    object \n",
       "HasChildren        object \n",
       "Education          object \n",
       "Salary             float64\n",
       "dtype: object</div>"
      ]
     },
     "metadata": {
      "application/vnd.databricks.v1+output": {
       "addedWidgets": {},
       "arguments": {},
       "data": "<div class=\"ansiout\">Out[116]: Subcategory        object \nAgeBand            object \nCommuteDistance    object \nHasChildren        object \nEducation          object \nSalary             float64\ndtype: object</div>",
       "datasetInfos": [],
       "metadata": {},
       "removedWidgets": [],
       "type": "html"
      }
     },
     "output_type": "display_data"
    }
   ],
   "source": [
    "pdf_testing.dtypes"
   ]
  },
  {
   "cell_type": "code",
   "execution_count": 0,
   "metadata": {
    "application/vnd.databricks.v1+cell": {
     "cellMetadata": {},
     "inputWidgets": {},
     "nuid": "33b969bd-ddb5-4b57-b434-d3fc3120f48a",
     "showTitle": true,
     "title": "Figure 11-92"
    }
   },
   "outputs": [
    {
     "output_type": "display_data",
     "data": {
      "text/html": [
       "<style scoped>\n",
       "  .ansiout {\n",
       "    display: block;\n",
       "    unicode-bidi: embed;\n",
       "    white-space: pre-wrap;\n",
       "    word-wrap: break-word;\n",
       "    word-break: break-all;\n",
       "    font-family: \"Menlo\", \"Monaco\", \"Consolas\", \"Ubuntu Mono\", \"Source Code Pro\", monospace;\n",
       "    font-size: 13px;\n",
       "    color: #555;\n",
       "    margin-left: 4px;\n",
       "    line-height: 19px;\n",
       "  }\n",
       "</style>\n",
       "<div class=\"ansiout\">Out[117]: array([[&#39;Golden&#39;, &#39;0-1 Miles&#39;, &#39;N&#39;, &#39;Bachelors&#39;, 20000.0],\n",
       "       [&#39;Golden&#39;, &#39;0-1 Miles&#39;, &#39;N&#39;, &#39;Bachelors&#39;, 30000.0],\n",
       "       [&#39;Golden&#39;, &#39;0-1 Miles&#39;, &#39;N&#39;, &#39;Bachelors&#39;, 30000.0]], dtype=object)</div>"
      ]
     },
     "metadata": {
      "application/vnd.databricks.v1+output": {
       "addedWidgets": {},
       "arguments": {},
       "data": "<div class=\"ansiout\">Out[117]: array([[&#39;Golden&#39;, &#39;0-1 Miles&#39;, &#39;N&#39;, &#39;Bachelors&#39;, 20000.0],\n       [&#39;Golden&#39;, &#39;0-1 Miles&#39;, &#39;N&#39;, &#39;Bachelors&#39;, 30000.0],\n       [&#39;Golden&#39;, &#39;0-1 Miles&#39;, &#39;N&#39;, &#39;Bachelors&#39;, 30000.0]], dtype=object)</div>",
       "datasetInfos": [],
       "metadata": {},
       "removedWidgets": [],
       "type": "html"
      }
     },
     "output_type": "display_data"
    }
   ],
   "source": [
    "indata = pdf_testing.drop(['Subcategory'], axis=1)\n",
    "X_test = indata[:3].values\n",
    "X_test"
   ]
  },
  {
   "cell_type": "code",
   "execution_count": 0,
   "metadata": {
    "application/vnd.databricks.v1+cell": {
     "cellMetadata": {},
     "inputWidgets": {},
     "nuid": "ee2cfc73-cb36-45f8-811e-0f344c919bc4",
     "showTitle": true,
     "title": "Figure 11-93 - Calling the deployed model"
    }
   },
   "outputs": [
    {
     "output_type": "display_data",
     "data": {
      "text/html": [
       "<style scoped>\n",
       "  .ansiout {\n",
       "    display: block;\n",
       "    unicode-bidi: embed;\n",
       "    white-space: pre-wrap;\n",
       "    word-wrap: break-word;\n",
       "    word-break: break-all;\n",
       "    font-family: \"Menlo\", \"Monaco\", \"Consolas\", \"Ubuntu Mono\", \"Source Code Pro\", monospace;\n",
       "    font-size: 13px;\n",
       "    color: #555;\n",
       "    margin-left: 4px;\n",
       "    line-height: 19px;\n",
       "  }\n",
       "</style>\n",
       "<div class=\"ansiout\">Complete\n",
       "</div>"
      ]
     },
     "metadata": {
      "application/vnd.databricks.v1+output": {
       "addedWidgets": {},
       "arguments": {},
       "data": "<div class=\"ansiout\">Complete\n</div>",
       "datasetInfos": [],
       "metadata": {},
       "removedWidgets": [],
       "type": "html"
      }
     },
     "output_type": "display_data"
    }
   ],
   "source": [
    "import json\n",
    "\n",
    "test_samples = json.dumps({\"data\": X_test.tolist()})\n",
    "test_samples = bytes(test_samples, encoding='utf8')\n",
    "\n",
    "# predict using the deployed model\n",
    "result = aci_service.run(input_data=test_samples)\n",
    "\n",
    "print('Complete')"
   ]
  },
  {
   "cell_type": "code",
   "execution_count": 0,
   "metadata": {
    "application/vnd.databricks.v1+cell": {
     "cellMetadata": {},
     "inputWidgets": {},
     "nuid": "d1772109-f413-4cec-b5d3-62961e94a1d2",
     "showTitle": true,
     "title": "Figure 11-94 Print the test samples"
    }
   },
   "outputs": [
    {
     "output_type": "display_data",
     "data": {
      "text/html": [
       "<style scoped>\n",
       "  .ansiout {\n",
       "    display: block;\n",
       "    unicode-bidi: embed;\n",
       "    white-space: pre-wrap;\n",
       "    word-wrap: break-word;\n",
       "    word-break: break-all;\n",
       "    font-family: \"Menlo\", \"Monaco\", \"Consolas\", \"Ubuntu Mono\", \"Source Code Pro\", monospace;\n",
       "    font-size: 13px;\n",
       "    color: #555;\n",
       "    margin-left: 4px;\n",
       "    line-height: 19px;\n",
       "  }\n",
       "</style>\n",
       "<div class=\"ansiout\">b&#39;{&#34;data&#34;: [[&#34;Golden&#34;, &#34;0-1 Miles&#34;, &#34;N&#34;, &#34;Bachelors&#34;, 20000.0], [&#34;Golden&#34;, &#34;0-1 Miles&#34;, &#34;N&#34;, &#34;Bachelors&#34;, 30000.0], [&#34;Golden&#34;, &#34;0-1 Miles&#34;, &#34;N&#34;, &#34;Bachelors&#34;, 30000.0]]}&#39;\n",
       "{&#34;result&#34;: [&#34;Mountain&#34;, &#34;Mountain&#34;, &#34;Mountain&#34;]}\n",
       "</div>"
      ]
     },
     "metadata": {
      "application/vnd.databricks.v1+output": {
       "addedWidgets": {},
       "arguments": {},
       "data": "<div class=\"ansiout\">b&#39;{&#34;data&#34;: [[&#34;Golden&#34;, &#34;0-1 Miles&#34;, &#34;N&#34;, &#34;Bachelors&#34;, 20000.0], [&#34;Golden&#34;, &#34;0-1 Miles&#34;, &#34;N&#34;, &#34;Bachelors&#34;, 30000.0], [&#34;Golden&#34;, &#34;0-1 Miles&#34;, &#34;N&#34;, &#34;Bachelors&#34;, 30000.0]]}&#39;\n{&#34;result&#34;: [&#34;Mountain&#34;, &#34;Mountain&#34;, &#34;Mountain&#34;]}\n</div>",
       "datasetInfos": [],
       "metadata": {},
       "removedWidgets": [],
       "type": "html"
      }
     },
     "output_type": "display_data"
    }
   ],
   "source": [
    "print(test_samples)\n",
    "print(result)"
   ]
  },
  {
   "cell_type": "code",
   "execution_count": 0,
   "metadata": {
    "application/vnd.databricks.v1+cell": {
     "cellMetadata": {},
     "inputWidgets": {},
     "nuid": "9f4eb0dd-1c49-412e-88c5-622323108436",
     "showTitle": true,
     "title": "Figure 11-95"
    }
   },
   "outputs": [
    {
     "output_type": "display_data",
     "data": {
      "text/html": [
       "<style scoped>\n",
       "  .ansiout {\n",
       "    display: block;\n",
       "    unicode-bidi: embed;\n",
       "    white-space: pre-wrap;\n",
       "    word-wrap: break-word;\n",
       "    word-break: break-all;\n",
       "    font-family: \"Menlo\", \"Monaco\", \"Consolas\", \"Ubuntu Mono\", \"Source Code Pro\", monospace;\n",
       "    font-size: 13px;\n",
       "    color: #555;\n",
       "    margin-left: 4px;\n",
       "    line-height: 19px;\n",
       "  }\n",
       "</style>\n",
       "<div class=\"ansiout\">http://3ddda29c-7df7-4b41-ae53-03d060015583.eastus2.azurecontainer.io/score\n",
       "</div>"
      ]
     },
     "metadata": {
      "application/vnd.databricks.v1+output": {
       "addedWidgets": {},
       "arguments": {},
       "data": "<div class=\"ansiout\">http://3ddda29c-7df7-4b41-ae53-03d060015583.eastus2.azurecontainer.io/score\n</div>",
       "datasetInfos": [],
       "metadata": {},
       "removedWidgets": [],
       "type": "html"
      }
     },
     "output_type": "display_data"
    }
   ],
   "source": [
    "print(aci_service.scoring_uri)"
   ]
  },
  {
   "cell_type": "code",
   "execution_count": 0,
   "metadata": {
    "application/vnd.databricks.v1+cell": {
     "cellMetadata": {},
     "inputWidgets": {},
     "nuid": "7c3c1043-4cac-4a07-a6ad-1466e27949bc",
     "showTitle": true,
     "title": "Figure 11-96"
    }
   },
   "outputs": [
    {
     "output_type": "display_data",
     "data": {
      "text/html": [
       "<style scoped>\n",
       "  .ansiout {\n",
       "    display: block;\n",
       "    unicode-bidi: embed;\n",
       "    white-space: pre-wrap;\n",
       "    word-wrap: break-word;\n",
       "    word-break: break-all;\n",
       "    font-family: \"Menlo\", \"Monaco\", \"Consolas\", \"Ubuntu Mono\", \"Source Code Pro\", monospace;\n",
       "    font-size: 13px;\n",
       "    color: #555;\n",
       "    margin-left: 4px;\n",
       "    line-height: 19px;\n",
       "  }\n",
       "</style>\n",
       "<div class=\"ansiout\">&#34;{\\&#34;result\\&#34;: [\\&#34;Mountain\\&#34;, \\&#34;Mountain\\&#34;]}&#34;\n",
       "</div>"
      ]
     },
     "metadata": {
      "application/vnd.databricks.v1+output": {
       "addedWidgets": {},
       "arguments": {},
       "data": "<div class=\"ansiout\">&#34;{\\&#34;result\\&#34;: [\\&#34;Mountain\\&#34;, \\&#34;Mountain\\&#34;]}&#34;\n</div>",
       "datasetInfos": [],
       "metadata": {},
       "removedWidgets": [],
       "type": "html"
      }
     },
     "output_type": "display_data"
    }
   ],
   "source": [
    "import requests\n",
    "import json\n",
    "\n",
    "scoring_uri = aci_service.scoring_uri   # URL for the web service\n",
    "\n",
    "# If the service is authenticated, set the key or token\n",
    "key = '<your key or token>'\n",
    "\n",
    "# Two sets of data to score, so we get two results back\n",
    "data = {\"data\":\n",
    "        [\n",
    "            [\n",
    "                \"Golden\",\n",
    "                \"0-1 Miles\",\n",
    "                \"N\",\n",
    "                \"Bachelors\",\n",
    "                10000.0\n",
    "            ],\n",
    "            [\n",
    "                \"Golden\",\n",
    "                \"0-1 Miles\",\n",
    "                \"N\",\n",
    "                \"Bachelors\",\n",
    "                30000.0\n",
    "            ]\n",
    "        ]\n",
    "        }\n",
    "# Convert to JSON string\n",
    "input_data = json.dumps(data)\n",
    "\n",
    "# Set the content type\n",
    "headers = {'Content-Type': 'application/json'}\n",
    "\n",
    "# If authentication is enabled, set the authorization header\n",
    "#headers['Authorization'] = f'Bearer {key}'\n",
    "\n",
    "# Make the request and display the response\n",
    "resp = requests.post(scoring_uri, input_data, headers=headers)\n",
    "print(resp.text)"
   ]
  },
  {
   "cell_type": "code",
   "execution_count": 0,
   "metadata": {
    "application/vnd.databricks.v1+cell": {
     "cellMetadata": {},
     "inputWidgets": {},
     "nuid": "2fd086b7-a512-470a-a65e-ebe7a915803a",
     "showTitle": true,
     "title": "Figure 11-97 - Delete the service."
    }
   },
   "outputs": [
    {
     "output_type": "display_data",
     "data": {
      "text/html": [
       "<style scoped>\n",
       "  .ansiout {\n",
       "    display: block;\n",
       "    unicode-bidi: embed;\n",
       "    white-space: pre-wrap;\n",
       "    word-wrap: break-word;\n",
       "    word-break: break-all;\n",
       "    font-family: \"Menlo\", \"Monaco\", \"Consolas\", \"Ubuntu Mono\", \"Source Code Pro\", monospace;\n",
       "    font-size: 13px;\n",
       "    color: #555;\n",
       "    margin-left: 4px;\n",
       "    line-height: 19px;\n",
       "  }\n",
       "</style>\n",
       "<div class=\"ansiout\"></div>"
      ]
     },
     "metadata": {
      "application/vnd.databricks.v1+output": {
       "addedWidgets": {},
       "arguments": {},
       "data": "<div class=\"ansiout\"></div>",
       "datasetInfos": [],
       "metadata": {},
       "removedWidgets": [],
       "type": "html"
      }
     },
     "output_type": "display_data"
    }
   ],
   "source": [
    "aci_service.delete()"
   ]
  },
  {
   "cell_type": "markdown",
   "metadata": {
    "application/vnd.databricks.v1+cell": {
     "cellMetadata": {},
     "inputWidgets": {},
     "nuid": "78193473-cc3c-484e-a73c-39fab3ec733b",
     "showTitle": false,
     "title": ""
    }
   },
   "source": [
    "![Impressions](https://PixelServer20190423114238.azurewebsites.net/api/impressions/MachineLearningNotebooks/how-to-use-azureml/azure-databricks/automl/automl-databricks-local-with-deployment.png)"
   ]
  }
 ],
 "metadata": {
  "application/vnd.databricks.v1+notebook": {
   "dashboards": [],
   "environmentMetadata": null,
   "language": "python",
   "notebookMetadata": {
    "pythonIndentUnit": 2
   },
   "notebookName": "AW_Python_AzureAutoML_withoutput",
   "widgets": {}
  },
  "authors": [
   {
    "name": "savitam"
   },
   {
    "name": "sasum"
   }
  ],
  "kernelspec": {
   "display_name": "Python 3.6",
   "language": "python",
   "name": "python36"
  },
  "language_info": {
   "codemirror_mode": {
    "name": "ipython",
    "version": 3
   },
   "file_extension": ".py",
   "mimetype": "text/x-python",
   "name": "python",
   "nbconvert_exporter": "python",
   "pygments_lexer": "ipython3",
   "version": "3.6.8"
  },
  "name": "auto-ml-classification-local-adb",
  "notebookId": 2733885892129020
 },
 "nbformat": 4,
 "nbformat_minor": 0
}
