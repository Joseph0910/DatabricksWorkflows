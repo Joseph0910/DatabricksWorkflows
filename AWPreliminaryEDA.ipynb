{
 "cells": [
  {
   "cell_type": "markdown",
   "metadata": {
    "application/vnd.databricks.v1+cell": {
     "cellMetadata": {},
     "inputWidgets": {},
     "nuid": "3d5e56b0-3546-46e0-8b6b-ac26d885a1b0",
     "showTitle": true,
     "title": "Figure 3-22 Markdown Cell "
    }
   },
   "source": [
    "# AdventureWorks Preliminary Exploratory Data Analysis\n",
    "## Sales Data\n",
    "![my_test_image](https://www.python.org/static/community_logos/python-logo-master-v3-TM.png)"
   ]
  },
  {
   "cell_type": "markdown",
   "metadata": {
    "application/vnd.databricks.v1+cell": {
     "cellMetadata": {},
     "inputWidgets": {},
     "nuid": "83276fbb-7790-4e2d-94c3-04dac42ab1fe",
     "showTitle": false,
     "title": ""
    }
   },
   "source": [
    "### Author: Bryan Cafferky  Copyright 08/29/2020"
   ]
  },
  {
   "cell_type": "code",
   "execution_count": 0,
   "metadata": {
    "application/vnd.databricks.v1+cell": {
     "cellMetadata": {},
     "inputWidgets": {},
     "nuid": "79fca7dc-c1af-42aa-a860-28d4b6ea2570",
     "showTitle": true,
     "title": "Figure 3-23 thru 3-24"
    }
   },
   "outputs": [
    {
     "output_type": "display_data",
     "data": {
      "text/html": [
       "<style scoped>\n",
       "  .table-result-container {\n",
       "    max-height: 300px;\n",
       "    overflow: auto;\n",
       "  }\n",
       "  table, th, td {\n",
       "    border: 1px solid black;\n",
       "    border-collapse: collapse;\n",
       "  }\n",
       "  th, td {\n",
       "    padding: 5px;\n",
       "  }\n",
       "  th {\n",
       "    text-align: left;\n",
       "  }\n",
       "</style><div class='table-result-container'><table class='table-result'><thead style='background-color: white'><tr><th>ProductKey</th><th>OrderDateKey</th><th>DueDateKey</th><th>ShipDateKey</th><th>CustomerKey</th><th>PromotionKey</th><th>CurrencyKey</th><th>SalesTerritoryKey</th><th>SalesOrderNumber</th><th>SalesOrderLineNumber</th><th>RevisionNumber</th><th>OrderQuantity</th><th>UnitPrice</th><th>ExtendedAmount</th><th>UnitPriceDiscountPct</th><th>DiscountAmount</th><th>ProductStandardCost</th><th>TotalProductCost</th><th>SalesAmount</th><th>TaxAmt</th><th>Freight</th><th>CarrierTrackingNumber</th><th>CustomerPONumber</th><th>OrderDate</th><th>DueDate</th><th>ShipDate</th></tr></thead><tbody><tr><td>310</td><td>20101229</td><td>20110110</td><td>20110105</td><td>21768</td><td>1</td><td>19</td><td>6</td><td>SO43697</td><td>1</td><td>1</td><td>1</td><td>3578.27</td><td>3578.27</td><td>0</td><td>0</td><td>2171.2942</td><td>2171.2942</td><td>3578.27</td><td>286.2616</td><td>89.4568</td><td>NULL</td><td>NULL</td><td>2010-12-29T00:00:00.000+0000</td><td>2011-01-10T00:00:00.000+0000</td><td>2011-01-05T00:00:00.000+0000</td></tr><tr><td>346</td><td>20101229</td><td>20110110</td><td>20110105</td><td>28389</td><td>1</td><td>39</td><td>7</td><td>SO43698</td><td>1</td><td>1</td><td>1</td><td>3399.99</td><td>3399.99</td><td>0</td><td>0</td><td>1912.1544</td><td>1912.1544</td><td>3399.99</td><td>271.9992</td><td>84.9998</td><td>NULL</td><td>NULL</td><td>2010-12-29T00:00:00.000+0000</td><td>2011-01-10T00:00:00.000+0000</td><td>2011-01-05T00:00:00.000+0000</td></tr><tr><td>346</td><td>20101229</td><td>20110110</td><td>20110105</td><td>25863</td><td>1</td><td>100</td><td>1</td><td>SO43699</td><td>1</td><td>1</td><td>1</td><td>3399.99</td><td>3399.99</td><td>0</td><td>0</td><td>1912.1544</td><td>1912.1544</td><td>3399.99</td><td>271.9992</td><td>84.9998</td><td>NULL</td><td>NULL</td><td>2010-12-29T00:00:00.000+0000</td><td>2011-01-10T00:00:00.000+0000</td><td>2011-01-05T00:00:00.000+0000</td></tr><tr><td>336</td><td>20101229</td><td>20110110</td><td>20110105</td><td>14501</td><td>1</td><td>100</td><td>4</td><td>SO43700</td><td>1</td><td>1</td><td>1</td><td>699.0982</td><td>699.0982</td><td>0</td><td>0</td><td>413.1463</td><td>413.1463</td><td>699.0982</td><td>55.9279</td><td>17.4775</td><td>NULL</td><td>NULL</td><td>2010-12-29T00:00:00.000+0000</td><td>2011-01-10T00:00:00.000+0000</td><td>2011-01-05T00:00:00.000+0000</td></tr><tr><td>346</td><td>20101229</td><td>20110110</td><td>20110105</td><td>11003</td><td>1</td><td>6</td><td>9</td><td>SO43701</td><td>1</td><td>1</td><td>1</td><td>3399.99</td><td>3399.99</td><td>0</td><td>0</td><td>1912.1544</td><td>1912.1544</td><td>3399.99</td><td>271.9992</td><td>84.9998</td><td>NULL</td><td>NULL</td><td>2010-12-29T00:00:00.000+0000</td><td>2011-01-10T00:00:00.000+0000</td><td>2011-01-05T00:00:00.000+0000</td></tr></tbody></table></div>"
      ]
     },
     "metadata": {
      "application/vnd.databricks.v1+output": {
       "addedWidgets": {},
       "aggData": [],
       "aggError": "",
       "aggOverflow": false,
       "aggSchema": [],
       "aggSeriesLimitReached": false,
       "aggType": "",
       "arguments": {},
       "columnCustomDisplayInfos": {},
       "data": [
        [
         310,
         20101229,
         20110110,
         20110105,
         21768,
         1,
         19,
         6,
         "SO43697",
         1,
         1,
         1,
         3578.27,
         3578.27,
         0,
         0,
         2171.2942,
         2171.2942,
         3578.27,
         286.2616,
         89.4568,
         "NULL",
         "NULL",
         "2010-12-29T00:00:00.000+0000",
         "2011-01-10T00:00:00.000+0000",
         "2011-01-05T00:00:00.000+0000"
        ],
        [
         346,
         20101229,
         20110110,
         20110105,
         28389,
         1,
         39,
         7,
         "SO43698",
         1,
         1,
         1,
         3399.99,
         3399.99,
         0,
         0,
         1912.1544,
         1912.1544,
         3399.99,
         271.9992,
         84.9998,
         "NULL",
         "NULL",
         "2010-12-29T00:00:00.000+0000",
         "2011-01-10T00:00:00.000+0000",
         "2011-01-05T00:00:00.000+0000"
        ],
        [
         346,
         20101229,
         20110110,
         20110105,
         25863,
         1,
         100,
         1,
         "SO43699",
         1,
         1,
         1,
         3399.99,
         3399.99,
         0,
         0,
         1912.1544,
         1912.1544,
         3399.99,
         271.9992,
         84.9998,
         "NULL",
         "NULL",
         "2010-12-29T00:00:00.000+0000",
         "2011-01-10T00:00:00.000+0000",
         "2011-01-05T00:00:00.000+0000"
        ],
        [
         336,
         20101229,
         20110110,
         20110105,
         14501,
         1,
         100,
         4,
         "SO43700",
         1,
         1,
         1,
         699.0982,
         699.0982,
         0,
         0,
         413.1463,
         413.1463,
         699.0982,
         55.9279,
         17.4775,
         "NULL",
         "NULL",
         "2010-12-29T00:00:00.000+0000",
         "2011-01-10T00:00:00.000+0000",
         "2011-01-05T00:00:00.000+0000"
        ],
        [
         346,
         20101229,
         20110110,
         20110105,
         11003,
         1,
         6,
         9,
         "SO43701",
         1,
         1,
         1,
         3399.99,
         3399.99,
         0,
         0,
         1912.1544,
         1912.1544,
         3399.99,
         271.9992,
         84.9998,
         "NULL",
         "NULL",
         "2010-12-29T00:00:00.000+0000",
         "2011-01-10T00:00:00.000+0000",
         "2011-01-05T00:00:00.000+0000"
        ]
       ],
       "datasetInfos": [],
       "dbfsResultPath": null,
       "isJsonSchema": true,
       "metadata": {},
       "overflow": false,
       "plotOptions": {
        "customPlotOptions": {},
        "displayType": "table",
        "pivotAggregation": null,
        "pivotColumns": null,
        "xColumns": null,
        "yColumns": null
       },
       "removedWidgets": [],
       "schema": [
        {
         "metadata": "{}",
         "name": "ProductKey",
         "type": "\"integer\""
        },
        {
         "metadata": "{}",
         "name": "OrderDateKey",
         "type": "\"integer\""
        },
        {
         "metadata": "{}",
         "name": "DueDateKey",
         "type": "\"integer\""
        },
        {
         "metadata": "{}",
         "name": "ShipDateKey",
         "type": "\"integer\""
        },
        {
         "metadata": "{}",
         "name": "CustomerKey",
         "type": "\"integer\""
        },
        {
         "metadata": "{}",
         "name": "PromotionKey",
         "type": "\"integer\""
        },
        {
         "metadata": "{}",
         "name": "CurrencyKey",
         "type": "\"integer\""
        },
        {
         "metadata": "{}",
         "name": "SalesTerritoryKey",
         "type": "\"integer\""
        },
        {
         "metadata": "{}",
         "name": "SalesOrderNumber",
         "type": "\"string\""
        },
        {
         "metadata": "{}",
         "name": "SalesOrderLineNumber",
         "type": "\"integer\""
        },
        {
         "metadata": "{}",
         "name": "RevisionNumber",
         "type": "\"integer\""
        },
        {
         "metadata": "{}",
         "name": "OrderQuantity",
         "type": "\"integer\""
        },
        {
         "metadata": "{}",
         "name": "UnitPrice",
         "type": "\"double\""
        },
        {
         "metadata": "{}",
         "name": "ExtendedAmount",
         "type": "\"double\""
        },
        {
         "metadata": "{}",
         "name": "UnitPriceDiscountPct",
         "type": "\"integer\""
        },
        {
         "metadata": "{}",
         "name": "DiscountAmount",
         "type": "\"integer\""
        },
        {
         "metadata": "{}",
         "name": "ProductStandardCost",
         "type": "\"double\""
        },
        {
         "metadata": "{}",
         "name": "TotalProductCost",
         "type": "\"double\""
        },
        {
         "metadata": "{}",
         "name": "SalesAmount",
         "type": "\"double\""
        },
        {
         "metadata": "{}",
         "name": "TaxAmt",
         "type": "\"double\""
        },
        {
         "metadata": "{}",
         "name": "Freight",
         "type": "\"double\""
        },
        {
         "metadata": "{}",
         "name": "CarrierTrackingNumber",
         "type": "\"string\""
        },
        {
         "metadata": "{}",
         "name": "CustomerPONumber",
         "type": "\"string\""
        },
        {
         "metadata": "{}",
         "name": "OrderDate",
         "type": "\"timestamp\""
        },
        {
         "metadata": "{}",
         "name": "DueDate",
         "type": "\"timestamp\""
        },
        {
         "metadata": "{}",
         "name": "ShipDate",
         "type": "\"timestamp\""
        }
       ],
       "type": "table"
      }
     },
     "output_type": "display_data"
    }
   ],
   "source": [
    "%sql\n",
    "\n",
    "SELECT * from awinternetsales limit 5"
   ]
  },
  {
   "cell_type": "code",
   "execution_count": 0,
   "metadata": {
    "application/vnd.databricks.v1+cell": {
     "cellMetadata": {},
     "inputWidgets": {},
     "nuid": "409c790b-f701-4c93-859a-2a2dedc24393",
     "showTitle": true,
     "title": "Figure 3-25 thru 3-28"
    }
   },
   "outputs": [
    {
     "output_type": "display_data",
     "data": {
      "text/html": [
       "<style scoped>\n",
       "  .table-result-container {\n",
       "    max-height: 300px;\n",
       "    overflow: auto;\n",
       "  }\n",
       "  table, th, td {\n",
       "    border: 1px solid black;\n",
       "    border-collapse: collapse;\n",
       "  }\n",
       "  th, td {\n",
       "    padding: 5px;\n",
       "  }\n",
       "  th {\n",
       "    text-align: left;\n",
       "  }\n",
       "</style><div class='table-result-container'><table class='table-result'><thead style='background-color: white'><tr><th>SalesTerritoryKey</th><th>sum(SalesAmount)</th></tr></thead><tbody><tr><td>1</td><td>3649866.5511999447</td></tr><tr><td>6</td><td>1977844.8620999614</td></tr><tr><td>3</td><td>3000.829599999999</td></tr><tr><td>5</td><td>12238.849599999994</td></tr><tr><td>9</td><td>9061000.584400563</td></tr><tr><td>4</td><td>5718150.812200519</td></tr><tr><td>8</td><td>2894312.338199975</td></tr><tr><td>7</td><td>2644017.7142999778</td></tr><tr><td>10</td><td>3391712.2108999686</td></tr><tr><td>2</td><td>6532.4681999999975</td></tr></tbody></table></div>"
      ]
     },
     "metadata": {
      "application/vnd.databricks.v1+output": {
       "addedWidgets": {},
       "aggData": [],
       "aggError": "",
       "aggOverflow": false,
       "aggSchema": [],
       "aggSeriesLimitReached": false,
       "aggType": "",
       "arguments": {},
       "columnCustomDisplayInfos": {},
       "data": [
        [
         1,
         3649866.5511999447
        ],
        [
         6,
         1977844.8620999614
        ],
        [
         3,
         3000.829599999999
        ],
        [
         5,
         12238.849599999994
        ],
        [
         9,
         9061000.584400563
        ],
        [
         4,
         5718150.812200519
        ],
        [
         8,
         2894312.338199975
        ],
        [
         7,
         2644017.7142999778
        ],
        [
         10,
         3391712.2108999686
        ],
        [
         2,
         6532.4681999999975
        ]
       ],
       "datasetInfos": [],
       "dbfsResultPath": null,
       "isJsonSchema": true,
       "metadata": {},
       "overflow": false,
       "plotOptions": {
        "customPlotOptions": {},
        "displayType": "mgLine",
        "pivotAggregation": null,
        "pivotColumns": null,
        "xColumns": null,
        "yColumns": null
       },
       "removedWidgets": [],
       "schema": [
        {
         "metadata": "{}",
         "name": "SalesTerritoryKey",
         "type": "\"integer\""
        },
        {
         "metadata": "{}",
         "name": "sum(SalesAmount)",
         "type": "\"double\""
        }
       ],
       "type": "table"
      }
     },
     "output_type": "display_data"
    }
   ],
   "source": [
    "%sql\n",
    "\n",
    "SELECT SalesTerritoryKey, SUM(SalesAmount) \n",
    "FROM awinternetsales \n",
    "GROUP BY SalesTerritoryKey"
   ]
  },
  {
   "cell_type": "code",
   "execution_count": 0,
   "metadata": {
    "application/vnd.databricks.v1+cell": {
     "cellMetadata": {},
     "inputWidgets": {},
     "nuid": "14b1ee96-e1ce-4d51-b508-ce93ae5c3af7",
     "showTitle": true,
     "title": "Figure 3-29 thru 3-32"
    }
   },
   "outputs": [
    {
     "output_type": "display_data",
     "data": {
      "text/html": [
       "<style scoped>\n",
       "  .table-result-container {\n",
       "    max-height: 300px;\n",
       "    overflow: auto;\n",
       "  }\n",
       "  table, th, td {\n",
       "    border: 1px solid black;\n",
       "    border-collapse: collapse;\n",
       "  }\n",
       "  th, td {\n",
       "    padding: 5px;\n",
       "  }\n",
       "  th {\n",
       "    text-align: left;\n",
       "  }\n",
       "</style><div class='table-result-container'><table class='table-result'><thead style='background-color: white'><tr><th>SalesTerritoryKey</th><th>Year</th><th>sum(SalesAmount)</th></tr></thead><tbody><tr><td>8</td><td>2012</td><td>608657.9839999994</td></tr><tr><td>6</td><td>2014</td><td>9457.619999999948</td></tr><tr><td>10</td><td>2014</td><td>3713.639999999987</td></tr><tr><td>7</td><td>2013</td><td>1578511.79999997</td></tr><tr><td>1</td><td>2011</td><td>927056.7613000026</td></tr><tr><td>5</td><td>2012</td><td>3637.3996</td></tr><tr><td>4</td><td>2013</td><td>3356890.099999926</td></tr><tr><td>10</td><td>2011</td><td>550591.2186000007</td></tr><tr><td>2</td><td>2012</td><td>2049.0982</td></tr><tr><td>9</td><td>2011</td><td>2563732.2493000124</td></tr><tr><td>8</td><td>2014</td><td>3277.829999999989</td></tr><tr><td>7</td><td>2011</td><td>410845.32600000047</td></tr><tr><td>3</td><td>2012</td><td>2071.4196</td></tr><tr><td>1</td><td>2010</td><td>3399.99</td></tr><tr><td>4</td><td>2014</td><td>8376.059999999956</td></tr><tr><td>8</td><td>2013</td><td>1761876.3599999682</td></tr><tr><td>6</td><td>2013</td><td>1085632.649999973</td></tr><tr><td>3</td><td>2013</td><td>929.4100000000001</td></tr><tr><td>7</td><td>2014</td><td>3195.059999999991</td></tr><tr><td>4</td><td>2011</td><td>1531228.411300003</td></tr><tr><td>6</td><td>2010</td><td>3578.27</td></tr><tr><td>6</td><td>2011</td><td>571571.798400001</td></tr><tr><td>10</td><td>2010</td><td>699.0982</td></tr><tr><td>1</td><td>2013</td><td>2091249.5099999472</td></tr><tr><td>9</td><td>2012</td><td>2128407.4550999855</td></tr><tr><td>2</td><td>2013</td><td>4483.369999999998</td></tr><tr><td>9</td><td>2013</td><td>4339443.379999941</td></tr><tr><td>8</td><td>2011</td><td>520500.1642000007</td></tr><tr><td>5</td><td>2013</td><td>8526.469999999996</td></tr><tr><td>4</td><td>2012</td><td>810222.332700001</td></tr><tr><td>7</td><td>2012</td><td>648065.5382999994</td></tr><tr><td>10</td><td>2012</td><td>712700.9640999994</td></tr><tr><td>6</td><td>2012</td><td>307604.5237</td></tr><tr><td>10</td><td>2013</td><td>2124007.2899999553</td></tr><tr><td>5</td><td>2014</td><td>74.98</td></tr><tr><td>7</td><td>2010</td><td>3399.99</td></tr><tr><td>9</td><td>2010</td><td>20909.78</td></tr><tr><td>1</td><td>2014</td><td>9091.809999999954</td></tr><tr><td>4</td><td>2010</td><td>11433.9082</td></tr><tr><td>9</td><td>2014</td><td>8507.719999999954</td></tr><tr><td>1</td><td>2012</td><td>619068.4799000003</td></tr></tbody></table></div>"
      ]
     },
     "metadata": {
      "application/vnd.databricks.v1+output": {
       "addedWidgets": {},
       "aggData": [],
       "aggError": "",
       "aggOverflow": false,
       "aggSchema": [],
       "aggSeriesLimitReached": false,
       "aggType": "",
       "arguments": {},
       "columnCustomDisplayInfos": {},
       "data": [
        [
         8,
         "2012",
         608657.9839999994
        ],
        [
         6,
         "2014",
         9457.619999999948
        ],
        [
         10,
         "2014",
         3713.639999999987
        ],
        [
         7,
         "2013",
         1578511.79999997
        ],
        [
         1,
         "2011",
         927056.7613000026
        ],
        [
         5,
         "2012",
         3637.3996
        ],
        [
         4,
         "2013",
         3356890.099999926
        ],
        [
         10,
         "2011",
         550591.2186000007
        ],
        [
         2,
         "2012",
         2049.0982
        ],
        [
         9,
         "2011",
         2563732.2493000124
        ],
        [
         8,
         "2014",
         3277.829999999989
        ],
        [
         7,
         "2011",
         410845.32600000047
        ],
        [
         3,
         "2012",
         2071.4196
        ],
        [
         1,
         "2010",
         3399.99
        ],
        [
         4,
         "2014",
         8376.059999999956
        ],
        [
         8,
         "2013",
         1761876.3599999682
        ],
        [
         6,
         "2013",
         1085632.649999973
        ],
        [
         3,
         "2013",
         929.4100000000001
        ],
        [
         7,
         "2014",
         3195.059999999991
        ],
        [
         4,
         "2011",
         1531228.411300003
        ],
        [
         6,
         "2010",
         3578.27
        ],
        [
         6,
         "2011",
         571571.798400001
        ],
        [
         10,
         "2010",
         699.0982
        ],
        [
         1,
         "2013",
         2091249.5099999472
        ],
        [
         9,
         "2012",
         2128407.4550999855
        ],
        [
         2,
         "2013",
         4483.369999999998
        ],
        [
         9,
         "2013",
         4339443.379999941
        ],
        [
         8,
         "2011",
         520500.1642000007
        ],
        [
         5,
         "2013",
         8526.469999999996
        ],
        [
         4,
         "2012",
         810222.332700001
        ],
        [
         7,
         "2012",
         648065.5382999994
        ],
        [
         10,
         "2012",
         712700.9640999994
        ],
        [
         6,
         "2012",
         307604.5237
        ],
        [
         10,
         "2013",
         2124007.2899999553
        ],
        [
         5,
         "2014",
         74.98
        ],
        [
         7,
         "2010",
         3399.99
        ],
        [
         9,
         "2010",
         20909.78
        ],
        [
         1,
         "2014",
         9091.809999999954
        ],
        [
         4,
         "2010",
         11433.9082
        ],
        [
         9,
         "2014",
         8507.719999999954
        ],
        [
         1,
         "2012",
         619068.4799000003
        ]
       ],
       "datasetInfos": [],
       "dbfsResultPath": null,
       "isJsonSchema": true,
       "metadata": {},
       "overflow": false,
       "plotOptions": {
        "customPlotOptions": {
         "barChart": [
          {
           "key": "grouped",
           "value": true
          },
          {
           "key": "stacked",
           "value": false
          },
          {
           "key": "100_stacked",
           "value": false
          }
         ],
         "mgLine": [
          {
           "key": "param",
           "value": "{\"top\":20,\"bottom\":50,\"area\":false,\"missing_is_hidden\":true,\"legend_target\":\".dummy\",\"animate_on_load\":false,\"transition_on_update\":false,\"legend\":[\"2012\",\"2014\",\"2013\",\"2011\",\"2010\"],\"x_label\":\"SalesTerritoryKey\",\"colors\":[\"#2ca02c\",\"#9467bd\",\"#d62728\",\"#ff7f0e\",\"#1f77b4\"]}"
          }
         ]
        },
        "displayType": "barChart",
        "pivotAggregation": "sum",
        "pivotColumns": [],
        "xColumns": [
         "SalesTerritoryKey"
        ],
        "yColumns": [
         "sum(SalesAmount)"
        ]
       },
       "removedWidgets": [],
       "schema": [
        {
         "metadata": "{}",
         "name": "SalesTerritoryKey",
         "type": "\"integer\""
        },
        {
         "metadata": "{}",
         "name": "Year",
         "type": "\"string\""
        },
        {
         "metadata": "{}",
         "name": "sum(SalesAmount)",
         "type": "\"double\""
        }
       ],
       "type": "table"
      }
     },
     "output_type": "display_data"
    }
   ],
   "source": [
    "%sql\n",
    "\n",
    "SELECT SalesTerritoryKey, LEFT(CAST(OrderDate as String), 4) as Year, SUM(SalesAmount) \n",
    "FROM awinternetsales \n",
    "GROUP BY SalesTerritoryKey, LEFT(CAST(OrderDate as String), 4)"
   ]
  },
  {
   "cell_type": "code",
   "execution_count": 0,
   "metadata": {
    "application/vnd.databricks.v1+cell": {
     "cellMetadata": {},
     "inputWidgets": {},
     "nuid": "65984c6d-b71f-4fd8-bd3e-2c1961bb11a7",
     "showTitle": true,
     "title": "Figure 3-33"
    }
   },
   "outputs": [
    {
     "output_type": "display_data",
     "data": {
      "image/png": "[encoded data removed]"
     },
     "metadata": {
      "application/vnd.databricks.v1+output": {
       "addedWidgets": {},
       "arguments": {},
       "data": "data:image/png;base64,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",
       "datasetInfos": [],
       "metadata": {},
       "removedWidgets": [],
       "type": "image"
      }
     },
     "output_type": "display_data"
    }
   ],
   "source": [
    "# Example from pandas.pydata.org\n",
    "import pandas as pd\n",
    "import numpy as np\n",
    "\n",
    "ts = pd.Series(np.random.randn(1000), index=pd.date_range('1/1/2000', periods=1000))\n",
    "ts = ts.cumsum()\n",
    "ts.plot()\n",
    "display()"
   ]
  },
  {
   "cell_type": "code",
   "execution_count": 0,
   "metadata": {
    "application/vnd.databricks.v1+cell": {
     "cellMetadata": {},
     "inputWidgets": {},
     "nuid": "48dd0286-a51f-4033-8ce0-1d4971fe25ab",
     "showTitle": true,
     "title": "Figure 3-34"
    }
   },
   "outputs": [
    {
     "output_type": "display_data",
     "data": {
      "image/png": "[encoded data removed]"
     },
     "metadata": {
      "application/vnd.databricks.v1+output": {
       "addedWidgets": {},
       "arguments": {},
       "data": "data:image/png;base64,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",
       "datasetInfos": [],
       "metadata": {},
       "removedWidgets": [],
       "type": "image"
      }
     },
     "output_type": "display_data"
    }
   ],
   "source": [
    "%r\n",
    "\n",
    "plot(iris$Sepal.Length, col=\"blue\")"
   ]
  },
  {
   "cell_type": "code",
   "execution_count": 0,
   "metadata": {
    "application/vnd.databricks.v1+cell": {
     "cellMetadata": {},
     "inputWidgets": {},
     "nuid": "0c03f10e-4215-4254-9511-f93b60dc817b",
     "showTitle": true,
     "title": "Figure 3-35"
    }
   },
   "outputs": [
    {
     "output_type": "display_data",
     "data": {
      "text/html": [
       "<style scoped>\n",
       "  .table-result-container {\n",
       "    max-height: 300px;\n",
       "    overflow: auto;\n",
       "  }\n",
       "  table, th, td {\n",
       "    border: 1px solid black;\n",
       "    border-collapse: collapse;\n",
       "  }\n",
       "  th, td {\n",
       "    padding: 5px;\n",
       "  }\n",
       "  th {\n",
       "    text-align: left;\n",
       "  }\n",
       "</style><div class='table-result-container'><table class='table-result'><thead style='background-color: white'><tr><th>path</th><th>name</th><th>size</th></tr></thead><tbody><tr><td>dbfs:/FileStore/AAAAfigure.png</td><td>AAAAfigure.png</td><td>8591</td></tr><tr><td>dbfs:/FileStore/ABAfigure.png</td><td>ABAfigure.png</td><td>188710</td></tr><tr><td>dbfs:/FileStore/awdata/</td><td>awdata/</td><td>0</td></tr><tr><td>dbfs:/FileStore/geo.json/</td><td>geo.json/</td><td>0</td></tr><tr><td>dbfs:/FileStore/import-stage/</td><td>import-stage/</td><td>0</td></tr><tr><td>dbfs:/FileStore/jars/</td><td>jars/</td><td>0</td></tr><tr><td>dbfs:/FileStore/mydata.csv</td><td>mydata.csv</td><td>288205</td></tr><tr><td>dbfs:/FileStore/myfigure.png</td><td>myfigure.png</td><td>188933</td></tr><tr><td>dbfs:/FileStore/plots/</td><td>plots/</td><td>0</td></tr><tr><td>dbfs:/FileStore/tables/</td><td>tables/</td><td>0</td></tr></tbody></table></div>"
      ]
     },
     "metadata": {
      "application/vnd.databricks.v1+output": {
       "addedWidgets": {},
       "aggData": [],
       "aggError": "",
       "aggOverflow": false,
       "aggSchema": [],
       "aggSeriesLimitReached": false,
       "aggType": "",
       "arguments": {},
       "columnCustomDisplayInfos": {},
       "data": [
        [
         "dbfs:/FileStore/AAAAfigure.png",
         "AAAAfigure.png",
         8591
        ],
        [
         "dbfs:/FileStore/ABAfigure.png",
         "ABAfigure.png",
         188710
        ],
        [
         "dbfs:/FileStore/awdata/",
         "awdata/",
         0
        ],
        [
         "dbfs:/FileStore/geo.json/",
         "geo.json/",
         0
        ],
        [
         "dbfs:/FileStore/import-stage/",
         "import-stage/",
         0
        ],
        [
         "dbfs:/FileStore/jars/",
         "jars/",
         0
        ],
        [
         "dbfs:/FileStore/mydata.csv",
         "mydata.csv",
         288205
        ],
        [
         "dbfs:/FileStore/myfigure.png",
         "myfigure.png",
         188933
        ],
        [
         "dbfs:/FileStore/plots/",
         "plots/",
         0
        ],
        [
         "dbfs:/FileStore/tables/",
         "tables/",
         0
        ]
       ],
       "datasetInfos": [],
       "dbfsResultPath": null,
       "isJsonSchema": true,
       "metadata": {},
       "overflow": false,
       "plotOptions": {
        "customPlotOptions": {},
        "displayType": "table",
        "pivotAggregation": null,
        "pivotColumns": null,
        "xColumns": null,
        "yColumns": null
       },
       "removedWidgets": [],
       "schema": [
        {
         "metadata": "{}",
         "name": "path",
         "type": "\"string\""
        },
        {
         "metadata": "{}",
         "name": "name",
         "type": "\"string\""
        },
        {
         "metadata": "{}",
         "name": "size",
         "type": "\"long\""
        }
       ],
       "type": "table"
      }
     },
     "output_type": "display_data"
    }
   ],
   "source": [
    "%fs\n",
    "\n",
    "ls /FileStore/"
   ]
  },
  {
   "cell_type": "code",
   "execution_count": 0,
   "metadata": {
    "application/vnd.databricks.v1+cell": {
     "cellMetadata": {},
     "inputWidgets": {},
     "nuid": "4273263d-79c0-4b11-9361-b30b64ffde5a",
     "showTitle": true,
     "title": "Figure 3-36"
    }
   },
   "outputs": [
    {
     "output_type": "display_data",
     "data": {
      "text/html": [
       "<style scoped>\n",
       "  .ansiout {\n",
       "    display: block;\n",
       "    unicode-bidi: embed;\n",
       "    white-space: pre-wrap;\n",
       "    word-wrap: break-word;\n",
       "    word-break: break-all;\n",
       "    font-family: \"Menlo\", \"Monaco\", \"Consolas\", \"Ubuntu Mono\", \"Source Code Pro\", monospace;\n",
       "    font-size: 13px;\n",
       "    color: #555;\n",
       "    margin-left: 4px;\n",
       "    line-height: 19px;\n",
       "  }\n",
       "</style>\n",
       "<div class=\"ansiout\">BASH(1)                     General Commands Manual                    BASH(1)\n",
       "\n",
       "NAME\n",
       "       bash - GNU Bourne-Again SHell\n",
       "\n",
       "SYNOPSIS\n",
       "       bash [options] [command_string | file]\n",
       "\n",
       "COPYRIGHT\n",
       "       Bash is Copyright (C) 1989-2013 by the Free Software Foundation, Inc.\n",
       "\n",
       "DESCRIPTION\n",
       "       Bash  is  an  sh-compatible  command language interpreter that executes\n",
       "       commands read from the standard input or from a file.  Bash also incor‐\n",
       "       porates useful features from the Korn and C shells (ksh and csh).\n",
       "\n",
       "       Bash  is  intended  to  be a conformant implementation of the Shell and\n",
       "       Utilities portion  of  the  IEEE  POSIX  specification  (IEEE  Standard\n",
       "       1003.1).  Bash can be configured to be POSIX-conformant by default.\n",
       "\n",
       "OPTIONS\n",
       "       All  of  the  single-character shell options documented in the descrip‐\n",
       "       tion of the set builtin command can be used as options when  the  shell\n",
       "       is invoked.  In addition, bash interprets the following options when it\n",
       "       is invoked:\n",
       "\n",
       "       -c        If the -c option is present, then commands are read from  the\n",
       "                 first non-option argument command_string.  If there are argu‐\n",
       "                 ments after the command_string,  they  are  assigned  to  the\n",
       "                 positional parameters, starting with $0.\n",
       "       -i        If the -i option is present, the shell is interactive.\n",
       "       -l        Make bash act as if it had been invoked as a login shell (see\n",
       "                 INVOCATION below).\n",
       "       -r        If the -r option is present,  the  shell  becomes  restricted\n",
       "                 (see RESTRICTED SHELL below).\n",
       "       -s        If  the -s option is present, or if no arguments remain after\n",
       "                 option processing, then commands are read from  the  standard\n",
       "                 input.   This  option  allows the positional parameters to be\n",
       "                 set when invoking an interactive shell.\n",
       "       -D        A list of all double-quoted strings preceded by $ is  printed\n",
       "                 on  the standard output.  These are the strings that are sub‐\n",
       "                 ject to language translation when the current locale is not C\n",
       "                 or  POSIX.   This  implies the -n option; no commands will be\n",
       "                 executed.\n",
       "       [-+]O [shopt_option]\n",
       "                 shopt_option is one of the  shell  options  accepted  by  the\n",
       "                 shopt   builtin  (see  SHELL  BUILTIN  COMMANDS  below).   If\n",
       "                 shopt_option is present, -O sets the value of that option; +O\n",
       "                 unsets  it.   If  shopt_option is not supplied, the names and\n",
       "                 values of the shell options accepted by shopt are printed  on\n",
       "                 the  standard  output.   If  the invocation option is +O, the\n",
       "                 output is displayed in a format that may be reused as input.\n",
       "       --        A -- signals the end of options and disables  further  option\n",
       "                 processing.   Any arguments after the -- are treated as file‐\n",
       "                 names and arguments.  An argument of - is equivalent to --.\n",
       "\n",
       "       Bash also  interprets  a  number  of  multi-character  options.   These\n",
       "       options  must  appear  on  the command line before the single-character\n",
       "       options to be recognized.\n",
       "\n",
       "       --debugger\n",
       "              Arrange for the debugger profile to be executed before the shell\n",
       "              starts.   Turns  on extended debugging mode (see the description\n",
       "              of the extdebug option to the shopt builtin below).\n",
       "       --dump-po-strings\n",
       "              Equivalent to -D, but the output is in the GNU gettext po  (por‐\n",
       "              table object) file format.\n",
       "       --dump-strings\n",
       "              Equivalent to -D.\n",
       "       --help Display  a  usage  message  on standard output and exit success‐\n",
       "              fully.\n",
       "       --init-file file\n",
       "       --rcfile file\n",
       "              Execute commands from file instead of the system  wide  initial‐\n",
       "              ization file /etc/bash.bashrc and the standard personal initial‐\n",
       "              ization file ~/.bashrc if the shell is interactive (see  INVOCA‐\n",
       "              TION below).\n",
       "\n",
       "       --login\n",
       "              Equivalent to -l.\n",
       "\n",
       "       --noediting\n",
       "              Do  not  use the GNU readline library to read command lines when\n",
       "              the shell is interactive.\n",
       "\n",
       "       --noprofile\n",
       "              Do not read either the system-wide startup file /etc/profile  or\n",
       "              any   of  the  personal  initialization  files  ~/.bash_profile,\n",
       "              ~/.bash_login, or ~/.profile.   By  default,  bash  reads  these\n",
       "              files  when  it  is  invoked  as  a  login shell (see INVOCATION\n",
       "              below).\n",
       "\n",
       "       --norc Do not read and execute  the  system  wide  initialization  file\n",
       "              /etc/bash.bashrc  and the personal initialization file ~/.bashrc\n",
       "              if the shell is interactive.  This option is on  by  default  if\n",
       "              the shell is invoked as sh.\n",
       "\n",
       "       --posix\n",
       "              Change  the behavior of bash where the default operation differs\n",
       "              from the POSIX standard to match the standard (posix mode).  See\n",
       "              SEE  ALSO  below  for a reference to a document that details how\n",
       "              posix mode affects bash&#39;s behavior.\n",
       "\n",
       "       --restricted\n",
       "              The shell becomes restricted (see RESTRICTED SHELL below).\n",
       "\n",
       "       --verbose\n",
       "              Equivalent to  -v.\n",
       "\n",
       "       --version\n",
       "              Show version information for this instance of bash on the  stan‐\n",
       "              dard output and exit successfully.\n",
       "\n",
       "ARGUMENTS\n",
       "       If arguments remain after option processing, and neither the -c nor the\n",
       "       -s option has been supplied, the first argument is assumed  to  be  the\n",
       "       name  of  a file containing shell commands.  If bash is invoked in this\n",
       "       fashion, $0 is set to the name of the file, and the positional  parame‐\n",
       "       ters  are set to the remaining arguments.  Bash reads and executes com‐\n",
       "       mands from this file, then exits.  Bash&#39;s exit status is the exit  sta‐\n",
       "       tus  of  the  last  command executed in the script.  If no commands are\n",
       "       executed, the exit status is 0.  An attempt is first made to  open  the\n",
       "       file in the current directory, and, if no file is found, then the shell\n",
       "       searches the directories in PATH for the script.\n",
       "\n",
       "INVOCATION\n",
       "       A login shell is one whose first character of argument zero is a -,  or\n",
       "       one started with the --login option.\n",
       "\n",
       "       An  interactive  shell  is one started without non-option arguments and\n",
       "       without the -c option whose standard input and error are both connected\n",
       "       to  terminals  (as determined by isatty(3)), or one started with the -i\n",
       "       option.  PS1 is set and $- includes i if bash is interactive,  allowing\n",
       "       a shell script or a startup file to test this state.\n",
       "\n",
       "       The  following paragraphs describe how bash executes its startup files.\n",
       "       If any of the files exist but cannot be read, bash  reports  an  error.\n",
       "       Tildes  are expanded in filenames as described below under Tilde Expan‐\n",
       "       sion in the EXPANSION section.\n",
       "\n",
       "       When bash is invoked as an interactive login shell, or as a  non-inter‐\n",
       "       active  shell with the --login option, it first reads and executes com‐\n",
       "       mands from the file /etc/profile, if that file exists.   After  reading\n",
       "       that file, it looks for ~/.bash_profile, ~/.bash_login, and ~/.profile,\n",
       "       in that order, and reads and executes commands from the first one  that\n",
       "       exists  and  is  readable.  The --noprofile option may be used when the\n",
       "       shell is started to inhibit this behavior.\n",
       "\n",
       "       When a login shell exits, bash reads and  executes  commands  from  the\n",
       "       file ~/.bash_logout, if it exists.\n",
       "\n",
       "       When  an  interactive  shell that is not a login shell is started, bash\n",
       "       reads and executes commands from  /etc/bash.bashrc  and  ~/.bashrc,  if\n",
       "       these  files  exist.  This may be inhibited by using the --norc option.\n",
       "       The --rcfile file option will force bash to read and  execute  commands\n",
       "       from file instead of /etc/bash.bashrc and ~/.bashrc.\n",
       "\n",
       "       When  bash  is  started  non-interactively,  to run a shell script, for\n",
       "       example, it looks for the variable BASH_ENV in the environment, expands\n",
       "       its  value if it appears there, and uses the expanded value as the name\n",
       "       of a file to read and execute.  Bash behaves as if the  following  com‐\n",
       "       mand were executed:\n",
       "              if [ -n &#34;$BASH_ENV&#34; ]; then . &#34;$BASH_ENV&#34;; fi\n",
       "       but  the value of the PATH variable is not used to search for the file‐\n",
       "       name.\n",
       "\n",
       "       If bash is invoked with the name sh, it  tries  to  mimic  the  startup\n",
       "       behavior  of  historical  versions  of sh as closely as possible, while\n",
       "       conforming to the POSIX standard as well.  When invoked as an  interac‐\n",
       "       tive  login  shell, or a non-interactive shell with the --login option,\n",
       "       it first attempts to read and execute commands  from  /etc/profile  and\n",
       "       ~/.profile,  in  that  order.   The  --noprofile  option may be used to\n",
       "       inhibit this behavior.  When invoked as an interactive shell  with  the\n",
       "       name  sh,  bash  looks for the variable ENV, expands its value if it is\n",
       "       defined, and uses the expanded value as the name of a file to read  and\n",
       "       execute.  Since a shell invoked as sh does not attempt to read and exe‐\n",
       "       cute commands from any other startup files, the --rcfile option has  no\n",
       "       effect.   A  non-interactive  shell  invoked  with the name sh does not\n",
       "       attempt to read any other startup files.   When  invoked  as  sh,  bash\n",
       "       enters posix mode after the startup files are read.\n",
       "\n",
       "       When  bash  is  started in posix mode, as with the --posix command line\n",
       "       option, it follows the POSIX standard for startup files.  In this mode,\n",
       "       interactive  shells  expand  the ENV variable and commands are read and\n",
       "       executed from the file whose name is  the  expanded  value.   No  other\n",
       "       startup files are read.\n",
       "\n",
       "       Bash attempts to determine when it is being run with its standard input\n",
       "       connected to a network connection, as when executed by the remote shell\n",
       "       daemon,  usually rshd, or the secure shell daemon sshd.  If bash deter‐\n",
       "       mines it is being run in this fashion, it reads and  executes  commands\n",
       "       from  ~/.bashrc  and  ~/.bashrc, if these files exist and are readable.\n",
       "       It will not do this if invoked as sh.  The --norc option may be used to\n",
       "       inhibit  this  behavior,  and  the --rcfile option may be used to force\n",
       "       another file to be read, but neither rshd nor sshd generally invoke the\n",
       "       shell with those options or allow them to be specified.\n",
       "\n",
       "       If the shell is started with the effective user (group) id not equal to\n",
       "       the real user (group) id, and the -p option is not supplied, no startup\n",
       "       files are read, shell functions are not inherited from the environment,\n",
       "       the SHELLOPTS, BASHOPTS, CDPATH,  and  GLOBIGNORE  variables,  if  they\n",
       "       appear  in  the  environment, are ignored, and the effective user id is\n",
       "       set to the real user id.  If the -p option is supplied  at  invocation,\n",
       "       the  startup  behavior  is  the  same, but the effective user id is not\n",
       "       reset.\n",
       "\n",
       "DEFINITIONS\n",
       "       The following definitions are used throughout the rest  of  this  docu‐\n",
       "       ment.\n",
       "       blank  A space or tab.\n",
       "       word   A  sequence  of  characters  considered  as a single unit by the\n",
       "              shell.  Also known as a token.\n",
       "       name   A word consisting only of  alphanumeric  characters  and  under‐\n",
       "              scores,  and beginning with an alphabetic character or an under‐\n",
       "              score.  Also referred to as an identifier.\n",
       "       metacharacter\n",
       "              A character that, when unquoted, separates words.   One  of  the\n",
       "              following:\n",
       "  &amp; ; ( ) &lt; &gt; space tab\n",
       "       control operator\n",
       "              A token that performs a control function.  It is one of the fol‐\n",
       "              lowing symbols:\n",
       "| &amp; &amp;&amp; ; ;; ( ) | |&amp; &lt;newline&gt;\n",
       "\n",
       "RESERVED WORDS\n",
       "       Reserved words are words that have a special meaning to the shell.  The\n",
       "       following words are recognized as reserved when unquoted and either the\n",
       "       first word of a simple command (see SHELL GRAMMAR below) or  the  third\n",
       "       word of a case or for command:\n",
       "\n",
       "       !  case   coproc   do  done elif else esac fi for function if in select\n",
       "       then until while { } time [[ ]]\n",
       "\n",
       "SHELL GRAMMAR\n",
       "   Simple Commands\n",
       "       A simple command is a sequence of optional  variable  assignments  fol‐\n",
       "       lowed  by  blank-separated  words and redirections, and terminated by a\n",
       "       control operator.  The first word specifies the command to be executed,\n",
       "       and  is  passed  as  argument  zero.  The remaining words are passed as\n",
       "       arguments to the invoked command.\n",
       "\n",
       "       The return value of a simple command is its exit status,  or  128+n  if\n",
       "       the command is terminated by signal n.\n",
       "\n",
       "   Pipelines\n",
       "       A  pipeline  is  a sequence of one or more commands separated by one of\n",
       "       the control operators | or |&amp;.  The format for a pipeline is:\n",
       "\n",
       "              [time [-p]] [ ! ] command [ [|⎪|&amp;] command2 ... ]\n",
       "\n",
       "       The standard output of command is connected via a pipe to the  standard\n",
       "       input  of  command2.   This connection is performed before any redirec‐\n",
       "       tions specified by the command (see REDIRECTION below).  If |&amp; is used,\n",
       "       command&#39;s  standard  error, in addition to its standard output, is con‐\n",
       "       nected to command2&#39;s standard input through the pipe; it  is  shorthand\n",
       "       for  2&gt;&amp;1  |.   This  implicit redirection of the standard error to the\n",
       "       standard output is performed after any redirections  specified  by  the\n",
       "       command.\n",
       "\n",
       "       The return status of a pipeline is the exit status of the last command,\n",
       "       unless the pipefail option is enabled.  If  pipefail  is  enabled,  the\n",
       "       pipeline&#39;s  return  status is the value of the last (rightmost) command\n",
       "       to exit with a non-zero status, or zero if all commands  exit  success‐\n",
       "       fully.  If the reserved word !  precedes a pipeline, the exit status of\n",
       "       that pipeline is the logical negation of the exit status  as  described\n",
       "       above.   The  shell waits for all commands in the pipeline to terminate\n",
       "       before returning a value.\n",
       "\n",
       "       If the time reserved word precedes a pipeline, the elapsed as  well  as\n",
       "       user  and  system  time consumed by its execution are reported when the\n",
       "       pipeline terminates.  The -p option changes the output format  to  that\n",
       "       specified  by POSIX.  When the shell is in posix mode, it does not rec‐\n",
       "       ognize time as a reserved word if the next token  begins  with  a  `-&#39;.\n",
       "       The  TIMEFORMAT  variable  may be set to a format string that specifies\n",
       "       how the timing information should be displayed; see the description  of\n",
       "       TIMEFORMAT under Shell Variables below.\n",
       "\n",
       "       When the shell is in posix mode, time may be followed by a newline.  In\n",
       "       this case, the shell displays the total user and system  time  consumed\n",
       "       by  the shell and its children.  The TIMEFORMAT variable may be used to\n",
       "       specify the format of the time information.\n",
       "\n",
       "       Each command in a pipeline is executed as a separate process (i.e.,  in\n",
       "       a subshell).\n",
       "\n",
       "   Lists\n",
       "       A  list  is a sequence of one or more pipelines separated by one of the\n",
       "       operators ;, &amp;, &amp;&amp;, or ||, and optionally terminated by one of ;, &amp;, or\n",
       "       &lt;newline&gt;.\n",
       "\n",
       "       Of these list operators, &amp;&amp; and || have equal precedence, followed by ;\n",
       "       and &amp;, which have equal precedence.\n",
       "\n",
       "       A sequence of one or more newlines may appear in a list  instead  of  a\n",
       "       semicolon to delimit commands.\n",
       "\n",
       "       If  a  command  is terminated by the control operator &amp;, the shell exe‐\n",
       "       cutes the command in the background in a subshell.  The shell does  not\n",
       "       wait  for  the command to finish, and the return status is 0.  Commands\n",
       "       separated by a ; are executed sequentially; the shell  waits  for  each\n",
       "       command  to terminate in turn.  The return status is the exit status of\n",
       "       the last command executed.\n",
       "\n",
       "       AND and OR lists are sequences of one of more  pipelines  separated  by\n",
       "       the  &amp;&amp;  and  || control operators, respectively.  AND and OR lists are\n",
       "       executed with left associativity.  An AND list has the form\n",
       "\n",
       "              command1 &amp;&amp; command2\n",
       "\n",
       "       command2 is executed if, and only if, command1 returns an  exit  status\n",
       "       of zero.\n",
       "\n",
       "       An OR list has the form\n",
       "\n",
       "              command1 || command2\n",
       "\n",
       "       command2  is  executed  if and only if command1 returns a non-zero exit\n",
       "       status.  The return status of AND and OR lists is the  exit  status  of\n",
       "       the last command executed in the list.\n",
       "\n",
       "   Compound Commands\n",
       "       A  compound command is one of the following.  In most cases a list in a\n",
       "       command&#39;s description may be separated from the rest of the command  by\n",
       "       one  or  more  newlines, and may be followed by a newline in place of a\n",
       "       semicolon.\n",
       "\n",
       "       (list) list is executed in a subshell environment (see  COMMAND  EXECU‐\n",
       "              TION  ENVIRONMENT below).  Variable assignments and builtin com‐\n",
       "              mands that affect the  shell&#39;s  environment  do  not  remain  in\n",
       "              effect  after  the  command completes.  The return status is the\n",
       "              exit status of list.\n",
       "\n",
       "       { list; }\n",
       "              list is simply executed in the current shell environment.   list\n",
       "              must  be  terminated with a newline or semicolon.  This is known\n",
       "              as a group command.  The return status is  the  exit  status  of\n",
       "              list.   Note that unlike the metacharacters ( and ), { and } are\n",
       "              reserved words and must occur where a reserved word is permitted\n",
       "              to  be  recognized.   Since they do not cause a word break, they\n",
       "              must be separated from  list  by  whitespace  or  another  shell\n",
       "              metacharacter.\n",
       "\n",
       "       ((expression))\n",
       "              The  expression  is  evaluated  according to the rules described\n",
       "              below under ARITHMETIC EVALUATION.  If the value of the  expres‐\n",
       "              sion  is  non-zero, the return status is 0; otherwise the return\n",
       "              status is 1.  This is exactly equivalent to let &#34;expression&#34;.\n",
       "\n",
       "       [[ expression ]]\n",
       "              Return a status of 0 or 1 depending on  the  evaluation  of  the\n",
       "              conditional  expression expression.  Expressions are composed of\n",
       "              the primaries described  below  under  CONDITIONAL  EXPRESSIONS.\n",
       "              Word  splitting  and pathname expansion are not performed on the\n",
       "              words between the [[ and  ]];  tilde  expansion,  parameter  and\n",
       "              variable  expansion, arithmetic expansion, command substitution,\n",
       "              process substitution, and quote removal are  performed.   Condi‐\n",
       "              tional operators such as -f must be unquoted to be recognized as\n",
       "              primaries.\n",
       "\n",
       "              When used with [[, the &lt; and &gt; operators sort  lexicographically\n",
       "              using the current locale.\n",
       "\n",
       "       See  the description of the test builtin command (section SHELL BUILTIN\n",
       "       COMMANDS below) for the handling of parameters (i.e.   missing  parame‐\n",
       "       ters).\n",
       "\n",
       "       When  the  == and != operators are used, the string to the right of the\n",
       "       operator is considered a pattern and matched  according  to  the  rules\n",
       "       described  below under Pattern Matching, as if the extglob shell option\n",
       "       were enabled.  The = operator is equivalent to ==.  If the shell option\n",
       "       nocasematch  is  enabled,  the match is performed without regard to the\n",
       "       case of alphabetic characters.  The return value is  0  if  the  string\n",
       "       matches  (==) or does not match (!=) the pattern, and 1 otherwise.  Any\n",
       "       part of the pattern may be quoted to force the  quoted  portion  to  be\n",
       "       matched as a string.\n",
       "\n",
       "       An  additional  binary operator, =~, is available, with the same prece‐\n",
       "       dence as == and !=.  When it is used, the string to the  right  of  the\n",
       "       operator  is  considered  an  extended  regular  expression and matched\n",
       "       accordingly (as in regex(3)).  The return value  is  0  if  the  string\n",
       "       matches  the  pattern,  and  1 otherwise.  If the regular expression is\n",
       "       syntactically incorrect, the conditional expression&#39;s return  value  is\n",
       "       2.   If the shell option nocasematch is enabled, the match is performed\n",
       "       without regard to the case of alphabetic characters.  Any part  of  the\n",
       "       pattern  may  be  quoted to force the quoted portion to be matched as a\n",
       "       string.  Bracket expressions in regular  expressions  must  be  treated\n",
       "       carefully,  since normal quoting characters lose their meanings between\n",
       "       brackets.  If the pattern is stored in a shell  variable,  quoting  the\n",
       "       variable expansion forces the entire pattern to be matched as a string.\n",
       "       Substrings matched by parenthesized subexpressions within  the  regular\n",
       "       expression  are  saved in the array variable BASH_REMATCH.  The element\n",
       "       of BASH_REMATCH with index 0 is the portion of the string matching  the\n",
       "       entire regular expression.  The element of BASH_REMATCH with index n is\n",
       "       the portion of the string matching the nth parenthesized subexpression.\n",
       "\n",
       "       Expressions may be combined using the following  operators,  listed  in\n",
       "       decreasing order of precedence:\n",
       "\n",
       "              ( expression )\n",
       "                     Returns  the  value  of  expression.  This may be used to\n",
       "                     override the normal precedence of operators.\n",
       "              ! expression\n",
       "                     True if expression is false.\n",
       "              expression1 &amp;&amp; expression2\n",
       "                     True if both expression1 and expression2 are true.\n",
       "              expression1 || expression2\n",
       "                     True if either expression1 or expression2 is true.\n",
       "\n",
       "              The &amp;&amp; and || operators do not evaluate expression2 if the value\n",
       "              of  expression1  is  sufficient to determine the return value of\n",
       "              the entire conditional expression.\n",
       "\n",
       "       for name [ [ in [ word ... ] ] ; ] do list ; done\n",
       "              The list of words following in is expanded, generating a list of\n",
       "              items.  The variable name is set to each element of this list in\n",
       "              turn, and list is executed each time.  If the in word  is  omit‐\n",
       "              ted,  the  for  command  executes  list once for each positional\n",
       "              parameter that is set (see PARAMETERS below).  The return status\n",
       "              is  the  exit  status of the last command that executes.  If the\n",
       "              expansion of the items following in results in an empty list, no\n",
       "              commands are executed, and the return status is 0.\n",
       "\n",
       "       for (( expr1 ; expr2 ; expr3 )) ; do list ; done\n",
       "              First, the arithmetic expression expr1 is evaluated according to\n",
       "              the rules described  below  under  ARITHMETIC  EVALUATION.   The\n",
       "              arithmetic  expression  expr2 is then evaluated repeatedly until\n",
       "              it evaluates to zero.  Each time expr2 evaluates to  a  non-zero\n",
       "              value,  list  is executed and the arithmetic expression expr3 is\n",
       "              evaluated.  If any expression is omitted, it behaves  as  if  it\n",
       "              evaluates to 1.  The return value is the exit status of the last\n",
       "              command in list that is executed, or false if any of the expres‐\n",
       "              sions is invalid.\n",
       "\n",
       "       select name [ in word ] ; do list ; done\n",
       "              The list of words following in is expanded, generating a list of\n",
       "              items.  The set of expanded words is  printed  on  the  standard\n",
       "              error,  each  preceded  by a number.  If the in word is omitted,\n",
       "              the positional parameters are printed  (see  PARAMETERS  below).\n",
       "              The  PS3 prompt is then displayed and a line read from the stan‐\n",
       "              dard input.  If the line consists of a number  corresponding  to\n",
       "              one  of  the  displayed  words, then the value of name is set to\n",
       "              that word.  If the line is empty, the words and prompt are  dis‐\n",
       "              played again.  If EOF is read, the command completes.  Any other\n",
       "              value read causes name to be set to  null.   The  line  read  is\n",
       "              saved  in  the  variable REPLY.  The list is executed after each\n",
       "              selection until a break command is executed.  The exit status of\n",
       "              select  is the exit status of the last command executed in list,\n",
       "              or zero if no commands were executed.\n",
       "\n",
       "       case word in [ [(] pattern [ | pattern ] ... ) list ;; ] ... esac\n",
       "              A case command first expands word, and tries to match it against\n",
       "\n",
       "*** WARNING: skipped 289459 bytes of output ***\n",
       "\n",
       "                      opportunity to re-edit a failed history substitution.\n",
       "              histverify\n",
       "                      If set, and readline is being used, the results of  his‐\n",
       "                      tory  substitution  are  not  immediately  passed to the\n",
       "                      shell parser.  Instead, the  resulting  line  is  loaded\n",
       "                      into the readline editing buffer, allowing further modi‐\n",
       "                      fication.\n",
       "              hostcomplete\n",
       "                      If set, and readline is being used, bash will attempt to\n",
       "                      perform  hostname  completion when a word containing a @\n",
       "                      is  being  completed  (see  Completing  under   READLINE\n",
       "                      above).  This is enabled by default.\n",
       "              huponexit\n",
       "                      If set, bash will send SIGHUP to all jobs when an inter‐\n",
       "                      active login shell exits.\n",
       "              interactive_comments\n",
       "                      If set, allow a word beginning with # to cause that word\n",
       "                      and  all remaining characters on that line to be ignored\n",
       "                      in an interactive  shell  (see  COMMENTS  above).   This\n",
       "                      option is enabled by default.\n",
       "              lastpipe\n",
       "                      If  set,  and  job control is not active, the shell runs\n",
       "                      the last command of a pipeline not executed in the back‐\n",
       "                      ground in the current shell environment.\n",
       "              lithist If  set,  and  the cmdhist option is enabled, multi-line\n",
       "                      commands are saved to the history with embedded newlines\n",
       "                      rather than using semicolon separators where possible.\n",
       "              login_shell\n",
       "                      The  shell  sets this option if it is started as a login\n",
       "                      shell (see INVOCATION above).   The  value  may  not  be\n",
       "                      changed.\n",
       "              mailwarn\n",
       "                      If  set,  and  a file that bash is checking for mail has\n",
       "                      been accessed since the last time it  was  checked,  the\n",
       "                      message  ``The  mail in mailfile has been read&#39;&#39; is dis‐\n",
       "                      played.\n",
       "              no_empty_cmd_completion\n",
       "                      If set, and  readline  is  being  used,  bash  will  not\n",
       "                      attempt to search the PATH for possible completions when\n",
       "                      completion is attempted on an empty line.\n",
       "              nocaseglob\n",
       "                      If set, bash matches  filenames  in  a  case-insensitive\n",
       "                      fashion when performing pathname expansion (see Pathname\n",
       "                      Expansion above).\n",
       "              nocasematch\n",
       "                      If set, bash  matches  patterns  in  a  case-insensitive\n",
       "                      fashion when performing matching while executing case or\n",
       "                      [[ conditional commands.\n",
       "              nullglob\n",
       "                      If set, bash allows patterns which match no  files  (see\n",
       "                      Pathname  Expansion  above)  to expand to a null string,\n",
       "                      rather than themselves.\n",
       "              progcomp\n",
       "                      If set, the programmable completion facilities (see Pro‐\n",
       "                      grammable Completion above) are enabled.  This option is\n",
       "                      enabled by default.\n",
       "              promptvars\n",
       "                      If set, prompt strings undergo parameter expansion, com‐\n",
       "                      mand   substitution,  arithmetic  expansion,  and  quote\n",
       "                      removal after being expanded as described  in  PROMPTING\n",
       "                      above.  This option is enabled by default.\n",
       "              restricted_shell\n",
       "                      The   shell  sets  this  option  if  it  is  started  in\n",
       "                      restricted mode (see RESTRICTED SHELL below).  The value\n",
       "                      may  not be changed.  This is not reset when the startup\n",
       "                      files are executed, allowing the startup files  to  dis‐\n",
       "                      cover whether or not a shell is restricted.\n",
       "              shift_verbose\n",
       "                      If  set,  the shift builtin prints an error message when\n",
       "                      the shift count exceeds the number of positional parame‐\n",
       "                      ters.\n",
       "              sourcepath\n",
       "                      If set, the source (.) builtin uses the value of PATH to\n",
       "                      find the directory containing the file  supplied  as  an\n",
       "                      argument.  This option is enabled by default.\n",
       "              xpg_echo\n",
       "                      If   set,  the  echo  builtin  expands  backslash-escape\n",
       "                      sequences by default.\n",
       "\n",
       "       suspend [-f]\n",
       "              Suspend the execution of this shell until it receives a  SIGCONT\n",
       "              signal.  A login shell cannot be suspended; the -f option can be\n",
       "              used to override this and force the suspension.  The return sta‐\n",
       "              tus  is  0  unless the shell is a login shell and -f is not sup‐\n",
       "              plied, or if job control is not enabled.\n",
       "\n",
       "       test expr\n",
       "       [ expr ]\n",
       "              Return a status of 0 (true) or 1 (false) depending on the evalu‐\n",
       "              ation of the conditional expression expr.  Each operator and op‐\n",
       "              erand must be a separate argument.  Expressions are composed  of\n",
       "              the  primaries  described  above  under CONDITIONAL EXPRESSIONS.\n",
       "              test does not accept any options, nor does it accept and  ignore\n",
       "              an argument of -- as signifying the end of options.\n",
       "\n",
       "              Expressions  may  be  combined  using  the  following operators,\n",
       "              listed  in  decreasing  order  of  precedence.   The  evaluation\n",
       "              depends  on the number of arguments; see below.  Operator prece‐\n",
       "              dence is used when there are five or more arguments.\n",
       "              ! expr True if expr is false.\n",
       "              ( expr )\n",
       "                     Returns the value of expr.  This may be used to  override\n",
       "                     the normal precedence of operators.\n",
       "              expr1 -a expr2\n",
       "                     True if both expr1 and expr2 are true.\n",
       "              expr1 -o expr2\n",
       "                     True if either expr1 or expr2 is true.\n",
       "\n",
       "              test and [ evaluate conditional expressions using a set of rules\n",
       "              based on the number of arguments.\n",
       "\n",
       "              0 arguments\n",
       "                     The expression is false.\n",
       "              1 argument\n",
       "                     The expression is true if and only if the argument is not\n",
       "                     null.\n",
       "              2 arguments\n",
       "                     If the first argument is !, the expression is true if and\n",
       "                     only if the second argument is null.  If the first  argu‐\n",
       "                     ment  is  one  of  the unary conditional operators listed\n",
       "                     above under CONDITIONAL EXPRESSIONS,  the  expression  is\n",
       "                     true if the unary test is true.  If the first argument is\n",
       "                     not a valid unary conditional operator, the expression is\n",
       "                     false.\n",
       "              3 arguments\n",
       "                     The following conditions are applied in the order listed.\n",
       "                     If the second argument is one of the  binary  conditional\n",
       "                     operators listed above under CONDITIONAL EXPRESSIONS, the\n",
       "                     result of the expression is the result of the binary test\n",
       "                     using  the first and third arguments as operands.  The -a\n",
       "                     and -o operators are  considered  binary  operators  when\n",
       "                     there  are  three arguments.  If the first argument is !,\n",
       "                     the value is the negation of the two-argument test  using\n",
       "                     the second and third arguments.  If the first argument is\n",
       "                     exactly ( and the third argument is exactly ), the result\n",
       "                     is  the one-argument test of the second argument.  Other‐\n",
       "                     wise, the expression is false.\n",
       "              4 arguments\n",
       "                     If the first argument is !, the result is the negation of\n",
       "                     the  three-argument  expression composed of the remaining\n",
       "                     arguments.  Otherwise, the expression is parsed and eval‐\n",
       "                     uated  according  to  precedence  using  the rules listed\n",
       "                     above.\n",
       "              5 or more arguments\n",
       "                     The expression  is  parsed  and  evaluated  according  to\n",
       "                     precedence using the rules listed above.\n",
       "\n",
       "              When  used  with  test  or [, the &lt; and &gt; operators sort lexico‐\n",
       "              graphically using ASCII ordering.\n",
       "\n",
       "       times  Print the accumulated user and system times for  the  shell  and\n",
       "              for processes run from the shell.  The return status is 0.\n",
       "\n",
       "       trap [-lp] [[arg] sigspec ...]\n",
       "              The  command  arg  is  to  be  read  and executed when the shell\n",
       "              receives signal(s) sigspec.  If arg is absent (and  there  is  a\n",
       "              single  sigspec)  or  -,  each  specified signal is reset to its\n",
       "              original disposition (the value it  had  upon  entrance  to  the\n",
       "              shell).   If arg is the null string the signal specified by each\n",
       "              sigspec is ignored by the shell and by the commands it  invokes.\n",
       "              If  arg  is  not present and -p has been supplied, then the trap\n",
       "              commands associated with each  sigspec  are  displayed.   If  no\n",
       "              arguments  are  supplied or if only -p is given, trap prints the\n",
       "              list of commands associated with each  signal.   The  -l  option\n",
       "              causes  the shell to print a list of signal names and their cor‐\n",
       "              responding numbers.   Each  sigspec  is  either  a  signal  name\n",
       "              defined  in  &lt;signal.h&gt;,  or  a signal number.  Signal names are\n",
       "              case insensitive and the SIG prefix is optional.\n",
       "\n",
       "              If a sigspec is EXIT (0) the command arg  is  executed  on  exit\n",
       "              from  the shell.  If a sigspec is DEBUG, the command arg is exe‐\n",
       "              cuted before every simple command, for  command,  case  command,\n",
       "              select  command,  every  arithmetic  for command, and before the\n",
       "              first command executes in a shell function  (see  SHELL  GRAMMAR\n",
       "              above).   Refer to the description of the extdebug option to the\n",
       "              shopt builtin for details of its effect on the DEBUG trap.  If a\n",
       "              sigspec is RETURN, the command arg is executed each time a shell\n",
       "              function or a script executed with the . or source builtins fin‐\n",
       "              ishes executing.\n",
       "\n",
       "              If  a  sigspec  is ERR, the command arg is executed whenever a a\n",
       "              pipeline (which may consist of a single simple command), a list,\n",
       "              or a compound command returns a non-zero exit status, subject to\n",
       "              the following conditions.  The ERR trap is not executed  if  the\n",
       "              failed command is part of the command list immediately following\n",
       "              a while or until keyword, part of the test in an  if  statement,\n",
       "              part of a command executed in a &amp;&amp; or || list except the command\n",
       "              following the final &amp;&amp; or ||, any command in a pipeline but  the\n",
       "              last,  or  if the command&#39;s return value is being inverted using\n",
       "              !.  These are the same conditions obeyed  by  the  errexit  (-e)\n",
       "              option.\n",
       "\n",
       "              Signals  ignored  upon  entry  to the shell cannot be trapped or\n",
       "              reset.  Trapped signals that are not being ignored are reset  to\n",
       "              their original values in a subshell or subshell environment when\n",
       "              one is created.  The return status is false if  any  sigspec  is\n",
       "              invalid; otherwise trap returns true.\n",
       "\n",
       "       type [-aftpP] name [name ...]\n",
       "              With  no options, indicate how each name would be interpreted if\n",
       "              used as a command name.  If the -t option is used, type prints a\n",
       "              string  which  is  one  of alias, keyword, function, builtin, or\n",
       "              file if  name  is  an  alias,  shell  reserved  word,  function,\n",
       "              builtin,  or disk file, respectively.  If the name is not found,\n",
       "              then nothing  is  printed,  and  an  exit  status  of  false  is\n",
       "              returned.   If  the  -p  option is used, type either returns the\n",
       "              name of the disk file that would be executed if name were speci‐\n",
       "              fied as a command name, or nothing if ``type -t name&#39;&#39; would not\n",
       "              return file.  The -P option forces a PATH search for each  name,\n",
       "              even if ``type -t name&#39;&#39; would not return file.  If a command is\n",
       "              hashed, -p and -P print the hashed value, which is not necessar‐\n",
       "              ily  the  file  that appears first in PATH.  If the -a option is\n",
       "              used, type prints all of the places that contain  an  executable\n",
       "              named name.  This includes aliases and functions, if and only if\n",
       "              the -p option is not also used.  The table of hashed commands is\n",
       "              not  consulted  when  using  -a.  The -f option suppresses shell\n",
       "              function lookup, as with the command builtin.  type returns true\n",
       "              if all of the arguments are found, false if any are not found.\n",
       "\n",
       "       ulimit [-HSTabcdefilmnpqrstuvx [limit]]\n",
       "              Provides  control  over the resources available to the shell and\n",
       "              to processes started by it, on systems that allow such  control.\n",
       "              The -H and -S options specify that the hard or soft limit is set\n",
       "              for the given resource.  A hard limit cannot be increased  by  a\n",
       "              non-root  user  once it is set; a soft limit may be increased up\n",
       "              to the value of the hard limit.  If neither -H nor -S is  speci‐\n",
       "              fied, both the soft and hard limits are set.  The value of limit\n",
       "              can be a number in the unit specified for the resource or one of\n",
       "              the special values hard, soft, or unlimited, which stand for the\n",
       "              current hard limit,  the  current  soft  limit,  and  no  limit,\n",
       "              respectively.   If  limit  is  omitted, the current value of the\n",
       "              soft limit of the resource is printed, unless the -H  option  is\n",
       "              given.  When more than one resource is specified, the limit name\n",
       "              and unit are printed before the value.  Other options are inter‐\n",
       "              preted as follows:\n",
       "              -a     All current limits are reported\n",
       "              -b     The maximum socket buffer size\n",
       "              -c     The maximum size of core files created\n",
       "              -d     The maximum size of a process&#39;s data segment\n",
       "              -e     The maximum scheduling priority (&#34;nice&#34;)\n",
       "              -f     The  maximum  size  of files written by the shell and its\n",
       "                     children\n",
       "              -i     The maximum number of pending signals\n",
       "              -l     The maximum size that may be locked into memory\n",
       "              -m     The maximum resident set size (many systems do not  honor\n",
       "                     this limit)\n",
       "              -n     The maximum number of open file descriptors (most systems\n",
       "                     do not allow this value to be set)\n",
       "              -p     The pipe size in 512-byte blocks (this may not be set)\n",
       "              -q     The maximum number of bytes in POSIX message queues\n",
       "              -r     The maximum real-time scheduling priority\n",
       "              -s     The maximum stack size\n",
       "              -t     The maximum amount of cpu time in seconds\n",
       "              -u     The maximum number of processes  available  to  a  single\n",
       "                     user\n",
       "              -v     The  maximum  amount  of  virtual memory available to the\n",
       "                     shell and, on some systems, to its children\n",
       "              -x     The maximum number of file locks\n",
       "              -T     The maximum number of threads\n",
       "\n",
       "              If limit is given, and the -a option is not used, limit  is  the\n",
       "              new  value  of  the  specified resource.  If no option is given,\n",
       "              then -f is assumed.  Values are in 1024-byte increments,  except\n",
       "              for  -t,  which is in seconds; -p, which is in units of 512-byte\n",
       "              blocks; and -T, -b, -n, and -u, which are unscaled values.   The\n",
       "              return  status is 0 unless an invalid option or argument is sup‐\n",
       "              plied, or an error occurs while setting a new limit.\n",
       "\n",
       "       umask [-p] [-S] [mode]\n",
       "              The user file-creation mask is set to mode.  If mode begins with\n",
       "              a  digit,  it is interpreted as an octal number; otherwise it is\n",
       "              interpreted as a symbolic mode mask similar to that accepted  by\n",
       "              chmod(1).   If mode is omitted, the current value of the mask is\n",
       "              printed.  The -S option causes the mask to be  printed  in  sym‐\n",
       "              bolic  form;  the  default output is an octal number.  If the -p\n",
       "              option is supplied, and mode is omitted, the output is in a form\n",
       "              that may be reused as input.  The return status is 0 if the mode\n",
       "              was successfully changed or if no mode  argument  was  supplied,\n",
       "              and false otherwise.\n",
       "\n",
       "       unalias [-a] [name ...]\n",
       "              Remove  each  name  from  the list of defined aliases.  If -a is\n",
       "              supplied, all alias definitions are removed.  The  return  value\n",
       "              is true unless a supplied name is not a defined alias.\n",
       "\n",
       "       unset [-fv] [-n] [name ...]\n",
       "              For  each  name,  remove the corresponding variable or function.\n",
       "              If the -v option is given, each name refers to a shell variable,\n",
       "              and  that  variable  is removed.  Read-only variables may not be\n",
       "              unset.  If -f is specified, each name refers to  a  shell  func‐\n",
       "              tion,  and the function definition is removed.  If the -n option\n",
       "              is supplied, and name is a variable with the nameref  attribute,\n",
       "              name  will  be unset rather than the variable it references.  -n\n",
       "              has no effect if the -f option is supplied.  If no  options  are\n",
       "              supplied,  each  name refers to a variable; if there is no vari‐\n",
       "              able by that name, any function with that name is  unset.   Each\n",
       "              unset  variable  or  function  is  removed  from the environment\n",
       "              passed to subsequent commands.  If any of COMP_WORDBREAKS,  RAN‐\n",
       "              DOM, SECONDS, LINENO, HISTCMD, FUNCNAME, GROUPS, or DIRSTACK are\n",
       "              unset, they lose their special properties, even if they are sub‐\n",
       "              sequently reset.  The exit status is true unless a name is read‐\n",
       "              only.\n",
       "\n",
       "       wait [-n] [n ...]\n",
       "              Wait for each specified child process and return its termination\n",
       "              status.  Each n may be a process ID or a job specification; if a\n",
       "              job spec is given, all processes  in  that  job&#39;s  pipeline  are\n",
       "              waited  for.  If n is not given, all currently active child pro‐\n",
       "              cesses are waited for, and the return status is zero.  If the -n\n",
       "              option  is  supplied,  wait  waits  for any job to terminate and\n",
       "              returns its exit status.  If n specifies a non-existent  process\n",
       "              or  job, the return status is 127.  Otherwise, the return status\n",
       "              is the exit status of the last process or job waited for.\n",
       "\n",
       "RESTRICTED SHELL\n",
       "       If bash is started with the name rbash, or the -r option is supplied at\n",
       "       invocation,  the  shell becomes restricted.  A restricted shell is used\n",
       "       to set up an environment more controlled than the standard  shell.   It\n",
       "       behaves  identically  to bash with the exception that the following are\n",
       "       disallowed or not performed:\n",
       "\n",
       "       ·      changing directories with cd\n",
       "\n",
       "       ·      setting or unsetting the values of SHELL, PATH, ENV, or BASH_ENV\n",
       "\n",
       "       ·      specifying command names containing /\n",
       "\n",
       "       ·      specifying a filename containing a / as an  argument  to  the  .\n",
       "              builtin command\n",
       "\n",
       "       ·      specifying  a  filename containing a slash as an argument to the\n",
       "              -p option to the hash builtin command\n",
       "\n",
       "       ·      importing function definitions from  the  shell  environment  at\n",
       "              startup\n",
       "\n",
       "       ·      parsing  the  value  of  SHELLOPTS from the shell environment at\n",
       "              startup\n",
       "\n",
       "       ·      redirecting output using the &gt;, &gt;|, &lt;&gt;, &gt;&amp;, &amp;&gt;, and &gt;&gt; redirect‐\n",
       "              ion operators\n",
       "\n",
       "       ·      using the exec builtin command to replace the shell with another\n",
       "              command\n",
       "\n",
       "       ·      adding or deleting builtin commands with the -f and  -d  options\n",
       "              to the enable builtin command\n",
       "\n",
       "       ·      using  the  enable  builtin  command  to  enable  disabled shell\n",
       "              builtins\n",
       "\n",
       "       ·      specifying the -p option to the command builtin command\n",
       "\n",
       "       ·      turning off restricted mode with set +r or set +o restricted.\n",
       "\n",
       "       These restrictions are enforced after any startup files are read.\n",
       "\n",
       "       When a command that is found to be a shell script is executed (see COM‐\n",
       "       MAND  EXECUTION  above),  rbash turns off any restrictions in the shell\n",
       "       spawned to execute the script.\n",
       "\n",
       "SEE ALSO\n",
       "       Bash Reference Manual, Brian Fox and Chet Ramey\n",
       "       The Gnu Readline Library, Brian Fox and Chet Ramey\n",
       "       The Gnu History Library, Brian Fox and Chet Ramey\n",
       "       Portable Operating System Interface (POSIX) Part 2:  Shell  and  Utili‐\n",
       "       ties, IEEE --\n",
       "              http://pubs.opengroup.org/onlinepubs/9699919799/\n",
       "       http://tiswww.case.edu/~chet/bash/POSIX -- a description of posix mode\n",
       "       sh(1), ksh(1), csh(1)\n",
       "       emacs(1), vi(1)\n",
       "       readline(3)\n",
       "\n",
       "FILES\n",
       "       /bin/bash\n",
       "              The bash executable\n",
       "       /etc/profile\n",
       "              The systemwide initialization file, executed for login shells\n",
       "       /etc/bash.bashrc\n",
       "              The systemwide per-interactive-shell startup file\n",
       "       /etc/bash.bash.logout\n",
       "              The  systemwide  login shell cleanup file, executed when a login\n",
       "              shell exits\n",
       "       ~/.bash_profile\n",
       "              The personal initialization file, executed for login shells\n",
       "       ~/.bashrc\n",
       "              The individual per-interactive-shell startup file\n",
       "       ~/.bash_logout\n",
       "              The individual login shell cleanup file, executed when  a  login\n",
       "              shell exits\n",
       "       ~/.inputrc\n",
       "              Individual readline initialization file\n",
       "\n",
       "AUTHORS\n",
       "       Brian Fox, Free Software Foundation\n",
       "       bfox@gnu.org\n",
       "\n",
       "       Chet Ramey, Case Western Reserve University\n",
       "       chet.ramey@case.edu\n",
       "\n",
       "BUG REPORTS\n",
       "       If you find a bug in bash, you should report it.  But first, you should\n",
       "       make sure that it really is a bug, and that it appears  in  the  latest\n",
       "       version   of  bash.   The  latest  version  is  always  available  from\n",
       "       ftp://ftp.gnu.org/pub/gnu/bash/.\n",
       "\n",
       "       Once you have determined that a bug actually exists,  use  the  bashbug\n",
       "       command  to submit a bug report.  If you have a fix, you are encouraged\n",
       "       to mail that as well!  Suggestions and `philosophical&#39; bug reports  may\n",
       "       be  mailed  to  bug-bash@gnu.org  or  posted  to  the  Usenet newsgroup\n",
       "       gnu.bash.bug.\n",
       "\n",
       "       ALL bug reports should include:\n",
       "\n",
       "       The version number of bash\n",
       "       The hardware and operating system\n",
       "       The compiler used to compile\n",
       "       A description of the bug behaviour\n",
       "       A short script or `recipe&#39; which exercises the bug\n",
       "\n",
       "       bashbug inserts the first three items automatically into  the  template\n",
       "       it provides for filing a bug report.\n",
       "\n",
       "       Comments and bug reports concerning this manual page should be directed\n",
       "       to chet.ramey@case.edu.\n",
       "\n",
       "BUGS\n",
       "       It&#39;s too big and too slow.\n",
       "\n",
       "       There are some subtle differences between bash and traditional versions\n",
       "       of sh, mostly because of the POSIX specification.\n",
       "\n",
       "       Aliases are confusing in some uses.\n",
       "\n",
       "       Shell builtin commands and functions are not stoppable/restartable.\n",
       "\n",
       "       Compound commands and command sequences of the form `a ; b ; c&#39; are not\n",
       "       handled gracefully  when  process  suspension  is  attempted.   When  a\n",
       "       process  is stopped, the shell immediately executes the next command in\n",
       "       the sequence.  It suffices to place the sequence  of  commands  between\n",
       "       parentheses  to  force  it  into  a subshell, which may be stopped as a\n",
       "       unit.\n",
       "\n",
       "       Array variables may not (yet) be exported.\n",
       "\n",
       "       There may be only one active coprocess at a time.\n",
       "\n",
       "GNU Bash 4.3                    2014 February 2                        BASH(1)\n",
       "</div>"
      ]
     },
     "metadata": {
      "application/vnd.databricks.v1+output": {
       "addedWidgets": {},
       "arguments": {},
       "data": "<div class=\"ansiout\">BASH(1)                     General Commands Manual                    BASH(1)\n\nNAME\n       bash - GNU Bourne-Again SHell\n\nSYNOPSIS\n       bash [options] [command_string | file]\n\nCOPYRIGHT\n       Bash is Copyright (C) 1989-2013 by the Free Software Foundation, Inc.\n\nDESCRIPTION\n       Bash  is  an  sh-compatible  command language interpreter that executes\n       commands read from the standard input or from a file.  Bash also incor‐\n       porates useful features from the Korn and C shells (ksh and csh).\n\n       Bash  is  intended  to  be a conformant implementation of the Shell and\n       Utilities portion  of  the  IEEE  POSIX  specification  (IEEE  Standard\n       1003.1).  Bash can be configured to be POSIX-conformant by default.\n\nOPTIONS\n       All  of  the  single-character shell options documented in the descrip‐\n       tion of the set builtin command can be used as options when  the  shell\n       is invoked.  In addition, bash interprets the following options when it\n       is invoked:\n\n       -c        If the -c option is present, then commands are read from  the\n                 first non-option argument command_string.  If there are argu‐\n                 ments after the command_string,  they  are  assigned  to  the\n                 positional parameters, starting with $0.\n       -i        If the -i option is present, the shell is interactive.\n       -l        Make bash act as if it had been invoked as a login shell (see\n                 INVOCATION below).\n       -r        If the -r option is present,  the  shell  becomes  restricted\n                 (see RESTRICTED SHELL below).\n       -s        If  the -s option is present, or if no arguments remain after\n                 option processing, then commands are read from  the  standard\n                 input.   This  option  allows the positional parameters to be\n                 set when invoking an interactive shell.\n       -D        A list of all double-quoted strings preceded by $ is  printed\n                 on  the standard output.  These are the strings that are sub‐\n                 ject to language translation when the current locale is not C\n                 or  POSIX.   This  implies the -n option; no commands will be\n                 executed.\n       [-+]O [shopt_option]\n                 shopt_option is one of the  shell  options  accepted  by  the\n                 shopt   builtin  (see  SHELL  BUILTIN  COMMANDS  below).   If\n                 shopt_option is present, -O sets the value of that option; +O\n                 unsets  it.   If  shopt_option is not supplied, the names and\n                 values of the shell options accepted by shopt are printed  on\n                 the  standard  output.   If  the invocation option is +O, the\n                 output is displayed in a format that may be reused as input.\n       --        A -- signals the end of options and disables  further  option\n                 processing.   Any arguments after the -- are treated as file‐\n                 names and arguments.  An argument of - is equivalent to --.\n\n       Bash also  interprets  a  number  of  multi-character  options.   These\n       options  must  appear  on  the command line before the single-character\n       options to be recognized.\n\n       --debugger\n              Arrange for the debugger profile to be executed before the shell\n              starts.   Turns  on extended debugging mode (see the description\n              of the extdebug option to the shopt builtin below).\n       --dump-po-strings\n              Equivalent to -D, but the output is in the GNU gettext po  (por‐\n              table object) file format.\n       --dump-strings\n              Equivalent to -D.\n       --help Display  a  usage  message  on standard output and exit success‐\n              fully.\n       --init-file file\n       --rcfile file\n              Execute commands from file instead of the system  wide  initial‐\n              ization file /etc/bash.bashrc and the standard personal initial‐\n              ization file ~/.bashrc if the shell is interactive (see  INVOCA‐\n              TION below).\n\n       --login\n              Equivalent to -l.\n\n       --noediting\n              Do  not  use the GNU readline library to read command lines when\n              the shell is interactive.\n\n       --noprofile\n              Do not read either the system-wide startup file /etc/profile  or\n              any   of  the  personal  initialization  files  ~/.bash_profile,\n              ~/.bash_login, or ~/.profile.   By  default,  bash  reads  these\n              files  when  it  is  invoked  as  a  login shell (see INVOCATION\n              below).\n\n       --norc Do not read and execute  the  system  wide  initialization  file\n              /etc/bash.bashrc  and the personal initialization file ~/.bashrc\n              if the shell is interactive.  This option is on  by  default  if\n              the shell is invoked as sh.\n\n       --posix\n              Change  the behavior of bash where the default operation differs\n              from the POSIX standard to match the standard (posix mode).  See\n              SEE  ALSO  below  for a reference to a document that details how\n              posix mode affects bash&#39;s behavior.\n\n       --restricted\n              The shell becomes restricted (see RESTRICTED SHELL below).\n\n       --verbose\n              Equivalent to  -v.\n\n       --version\n              Show version information for this instance of bash on the  stan‐\n              dard output and exit successfully.\n\nARGUMENTS\n       If arguments remain after option processing, and neither the -c nor the\n       -s option has been supplied, the first argument is assumed  to  be  the\n       name  of  a file containing shell commands.  If bash is invoked in this\n       fashion, $0 is set to the name of the file, and the positional  parame‐\n       ters  are set to the remaining arguments.  Bash reads and executes com‐\n       mands from this file, then exits.  Bash&#39;s exit status is the exit  sta‐\n       tus  of  the  last  command executed in the script.  If no commands are\n       executed, the exit status is 0.  An attempt is first made to  open  the\n       file in the current directory, and, if no file is found, then the shell\n       searches the directories in PATH for the script.\n\nINVOCATION\n       A login shell is one whose first character of argument zero is a -,  or\n       one started with the --login option.\n\n       An  interactive  shell  is one started without non-option arguments and\n       without the -c option whose standard input and error are both connected\n       to  terminals  (as determined by isatty(3)), or one started with the -i\n       option.  PS1 is set and $- includes i if bash is interactive,  allowing\n       a shell script or a startup file to test this state.\n\n       The  following paragraphs describe how bash executes its startup files.\n       If any of the files exist but cannot be read, bash  reports  an  error.\n       Tildes  are expanded in filenames as described below under Tilde Expan‐\n       sion in the EXPANSION section.\n\n       When bash is invoked as an interactive login shell, or as a  non-inter‐\n       active  shell with the --login option, it first reads and executes com‐\n       mands from the file /etc/profile, if that file exists.   After  reading\n       that file, it looks for ~/.bash_profile, ~/.bash_login, and ~/.profile,\n       in that order, and reads and executes commands from the first one  that\n       exists  and  is  readable.  The --noprofile option may be used when the\n       shell is started to inhibit this behavior.\n\n       When a login shell exits, bash reads and  executes  commands  from  the\n       file ~/.bash_logout, if it exists.\n\n       When  an  interactive  shell that is not a login shell is started, bash\n       reads and executes commands from  /etc/bash.bashrc  and  ~/.bashrc,  if\n       these  files  exist.  This may be inhibited by using the --norc option.\n       The --rcfile file option will force bash to read and  execute  commands\n       from file instead of /etc/bash.bashrc and ~/.bashrc.\n\n       When  bash  is  started  non-interactively,  to run a shell script, for\n       example, it looks for the variable BASH_ENV in the environment, expands\n       its  value if it appears there, and uses the expanded value as the name\n       of a file to read and execute.  Bash behaves as if the  following  com‐\n       mand were executed:\n              if [ -n &#34;$BASH_ENV&#34; ]; then . &#34;$BASH_ENV&#34;; fi\n       but  the value of the PATH variable is not used to search for the file‐\n       name.\n\n       If bash is invoked with the name sh, it  tries  to  mimic  the  startup\n       behavior  of  historical  versions  of sh as closely as possible, while\n       conforming to the POSIX standard as well.  When invoked as an  interac‐\n       tive  login  shell, or a non-interactive shell with the --login option,\n       it first attempts to read and execute commands  from  /etc/profile  and\n       ~/.profile,  in  that  order.   The  --noprofile  option may be used to\n       inhibit this behavior.  When invoked as an interactive shell  with  the\n       name  sh,  bash  looks for the variable ENV, expands its value if it is\n       defined, and uses the expanded value as the name of a file to read  and\n       execute.  Since a shell invoked as sh does not attempt to read and exe‐\n       cute commands from any other startup files, the --rcfile option has  no\n       effect.   A  non-interactive  shell  invoked  with the name sh does not\n       attempt to read any other startup files.   When  invoked  as  sh,  bash\n       enters posix mode after the startup files are read.\n\n       When  bash  is  started in posix mode, as with the --posix command line\n       option, it follows the POSIX standard for startup files.  In this mode,\n       interactive  shells  expand  the ENV variable and commands are read and\n       executed from the file whose name is  the  expanded  value.   No  other\n       startup files are read.\n\n       Bash attempts to determine when it is being run with its standard input\n       connected to a network connection, as when executed by the remote shell\n       daemon,  usually rshd, or the secure shell daemon sshd.  If bash deter‐\n       mines it is being run in this fashion, it reads and  executes  commands\n       from  ~/.bashrc  and  ~/.bashrc, if these files exist and are readable.\n       It will not do this if invoked as sh.  The --norc option may be used to\n       inhibit  this  behavior,  and  the --rcfile option may be used to force\n       another file to be read, but neither rshd nor sshd generally invoke the\n       shell with those options or allow them to be specified.\n\n       If the shell is started with the effective user (group) id not equal to\n       the real user (group) id, and the -p option is not supplied, no startup\n       files are read, shell functions are not inherited from the environment,\n       the SHELLOPTS, BASHOPTS, CDPATH,  and  GLOBIGNORE  variables,  if  they\n       appear  in  the  environment, are ignored, and the effective user id is\n       set to the real user id.  If the -p option is supplied  at  invocation,\n       the  startup  behavior  is  the  same, but the effective user id is not\n       reset.\n\nDEFINITIONS\n       The following definitions are used throughout the rest  of  this  docu‐\n       ment.\n       blank  A space or tab.\n       word   A  sequence  of  characters  considered  as a single unit by the\n              shell.  Also known as a token.\n       name   A word consisting only of  alphanumeric  characters  and  under‐\n              scores,  and beginning with an alphabetic character or an under‐\n              score.  Also referred to as an identifier.\n       metacharacter\n              A character that, when unquoted, separates words.   One  of  the\n              following:\n              |  &amp; ; ( ) &lt; &gt; space tab\n       control operator\n              A token that performs a control function.  It is one of the fol‐\n              lowing symbols:\n              || &amp; &amp;&amp; ; ;; ( ) | |&amp; &lt;newline&gt;\n\nRESERVED WORDS\n       Reserved words are words that have a special meaning to the shell.  The\n       following words are recognized as reserved when unquoted and either the\n       first word of a simple command (see SHELL GRAMMAR below) or  the  third\n       word of a case or for command:\n\n       !  case   coproc   do  done elif else esac fi for function if in select\n       then until while { } time [[ ]]\n\nSHELL GRAMMAR\n   Simple Commands\n       A simple command is a sequence of optional  variable  assignments  fol‐\n       lowed  by  blank-separated  words and redirections, and terminated by a\n       control operator.  The first word specifies the command to be executed,\n       and  is  passed  as  argument  zero.  The remaining words are passed as\n       arguments to the invoked command.\n\n       The return value of a simple command is its exit status,  or  128+n  if\n       the command is terminated by signal n.\n\n   Pipelines\n       A  pipeline  is  a sequence of one or more commands separated by one of\n       the control operators | or |&amp;.  The format for a pipeline is:\n\n              [time [-p]] [ ! ] command [ [|⎪|&amp;] command2 ... ]\n\n       The standard output of command is connected via a pipe to the  standard\n       input  of  command2.   This connection is performed before any redirec‐\n       tions specified by the command (see REDIRECTION below).  If |&amp; is used,\n       command&#39;s  standard  error, in addition to its standard output, is con‐\n       nected to command2&#39;s standard input through the pipe; it  is  shorthand\n       for  2&gt;&amp;1  |.   This  implicit redirection of the standard error to the\n       standard output is performed after any redirections  specified  by  the\n       command.\n\n       The return status of a pipeline is the exit status of the last command,\n       unless the pipefail option is enabled.  If  pipefail  is  enabled,  the\n       pipeline&#39;s  return  status is the value of the last (rightmost) command\n       to exit with a non-zero status, or zero if all commands  exit  success‐\n       fully.  If the reserved word !  precedes a pipeline, the exit status of\n       that pipeline is the logical negation of the exit status  as  described\n       above.   The  shell waits for all commands in the pipeline to terminate\n       before returning a value.\n\n       If the time reserved word precedes a pipeline, the elapsed as  well  as\n       user  and  system  time consumed by its execution are reported when the\n       pipeline terminates.  The -p option changes the output format  to  that\n       specified  by POSIX.  When the shell is in posix mode, it does not rec‐\n       ognize time as a reserved word if the next token  begins  with  a  `-&#39;.\n       The  TIMEFORMAT  variable  may be set to a format string that specifies\n       how the timing information should be displayed; see the description  of\n       TIMEFORMAT under Shell Variables below.\n\n       When the shell is in posix mode, time may be followed by a newline.  In\n       this case, the shell displays the total user and system  time  consumed\n       by  the shell and its children.  The TIMEFORMAT variable may be used to\n       specify the format of the time information.\n\n       Each command in a pipeline is executed as a separate process (i.e.,  in\n       a subshell).\n\n   Lists\n       A  list  is a sequence of one or more pipelines separated by one of the\n       operators ;, &amp;, &amp;&amp;, or ||, and optionally terminated by one of ;, &amp;, or\n       &lt;newline&gt;.\n\n       Of these list operators, &amp;&amp; and || have equal precedence, followed by ;\n       and &amp;, which have equal precedence.\n\n       A sequence of one or more newlines may appear in a list  instead  of  a\n       semicolon to delimit commands.\n\n       If  a  command  is terminated by the control operator &amp;, the shell exe‐\n       cutes the command in the background in a subshell.  The shell does  not\n       wait  for  the command to finish, and the return status is 0.  Commands\n       separated by a ; are executed sequentially; the shell  waits  for  each\n       command  to terminate in turn.  The return status is the exit status of\n       the last command executed.\n\n       AND and OR lists are sequences of one of more  pipelines  separated  by\n       the  &amp;&amp;  and  || control operators, respectively.  AND and OR lists are\n       executed with left associativity.  An AND list has the form\n\n              command1 &amp;&amp; command2\n\n       command2 is executed if, and only if, command1 returns an  exit  status\n       of zero.\n\n       An OR list has the form\n\n              command1 || command2\n\n       command2  is  executed  if and only if command1 returns a non-zero exit\n       status.  The return status of AND and OR lists is the  exit  status  of\n       the last command executed in the list.\n\n   Compound Commands\n       A  compound command is one of the following.  In most cases a list in a\n       command&#39;s description may be separated from the rest of the command  by\n       one  or  more  newlines, and may be followed by a newline in place of a\n       semicolon.\n\n       (list) list is executed in a subshell environment (see  COMMAND  EXECU‐\n              TION  ENVIRONMENT below).  Variable assignments and builtin com‐\n              mands that affect the  shell&#39;s  environment  do  not  remain  in\n              effect  after  the  command completes.  The return status is the\n              exit status of list.\n\n       { list; }\n              list is simply executed in the current shell environment.   list\n              must  be  terminated with a newline or semicolon.  This is known\n              as a group command.  The return status is  the  exit  status  of\n              list.   Note that unlike the metacharacters ( and ), { and } are\n              reserved words and must occur where a reserved word is permitted\n              to  be  recognized.   Since they do not cause a word break, they\n              must be separated from  list  by  whitespace  or  another  shell\n              metacharacter.\n\n       ((expression))\n              The  expression  is  evaluated  according to the rules described\n              below under ARITHMETIC EVALUATION.  If the value of the  expres‐\n              sion  is  non-zero, the return status is 0; otherwise the return\n              status is 1.  This is exactly equivalent to let &#34;expression&#34;.\n\n       [[ expression ]]\n              Return a status of 0 or 1 depending on  the  evaluation  of  the\n              conditional  expression expression.  Expressions are composed of\n              the primaries described  below  under  CONDITIONAL  EXPRESSIONS.\n              Word  splitting  and pathname expansion are not performed on the\n              words between the [[ and  ]];  tilde  expansion,  parameter  and\n              variable  expansion, arithmetic expansion, command substitution,\n              process substitution, and quote removal are  performed.   Condi‐\n              tional operators such as -f must be unquoted to be recognized as\n              primaries.\n\n              When used with [[, the &lt; and &gt; operators sort  lexicographically\n              using the current locale.\n\n       See  the description of the test builtin command (section SHELL BUILTIN\n       COMMANDS below) for the handling of parameters (i.e.   missing  parame‐\n       ters).\n\n       When  the  == and != operators are used, the string to the right of the\n       operator is considered a pattern and matched  according  to  the  rules\n       described  below under Pattern Matching, as if the extglob shell option\n       were enabled.  The = operator is equivalent to ==.  If the shell option\n       nocasematch  is  enabled,  the match is performed without regard to the\n       case of alphabetic characters.  The return value is  0  if  the  string\n       matches  (==) or does not match (!=) the pattern, and 1 otherwise.  Any\n       part of the pattern may be quoted to force the  quoted  portion  to  be\n       matched as a string.\n\n       An  additional  binary operator, =~, is available, with the same prece‐\n       dence as == and !=.  When it is used, the string to the  right  of  the\n       operator  is  considered  an  extended  regular  expression and matched\n       accordingly (as in regex(3)).  The return value  is  0  if  the  string\n       matches  the  pattern,  and  1 otherwise.  If the regular expression is\n       syntactically incorrect, the conditional expression&#39;s return  value  is\n       2.   If the shell option nocasematch is enabled, the match is performed\n       without regard to the case of alphabetic characters.  Any part  of  the\n       pattern  may  be  quoted to force the quoted portion to be matched as a\n       string.  Bracket expressions in regular  expressions  must  be  treated\n       carefully,  since normal quoting characters lose their meanings between\n       brackets.  If the pattern is stored in a shell  variable,  quoting  the\n       variable expansion forces the entire pattern to be matched as a string.\n       Substrings matched by parenthesized subexpressions within  the  regular\n       expression  are  saved in the array variable BASH_REMATCH.  The element\n       of BASH_REMATCH with index 0 is the portion of the string matching  the\n       entire regular expression.  The element of BASH_REMATCH with index n is\n       the portion of the string matching the nth parenthesized subexpression.\n\n       Expressions may be combined using the following  operators,  listed  in\n       decreasing order of precedence:\n\n              ( expression )\n                     Returns  the  value  of  expression.  This may be used to\n                     override the normal precedence of operators.\n              ! expression\n                     True if expression is false.\n              expression1 &amp;&amp; expression2\n                     True if both expression1 and expression2 are true.\n              expression1 || expression2\n                     True if either expression1 or expression2 is true.\n\n              The &amp;&amp; and || operators do not evaluate expression2 if the value\n              of  expression1  is  sufficient to determine the return value of\n              the entire conditional expression.\n\n       for name [ [ in [ word ... ] ] ; ] do list ; done\n              The list of words following in is expanded, generating a list of\n              items.  The variable name is set to each element of this list in\n              turn, and list is executed each time.  If the in word  is  omit‐\n              ted,  the  for  command  executes  list once for each positional\n              parameter that is set (see PARAMETERS below).  The return status\n              is  the  exit  status of the last command that executes.  If the\n              expansion of the items following in results in an empty list, no\n              commands are executed, and the return status is 0.\n\n       for (( expr1 ; expr2 ; expr3 )) ; do list ; done\n              First, the arithmetic expression expr1 is evaluated according to\n              the rules described  below  under  ARITHMETIC  EVALUATION.   The\n              arithmetic  expression  expr2 is then evaluated repeatedly until\n              it evaluates to zero.  Each time expr2 evaluates to  a  non-zero\n              value,  list  is executed and the arithmetic expression expr3 is\n              evaluated.  If any expression is omitted, it behaves  as  if  it\n              evaluates to 1.  The return value is the exit status of the last\n              command in list that is executed, or false if any of the expres‐\n              sions is invalid.\n\n       select name [ in word ] ; do list ; done\n              The list of words following in is expanded, generating a list of\n              items.  The set of expanded words is  printed  on  the  standard\n              error,  each  preceded  by a number.  If the in word is omitted,\n              the positional parameters are printed  (see  PARAMETERS  below).\n              The  PS3 prompt is then displayed and a line read from the stan‐\n              dard input.  If the line consists of a number  corresponding  to\n              one  of  the  displayed  words, then the value of name is set to\n              that word.  If the line is empty, the words and prompt are  dis‐\n              played again.  If EOF is read, the command completes.  Any other\n              value read causes name to be set to  null.   The  line  read  is\n              saved  in  the  variable REPLY.  The list is executed after each\n              selection until a break command is executed.  The exit status of\n              select  is the exit status of the last command executed in list,\n              or zero if no commands were executed.\n\n       case word in [ [(] pattern [ | pattern ] ... ) list ;; ] ... esac\n              A case command first expands word, and tries to match it against\n\n*** WARNING: skipped 289459 bytes of output ***\n\n                      opportunity to re-edit a failed history substitution.\n              histverify\n                      If set, and readline is being used, the results of  his‐\n                      tory  substitution  are  not  immediately  passed to the\n                      shell parser.  Instead, the  resulting  line  is  loaded\n                      into the readline editing buffer, allowing further modi‐\n                      fication.\n              hostcomplete\n                      If set, and readline is being used, bash will attempt to\n                      perform  hostname  completion when a word containing a @\n                      is  being  completed  (see  Completing  under   READLINE\n                      above).  This is enabled by default.\n              huponexit\n                      If set, bash will send SIGHUP to all jobs when an inter‐\n                      active login shell exits.\n              interactive_comments\n                      If set, allow a word beginning with # to cause that word\n                      and  all remaining characters on that line to be ignored\n                      in an interactive  shell  (see  COMMENTS  above).   This\n                      option is enabled by default.\n              lastpipe\n                      If  set,  and  job control is not active, the shell runs\n                      the last command of a pipeline not executed in the back‐\n                      ground in the current shell environment.\n              lithist If  set,  and  the cmdhist option is enabled, multi-line\n                      commands are saved to the history with embedded newlines\n                      rather than using semicolon separators where possible.\n              login_shell\n                      The  shell  sets this option if it is started as a login\n                      shell (see INVOCATION above).   The  value  may  not  be\n                      changed.\n              mailwarn\n                      If  set,  and  a file that bash is checking for mail has\n                      been accessed since the last time it  was  checked,  the\n                      message  ``The  mail in mailfile has been read&#39;&#39; is dis‐\n                      played.\n              no_empty_cmd_completion\n                      If set, and  readline  is  being  used,  bash  will  not\n                      attempt to search the PATH for possible completions when\n                      completion is attempted on an empty line.\n              nocaseglob\n                      If set, bash matches  filenames  in  a  case-insensitive\n                      fashion when performing pathname expansion (see Pathname\n                      Expansion above).\n              nocasematch\n                      If set, bash  matches  patterns  in  a  case-insensitive\n                      fashion when performing matching while executing case or\n                      [[ conditional commands.\n              nullglob\n                      If set, bash allows patterns which match no  files  (see\n                      Pathname  Expansion  above)  to expand to a null string,\n                      rather than themselves.\n              progcomp\n                      If set, the programmable completion facilities (see Pro‐\n                      grammable Completion above) are enabled.  This option is\n                      enabled by default.\n              promptvars\n                      If set, prompt strings undergo parameter expansion, com‐\n                      mand   substitution,  arithmetic  expansion,  and  quote\n                      removal after being expanded as described  in  PROMPTING\n                      above.  This option is enabled by default.\n              restricted_shell\n                      The   shell  sets  this  option  if  it  is  started  in\n                      restricted mode (see RESTRICTED SHELL below).  The value\n                      may  not be changed.  This is not reset when the startup\n                      files are executed, allowing the startup files  to  dis‐\n                      cover whether or not a shell is restricted.\n              shift_verbose\n                      If  set,  the shift builtin prints an error message when\n                      the shift count exceeds the number of positional parame‐\n                      ters.\n              sourcepath\n                      If set, the source (.) builtin uses the value of PATH to\n                      find the directory containing the file  supplied  as  an\n                      argument.  This option is enabled by default.\n              xpg_echo\n                      If   set,  the  echo  builtin  expands  backslash-escape\n                      sequences by default.\n\n       suspend [-f]\n              Suspend the execution of this shell until it receives a  SIGCONT\n              signal.  A login shell cannot be suspended; the -f option can be\n              used to override this and force the suspension.  The return sta‐\n              tus  is  0  unless the shell is a login shell and -f is not sup‐\n              plied, or if job control is not enabled.\n\n       test expr\n       [ expr ]\n              Return a status of 0 (true) or 1 (false) depending on the evalu‐\n              ation of the conditional expression expr.  Each operator and op‐\n              erand must be a separate argument.  Expressions are composed  of\n              the  primaries  described  above  under CONDITIONAL EXPRESSIONS.\n              test does not accept any options, nor does it accept and  ignore\n              an argument of -- as signifying the end of options.\n\n              Expressions  may  be  combined  using  the  following operators,\n              listed  in  decreasing  order  of  precedence.   The  evaluation\n              depends  on the number of arguments; see below.  Operator prece‐\n              dence is used when there are five or more arguments.\n              ! expr True if expr is false.\n              ( expr )\n                     Returns the value of expr.  This may be used to  override\n                     the normal precedence of operators.\n              expr1 -a expr2\n                     True if both expr1 and expr2 are true.\n              expr1 -o expr2\n                     True if either expr1 or expr2 is true.\n\n              test and [ evaluate conditional expressions using a set of rules\n              based on the number of arguments.\n\n              0 arguments\n                     The expression is false.\n              1 argument\n                     The expression is true if and only if the argument is not\n                     null.\n              2 arguments\n                     If the first argument is !, the expression is true if and\n                     only if the second argument is null.  If the first  argu‐\n                     ment  is  one  of  the unary conditional operators listed\n                     above under CONDITIONAL EXPRESSIONS,  the  expression  is\n                     true if the unary test is true.  If the first argument is\n                     not a valid unary conditional operator, the expression is\n                     false.\n              3 arguments\n                     The following conditions are applied in the order listed.\n                     If the second argument is one of the  binary  conditional\n                     operators listed above under CONDITIONAL EXPRESSIONS, the\n                     result of the expression is the result of the binary test\n                     using  the first and third arguments as operands.  The -a\n                     and -o operators are  considered  binary  operators  when\n                     there  are  three arguments.  If the first argument is !,\n                     the value is the negation of the two-argument test  using\n                     the second and third arguments.  If the first argument is\n                     exactly ( and the third argument is exactly ), the result\n                     is  the one-argument test of the second argument.  Other‐\n                     wise, the expression is false.\n              4 arguments\n                     If the first argument is !, the result is the negation of\n                     the  three-argument  expression composed of the remaining\n                     arguments.  Otherwise, the expression is parsed and eval‐\n                     uated  according  to  precedence  using  the rules listed\n                     above.\n              5 or more arguments\n                     The expression  is  parsed  and  evaluated  according  to\n                     precedence using the rules listed above.\n\n              When  used  with  test  or [, the &lt; and &gt; operators sort lexico‐\n              graphically using ASCII ordering.\n\n       times  Print the accumulated user and system times for  the  shell  and\n              for processes run from the shell.  The return status is 0.\n\n       trap [-lp] [[arg] sigspec ...]\n              The  command  arg  is  to  be  read  and executed when the shell\n              receives signal(s) sigspec.  If arg is absent (and  there  is  a\n              single  sigspec)  or  -,  each  specified signal is reset to its\n              original disposition (the value it  had  upon  entrance  to  the\n              shell).   If arg is the null string the signal specified by each\n              sigspec is ignored by the shell and by the commands it  invokes.\n              If  arg  is  not present and -p has been supplied, then the trap\n              commands associated with each  sigspec  are  displayed.   If  no\n              arguments  are  supplied or if only -p is given, trap prints the\n              list of commands associated with each  signal.   The  -l  option\n              causes  the shell to print a list of signal names and their cor‐\n              responding numbers.   Each  sigspec  is  either  a  signal  name\n              defined  in  &lt;signal.h&gt;,  or  a signal number.  Signal names are\n              case insensitive and the SIG prefix is optional.\n\n              If a sigspec is EXIT (0) the command arg  is  executed  on  exit\n              from  the shell.  If a sigspec is DEBUG, the command arg is exe‐\n              cuted before every simple command, for  command,  case  command,\n              select  command,  every  arithmetic  for command, and before the\n              first command executes in a shell function  (see  SHELL  GRAMMAR\n              above).   Refer to the description of the extdebug option to the\n              shopt builtin for details of its effect on the DEBUG trap.  If a\n              sigspec is RETURN, the command arg is executed each time a shell\n              function or a script executed with the . or source builtins fin‐\n              ishes executing.\n\n              If  a  sigspec  is ERR, the command arg is executed whenever a a\n              pipeline (which may consist of a single simple command), a list,\n              or a compound command returns a non-zero exit status, subject to\n              the following conditions.  The ERR trap is not executed  if  the\n              failed command is part of the command list immediately following\n              a while or until keyword, part of the test in an  if  statement,\n              part of a command executed in a &amp;&amp; or || list except the command\n              following the final &amp;&amp; or ||, any command in a pipeline but  the\n              last,  or  if the command&#39;s return value is being inverted using\n              !.  These are the same conditions obeyed  by  the  errexit  (-e)\n              option.\n\n              Signals  ignored  upon  entry  to the shell cannot be trapped or\n              reset.  Trapped signals that are not being ignored are reset  to\n              their original values in a subshell or subshell environment when\n              one is created.  The return status is false if  any  sigspec  is\n              invalid; otherwise trap returns true.\n\n       type [-aftpP] name [name ...]\n              With  no options, indicate how each name would be interpreted if\n              used as a command name.  If the -t option is used, type prints a\n              string  which  is  one  of alias, keyword, function, builtin, or\n              file if  name  is  an  alias,  shell  reserved  word,  function,\n              builtin,  or disk file, respectively.  If the name is not found,\n              then nothing  is  printed,  and  an  exit  status  of  false  is\n              returned.   If  the  -p  option is used, type either returns the\n              name of the disk file that would be executed if name were speci‐\n              fied as a command name, or nothing if ``type -t name&#39;&#39; would not\n              return file.  The -P option forces a PATH search for each  name,\n              even if ``type -t name&#39;&#39; would not return file.  If a command is\n              hashed, -p and -P print the hashed value, which is not necessar‐\n              ily  the  file  that appears first in PATH.  If the -a option is\n              used, type prints all of the places that contain  an  executable\n              named name.  This includes aliases and functions, if and only if\n              the -p option is not also used.  The table of hashed commands is\n              not  consulted  when  using  -a.  The -f option suppresses shell\n              function lookup, as with the command builtin.  type returns true\n              if all of the arguments are found, false if any are not found.\n\n       ulimit [-HSTabcdefilmnpqrstuvx [limit]]\n              Provides  control  over the resources available to the shell and\n              to processes started by it, on systems that allow such  control.\n              The -H and -S options specify that the hard or soft limit is set\n              for the given resource.  A hard limit cannot be increased  by  a\n              non-root  user  once it is set; a soft limit may be increased up\n              to the value of the hard limit.  If neither -H nor -S is  speci‐\n              fied, both the soft and hard limits are set.  The value of limit\n              can be a number in the unit specified for the resource or one of\n              the special values hard, soft, or unlimited, which stand for the\n              current hard limit,  the  current  soft  limit,  and  no  limit,\n              respectively.   If  limit  is  omitted, the current value of the\n              soft limit of the resource is printed, unless the -H  option  is\n              given.  When more than one resource is specified, the limit name\n              and unit are printed before the value.  Other options are inter‐\n              preted as follows:\n              -a     All current limits are reported\n              -b     The maximum socket buffer size\n              -c     The maximum size of core files created\n              -d     The maximum size of a process&#39;s data segment\n              -e     The maximum scheduling priority (&#34;nice&#34;)\n              -f     The  maximum  size  of files written by the shell and its\n                     children\n              -i     The maximum number of pending signals\n              -l     The maximum size that may be locked into memory\n              -m     The maximum resident set size (many systems do not  honor\n                     this limit)\n              -n     The maximum number of open file descriptors (most systems\n                     do not allow this value to be set)\n              -p     The pipe size in 512-byte blocks (this may not be set)\n              -q     The maximum number of bytes in POSIX message queues\n              -r     The maximum real-time scheduling priority\n              -s     The maximum stack size\n              -t     The maximum amount of cpu time in seconds\n              -u     The maximum number of processes  available  to  a  single\n                     user\n              -v     The  maximum  amount  of  virtual memory available to the\n                     shell and, on some systems, to its children\n              -x     The maximum number of file locks\n              -T     The maximum number of threads\n\n              If limit is given, and the -a option is not used, limit  is  the\n              new  value  of  the  specified resource.  If no option is given,\n              then -f is assumed.  Values are in 1024-byte increments,  except\n              for  -t,  which is in seconds; -p, which is in units of 512-byte\n              blocks; and -T, -b, -n, and -u, which are unscaled values.   The\n              return  status is 0 unless an invalid option or argument is sup‐\n              plied, or an error occurs while setting a new limit.\n\n       umask [-p] [-S] [mode]\n              The user file-creation mask is set to mode.  If mode begins with\n              a  digit,  it is interpreted as an octal number; otherwise it is\n              interpreted as a symbolic mode mask similar to that accepted  by\n              chmod(1).   If mode is omitted, the current value of the mask is\n              printed.  The -S option causes the mask to be  printed  in  sym‐\n              bolic  form;  the  default output is an octal number.  If the -p\n              option is supplied, and mode is omitted, the output is in a form\n              that may be reused as input.  The return status is 0 if the mode\n              was successfully changed or if no mode  argument  was  supplied,\n              and false otherwise.\n\n       unalias [-a] [name ...]\n              Remove  each  name  from  the list of defined aliases.  If -a is\n              supplied, all alias definitions are removed.  The  return  value\n              is true unless a supplied name is not a defined alias.\n\n       unset [-fv] [-n] [name ...]\n              For  each  name,  remove the corresponding variable or function.\n              If the -v option is given, each name refers to a shell variable,\n              and  that  variable  is removed.  Read-only variables may not be\n              unset.  If -f is specified, each name refers to  a  shell  func‐\n              tion,  and the function definition is removed.  If the -n option\n              is supplied, and name is a variable with the nameref  attribute,\n              name  will  be unset rather than the variable it references.  -n\n              has no effect if the -f option is supplied.  If no  options  are\n              supplied,  each  name refers to a variable; if there is no vari‐\n              able by that name, any function with that name is  unset.   Each\n              unset  variable  or  function  is  removed  from the environment\n              passed to subsequent commands.  If any of COMP_WORDBREAKS,  RAN‐\n              DOM, SECONDS, LINENO, HISTCMD, FUNCNAME, GROUPS, or DIRSTACK are\n              unset, they lose their special properties, even if they are sub‐\n              sequently reset.  The exit status is true unless a name is read‐\n              only.\n\n       wait [-n] [n ...]\n              Wait for each specified child process and return its termination\n              status.  Each n may be a process ID or a job specification; if a\n              job spec is given, all processes  in  that  job&#39;s  pipeline  are\n              waited  for.  If n is not given, all currently active child pro‐\n              cesses are waited for, and the return status is zero.  If the -n\n              option  is  supplied,  wait  waits  for any job to terminate and\n              returns its exit status.  If n specifies a non-existent  process\n              or  job, the return status is 127.  Otherwise, the return status\n              is the exit status of the last process or job waited for.\n\nRESTRICTED SHELL\n       If bash is started with the name rbash, or the -r option is supplied at\n       invocation,  the  shell becomes restricted.  A restricted shell is used\n       to set up an environment more controlled than the standard  shell.   It\n       behaves  identically  to bash with the exception that the following are\n       disallowed or not performed:\n\n       ·      changing directories with cd\n\n       ·      setting or unsetting the values of SHELL, PATH, ENV, or BASH_ENV\n\n       ·      specifying command names containing /\n\n       ·      specifying a filename containing a / as an  argument  to  the  .\n              builtin command\n\n       ·      specifying  a  filename containing a slash as an argument to the\n              -p option to the hash builtin command\n\n       ·      importing function definitions from  the  shell  environment  at\n              startup\n\n       ·      parsing  the  value  of  SHELLOPTS from the shell environment at\n              startup\n\n       ·      redirecting output using the &gt;, &gt;|, &lt;&gt;, &gt;&amp;, &amp;&gt;, and &gt;&gt; redirect‐\n              ion operators\n\n       ·      using the exec builtin command to replace the shell with another\n              command\n\n       ·      adding or deleting builtin commands with the -f and  -d  options\n              to the enable builtin command\n\n       ·      using  the  enable  builtin  command  to  enable  disabled shell\n              builtins\n\n       ·      specifying the -p option to the command builtin command\n\n       ·      turning off restricted mode with set +r or set +o restricted.\n\n       These restrictions are enforced after any startup files are read.\n\n       When a command that is found to be a shell script is executed (see COM‐\n       MAND  EXECUTION  above),  rbash turns off any restrictions in the shell\n       spawned to execute the script.\n\nSEE ALSO\n       Bash Reference Manual, Brian Fox and Chet Ramey\n       The Gnu Readline Library, Brian Fox and Chet Ramey\n       The Gnu History Library, Brian Fox and Chet Ramey\n       Portable Operating System Interface (POSIX) Part 2:  Shell  and  Utili‐\n       ties, IEEE --\n              http://pubs.opengroup.org/onlinepubs/9699919799/\n       http://tiswww.case.edu/~chet/bash/POSIX -- a description of posix mode\n       sh(1), ksh(1), csh(1)\n       emacs(1), vi(1)\n       readline(3)\n\nFILES\n       /bin/bash\n              The bash executable\n       /etc/profile\n              The systemwide initialization file, executed for login shells\n       /etc/bash.bashrc\n              The systemwide per-interactive-shell startup file\n       /etc/bash.bash.logout\n              The  systemwide  login shell cleanup file, executed when a login\n              shell exits\n       ~/.bash_profile\n              The personal initialization file, executed for login shells\n       ~/.bashrc\n              The individual per-interactive-shell startup file\n       ~/.bash_logout\n              The individual login shell cleanup file, executed when  a  login\n              shell exits\n       ~/.inputrc\n              Individual readline initialization file\n\nAUTHORS\n       Brian Fox, Free Software Foundation\n       bfox@gnu.org\n\n       Chet Ramey, Case Western Reserve University\n       chet.ramey@case.edu\n\nBUG REPORTS\n       If you find a bug in bash, you should report it.  But first, you should\n       make sure that it really is a bug, and that it appears  in  the  latest\n       version   of  bash.   The  latest  version  is  always  available  from\n       ftp://ftp.gnu.org/pub/gnu/bash/.\n\n       Once you have determined that a bug actually exists,  use  the  bashbug\n       command  to submit a bug report.  If you have a fix, you are encouraged\n       to mail that as well!  Suggestions and `philosophical&#39; bug reports  may\n       be  mailed  to  bug-bash@gnu.org  or  posted  to  the  Usenet newsgroup\n       gnu.bash.bug.\n\n       ALL bug reports should include:\n\n       The version number of bash\n       The hardware and operating system\n       The compiler used to compile\n       A description of the bug behaviour\n       A short script or `recipe&#39; which exercises the bug\n\n       bashbug inserts the first three items automatically into  the  template\n       it provides for filing a bug report.\n\n       Comments and bug reports concerning this manual page should be directed\n       to chet.ramey@case.edu.\n\nBUGS\n       It&#39;s too big and too slow.\n\n       There are some subtle differences between bash and traditional versions\n       of sh, mostly because of the POSIX specification.\n\n       Aliases are confusing in some uses.\n\n       Shell builtin commands and functions are not stoppable/restartable.\n\n       Compound commands and command sequences of the form `a ; b ; c&#39; are not\n       handled gracefully  when  process  suspension  is  attempted.   When  a\n       process  is stopped, the shell immediately executes the next command in\n       the sequence.  It suffices to place the sequence  of  commands  between\n       parentheses  to  force  it  into  a subshell, which may be stopped as a\n       unit.\n\n       Array variables may not (yet) be exported.\n\n       There may be only one active coprocess at a time.\n\nGNU Bash 4.3                    2014 February 2                        BASH(1)\n</div>",
       "datasetInfos": [],
       "metadata": {},
       "removedWidgets": [],
       "type": "html"
      }
     },
     "output_type": "display_data"
    }
   ],
   "source": [
    "%sh \n",
    "\n",
    "man bash"
   ]
  }
 ],
 "metadata": {
  "application/vnd.databricks.v1+notebook": {
   "dashboards": [
    {
     "elements": [
      {
       "dashboardResultIndex": null,
       "elementNUID": "409c790b-f701-4c93-859a-2a2dedc24393",
       "elementType": "command",
       "guid": "2d83c428-1391-4470-b0bc-21150038d45a",
       "options": null,
       "position": {
        "height": 7,
        "width": 12,
        "x": 12,
        "y": 0,
        "z": null
       },
       "resultIndex": null
      },
      {
       "dashboardResultIndex": null,
       "elementNUID": "3d5e56b0-3546-46e0-8b6b-ac26d885a1b0",
       "elementType": "command",
       "guid": "c5f64362-fcbf-4919-8f28-a75daa50f954",
       "options": null,
       "position": {
        "height": 8,
        "width": 12,
        "x": 0,
        "y": 0,
        "z": null
       },
       "resultIndex": null
      }
     ],
     "globalVars": {},
     "guid": "",
     "layoutOption": {
      "grid": true,
      "stack": true
     },
     "nuid": "08fa389d-5e46-4713-81e7-43afc5cb578b",
     "origId": 782448819695893,
     "title": "AW Preliminary",
     "version": "DashboardViewV1",
     "width": 1024
    },
    {
     "elements": [],
     "globalVars": {},
     "guid": "",
     "layoutOption": {
      "grid": true,
      "stack": true
     },
     "nuid": "c5d7bda0-fbac-458e-8356-da7b1bf9768d",
     "origId": 782448819695894,
     "title": "Untitled",
     "version": "DashboardViewV1",
     "width": 1024
    }
   ],
   "environmentMetadata": null,
   "language": "python",
   "notebookMetadata": {
    "pythonIndentUnit": 2
   },
   "notebookName": "AWPreliminaryEDA",
   "widgets": {}
  }
 },
 "nbformat": 4,
 "nbformat_minor": 0
}
